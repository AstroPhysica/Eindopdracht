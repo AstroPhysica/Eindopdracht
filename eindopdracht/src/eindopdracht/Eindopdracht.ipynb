{
 "cells": [
  {
   "cell_type": "code",
   "execution_count": 1,
   "metadata": {},
   "outputs": [
    {
     "name": "stdout",
     "output_type": "stream",
     "text": [
      "('ASRL4::INSTR', 'ASRL3::INSTR', 'ASRL::SIMLED::INSTR', 'ASRL::SIMPV::INSTR', 'ASRL::SIMPV_BRIGHT::INSTR')\n"
     ]
    },
    {
     "ename": "AttributeError",
     "evalue": "'Ui_MainWindow' object has no attribute 'PlotWidget'",
     "output_type": "error",
     "traceback": [
      "\u001b[1;31m---------------------------------------------------------------------------\u001b[0m",
      "\u001b[1;31mAttributeError\u001b[0m                            Traceback (most recent call last)",
      "Cell \u001b[1;32mIn[1], line 66\u001b[0m, in \u001b[0;36mUserInterface.graph\u001b[1;34m(self)\u001b[0m\n\u001b[0;32m     64\u001b[0m \u001b[39m@Slot\u001b[39m()\n\u001b[0;32m     65\u001b[0m \u001b[39mdef\u001b[39;00m \u001b[39mgraph\u001b[39m(\u001b[39mself\u001b[39m):\n\u001b[1;32m---> 66\u001b[0m     \u001b[39mself\u001b[39;49m\u001b[39m.\u001b[39;49mui\u001b[39m.\u001b[39;49mPlotWidget\u001b[39m.\u001b[39mclear()\n\u001b[0;32m     67\u001b[0m     \u001b[39mself\u001b[39m\u001b[39m.\u001b[39mui\u001b[39m.\u001b[39mIU_graph\u001b[39m.\u001b[39mplot(\u001b[39mself\u001b[39m\u001b[39m.\u001b[39mzc\u001b[39m.\u001b[39mU_gem, \u001b[39mself\u001b[39m\u001b[39m.\u001b[39mzc\u001b[39m.\u001b[39mI_gem, symbol\u001b[39m=\u001b[39m\u001b[39m\"\u001b[39m\u001b[39mo\u001b[39m\u001b[39m\"\u001b[39m, symbolSize\u001b[39m=\u001b[39m\u001b[39m5\u001b[39m, pen\u001b[39m=\u001b[39m\u001b[39mNone\u001b[39;00m)\n\u001b[0;32m     68\u001b[0m     error_bars \u001b[39m=\u001b[39m pg\u001b[39m.\u001b[39mErrorBarItem(x\u001b[39m=\u001b[39mnp\u001b[39m.\u001b[39marray(\u001b[39mself\u001b[39m\u001b[39m.\u001b[39mzc\u001b[39m.\u001b[39mU_gem), y\u001b[39m=\u001b[39mnp\u001b[39m.\u001b[39marray(\u001b[39mself\u001b[39m\u001b[39m.\u001b[39mzc\u001b[39m.\u001b[39mI_gem), height \u001b[39m=\u001b[39m np\u001b[39m.\u001b[39marray(\u001b[39mself\u001b[39m\u001b[39m.\u001b[39mzc\u001b[39m.\u001b[39mI_error))\n",
      "\u001b[1;31mAttributeError\u001b[0m: 'Ui_MainWindow' object has no attribute 'PlotWidget'"
     ]
    },
    {
     "ename": "AttributeError",
     "evalue": "'Ui_MainWindow' object has no attribute 'PlotWidget'",
     "output_type": "error",
     "traceback": [
      "\u001b[1;31m---------------------------------------------------------------------------\u001b[0m",
      "\u001b[1;31mAttributeError\u001b[0m                            Traceback (most recent call last)",
      "Cell \u001b[1;32mIn[1], line 66\u001b[0m, in \u001b[0;36mUserInterface.graph\u001b[1;34m(self)\u001b[0m\n\u001b[0;32m     64\u001b[0m \u001b[39m@Slot\u001b[39m()\n\u001b[0;32m     65\u001b[0m \u001b[39mdef\u001b[39;00m \u001b[39mgraph\u001b[39m(\u001b[39mself\u001b[39m):\n\u001b[1;32m---> 66\u001b[0m     \u001b[39mself\u001b[39;49m\u001b[39m.\u001b[39;49mui\u001b[39m.\u001b[39;49mPlotWidget\u001b[39m.\u001b[39mclear()\n\u001b[0;32m     67\u001b[0m     \u001b[39mself\u001b[39m\u001b[39m.\u001b[39mui\u001b[39m.\u001b[39mIU_graph\u001b[39m.\u001b[39mplot(\u001b[39mself\u001b[39m\u001b[39m.\u001b[39mzc\u001b[39m.\u001b[39mU_gem, \u001b[39mself\u001b[39m\u001b[39m.\u001b[39mzc\u001b[39m.\u001b[39mI_gem, symbol\u001b[39m=\u001b[39m\u001b[39m\"\u001b[39m\u001b[39mo\u001b[39m\u001b[39m\"\u001b[39m, symbolSize\u001b[39m=\u001b[39m\u001b[39m5\u001b[39m, pen\u001b[39m=\u001b[39m\u001b[39mNone\u001b[39;00m)\n\u001b[0;32m     68\u001b[0m     error_bars \u001b[39m=\u001b[39m pg\u001b[39m.\u001b[39mErrorBarItem(x\u001b[39m=\u001b[39mnp\u001b[39m.\u001b[39marray(\u001b[39mself\u001b[39m\u001b[39m.\u001b[39mzc\u001b[39m.\u001b[39mU_gem), y\u001b[39m=\u001b[39mnp\u001b[39m.\u001b[39marray(\u001b[39mself\u001b[39m\u001b[39m.\u001b[39mzc\u001b[39m.\u001b[39mI_gem), height \u001b[39m=\u001b[39m np\u001b[39m.\u001b[39marray(\u001b[39mself\u001b[39m\u001b[39m.\u001b[39mzc\u001b[39m.\u001b[39mI_error))\n",
      "\u001b[1;31mAttributeError\u001b[0m: 'Ui_MainWindow' object has no attribute 'PlotWidget'"
     ]
    },
    {
     "ename": "AttributeError",
     "evalue": "'Ui_MainWindow' object has no attribute 'PlotWidget'",
     "output_type": "error",
     "traceback": [
      "\u001b[1;31m---------------------------------------------------------------------------\u001b[0m",
      "\u001b[1;31mAttributeError\u001b[0m                            Traceback (most recent call last)",
      "Cell \u001b[1;32mIn[1], line 66\u001b[0m, in \u001b[0;36mUserInterface.graph\u001b[1;34m(self)\u001b[0m\n\u001b[0;32m     64\u001b[0m \u001b[39m@Slot\u001b[39m()\n\u001b[0;32m     65\u001b[0m \u001b[39mdef\u001b[39;00m \u001b[39mgraph\u001b[39m(\u001b[39mself\u001b[39m):\n\u001b[1;32m---> 66\u001b[0m     \u001b[39mself\u001b[39;49m\u001b[39m.\u001b[39;49mui\u001b[39m.\u001b[39;49mPlotWidget\u001b[39m.\u001b[39mclear()\n\u001b[0;32m     67\u001b[0m     \u001b[39mself\u001b[39m\u001b[39m.\u001b[39mui\u001b[39m.\u001b[39mIU_graph\u001b[39m.\u001b[39mplot(\u001b[39mself\u001b[39m\u001b[39m.\u001b[39mzc\u001b[39m.\u001b[39mU_gem, \u001b[39mself\u001b[39m\u001b[39m.\u001b[39mzc\u001b[39m.\u001b[39mI_gem, symbol\u001b[39m=\u001b[39m\u001b[39m\"\u001b[39m\u001b[39mo\u001b[39m\u001b[39m\"\u001b[39m, symbolSize\u001b[39m=\u001b[39m\u001b[39m5\u001b[39m, pen\u001b[39m=\u001b[39m\u001b[39mNone\u001b[39;00m)\n\u001b[0;32m     68\u001b[0m     error_bars \u001b[39m=\u001b[39m pg\u001b[39m.\u001b[39mErrorBarItem(x\u001b[39m=\u001b[39mnp\u001b[39m.\u001b[39marray(\u001b[39mself\u001b[39m\u001b[39m.\u001b[39mzc\u001b[39m.\u001b[39mU_gem), y\u001b[39m=\u001b[39mnp\u001b[39m.\u001b[39marray(\u001b[39mself\u001b[39m\u001b[39m.\u001b[39mzc\u001b[39m.\u001b[39mI_gem), height \u001b[39m=\u001b[39m np\u001b[39m.\u001b[39marray(\u001b[39mself\u001b[39m\u001b[39m.\u001b[39mzc\u001b[39m.\u001b[39mI_error))\n",
      "\u001b[1;31mAttributeError\u001b[0m: 'Ui_MainWindow' object has no attribute 'PlotWidget'"
     ]
    },
    {
     "ename": "AttributeError",
     "evalue": "'Ui_MainWindow' object has no attribute 'PlotWidget'",
     "output_type": "error",
     "traceback": [
      "\u001b[1;31m---------------------------------------------------------------------------\u001b[0m",
      "\u001b[1;31mAttributeError\u001b[0m                            Traceback (most recent call last)",
      "Cell \u001b[1;32mIn[1], line 66\u001b[0m, in \u001b[0;36mUserInterface.graph\u001b[1;34m(self)\u001b[0m\n\u001b[0;32m     64\u001b[0m \u001b[39m@Slot\u001b[39m()\n\u001b[0;32m     65\u001b[0m \u001b[39mdef\u001b[39;00m \u001b[39mgraph\u001b[39m(\u001b[39mself\u001b[39m):\n\u001b[1;32m---> 66\u001b[0m     \u001b[39mself\u001b[39;49m\u001b[39m.\u001b[39;49mui\u001b[39m.\u001b[39;49mPlotWidget\u001b[39m.\u001b[39mclear()\n\u001b[0;32m     67\u001b[0m     \u001b[39mself\u001b[39m\u001b[39m.\u001b[39mui\u001b[39m.\u001b[39mIU_graph\u001b[39m.\u001b[39mplot(\u001b[39mself\u001b[39m\u001b[39m.\u001b[39mzc\u001b[39m.\u001b[39mU_gem, \u001b[39mself\u001b[39m\u001b[39m.\u001b[39mzc\u001b[39m.\u001b[39mI_gem, symbol\u001b[39m=\u001b[39m\u001b[39m\"\u001b[39m\u001b[39mo\u001b[39m\u001b[39m\"\u001b[39m, symbolSize\u001b[39m=\u001b[39m\u001b[39m5\u001b[39m, pen\u001b[39m=\u001b[39m\u001b[39mNone\u001b[39;00m)\n\u001b[0;32m     68\u001b[0m     error_bars \u001b[39m=\u001b[39m pg\u001b[39m.\u001b[39mErrorBarItem(x\u001b[39m=\u001b[39mnp\u001b[39m.\u001b[39marray(\u001b[39mself\u001b[39m\u001b[39m.\u001b[39mzc\u001b[39m.\u001b[39mU_gem), y\u001b[39m=\u001b[39mnp\u001b[39m.\u001b[39marray(\u001b[39mself\u001b[39m\u001b[39m.\u001b[39mzc\u001b[39m.\u001b[39mI_gem), height \u001b[39m=\u001b[39m np\u001b[39m.\u001b[39marray(\u001b[39mself\u001b[39m\u001b[39m.\u001b[39mzc\u001b[39m.\u001b[39mI_error))\n",
      "\u001b[1;31mAttributeError\u001b[0m: 'Ui_MainWindow' object has no attribute 'PlotWidget'"
     ]
    },
    {
     "ename": "AttributeError",
     "evalue": "'Ui_MainWindow' object has no attribute 'PlotWidget'",
     "output_type": "error",
     "traceback": [
      "\u001b[1;31m---------------------------------------------------------------------------\u001b[0m",
      "\u001b[1;31mAttributeError\u001b[0m                            Traceback (most recent call last)",
      "Cell \u001b[1;32mIn[1], line 66\u001b[0m, in \u001b[0;36mUserInterface.graph\u001b[1;34m(self)\u001b[0m\n\u001b[0;32m     64\u001b[0m \u001b[39m@Slot\u001b[39m()\n\u001b[0;32m     65\u001b[0m \u001b[39mdef\u001b[39;00m \u001b[39mgraph\u001b[39m(\u001b[39mself\u001b[39m):\n\u001b[1;32m---> 66\u001b[0m     \u001b[39mself\u001b[39;49m\u001b[39m.\u001b[39;49mui\u001b[39m.\u001b[39;49mPlotWidget\u001b[39m.\u001b[39mclear()\n\u001b[0;32m     67\u001b[0m     \u001b[39mself\u001b[39m\u001b[39m.\u001b[39mui\u001b[39m.\u001b[39mIU_graph\u001b[39m.\u001b[39mplot(\u001b[39mself\u001b[39m\u001b[39m.\u001b[39mzc\u001b[39m.\u001b[39mU_gem, \u001b[39mself\u001b[39m\u001b[39m.\u001b[39mzc\u001b[39m.\u001b[39mI_gem, symbol\u001b[39m=\u001b[39m\u001b[39m\"\u001b[39m\u001b[39mo\u001b[39m\u001b[39m\"\u001b[39m, symbolSize\u001b[39m=\u001b[39m\u001b[39m5\u001b[39m, pen\u001b[39m=\u001b[39m\u001b[39mNone\u001b[39;00m)\n\u001b[0;32m     68\u001b[0m     error_bars \u001b[39m=\u001b[39m pg\u001b[39m.\u001b[39mErrorBarItem(x\u001b[39m=\u001b[39mnp\u001b[39m.\u001b[39marray(\u001b[39mself\u001b[39m\u001b[39m.\u001b[39mzc\u001b[39m.\u001b[39mU_gem), y\u001b[39m=\u001b[39mnp\u001b[39m.\u001b[39marray(\u001b[39mself\u001b[39m\u001b[39m.\u001b[39mzc\u001b[39m.\u001b[39mI_gem), height \u001b[39m=\u001b[39m np\u001b[39m.\u001b[39marray(\u001b[39mself\u001b[39m\u001b[39m.\u001b[39mzc\u001b[39m.\u001b[39mI_error))\n",
      "\u001b[1;31mAttributeError\u001b[0m: 'Ui_MainWindow' object has no attribute 'PlotWidget'"
     ]
    },
    {
     "ename": "AttributeError",
     "evalue": "'Ui_MainWindow' object has no attribute 'PlotWidget'",
     "output_type": "error",
     "traceback": [
      "\u001b[1;31m---------------------------------------------------------------------------\u001b[0m",
      "\u001b[1;31mAttributeError\u001b[0m                            Traceback (most recent call last)",
      "Cell \u001b[1;32mIn[1], line 66\u001b[0m, in \u001b[0;36mUserInterface.graph\u001b[1;34m(self)\u001b[0m\n\u001b[0;32m     64\u001b[0m \u001b[39m@Slot\u001b[39m()\n\u001b[0;32m     65\u001b[0m \u001b[39mdef\u001b[39;00m \u001b[39mgraph\u001b[39m(\u001b[39mself\u001b[39m):\n\u001b[1;32m---> 66\u001b[0m     \u001b[39mself\u001b[39;49m\u001b[39m.\u001b[39;49mui\u001b[39m.\u001b[39;49mPlotWidget\u001b[39m.\u001b[39mclear()\n\u001b[0;32m     67\u001b[0m     \u001b[39mself\u001b[39m\u001b[39m.\u001b[39mui\u001b[39m.\u001b[39mIU_graph\u001b[39m.\u001b[39mplot(\u001b[39mself\u001b[39m\u001b[39m.\u001b[39mzc\u001b[39m.\u001b[39mU_gem, \u001b[39mself\u001b[39m\u001b[39m.\u001b[39mzc\u001b[39m.\u001b[39mI_gem, symbol\u001b[39m=\u001b[39m\u001b[39m\"\u001b[39m\u001b[39mo\u001b[39m\u001b[39m\"\u001b[39m, symbolSize\u001b[39m=\u001b[39m\u001b[39m5\u001b[39m, pen\u001b[39m=\u001b[39m\u001b[39mNone\u001b[39;00m)\n\u001b[0;32m     68\u001b[0m     error_bars \u001b[39m=\u001b[39m pg\u001b[39m.\u001b[39mErrorBarItem(x\u001b[39m=\u001b[39mnp\u001b[39m.\u001b[39marray(\u001b[39mself\u001b[39m\u001b[39m.\u001b[39mzc\u001b[39m.\u001b[39mU_gem), y\u001b[39m=\u001b[39mnp\u001b[39m.\u001b[39marray(\u001b[39mself\u001b[39m\u001b[39m.\u001b[39mzc\u001b[39m.\u001b[39mI_gem), height \u001b[39m=\u001b[39m np\u001b[39m.\u001b[39marray(\u001b[39mself\u001b[39m\u001b[39m.\u001b[39mzc\u001b[39m.\u001b[39mI_error))\n",
      "\u001b[1;31mAttributeError\u001b[0m: 'Ui_MainWindow' object has no attribute 'PlotWidget'"
     ]
    },
    {
     "ename": "AttributeError",
     "evalue": "'Ui_MainWindow' object has no attribute 'PlotWidget'",
     "output_type": "error",
     "traceback": [
      "\u001b[1;31m---------------------------------------------------------------------------\u001b[0m",
      "\u001b[1;31mAttributeError\u001b[0m                            Traceback (most recent call last)",
      "Cell \u001b[1;32mIn[1], line 66\u001b[0m, in \u001b[0;36mUserInterface.graph\u001b[1;34m(self)\u001b[0m\n\u001b[0;32m     64\u001b[0m \u001b[39m@Slot\u001b[39m()\n\u001b[0;32m     65\u001b[0m \u001b[39mdef\u001b[39;00m \u001b[39mgraph\u001b[39m(\u001b[39mself\u001b[39m):\n\u001b[1;32m---> 66\u001b[0m     \u001b[39mself\u001b[39;49m\u001b[39m.\u001b[39;49mui\u001b[39m.\u001b[39;49mPlotWidget\u001b[39m.\u001b[39mclear()\n\u001b[0;32m     67\u001b[0m     \u001b[39mself\u001b[39m\u001b[39m.\u001b[39mui\u001b[39m.\u001b[39mIU_graph\u001b[39m.\u001b[39mplot(\u001b[39mself\u001b[39m\u001b[39m.\u001b[39mzc\u001b[39m.\u001b[39mU_gem, \u001b[39mself\u001b[39m\u001b[39m.\u001b[39mzc\u001b[39m.\u001b[39mI_gem, symbol\u001b[39m=\u001b[39m\u001b[39m\"\u001b[39m\u001b[39mo\u001b[39m\u001b[39m\"\u001b[39m, symbolSize\u001b[39m=\u001b[39m\u001b[39m5\u001b[39m, pen\u001b[39m=\u001b[39m\u001b[39mNone\u001b[39;00m)\n\u001b[0;32m     68\u001b[0m     error_bars \u001b[39m=\u001b[39m pg\u001b[39m.\u001b[39mErrorBarItem(x\u001b[39m=\u001b[39mnp\u001b[39m.\u001b[39marray(\u001b[39mself\u001b[39m\u001b[39m.\u001b[39mzc\u001b[39m.\u001b[39mU_gem), y\u001b[39m=\u001b[39mnp\u001b[39m.\u001b[39marray(\u001b[39mself\u001b[39m\u001b[39m.\u001b[39mzc\u001b[39m.\u001b[39mI_gem), height \u001b[39m=\u001b[39m np\u001b[39m.\u001b[39marray(\u001b[39mself\u001b[39m\u001b[39m.\u001b[39mzc\u001b[39m.\u001b[39mI_error))\n",
      "\u001b[1;31mAttributeError\u001b[0m: 'Ui_MainWindow' object has no attribute 'PlotWidget'"
     ]
    },
    {
     "ename": "AttributeError",
     "evalue": "'Ui_MainWindow' object has no attribute 'PlotWidget'",
     "output_type": "error",
     "traceback": [
      "\u001b[1;31m---------------------------------------------------------------------------\u001b[0m",
      "\u001b[1;31mAttributeError\u001b[0m                            Traceback (most recent call last)",
      "Cell \u001b[1;32mIn[1], line 66\u001b[0m, in \u001b[0;36mUserInterface.graph\u001b[1;34m(self)\u001b[0m\n\u001b[0;32m     64\u001b[0m \u001b[39m@Slot\u001b[39m()\n\u001b[0;32m     65\u001b[0m \u001b[39mdef\u001b[39;00m \u001b[39mgraph\u001b[39m(\u001b[39mself\u001b[39m):\n\u001b[1;32m---> 66\u001b[0m     \u001b[39mself\u001b[39;49m\u001b[39m.\u001b[39;49mui\u001b[39m.\u001b[39;49mPlotWidget\u001b[39m.\u001b[39mclear()\n\u001b[0;32m     67\u001b[0m     \u001b[39mself\u001b[39m\u001b[39m.\u001b[39mui\u001b[39m.\u001b[39mIU_graph\u001b[39m.\u001b[39mplot(\u001b[39mself\u001b[39m\u001b[39m.\u001b[39mzc\u001b[39m.\u001b[39mU_gem, \u001b[39mself\u001b[39m\u001b[39m.\u001b[39mzc\u001b[39m.\u001b[39mI_gem, symbol\u001b[39m=\u001b[39m\u001b[39m\"\u001b[39m\u001b[39mo\u001b[39m\u001b[39m\"\u001b[39m, symbolSize\u001b[39m=\u001b[39m\u001b[39m5\u001b[39m, pen\u001b[39m=\u001b[39m\u001b[39mNone\u001b[39;00m)\n\u001b[0;32m     68\u001b[0m     error_bars \u001b[39m=\u001b[39m pg\u001b[39m.\u001b[39mErrorBarItem(x\u001b[39m=\u001b[39mnp\u001b[39m.\u001b[39marray(\u001b[39mself\u001b[39m\u001b[39m.\u001b[39mzc\u001b[39m.\u001b[39mU_gem), y\u001b[39m=\u001b[39mnp\u001b[39m.\u001b[39marray(\u001b[39mself\u001b[39m\u001b[39m.\u001b[39mzc\u001b[39m.\u001b[39mI_gem), height \u001b[39m=\u001b[39m np\u001b[39m.\u001b[39marray(\u001b[39mself\u001b[39m\u001b[39m.\u001b[39mzc\u001b[39m.\u001b[39mI_error))\n",
      "\u001b[1;31mAttributeError\u001b[0m: 'Ui_MainWindow' object has no attribute 'PlotWidget'"
     ]
    },
    {
     "ename": "AttributeError",
     "evalue": "'Ui_MainWindow' object has no attribute 'PlotWidget'",
     "output_type": "error",
     "traceback": [
      "\u001b[1;31m---------------------------------------------------------------------------\u001b[0m",
      "\u001b[1;31mAttributeError\u001b[0m                            Traceback (most recent call last)",
      "Cell \u001b[1;32mIn[1], line 66\u001b[0m, in \u001b[0;36mUserInterface.graph\u001b[1;34m(self)\u001b[0m\n\u001b[0;32m     64\u001b[0m \u001b[39m@Slot\u001b[39m()\n\u001b[0;32m     65\u001b[0m \u001b[39mdef\u001b[39;00m \u001b[39mgraph\u001b[39m(\u001b[39mself\u001b[39m):\n\u001b[1;32m---> 66\u001b[0m     \u001b[39mself\u001b[39;49m\u001b[39m.\u001b[39;49mui\u001b[39m.\u001b[39;49mPlotWidget\u001b[39m.\u001b[39mclear()\n\u001b[0;32m     67\u001b[0m     \u001b[39mself\u001b[39m\u001b[39m.\u001b[39mui\u001b[39m.\u001b[39mIU_graph\u001b[39m.\u001b[39mplot(\u001b[39mself\u001b[39m\u001b[39m.\u001b[39mzc\u001b[39m.\u001b[39mU_gem, \u001b[39mself\u001b[39m\u001b[39m.\u001b[39mzc\u001b[39m.\u001b[39mI_gem, symbol\u001b[39m=\u001b[39m\u001b[39m\"\u001b[39m\u001b[39mo\u001b[39m\u001b[39m\"\u001b[39m, symbolSize\u001b[39m=\u001b[39m\u001b[39m5\u001b[39m, pen\u001b[39m=\u001b[39m\u001b[39mNone\u001b[39;00m)\n\u001b[0;32m     68\u001b[0m     error_bars \u001b[39m=\u001b[39m pg\u001b[39m.\u001b[39mErrorBarItem(x\u001b[39m=\u001b[39mnp\u001b[39m.\u001b[39marray(\u001b[39mself\u001b[39m\u001b[39m.\u001b[39mzc\u001b[39m.\u001b[39mU_gem), y\u001b[39m=\u001b[39mnp\u001b[39m.\u001b[39marray(\u001b[39mself\u001b[39m\u001b[39m.\u001b[39mzc\u001b[39m.\u001b[39mI_gem), height \u001b[39m=\u001b[39m np\u001b[39m.\u001b[39marray(\u001b[39mself\u001b[39m\u001b[39m.\u001b[39mzc\u001b[39m.\u001b[39mI_error))\n",
      "\u001b[1;31mAttributeError\u001b[0m: 'Ui_MainWindow' object has no attribute 'PlotWidget'"
     ]
    },
    {
     "ename": "AttributeError",
     "evalue": "'Ui_MainWindow' object has no attribute 'PlotWidget'",
     "output_type": "error",
     "traceback": [
      "\u001b[1;31m---------------------------------------------------------------------------\u001b[0m",
      "\u001b[1;31mAttributeError\u001b[0m                            Traceback (most recent call last)",
      "Cell \u001b[1;32mIn[1], line 66\u001b[0m, in \u001b[0;36mUserInterface.graph\u001b[1;34m(self)\u001b[0m\n\u001b[0;32m     64\u001b[0m \u001b[39m@Slot\u001b[39m()\n\u001b[0;32m     65\u001b[0m \u001b[39mdef\u001b[39;00m \u001b[39mgraph\u001b[39m(\u001b[39mself\u001b[39m):\n\u001b[1;32m---> 66\u001b[0m     \u001b[39mself\u001b[39;49m\u001b[39m.\u001b[39;49mui\u001b[39m.\u001b[39;49mPlotWidget\u001b[39m.\u001b[39mclear()\n\u001b[0;32m     67\u001b[0m     \u001b[39mself\u001b[39m\u001b[39m.\u001b[39mui\u001b[39m.\u001b[39mIU_graph\u001b[39m.\u001b[39mplot(\u001b[39mself\u001b[39m\u001b[39m.\u001b[39mzc\u001b[39m.\u001b[39mU_gem, \u001b[39mself\u001b[39m\u001b[39m.\u001b[39mzc\u001b[39m.\u001b[39mI_gem, symbol\u001b[39m=\u001b[39m\u001b[39m\"\u001b[39m\u001b[39mo\u001b[39m\u001b[39m\"\u001b[39m, symbolSize\u001b[39m=\u001b[39m\u001b[39m5\u001b[39m, pen\u001b[39m=\u001b[39m\u001b[39mNone\u001b[39;00m)\n\u001b[0;32m     68\u001b[0m     error_bars \u001b[39m=\u001b[39m pg\u001b[39m.\u001b[39mErrorBarItem(x\u001b[39m=\u001b[39mnp\u001b[39m.\u001b[39marray(\u001b[39mself\u001b[39m\u001b[39m.\u001b[39mzc\u001b[39m.\u001b[39mU_gem), y\u001b[39m=\u001b[39mnp\u001b[39m.\u001b[39marray(\u001b[39mself\u001b[39m\u001b[39m.\u001b[39mzc\u001b[39m.\u001b[39mI_gem), height \u001b[39m=\u001b[39m np\u001b[39m.\u001b[39marray(\u001b[39mself\u001b[39m\u001b[39m.\u001b[39mzc\u001b[39m.\u001b[39mI_error))\n",
      "\u001b[1;31mAttributeError\u001b[0m: 'Ui_MainWindow' object has no attribute 'PlotWidget'"
     ]
    },
    {
     "ename": "AttributeError",
     "evalue": "'Ui_MainWindow' object has no attribute 'PlotWidget'",
     "output_type": "error",
     "traceback": [
      "\u001b[1;31m---------------------------------------------------------------------------\u001b[0m",
      "\u001b[1;31mAttributeError\u001b[0m                            Traceback (most recent call last)",
      "Cell \u001b[1;32mIn[1], line 66\u001b[0m, in \u001b[0;36mUserInterface.graph\u001b[1;34m(self)\u001b[0m\n\u001b[0;32m     64\u001b[0m \u001b[39m@Slot\u001b[39m()\n\u001b[0;32m     65\u001b[0m \u001b[39mdef\u001b[39;00m \u001b[39mgraph\u001b[39m(\u001b[39mself\u001b[39m):\n\u001b[1;32m---> 66\u001b[0m     \u001b[39mself\u001b[39;49m\u001b[39m.\u001b[39;49mui\u001b[39m.\u001b[39;49mPlotWidget\u001b[39m.\u001b[39mclear()\n\u001b[0;32m     67\u001b[0m     \u001b[39mself\u001b[39m\u001b[39m.\u001b[39mui\u001b[39m.\u001b[39mIU_graph\u001b[39m.\u001b[39mplot(\u001b[39mself\u001b[39m\u001b[39m.\u001b[39mzc\u001b[39m.\u001b[39mU_gem, \u001b[39mself\u001b[39m\u001b[39m.\u001b[39mzc\u001b[39m.\u001b[39mI_gem, symbol\u001b[39m=\u001b[39m\u001b[39m\"\u001b[39m\u001b[39mo\u001b[39m\u001b[39m\"\u001b[39m, symbolSize\u001b[39m=\u001b[39m\u001b[39m5\u001b[39m, pen\u001b[39m=\u001b[39m\u001b[39mNone\u001b[39;00m)\n\u001b[0;32m     68\u001b[0m     error_bars \u001b[39m=\u001b[39m pg\u001b[39m.\u001b[39mErrorBarItem(x\u001b[39m=\u001b[39mnp\u001b[39m.\u001b[39marray(\u001b[39mself\u001b[39m\u001b[39m.\u001b[39mzc\u001b[39m.\u001b[39mU_gem), y\u001b[39m=\u001b[39mnp\u001b[39m.\u001b[39marray(\u001b[39mself\u001b[39m\u001b[39m.\u001b[39mzc\u001b[39m.\u001b[39mI_gem), height \u001b[39m=\u001b[39m np\u001b[39m.\u001b[39marray(\u001b[39mself\u001b[39m\u001b[39m.\u001b[39mzc\u001b[39m.\u001b[39mI_error))\n",
      "\u001b[1;31mAttributeError\u001b[0m: 'Ui_MainWindow' object has no attribute 'PlotWidget'"
     ]
    },
    {
     "ename": "AttributeError",
     "evalue": "'Ui_MainWindow' object has no attribute 'PlotWidget'",
     "output_type": "error",
     "traceback": [
      "\u001b[1;31m---------------------------------------------------------------------------\u001b[0m",
      "\u001b[1;31mAttributeError\u001b[0m                            Traceback (most recent call last)",
      "Cell \u001b[1;32mIn[1], line 66\u001b[0m, in \u001b[0;36mUserInterface.graph\u001b[1;34m(self)\u001b[0m\n\u001b[0;32m     64\u001b[0m \u001b[39m@Slot\u001b[39m()\n\u001b[0;32m     65\u001b[0m \u001b[39mdef\u001b[39;00m \u001b[39mgraph\u001b[39m(\u001b[39mself\u001b[39m):\n\u001b[1;32m---> 66\u001b[0m     \u001b[39mself\u001b[39;49m\u001b[39m.\u001b[39;49mui\u001b[39m.\u001b[39;49mPlotWidget\u001b[39m.\u001b[39mclear()\n\u001b[0;32m     67\u001b[0m     \u001b[39mself\u001b[39m\u001b[39m.\u001b[39mui\u001b[39m.\u001b[39mIU_graph\u001b[39m.\u001b[39mplot(\u001b[39mself\u001b[39m\u001b[39m.\u001b[39mzc\u001b[39m.\u001b[39mU_gem, \u001b[39mself\u001b[39m\u001b[39m.\u001b[39mzc\u001b[39m.\u001b[39mI_gem, symbol\u001b[39m=\u001b[39m\u001b[39m\"\u001b[39m\u001b[39mo\u001b[39m\u001b[39m\"\u001b[39m, symbolSize\u001b[39m=\u001b[39m\u001b[39m5\u001b[39m, pen\u001b[39m=\u001b[39m\u001b[39mNone\u001b[39;00m)\n\u001b[0;32m     68\u001b[0m     error_bars \u001b[39m=\u001b[39m pg\u001b[39m.\u001b[39mErrorBarItem(x\u001b[39m=\u001b[39mnp\u001b[39m.\u001b[39marray(\u001b[39mself\u001b[39m\u001b[39m.\u001b[39mzc\u001b[39m.\u001b[39mU_gem), y\u001b[39m=\u001b[39mnp\u001b[39m.\u001b[39marray(\u001b[39mself\u001b[39m\u001b[39m.\u001b[39mzc\u001b[39m.\u001b[39mI_gem), height \u001b[39m=\u001b[39m np\u001b[39m.\u001b[39marray(\u001b[39mself\u001b[39m\u001b[39m.\u001b[39mzc\u001b[39m.\u001b[39mI_error))\n",
      "\u001b[1;31mAttributeError\u001b[0m: 'Ui_MainWindow' object has no attribute 'PlotWidget'"
     ]
    },
    {
     "ename": "AttributeError",
     "evalue": "'Ui_MainWindow' object has no attribute 'PlotWidget'",
     "output_type": "error",
     "traceback": [
      "\u001b[1;31m---------------------------------------------------------------------------\u001b[0m",
      "\u001b[1;31mAttributeError\u001b[0m                            Traceback (most recent call last)",
      "Cell \u001b[1;32mIn[1], line 66\u001b[0m, in \u001b[0;36mUserInterface.graph\u001b[1;34m(self)\u001b[0m\n\u001b[0;32m     64\u001b[0m \u001b[39m@Slot\u001b[39m()\n\u001b[0;32m     65\u001b[0m \u001b[39mdef\u001b[39;00m \u001b[39mgraph\u001b[39m(\u001b[39mself\u001b[39m):\n\u001b[1;32m---> 66\u001b[0m     \u001b[39mself\u001b[39;49m\u001b[39m.\u001b[39;49mui\u001b[39m.\u001b[39;49mPlotWidget\u001b[39m.\u001b[39mclear()\n\u001b[0;32m     67\u001b[0m     \u001b[39mself\u001b[39m\u001b[39m.\u001b[39mui\u001b[39m.\u001b[39mIU_graph\u001b[39m.\u001b[39mplot(\u001b[39mself\u001b[39m\u001b[39m.\u001b[39mzc\u001b[39m.\u001b[39mU_gem, \u001b[39mself\u001b[39m\u001b[39m.\u001b[39mzc\u001b[39m.\u001b[39mI_gem, symbol\u001b[39m=\u001b[39m\u001b[39m\"\u001b[39m\u001b[39mo\u001b[39m\u001b[39m\"\u001b[39m, symbolSize\u001b[39m=\u001b[39m\u001b[39m5\u001b[39m, pen\u001b[39m=\u001b[39m\u001b[39mNone\u001b[39;00m)\n\u001b[0;32m     68\u001b[0m     error_bars \u001b[39m=\u001b[39m pg\u001b[39m.\u001b[39mErrorBarItem(x\u001b[39m=\u001b[39mnp\u001b[39m.\u001b[39marray(\u001b[39mself\u001b[39m\u001b[39m.\u001b[39mzc\u001b[39m.\u001b[39mU_gem), y\u001b[39m=\u001b[39mnp\u001b[39m.\u001b[39marray(\u001b[39mself\u001b[39m\u001b[39m.\u001b[39mzc\u001b[39m.\u001b[39mI_gem), height \u001b[39m=\u001b[39m np\u001b[39m.\u001b[39marray(\u001b[39mself\u001b[39m\u001b[39m.\u001b[39mzc\u001b[39m.\u001b[39mI_error))\n",
      "\u001b[1;31mAttributeError\u001b[0m: 'Ui_MainWindow' object has no attribute 'PlotWidget'"
     ]
    },
    {
     "ename": "AttributeError",
     "evalue": "'Ui_MainWindow' object has no attribute 'PlotWidget'",
     "output_type": "error",
     "traceback": [
      "\u001b[1;31m---------------------------------------------------------------------------\u001b[0m",
      "\u001b[1;31mAttributeError\u001b[0m                            Traceback (most recent call last)",
      "Cell \u001b[1;32mIn[1], line 66\u001b[0m, in \u001b[0;36mUserInterface.graph\u001b[1;34m(self)\u001b[0m\n\u001b[0;32m     64\u001b[0m \u001b[39m@Slot\u001b[39m()\n\u001b[0;32m     65\u001b[0m \u001b[39mdef\u001b[39;00m \u001b[39mgraph\u001b[39m(\u001b[39mself\u001b[39m):\n\u001b[1;32m---> 66\u001b[0m     \u001b[39mself\u001b[39;49m\u001b[39m.\u001b[39;49mui\u001b[39m.\u001b[39;49mPlotWidget\u001b[39m.\u001b[39mclear()\n\u001b[0;32m     67\u001b[0m     \u001b[39mself\u001b[39m\u001b[39m.\u001b[39mui\u001b[39m.\u001b[39mIU_graph\u001b[39m.\u001b[39mplot(\u001b[39mself\u001b[39m\u001b[39m.\u001b[39mzc\u001b[39m.\u001b[39mU_gem, \u001b[39mself\u001b[39m\u001b[39m.\u001b[39mzc\u001b[39m.\u001b[39mI_gem, symbol\u001b[39m=\u001b[39m\u001b[39m\"\u001b[39m\u001b[39mo\u001b[39m\u001b[39m\"\u001b[39m, symbolSize\u001b[39m=\u001b[39m\u001b[39m5\u001b[39m, pen\u001b[39m=\u001b[39m\u001b[39mNone\u001b[39;00m)\n\u001b[0;32m     68\u001b[0m     error_bars \u001b[39m=\u001b[39m pg\u001b[39m.\u001b[39mErrorBarItem(x\u001b[39m=\u001b[39mnp\u001b[39m.\u001b[39marray(\u001b[39mself\u001b[39m\u001b[39m.\u001b[39mzc\u001b[39m.\u001b[39mU_gem), y\u001b[39m=\u001b[39mnp\u001b[39m.\u001b[39marray(\u001b[39mself\u001b[39m\u001b[39m.\u001b[39mzc\u001b[39m.\u001b[39mI_gem), height \u001b[39m=\u001b[39m np\u001b[39m.\u001b[39marray(\u001b[39mself\u001b[39m\u001b[39m.\u001b[39mzc\u001b[39m.\u001b[39mI_error))\n",
      "\u001b[1;31mAttributeError\u001b[0m: 'Ui_MainWindow' object has no attribute 'PlotWidget'"
     ]
    },
    {
     "ename": "AttributeError",
     "evalue": "'Ui_MainWindow' object has no attribute 'PlotWidget'",
     "output_type": "error",
     "traceback": [
      "\u001b[1;31m---------------------------------------------------------------------------\u001b[0m",
      "\u001b[1;31mAttributeError\u001b[0m                            Traceback (most recent call last)",
      "Cell \u001b[1;32mIn[1], line 66\u001b[0m, in \u001b[0;36mUserInterface.graph\u001b[1;34m(self)\u001b[0m\n\u001b[0;32m     64\u001b[0m \u001b[39m@Slot\u001b[39m()\n\u001b[0;32m     65\u001b[0m \u001b[39mdef\u001b[39;00m \u001b[39mgraph\u001b[39m(\u001b[39mself\u001b[39m):\n\u001b[1;32m---> 66\u001b[0m     \u001b[39mself\u001b[39;49m\u001b[39m.\u001b[39;49mui\u001b[39m.\u001b[39;49mPlotWidget\u001b[39m.\u001b[39mclear()\n\u001b[0;32m     67\u001b[0m     \u001b[39mself\u001b[39m\u001b[39m.\u001b[39mui\u001b[39m.\u001b[39mIU_graph\u001b[39m.\u001b[39mplot(\u001b[39mself\u001b[39m\u001b[39m.\u001b[39mzc\u001b[39m.\u001b[39mU_gem, \u001b[39mself\u001b[39m\u001b[39m.\u001b[39mzc\u001b[39m.\u001b[39mI_gem, symbol\u001b[39m=\u001b[39m\u001b[39m\"\u001b[39m\u001b[39mo\u001b[39m\u001b[39m\"\u001b[39m, symbolSize\u001b[39m=\u001b[39m\u001b[39m5\u001b[39m, pen\u001b[39m=\u001b[39m\u001b[39mNone\u001b[39;00m)\n\u001b[0;32m     68\u001b[0m     error_bars \u001b[39m=\u001b[39m pg\u001b[39m.\u001b[39mErrorBarItem(x\u001b[39m=\u001b[39mnp\u001b[39m.\u001b[39marray(\u001b[39mself\u001b[39m\u001b[39m.\u001b[39mzc\u001b[39m.\u001b[39mU_gem), y\u001b[39m=\u001b[39mnp\u001b[39m.\u001b[39marray(\u001b[39mself\u001b[39m\u001b[39m.\u001b[39mzc\u001b[39m.\u001b[39mI_gem), height \u001b[39m=\u001b[39m np\u001b[39m.\u001b[39marray(\u001b[39mself\u001b[39m\u001b[39m.\u001b[39mzc\u001b[39m.\u001b[39mI_error))\n",
      "\u001b[1;31mAttributeError\u001b[0m: 'Ui_MainWindow' object has no attribute 'PlotWidget'"
     ]
    },
    {
     "ename": "AttributeError",
     "evalue": "'Ui_MainWindow' object has no attribute 'PlotWidget'",
     "output_type": "error",
     "traceback": [
      "\u001b[1;31m---------------------------------------------------------------------------\u001b[0m",
      "\u001b[1;31mAttributeError\u001b[0m                            Traceback (most recent call last)",
      "Cell \u001b[1;32mIn[1], line 66\u001b[0m, in \u001b[0;36mUserInterface.graph\u001b[1;34m(self)\u001b[0m\n\u001b[0;32m     64\u001b[0m \u001b[39m@Slot\u001b[39m()\n\u001b[0;32m     65\u001b[0m \u001b[39mdef\u001b[39;00m \u001b[39mgraph\u001b[39m(\u001b[39mself\u001b[39m):\n\u001b[1;32m---> 66\u001b[0m     \u001b[39mself\u001b[39;49m\u001b[39m.\u001b[39;49mui\u001b[39m.\u001b[39;49mPlotWidget\u001b[39m.\u001b[39mclear()\n\u001b[0;32m     67\u001b[0m     \u001b[39mself\u001b[39m\u001b[39m.\u001b[39mui\u001b[39m.\u001b[39mIU_graph\u001b[39m.\u001b[39mplot(\u001b[39mself\u001b[39m\u001b[39m.\u001b[39mzc\u001b[39m.\u001b[39mU_gem, \u001b[39mself\u001b[39m\u001b[39m.\u001b[39mzc\u001b[39m.\u001b[39mI_gem, symbol\u001b[39m=\u001b[39m\u001b[39m\"\u001b[39m\u001b[39mo\u001b[39m\u001b[39m\"\u001b[39m, symbolSize\u001b[39m=\u001b[39m\u001b[39m5\u001b[39m, pen\u001b[39m=\u001b[39m\u001b[39mNone\u001b[39;00m)\n\u001b[0;32m     68\u001b[0m     error_bars \u001b[39m=\u001b[39m pg\u001b[39m.\u001b[39mErrorBarItem(x\u001b[39m=\u001b[39mnp\u001b[39m.\u001b[39marray(\u001b[39mself\u001b[39m\u001b[39m.\u001b[39mzc\u001b[39m.\u001b[39mU_gem), y\u001b[39m=\u001b[39mnp\u001b[39m.\u001b[39marray(\u001b[39mself\u001b[39m\u001b[39m.\u001b[39mzc\u001b[39m.\u001b[39mI_gem), height \u001b[39m=\u001b[39m np\u001b[39m.\u001b[39marray(\u001b[39mself\u001b[39m\u001b[39m.\u001b[39mzc\u001b[39m.\u001b[39mI_error))\n",
      "\u001b[1;31mAttributeError\u001b[0m: 'Ui_MainWindow' object has no attribute 'PlotWidget'"
     ]
    },
    {
     "ename": "AttributeError",
     "evalue": "'Ui_MainWindow' object has no attribute 'PlotWidget'",
     "output_type": "error",
     "traceback": [
      "\u001b[1;31m---------------------------------------------------------------------------\u001b[0m",
      "\u001b[1;31mAttributeError\u001b[0m                            Traceback (most recent call last)",
      "Cell \u001b[1;32mIn[1], line 66\u001b[0m, in \u001b[0;36mUserInterface.graph\u001b[1;34m(self)\u001b[0m\n\u001b[0;32m     64\u001b[0m \u001b[39m@Slot\u001b[39m()\n\u001b[0;32m     65\u001b[0m \u001b[39mdef\u001b[39;00m \u001b[39mgraph\u001b[39m(\u001b[39mself\u001b[39m):\n\u001b[1;32m---> 66\u001b[0m     \u001b[39mself\u001b[39;49m\u001b[39m.\u001b[39;49mui\u001b[39m.\u001b[39;49mPlotWidget\u001b[39m.\u001b[39mclear()\n\u001b[0;32m     67\u001b[0m     \u001b[39mself\u001b[39m\u001b[39m.\u001b[39mui\u001b[39m.\u001b[39mIU_graph\u001b[39m.\u001b[39mplot(\u001b[39mself\u001b[39m\u001b[39m.\u001b[39mzc\u001b[39m.\u001b[39mU_gem, \u001b[39mself\u001b[39m\u001b[39m.\u001b[39mzc\u001b[39m.\u001b[39mI_gem, symbol\u001b[39m=\u001b[39m\u001b[39m\"\u001b[39m\u001b[39mo\u001b[39m\u001b[39m\"\u001b[39m, symbolSize\u001b[39m=\u001b[39m\u001b[39m5\u001b[39m, pen\u001b[39m=\u001b[39m\u001b[39mNone\u001b[39;00m)\n\u001b[0;32m     68\u001b[0m     error_bars \u001b[39m=\u001b[39m pg\u001b[39m.\u001b[39mErrorBarItem(x\u001b[39m=\u001b[39mnp\u001b[39m.\u001b[39marray(\u001b[39mself\u001b[39m\u001b[39m.\u001b[39mzc\u001b[39m.\u001b[39mU_gem), y\u001b[39m=\u001b[39mnp\u001b[39m.\u001b[39marray(\u001b[39mself\u001b[39m\u001b[39m.\u001b[39mzc\u001b[39m.\u001b[39mI_gem), height \u001b[39m=\u001b[39m np\u001b[39m.\u001b[39marray(\u001b[39mself\u001b[39m\u001b[39m.\u001b[39mzc\u001b[39m.\u001b[39mI_error))\n",
      "\u001b[1;31mAttributeError\u001b[0m: 'Ui_MainWindow' object has no attribute 'PlotWidget'"
     ]
    },
    {
     "ename": "AttributeError",
     "evalue": "'Ui_MainWindow' object has no attribute 'PlotWidget'",
     "output_type": "error",
     "traceback": [
      "\u001b[1;31m---------------------------------------------------------------------------\u001b[0m",
      "\u001b[1;31mAttributeError\u001b[0m                            Traceback (most recent call last)",
      "Cell \u001b[1;32mIn[1], line 66\u001b[0m, in \u001b[0;36mUserInterface.graph\u001b[1;34m(self)\u001b[0m\n\u001b[0;32m     64\u001b[0m \u001b[39m@Slot\u001b[39m()\n\u001b[0;32m     65\u001b[0m \u001b[39mdef\u001b[39;00m \u001b[39mgraph\u001b[39m(\u001b[39mself\u001b[39m):\n\u001b[1;32m---> 66\u001b[0m     \u001b[39mself\u001b[39;49m\u001b[39m.\u001b[39;49mui\u001b[39m.\u001b[39;49mPlotWidget\u001b[39m.\u001b[39mclear()\n\u001b[0;32m     67\u001b[0m     \u001b[39mself\u001b[39m\u001b[39m.\u001b[39mui\u001b[39m.\u001b[39mIU_graph\u001b[39m.\u001b[39mplot(\u001b[39mself\u001b[39m\u001b[39m.\u001b[39mzc\u001b[39m.\u001b[39mU_gem, \u001b[39mself\u001b[39m\u001b[39m.\u001b[39mzc\u001b[39m.\u001b[39mI_gem, symbol\u001b[39m=\u001b[39m\u001b[39m\"\u001b[39m\u001b[39mo\u001b[39m\u001b[39m\"\u001b[39m, symbolSize\u001b[39m=\u001b[39m\u001b[39m5\u001b[39m, pen\u001b[39m=\u001b[39m\u001b[39mNone\u001b[39;00m)\n\u001b[0;32m     68\u001b[0m     error_bars \u001b[39m=\u001b[39m pg\u001b[39m.\u001b[39mErrorBarItem(x\u001b[39m=\u001b[39mnp\u001b[39m.\u001b[39marray(\u001b[39mself\u001b[39m\u001b[39m.\u001b[39mzc\u001b[39m.\u001b[39mU_gem), y\u001b[39m=\u001b[39mnp\u001b[39m.\u001b[39marray(\u001b[39mself\u001b[39m\u001b[39m.\u001b[39mzc\u001b[39m.\u001b[39mI_gem), height \u001b[39m=\u001b[39m np\u001b[39m.\u001b[39marray(\u001b[39mself\u001b[39m\u001b[39m.\u001b[39mzc\u001b[39m.\u001b[39mI_error))\n",
      "\u001b[1;31mAttributeError\u001b[0m: 'Ui_MainWindow' object has no attribute 'PlotWidget'"
     ]
    },
    {
     "ename": "AttributeError",
     "evalue": "'Ui_MainWindow' object has no attribute 'PlotWidget'",
     "output_type": "error",
     "traceback": [
      "\u001b[1;31m---------------------------------------------------------------------------\u001b[0m",
      "\u001b[1;31mAttributeError\u001b[0m                            Traceback (most recent call last)",
      "Cell \u001b[1;32mIn[1], line 66\u001b[0m, in \u001b[0;36mUserInterface.graph\u001b[1;34m(self)\u001b[0m\n\u001b[0;32m     64\u001b[0m \u001b[39m@Slot\u001b[39m()\n\u001b[0;32m     65\u001b[0m \u001b[39mdef\u001b[39;00m \u001b[39mgraph\u001b[39m(\u001b[39mself\u001b[39m):\n\u001b[1;32m---> 66\u001b[0m     \u001b[39mself\u001b[39;49m\u001b[39m.\u001b[39;49mui\u001b[39m.\u001b[39;49mPlotWidget\u001b[39m.\u001b[39mclear()\n\u001b[0;32m     67\u001b[0m     \u001b[39mself\u001b[39m\u001b[39m.\u001b[39mui\u001b[39m.\u001b[39mIU_graph\u001b[39m.\u001b[39mplot(\u001b[39mself\u001b[39m\u001b[39m.\u001b[39mzc\u001b[39m.\u001b[39mU_gem, \u001b[39mself\u001b[39m\u001b[39m.\u001b[39mzc\u001b[39m.\u001b[39mI_gem, symbol\u001b[39m=\u001b[39m\u001b[39m\"\u001b[39m\u001b[39mo\u001b[39m\u001b[39m\"\u001b[39m, symbolSize\u001b[39m=\u001b[39m\u001b[39m5\u001b[39m, pen\u001b[39m=\u001b[39m\u001b[39mNone\u001b[39;00m)\n\u001b[0;32m     68\u001b[0m     error_bars \u001b[39m=\u001b[39m pg\u001b[39m.\u001b[39mErrorBarItem(x\u001b[39m=\u001b[39mnp\u001b[39m.\u001b[39marray(\u001b[39mself\u001b[39m\u001b[39m.\u001b[39mzc\u001b[39m.\u001b[39mU_gem), y\u001b[39m=\u001b[39mnp\u001b[39m.\u001b[39marray(\u001b[39mself\u001b[39m\u001b[39m.\u001b[39mzc\u001b[39m.\u001b[39mI_gem), height \u001b[39m=\u001b[39m np\u001b[39m.\u001b[39marray(\u001b[39mself\u001b[39m\u001b[39m.\u001b[39mzc\u001b[39m.\u001b[39mI_error))\n",
      "\u001b[1;31mAttributeError\u001b[0m: 'Ui_MainWindow' object has no attribute 'PlotWidget'"
     ]
    },
    {
     "ename": "AttributeError",
     "evalue": "'Ui_MainWindow' object has no attribute 'PlotWidget'",
     "output_type": "error",
     "traceback": [
      "\u001b[1;31m---------------------------------------------------------------------------\u001b[0m",
      "\u001b[1;31mAttributeError\u001b[0m                            Traceback (most recent call last)",
      "Cell \u001b[1;32mIn[1], line 66\u001b[0m, in \u001b[0;36mUserInterface.graph\u001b[1;34m(self)\u001b[0m\n\u001b[0;32m     64\u001b[0m \u001b[39m@Slot\u001b[39m()\n\u001b[0;32m     65\u001b[0m \u001b[39mdef\u001b[39;00m \u001b[39mgraph\u001b[39m(\u001b[39mself\u001b[39m):\n\u001b[1;32m---> 66\u001b[0m     \u001b[39mself\u001b[39;49m\u001b[39m.\u001b[39;49mui\u001b[39m.\u001b[39;49mPlotWidget\u001b[39m.\u001b[39mclear()\n\u001b[0;32m     67\u001b[0m     \u001b[39mself\u001b[39m\u001b[39m.\u001b[39mui\u001b[39m.\u001b[39mIU_graph\u001b[39m.\u001b[39mplot(\u001b[39mself\u001b[39m\u001b[39m.\u001b[39mzc\u001b[39m.\u001b[39mU_gem, \u001b[39mself\u001b[39m\u001b[39m.\u001b[39mzc\u001b[39m.\u001b[39mI_gem, symbol\u001b[39m=\u001b[39m\u001b[39m\"\u001b[39m\u001b[39mo\u001b[39m\u001b[39m\"\u001b[39m, symbolSize\u001b[39m=\u001b[39m\u001b[39m5\u001b[39m, pen\u001b[39m=\u001b[39m\u001b[39mNone\u001b[39;00m)\n\u001b[0;32m     68\u001b[0m     error_bars \u001b[39m=\u001b[39m pg\u001b[39m.\u001b[39mErrorBarItem(x\u001b[39m=\u001b[39mnp\u001b[39m.\u001b[39marray(\u001b[39mself\u001b[39m\u001b[39m.\u001b[39mzc\u001b[39m.\u001b[39mU_gem), y\u001b[39m=\u001b[39mnp\u001b[39m.\u001b[39marray(\u001b[39mself\u001b[39m\u001b[39m.\u001b[39mzc\u001b[39m.\u001b[39mI_gem), height \u001b[39m=\u001b[39m np\u001b[39m.\u001b[39marray(\u001b[39mself\u001b[39m\u001b[39m.\u001b[39mzc\u001b[39m.\u001b[39mI_error))\n",
      "\u001b[1;31mAttributeError\u001b[0m: 'Ui_MainWindow' object has no attribute 'PlotWidget'"
     ]
    },
    {
     "ename": "AttributeError",
     "evalue": "'Ui_MainWindow' object has no attribute 'PlotWidget'",
     "output_type": "error",
     "traceback": [
      "\u001b[1;31m---------------------------------------------------------------------------\u001b[0m",
      "\u001b[1;31mAttributeError\u001b[0m                            Traceback (most recent call last)",
      "Cell \u001b[1;32mIn[1], line 66\u001b[0m, in \u001b[0;36mUserInterface.graph\u001b[1;34m(self)\u001b[0m\n\u001b[0;32m     64\u001b[0m \u001b[39m@Slot\u001b[39m()\n\u001b[0;32m     65\u001b[0m \u001b[39mdef\u001b[39;00m \u001b[39mgraph\u001b[39m(\u001b[39mself\u001b[39m):\n\u001b[1;32m---> 66\u001b[0m     \u001b[39mself\u001b[39;49m\u001b[39m.\u001b[39;49mui\u001b[39m.\u001b[39;49mPlotWidget\u001b[39m.\u001b[39mclear()\n\u001b[0;32m     67\u001b[0m     \u001b[39mself\u001b[39m\u001b[39m.\u001b[39mui\u001b[39m.\u001b[39mIU_graph\u001b[39m.\u001b[39mplot(\u001b[39mself\u001b[39m\u001b[39m.\u001b[39mzc\u001b[39m.\u001b[39mU_gem, \u001b[39mself\u001b[39m\u001b[39m.\u001b[39mzc\u001b[39m.\u001b[39mI_gem, symbol\u001b[39m=\u001b[39m\u001b[39m\"\u001b[39m\u001b[39mo\u001b[39m\u001b[39m\"\u001b[39m, symbolSize\u001b[39m=\u001b[39m\u001b[39m5\u001b[39m, pen\u001b[39m=\u001b[39m\u001b[39mNone\u001b[39;00m)\n\u001b[0;32m     68\u001b[0m     error_bars \u001b[39m=\u001b[39m pg\u001b[39m.\u001b[39mErrorBarItem(x\u001b[39m=\u001b[39mnp\u001b[39m.\u001b[39marray(\u001b[39mself\u001b[39m\u001b[39m.\u001b[39mzc\u001b[39m.\u001b[39mU_gem), y\u001b[39m=\u001b[39mnp\u001b[39m.\u001b[39marray(\u001b[39mself\u001b[39m\u001b[39m.\u001b[39mzc\u001b[39m.\u001b[39mI_gem), height \u001b[39m=\u001b[39m np\u001b[39m.\u001b[39marray(\u001b[39mself\u001b[39m\u001b[39m.\u001b[39mzc\u001b[39m.\u001b[39mI_error))\n",
      "\u001b[1;31mAttributeError\u001b[0m: 'Ui_MainWindow' object has no attribute 'PlotWidget'"
     ]
    },
    {
     "ename": "AttributeError",
     "evalue": "'Ui_MainWindow' object has no attribute 'PlotWidget'",
     "output_type": "error",
     "traceback": [
      "\u001b[1;31m---------------------------------------------------------------------------\u001b[0m",
      "\u001b[1;31mAttributeError\u001b[0m                            Traceback (most recent call last)",
      "Cell \u001b[1;32mIn[1], line 66\u001b[0m, in \u001b[0;36mUserInterface.graph\u001b[1;34m(self)\u001b[0m\n\u001b[0;32m     64\u001b[0m \u001b[39m@Slot\u001b[39m()\n\u001b[0;32m     65\u001b[0m \u001b[39mdef\u001b[39;00m \u001b[39mgraph\u001b[39m(\u001b[39mself\u001b[39m):\n\u001b[1;32m---> 66\u001b[0m     \u001b[39mself\u001b[39;49m\u001b[39m.\u001b[39;49mui\u001b[39m.\u001b[39;49mPlotWidget\u001b[39m.\u001b[39mclear()\n\u001b[0;32m     67\u001b[0m     \u001b[39mself\u001b[39m\u001b[39m.\u001b[39mui\u001b[39m.\u001b[39mIU_graph\u001b[39m.\u001b[39mplot(\u001b[39mself\u001b[39m\u001b[39m.\u001b[39mzc\u001b[39m.\u001b[39mU_gem, \u001b[39mself\u001b[39m\u001b[39m.\u001b[39mzc\u001b[39m.\u001b[39mI_gem, symbol\u001b[39m=\u001b[39m\u001b[39m\"\u001b[39m\u001b[39mo\u001b[39m\u001b[39m\"\u001b[39m, symbolSize\u001b[39m=\u001b[39m\u001b[39m5\u001b[39m, pen\u001b[39m=\u001b[39m\u001b[39mNone\u001b[39;00m)\n\u001b[0;32m     68\u001b[0m     error_bars \u001b[39m=\u001b[39m pg\u001b[39m.\u001b[39mErrorBarItem(x\u001b[39m=\u001b[39mnp\u001b[39m.\u001b[39marray(\u001b[39mself\u001b[39m\u001b[39m.\u001b[39mzc\u001b[39m.\u001b[39mU_gem), y\u001b[39m=\u001b[39mnp\u001b[39m.\u001b[39marray(\u001b[39mself\u001b[39m\u001b[39m.\u001b[39mzc\u001b[39m.\u001b[39mI_gem), height \u001b[39m=\u001b[39m np\u001b[39m.\u001b[39marray(\u001b[39mself\u001b[39m\u001b[39m.\u001b[39mzc\u001b[39m.\u001b[39mI_error))\n",
      "\u001b[1;31mAttributeError\u001b[0m: 'Ui_MainWindow' object has no attribute 'PlotWidget'"
     ]
    },
    {
     "ename": "AttributeError",
     "evalue": "'Ui_MainWindow' object has no attribute 'PlotWidget'",
     "output_type": "error",
     "traceback": [
      "\u001b[1;31m---------------------------------------------------------------------------\u001b[0m",
      "\u001b[1;31mAttributeError\u001b[0m                            Traceback (most recent call last)",
      "Cell \u001b[1;32mIn[1], line 66\u001b[0m, in \u001b[0;36mUserInterface.graph\u001b[1;34m(self)\u001b[0m\n\u001b[0;32m     64\u001b[0m \u001b[39m@Slot\u001b[39m()\n\u001b[0;32m     65\u001b[0m \u001b[39mdef\u001b[39;00m \u001b[39mgraph\u001b[39m(\u001b[39mself\u001b[39m):\n\u001b[1;32m---> 66\u001b[0m     \u001b[39mself\u001b[39;49m\u001b[39m.\u001b[39;49mui\u001b[39m.\u001b[39;49mPlotWidget\u001b[39m.\u001b[39mclear()\n\u001b[0;32m     67\u001b[0m     \u001b[39mself\u001b[39m\u001b[39m.\u001b[39mui\u001b[39m.\u001b[39mIU_graph\u001b[39m.\u001b[39mplot(\u001b[39mself\u001b[39m\u001b[39m.\u001b[39mzc\u001b[39m.\u001b[39mU_gem, \u001b[39mself\u001b[39m\u001b[39m.\u001b[39mzc\u001b[39m.\u001b[39mI_gem, symbol\u001b[39m=\u001b[39m\u001b[39m\"\u001b[39m\u001b[39mo\u001b[39m\u001b[39m\"\u001b[39m, symbolSize\u001b[39m=\u001b[39m\u001b[39m5\u001b[39m, pen\u001b[39m=\u001b[39m\u001b[39mNone\u001b[39;00m)\n\u001b[0;32m     68\u001b[0m     error_bars \u001b[39m=\u001b[39m pg\u001b[39m.\u001b[39mErrorBarItem(x\u001b[39m=\u001b[39mnp\u001b[39m.\u001b[39marray(\u001b[39mself\u001b[39m\u001b[39m.\u001b[39mzc\u001b[39m.\u001b[39mU_gem), y\u001b[39m=\u001b[39mnp\u001b[39m.\u001b[39marray(\u001b[39mself\u001b[39m\u001b[39m.\u001b[39mzc\u001b[39m.\u001b[39mI_gem), height \u001b[39m=\u001b[39m np\u001b[39m.\u001b[39marray(\u001b[39mself\u001b[39m\u001b[39m.\u001b[39mzc\u001b[39m.\u001b[39mI_error))\n",
      "\u001b[1;31mAttributeError\u001b[0m: 'Ui_MainWindow' object has no attribute 'PlotWidget'"
     ]
    },
    {
     "ename": "AttributeError",
     "evalue": "'Ui_MainWindow' object has no attribute 'PlotWidget'",
     "output_type": "error",
     "traceback": [
      "\u001b[1;31m---------------------------------------------------------------------------\u001b[0m",
      "\u001b[1;31mAttributeError\u001b[0m                            Traceback (most recent call last)",
      "Cell \u001b[1;32mIn[1], line 66\u001b[0m, in \u001b[0;36mUserInterface.graph\u001b[1;34m(self)\u001b[0m\n\u001b[0;32m     64\u001b[0m \u001b[39m@Slot\u001b[39m()\n\u001b[0;32m     65\u001b[0m \u001b[39mdef\u001b[39;00m \u001b[39mgraph\u001b[39m(\u001b[39mself\u001b[39m):\n\u001b[1;32m---> 66\u001b[0m     \u001b[39mself\u001b[39;49m\u001b[39m.\u001b[39;49mui\u001b[39m.\u001b[39;49mPlotWidget\u001b[39m.\u001b[39mclear()\n\u001b[0;32m     67\u001b[0m     \u001b[39mself\u001b[39m\u001b[39m.\u001b[39mui\u001b[39m.\u001b[39mIU_graph\u001b[39m.\u001b[39mplot(\u001b[39mself\u001b[39m\u001b[39m.\u001b[39mzc\u001b[39m.\u001b[39mU_gem, \u001b[39mself\u001b[39m\u001b[39m.\u001b[39mzc\u001b[39m.\u001b[39mI_gem, symbol\u001b[39m=\u001b[39m\u001b[39m\"\u001b[39m\u001b[39mo\u001b[39m\u001b[39m\"\u001b[39m, symbolSize\u001b[39m=\u001b[39m\u001b[39m5\u001b[39m, pen\u001b[39m=\u001b[39m\u001b[39mNone\u001b[39;00m)\n\u001b[0;32m     68\u001b[0m     error_bars \u001b[39m=\u001b[39m pg\u001b[39m.\u001b[39mErrorBarItem(x\u001b[39m=\u001b[39mnp\u001b[39m.\u001b[39marray(\u001b[39mself\u001b[39m\u001b[39m.\u001b[39mzc\u001b[39m.\u001b[39mU_gem), y\u001b[39m=\u001b[39mnp\u001b[39m.\u001b[39marray(\u001b[39mself\u001b[39m\u001b[39m.\u001b[39mzc\u001b[39m.\u001b[39mI_gem), height \u001b[39m=\u001b[39m np\u001b[39m.\u001b[39marray(\u001b[39mself\u001b[39m\u001b[39m.\u001b[39mzc\u001b[39m.\u001b[39mI_error))\n",
      "\u001b[1;31mAttributeError\u001b[0m: 'Ui_MainWindow' object has no attribute 'PlotWidget'"
     ]
    },
    {
     "ename": "AttributeError",
     "evalue": "'Ui_MainWindow' object has no attribute 'PlotWidget'",
     "output_type": "error",
     "traceback": [
      "\u001b[1;31m---------------------------------------------------------------------------\u001b[0m",
      "\u001b[1;31mAttributeError\u001b[0m                            Traceback (most recent call last)",
      "Cell \u001b[1;32mIn[1], line 66\u001b[0m, in \u001b[0;36mUserInterface.graph\u001b[1;34m(self)\u001b[0m\n\u001b[0;32m     64\u001b[0m \u001b[39m@Slot\u001b[39m()\n\u001b[0;32m     65\u001b[0m \u001b[39mdef\u001b[39;00m \u001b[39mgraph\u001b[39m(\u001b[39mself\u001b[39m):\n\u001b[1;32m---> 66\u001b[0m     \u001b[39mself\u001b[39;49m\u001b[39m.\u001b[39;49mui\u001b[39m.\u001b[39;49mPlotWidget\u001b[39m.\u001b[39mclear()\n\u001b[0;32m     67\u001b[0m     \u001b[39mself\u001b[39m\u001b[39m.\u001b[39mui\u001b[39m.\u001b[39mIU_graph\u001b[39m.\u001b[39mplot(\u001b[39mself\u001b[39m\u001b[39m.\u001b[39mzc\u001b[39m.\u001b[39mU_gem, \u001b[39mself\u001b[39m\u001b[39m.\u001b[39mzc\u001b[39m.\u001b[39mI_gem, symbol\u001b[39m=\u001b[39m\u001b[39m\"\u001b[39m\u001b[39mo\u001b[39m\u001b[39m\"\u001b[39m, symbolSize\u001b[39m=\u001b[39m\u001b[39m5\u001b[39m, pen\u001b[39m=\u001b[39m\u001b[39mNone\u001b[39;00m)\n\u001b[0;32m     68\u001b[0m     error_bars \u001b[39m=\u001b[39m pg\u001b[39m.\u001b[39mErrorBarItem(x\u001b[39m=\u001b[39mnp\u001b[39m.\u001b[39marray(\u001b[39mself\u001b[39m\u001b[39m.\u001b[39mzc\u001b[39m.\u001b[39mU_gem), y\u001b[39m=\u001b[39mnp\u001b[39m.\u001b[39marray(\u001b[39mself\u001b[39m\u001b[39m.\u001b[39mzc\u001b[39m.\u001b[39mI_gem), height \u001b[39m=\u001b[39m np\u001b[39m.\u001b[39marray(\u001b[39mself\u001b[39m\u001b[39m.\u001b[39mzc\u001b[39m.\u001b[39mI_error))\n",
      "\u001b[1;31mAttributeError\u001b[0m: 'Ui_MainWindow' object has no attribute 'PlotWidget'"
     ]
    },
    {
     "ename": "AttributeError",
     "evalue": "'Ui_MainWindow' object has no attribute 'PlotWidget'",
     "output_type": "error",
     "traceback": [
      "\u001b[1;31m---------------------------------------------------------------------------\u001b[0m",
      "\u001b[1;31mAttributeError\u001b[0m                            Traceback (most recent call last)",
      "Cell \u001b[1;32mIn[1], line 66\u001b[0m, in \u001b[0;36mUserInterface.graph\u001b[1;34m(self)\u001b[0m\n\u001b[0;32m     64\u001b[0m \u001b[39m@Slot\u001b[39m()\n\u001b[0;32m     65\u001b[0m \u001b[39mdef\u001b[39;00m \u001b[39mgraph\u001b[39m(\u001b[39mself\u001b[39m):\n\u001b[1;32m---> 66\u001b[0m     \u001b[39mself\u001b[39;49m\u001b[39m.\u001b[39;49mui\u001b[39m.\u001b[39;49mPlotWidget\u001b[39m.\u001b[39mclear()\n\u001b[0;32m     67\u001b[0m     \u001b[39mself\u001b[39m\u001b[39m.\u001b[39mui\u001b[39m.\u001b[39mIU_graph\u001b[39m.\u001b[39mplot(\u001b[39mself\u001b[39m\u001b[39m.\u001b[39mzc\u001b[39m.\u001b[39mU_gem, \u001b[39mself\u001b[39m\u001b[39m.\u001b[39mzc\u001b[39m.\u001b[39mI_gem, symbol\u001b[39m=\u001b[39m\u001b[39m\"\u001b[39m\u001b[39mo\u001b[39m\u001b[39m\"\u001b[39m, symbolSize\u001b[39m=\u001b[39m\u001b[39m5\u001b[39m, pen\u001b[39m=\u001b[39m\u001b[39mNone\u001b[39;00m)\n\u001b[0;32m     68\u001b[0m     error_bars \u001b[39m=\u001b[39m pg\u001b[39m.\u001b[39mErrorBarItem(x\u001b[39m=\u001b[39mnp\u001b[39m.\u001b[39marray(\u001b[39mself\u001b[39m\u001b[39m.\u001b[39mzc\u001b[39m.\u001b[39mU_gem), y\u001b[39m=\u001b[39mnp\u001b[39m.\u001b[39marray(\u001b[39mself\u001b[39m\u001b[39m.\u001b[39mzc\u001b[39m.\u001b[39mI_gem), height \u001b[39m=\u001b[39m np\u001b[39m.\u001b[39marray(\u001b[39mself\u001b[39m\u001b[39m.\u001b[39mzc\u001b[39m.\u001b[39mI_error))\n",
      "\u001b[1;31mAttributeError\u001b[0m: 'Ui_MainWindow' object has no attribute 'PlotWidget'"
     ]
    },
    {
     "ename": "AttributeError",
     "evalue": "'Ui_MainWindow' object has no attribute 'PlotWidget'",
     "output_type": "error",
     "traceback": [
      "\u001b[1;31m---------------------------------------------------------------------------\u001b[0m",
      "\u001b[1;31mAttributeError\u001b[0m                            Traceback (most recent call last)",
      "Cell \u001b[1;32mIn[1], line 66\u001b[0m, in \u001b[0;36mUserInterface.graph\u001b[1;34m(self)\u001b[0m\n\u001b[0;32m     64\u001b[0m \u001b[39m@Slot\u001b[39m()\n\u001b[0;32m     65\u001b[0m \u001b[39mdef\u001b[39;00m \u001b[39mgraph\u001b[39m(\u001b[39mself\u001b[39m):\n\u001b[1;32m---> 66\u001b[0m     \u001b[39mself\u001b[39;49m\u001b[39m.\u001b[39;49mui\u001b[39m.\u001b[39;49mPlotWidget\u001b[39m.\u001b[39mclear()\n\u001b[0;32m     67\u001b[0m     \u001b[39mself\u001b[39m\u001b[39m.\u001b[39mui\u001b[39m.\u001b[39mIU_graph\u001b[39m.\u001b[39mplot(\u001b[39mself\u001b[39m\u001b[39m.\u001b[39mzc\u001b[39m.\u001b[39mU_gem, \u001b[39mself\u001b[39m\u001b[39m.\u001b[39mzc\u001b[39m.\u001b[39mI_gem, symbol\u001b[39m=\u001b[39m\u001b[39m\"\u001b[39m\u001b[39mo\u001b[39m\u001b[39m\"\u001b[39m, symbolSize\u001b[39m=\u001b[39m\u001b[39m5\u001b[39m, pen\u001b[39m=\u001b[39m\u001b[39mNone\u001b[39;00m)\n\u001b[0;32m     68\u001b[0m     error_bars \u001b[39m=\u001b[39m pg\u001b[39m.\u001b[39mErrorBarItem(x\u001b[39m=\u001b[39mnp\u001b[39m.\u001b[39marray(\u001b[39mself\u001b[39m\u001b[39m.\u001b[39mzc\u001b[39m.\u001b[39mU_gem), y\u001b[39m=\u001b[39mnp\u001b[39m.\u001b[39marray(\u001b[39mself\u001b[39m\u001b[39m.\u001b[39mzc\u001b[39m.\u001b[39mI_gem), height \u001b[39m=\u001b[39m np\u001b[39m.\u001b[39marray(\u001b[39mself\u001b[39m\u001b[39m.\u001b[39mzc\u001b[39m.\u001b[39mI_error))\n",
      "\u001b[1;31mAttributeError\u001b[0m: 'Ui_MainWindow' object has no attribute 'PlotWidget'"
     ]
    },
    {
     "ename": "AttributeError",
     "evalue": "'Ui_MainWindow' object has no attribute 'PlotWidget'",
     "output_type": "error",
     "traceback": [
      "\u001b[1;31m---------------------------------------------------------------------------\u001b[0m",
      "\u001b[1;31mAttributeError\u001b[0m                            Traceback (most recent call last)",
      "Cell \u001b[1;32mIn[1], line 66\u001b[0m, in \u001b[0;36mUserInterface.graph\u001b[1;34m(self)\u001b[0m\n\u001b[0;32m     64\u001b[0m \u001b[39m@Slot\u001b[39m()\n\u001b[0;32m     65\u001b[0m \u001b[39mdef\u001b[39;00m \u001b[39mgraph\u001b[39m(\u001b[39mself\u001b[39m):\n\u001b[1;32m---> 66\u001b[0m     \u001b[39mself\u001b[39;49m\u001b[39m.\u001b[39;49mui\u001b[39m.\u001b[39;49mPlotWidget\u001b[39m.\u001b[39mclear()\n\u001b[0;32m     67\u001b[0m     \u001b[39mself\u001b[39m\u001b[39m.\u001b[39mui\u001b[39m.\u001b[39mIU_graph\u001b[39m.\u001b[39mplot(\u001b[39mself\u001b[39m\u001b[39m.\u001b[39mzc\u001b[39m.\u001b[39mU_gem, \u001b[39mself\u001b[39m\u001b[39m.\u001b[39mzc\u001b[39m.\u001b[39mI_gem, symbol\u001b[39m=\u001b[39m\u001b[39m\"\u001b[39m\u001b[39mo\u001b[39m\u001b[39m\"\u001b[39m, symbolSize\u001b[39m=\u001b[39m\u001b[39m5\u001b[39m, pen\u001b[39m=\u001b[39m\u001b[39mNone\u001b[39;00m)\n\u001b[0;32m     68\u001b[0m     error_bars \u001b[39m=\u001b[39m pg\u001b[39m.\u001b[39mErrorBarItem(x\u001b[39m=\u001b[39mnp\u001b[39m.\u001b[39marray(\u001b[39mself\u001b[39m\u001b[39m.\u001b[39mzc\u001b[39m.\u001b[39mU_gem), y\u001b[39m=\u001b[39mnp\u001b[39m.\u001b[39marray(\u001b[39mself\u001b[39m\u001b[39m.\u001b[39mzc\u001b[39m.\u001b[39mI_gem), height \u001b[39m=\u001b[39m np\u001b[39m.\u001b[39marray(\u001b[39mself\u001b[39m\u001b[39m.\u001b[39mzc\u001b[39m.\u001b[39mI_error))\n",
      "\u001b[1;31mAttributeError\u001b[0m: 'Ui_MainWindow' object has no attribute 'PlotWidget'"
     ]
    },
    {
     "ename": "AttributeError",
     "evalue": "'Ui_MainWindow' object has no attribute 'PlotWidget'",
     "output_type": "error",
     "traceback": [
      "\u001b[1;31m---------------------------------------------------------------------------\u001b[0m",
      "\u001b[1;31mAttributeError\u001b[0m                            Traceback (most recent call last)",
      "Cell \u001b[1;32mIn[1], line 66\u001b[0m, in \u001b[0;36mUserInterface.graph\u001b[1;34m(self)\u001b[0m\n\u001b[0;32m     64\u001b[0m \u001b[39m@Slot\u001b[39m()\n\u001b[0;32m     65\u001b[0m \u001b[39mdef\u001b[39;00m \u001b[39mgraph\u001b[39m(\u001b[39mself\u001b[39m):\n\u001b[1;32m---> 66\u001b[0m     \u001b[39mself\u001b[39;49m\u001b[39m.\u001b[39;49mui\u001b[39m.\u001b[39;49mPlotWidget\u001b[39m.\u001b[39mclear()\n\u001b[0;32m     67\u001b[0m     \u001b[39mself\u001b[39m\u001b[39m.\u001b[39mui\u001b[39m.\u001b[39mIU_graph\u001b[39m.\u001b[39mplot(\u001b[39mself\u001b[39m\u001b[39m.\u001b[39mzc\u001b[39m.\u001b[39mU_gem, \u001b[39mself\u001b[39m\u001b[39m.\u001b[39mzc\u001b[39m.\u001b[39mI_gem, symbol\u001b[39m=\u001b[39m\u001b[39m\"\u001b[39m\u001b[39mo\u001b[39m\u001b[39m\"\u001b[39m, symbolSize\u001b[39m=\u001b[39m\u001b[39m5\u001b[39m, pen\u001b[39m=\u001b[39m\u001b[39mNone\u001b[39;00m)\n\u001b[0;32m     68\u001b[0m     error_bars \u001b[39m=\u001b[39m pg\u001b[39m.\u001b[39mErrorBarItem(x\u001b[39m=\u001b[39mnp\u001b[39m.\u001b[39marray(\u001b[39mself\u001b[39m\u001b[39m.\u001b[39mzc\u001b[39m.\u001b[39mU_gem), y\u001b[39m=\u001b[39mnp\u001b[39m.\u001b[39marray(\u001b[39mself\u001b[39m\u001b[39m.\u001b[39mzc\u001b[39m.\u001b[39mI_gem), height \u001b[39m=\u001b[39m np\u001b[39m.\u001b[39marray(\u001b[39mself\u001b[39m\u001b[39m.\u001b[39mzc\u001b[39m.\u001b[39mI_error))\n",
      "\u001b[1;31mAttributeError\u001b[0m: 'Ui_MainWindow' object has no attribute 'PlotWidget'"
     ]
    },
    {
     "ename": "AttributeError",
     "evalue": "'Ui_MainWindow' object has no attribute 'PlotWidget'",
     "output_type": "error",
     "traceback": [
      "\u001b[1;31m---------------------------------------------------------------------------\u001b[0m",
      "\u001b[1;31mAttributeError\u001b[0m                            Traceback (most recent call last)",
      "Cell \u001b[1;32mIn[1], line 66\u001b[0m, in \u001b[0;36mUserInterface.graph\u001b[1;34m(self)\u001b[0m\n\u001b[0;32m     64\u001b[0m \u001b[39m@Slot\u001b[39m()\n\u001b[0;32m     65\u001b[0m \u001b[39mdef\u001b[39;00m \u001b[39mgraph\u001b[39m(\u001b[39mself\u001b[39m):\n\u001b[1;32m---> 66\u001b[0m     \u001b[39mself\u001b[39;49m\u001b[39m.\u001b[39;49mui\u001b[39m.\u001b[39;49mPlotWidget\u001b[39m.\u001b[39mclear()\n\u001b[0;32m     67\u001b[0m     \u001b[39mself\u001b[39m\u001b[39m.\u001b[39mui\u001b[39m.\u001b[39mIU_graph\u001b[39m.\u001b[39mplot(\u001b[39mself\u001b[39m\u001b[39m.\u001b[39mzc\u001b[39m.\u001b[39mU_gem, \u001b[39mself\u001b[39m\u001b[39m.\u001b[39mzc\u001b[39m.\u001b[39mI_gem, symbol\u001b[39m=\u001b[39m\u001b[39m\"\u001b[39m\u001b[39mo\u001b[39m\u001b[39m\"\u001b[39m, symbolSize\u001b[39m=\u001b[39m\u001b[39m5\u001b[39m, pen\u001b[39m=\u001b[39m\u001b[39mNone\u001b[39;00m)\n\u001b[0;32m     68\u001b[0m     error_bars \u001b[39m=\u001b[39m pg\u001b[39m.\u001b[39mErrorBarItem(x\u001b[39m=\u001b[39mnp\u001b[39m.\u001b[39marray(\u001b[39mself\u001b[39m\u001b[39m.\u001b[39mzc\u001b[39m.\u001b[39mU_gem), y\u001b[39m=\u001b[39mnp\u001b[39m.\u001b[39marray(\u001b[39mself\u001b[39m\u001b[39m.\u001b[39mzc\u001b[39m.\u001b[39mI_gem), height \u001b[39m=\u001b[39m np\u001b[39m.\u001b[39marray(\u001b[39mself\u001b[39m\u001b[39m.\u001b[39mzc\u001b[39m.\u001b[39mI_error))\n",
      "\u001b[1;31mAttributeError\u001b[0m: 'Ui_MainWindow' object has no attribute 'PlotWidget'"
     ]
    },
    {
     "ename": "AttributeError",
     "evalue": "'Ui_MainWindow' object has no attribute 'PlotWidget'",
     "output_type": "error",
     "traceback": [
      "\u001b[1;31m---------------------------------------------------------------------------\u001b[0m",
      "\u001b[1;31mAttributeError\u001b[0m                            Traceback (most recent call last)",
      "Cell \u001b[1;32mIn[1], line 66\u001b[0m, in \u001b[0;36mUserInterface.graph\u001b[1;34m(self)\u001b[0m\n\u001b[0;32m     64\u001b[0m \u001b[39m@Slot\u001b[39m()\n\u001b[0;32m     65\u001b[0m \u001b[39mdef\u001b[39;00m \u001b[39mgraph\u001b[39m(\u001b[39mself\u001b[39m):\n\u001b[1;32m---> 66\u001b[0m     \u001b[39mself\u001b[39;49m\u001b[39m.\u001b[39;49mui\u001b[39m.\u001b[39;49mPlotWidget\u001b[39m.\u001b[39mclear()\n\u001b[0;32m     67\u001b[0m     \u001b[39mself\u001b[39m\u001b[39m.\u001b[39mui\u001b[39m.\u001b[39mIU_graph\u001b[39m.\u001b[39mplot(\u001b[39mself\u001b[39m\u001b[39m.\u001b[39mzc\u001b[39m.\u001b[39mU_gem, \u001b[39mself\u001b[39m\u001b[39m.\u001b[39mzc\u001b[39m.\u001b[39mI_gem, symbol\u001b[39m=\u001b[39m\u001b[39m\"\u001b[39m\u001b[39mo\u001b[39m\u001b[39m\"\u001b[39m, symbolSize\u001b[39m=\u001b[39m\u001b[39m5\u001b[39m, pen\u001b[39m=\u001b[39m\u001b[39mNone\u001b[39;00m)\n\u001b[0;32m     68\u001b[0m     error_bars \u001b[39m=\u001b[39m pg\u001b[39m.\u001b[39mErrorBarItem(x\u001b[39m=\u001b[39mnp\u001b[39m.\u001b[39marray(\u001b[39mself\u001b[39m\u001b[39m.\u001b[39mzc\u001b[39m.\u001b[39mU_gem), y\u001b[39m=\u001b[39mnp\u001b[39m.\u001b[39marray(\u001b[39mself\u001b[39m\u001b[39m.\u001b[39mzc\u001b[39m.\u001b[39mI_gem), height \u001b[39m=\u001b[39m np\u001b[39m.\u001b[39marray(\u001b[39mself\u001b[39m\u001b[39m.\u001b[39mzc\u001b[39m.\u001b[39mI_error))\n",
      "\u001b[1;31mAttributeError\u001b[0m: 'Ui_MainWindow' object has no attribute 'PlotWidget'"
     ]
    },
    {
     "ename": "AttributeError",
     "evalue": "'Ui_MainWindow' object has no attribute 'PlotWidget'",
     "output_type": "error",
     "traceback": [
      "\u001b[1;31m---------------------------------------------------------------------------\u001b[0m",
      "\u001b[1;31mAttributeError\u001b[0m                            Traceback (most recent call last)",
      "Cell \u001b[1;32mIn[1], line 66\u001b[0m, in \u001b[0;36mUserInterface.graph\u001b[1;34m(self)\u001b[0m\n\u001b[0;32m     64\u001b[0m \u001b[39m@Slot\u001b[39m()\n\u001b[0;32m     65\u001b[0m \u001b[39mdef\u001b[39;00m \u001b[39mgraph\u001b[39m(\u001b[39mself\u001b[39m):\n\u001b[1;32m---> 66\u001b[0m     \u001b[39mself\u001b[39;49m\u001b[39m.\u001b[39;49mui\u001b[39m.\u001b[39;49mPlotWidget\u001b[39m.\u001b[39mclear()\n\u001b[0;32m     67\u001b[0m     \u001b[39mself\u001b[39m\u001b[39m.\u001b[39mui\u001b[39m.\u001b[39mIU_graph\u001b[39m.\u001b[39mplot(\u001b[39mself\u001b[39m\u001b[39m.\u001b[39mzc\u001b[39m.\u001b[39mU_gem, \u001b[39mself\u001b[39m\u001b[39m.\u001b[39mzc\u001b[39m.\u001b[39mI_gem, symbol\u001b[39m=\u001b[39m\u001b[39m\"\u001b[39m\u001b[39mo\u001b[39m\u001b[39m\"\u001b[39m, symbolSize\u001b[39m=\u001b[39m\u001b[39m5\u001b[39m, pen\u001b[39m=\u001b[39m\u001b[39mNone\u001b[39;00m)\n\u001b[0;32m     68\u001b[0m     error_bars \u001b[39m=\u001b[39m pg\u001b[39m.\u001b[39mErrorBarItem(x\u001b[39m=\u001b[39mnp\u001b[39m.\u001b[39marray(\u001b[39mself\u001b[39m\u001b[39m.\u001b[39mzc\u001b[39m.\u001b[39mU_gem), y\u001b[39m=\u001b[39mnp\u001b[39m.\u001b[39marray(\u001b[39mself\u001b[39m\u001b[39m.\u001b[39mzc\u001b[39m.\u001b[39mI_gem), height \u001b[39m=\u001b[39m np\u001b[39m.\u001b[39marray(\u001b[39mself\u001b[39m\u001b[39m.\u001b[39mzc\u001b[39m.\u001b[39mI_error))\n",
      "\u001b[1;31mAttributeError\u001b[0m: 'Ui_MainWindow' object has no attribute 'PlotWidget'"
     ]
    },
    {
     "ename": "AttributeError",
     "evalue": "'Ui_MainWindow' object has no attribute 'PlotWidget'",
     "output_type": "error",
     "traceback": [
      "\u001b[1;31m---------------------------------------------------------------------------\u001b[0m",
      "\u001b[1;31mAttributeError\u001b[0m                            Traceback (most recent call last)",
      "Cell \u001b[1;32mIn[1], line 66\u001b[0m, in \u001b[0;36mUserInterface.graph\u001b[1;34m(self)\u001b[0m\n\u001b[0;32m     64\u001b[0m \u001b[39m@Slot\u001b[39m()\n\u001b[0;32m     65\u001b[0m \u001b[39mdef\u001b[39;00m \u001b[39mgraph\u001b[39m(\u001b[39mself\u001b[39m):\n\u001b[1;32m---> 66\u001b[0m     \u001b[39mself\u001b[39;49m\u001b[39m.\u001b[39;49mui\u001b[39m.\u001b[39;49mPlotWidget\u001b[39m.\u001b[39mclear()\n\u001b[0;32m     67\u001b[0m     \u001b[39mself\u001b[39m\u001b[39m.\u001b[39mui\u001b[39m.\u001b[39mIU_graph\u001b[39m.\u001b[39mplot(\u001b[39mself\u001b[39m\u001b[39m.\u001b[39mzc\u001b[39m.\u001b[39mU_gem, \u001b[39mself\u001b[39m\u001b[39m.\u001b[39mzc\u001b[39m.\u001b[39mI_gem, symbol\u001b[39m=\u001b[39m\u001b[39m\"\u001b[39m\u001b[39mo\u001b[39m\u001b[39m\"\u001b[39m, symbolSize\u001b[39m=\u001b[39m\u001b[39m5\u001b[39m, pen\u001b[39m=\u001b[39m\u001b[39mNone\u001b[39;00m)\n\u001b[0;32m     68\u001b[0m     error_bars \u001b[39m=\u001b[39m pg\u001b[39m.\u001b[39mErrorBarItem(x\u001b[39m=\u001b[39mnp\u001b[39m.\u001b[39marray(\u001b[39mself\u001b[39m\u001b[39m.\u001b[39mzc\u001b[39m.\u001b[39mU_gem), y\u001b[39m=\u001b[39mnp\u001b[39m.\u001b[39marray(\u001b[39mself\u001b[39m\u001b[39m.\u001b[39mzc\u001b[39m.\u001b[39mI_gem), height \u001b[39m=\u001b[39m np\u001b[39m.\u001b[39marray(\u001b[39mself\u001b[39m\u001b[39m.\u001b[39mzc\u001b[39m.\u001b[39mI_error))\n",
      "\u001b[1;31mAttributeError\u001b[0m: 'Ui_MainWindow' object has no attribute 'PlotWidget'"
     ]
    },
    {
     "ename": "AttributeError",
     "evalue": "'Ui_MainWindow' object has no attribute 'PlotWidget'",
     "output_type": "error",
     "traceback": [
      "\u001b[1;31m---------------------------------------------------------------------------\u001b[0m",
      "\u001b[1;31mAttributeError\u001b[0m                            Traceback (most recent call last)",
      "Cell \u001b[1;32mIn[1], line 66\u001b[0m, in \u001b[0;36mUserInterface.graph\u001b[1;34m(self)\u001b[0m\n\u001b[0;32m     64\u001b[0m \u001b[39m@Slot\u001b[39m()\n\u001b[0;32m     65\u001b[0m \u001b[39mdef\u001b[39;00m \u001b[39mgraph\u001b[39m(\u001b[39mself\u001b[39m):\n\u001b[1;32m---> 66\u001b[0m     \u001b[39mself\u001b[39;49m\u001b[39m.\u001b[39;49mui\u001b[39m.\u001b[39;49mPlotWidget\u001b[39m.\u001b[39mclear()\n\u001b[0;32m     67\u001b[0m     \u001b[39mself\u001b[39m\u001b[39m.\u001b[39mui\u001b[39m.\u001b[39mIU_graph\u001b[39m.\u001b[39mplot(\u001b[39mself\u001b[39m\u001b[39m.\u001b[39mzc\u001b[39m.\u001b[39mU_gem, \u001b[39mself\u001b[39m\u001b[39m.\u001b[39mzc\u001b[39m.\u001b[39mI_gem, symbol\u001b[39m=\u001b[39m\u001b[39m\"\u001b[39m\u001b[39mo\u001b[39m\u001b[39m\"\u001b[39m, symbolSize\u001b[39m=\u001b[39m\u001b[39m5\u001b[39m, pen\u001b[39m=\u001b[39m\u001b[39mNone\u001b[39;00m)\n\u001b[0;32m     68\u001b[0m     error_bars \u001b[39m=\u001b[39m pg\u001b[39m.\u001b[39mErrorBarItem(x\u001b[39m=\u001b[39mnp\u001b[39m.\u001b[39marray(\u001b[39mself\u001b[39m\u001b[39m.\u001b[39mzc\u001b[39m.\u001b[39mU_gem), y\u001b[39m=\u001b[39mnp\u001b[39m.\u001b[39marray(\u001b[39mself\u001b[39m\u001b[39m.\u001b[39mzc\u001b[39m.\u001b[39mI_gem), height \u001b[39m=\u001b[39m np\u001b[39m.\u001b[39marray(\u001b[39mself\u001b[39m\u001b[39m.\u001b[39mzc\u001b[39m.\u001b[39mI_error))\n",
      "\u001b[1;31mAttributeError\u001b[0m: 'Ui_MainWindow' object has no attribute 'PlotWidget'"
     ]
    },
    {
     "ename": "AttributeError",
     "evalue": "'Ui_MainWindow' object has no attribute 'PlotWidget'",
     "output_type": "error",
     "traceback": [
      "\u001b[1;31m---------------------------------------------------------------------------\u001b[0m",
      "\u001b[1;31mAttributeError\u001b[0m                            Traceback (most recent call last)",
      "Cell \u001b[1;32mIn[1], line 66\u001b[0m, in \u001b[0;36mUserInterface.graph\u001b[1;34m(self)\u001b[0m\n\u001b[0;32m     64\u001b[0m \u001b[39m@Slot\u001b[39m()\n\u001b[0;32m     65\u001b[0m \u001b[39mdef\u001b[39;00m \u001b[39mgraph\u001b[39m(\u001b[39mself\u001b[39m):\n\u001b[1;32m---> 66\u001b[0m     \u001b[39mself\u001b[39;49m\u001b[39m.\u001b[39;49mui\u001b[39m.\u001b[39;49mPlotWidget\u001b[39m.\u001b[39mclear()\n\u001b[0;32m     67\u001b[0m     \u001b[39mself\u001b[39m\u001b[39m.\u001b[39mui\u001b[39m.\u001b[39mIU_graph\u001b[39m.\u001b[39mplot(\u001b[39mself\u001b[39m\u001b[39m.\u001b[39mzc\u001b[39m.\u001b[39mU_gem, \u001b[39mself\u001b[39m\u001b[39m.\u001b[39mzc\u001b[39m.\u001b[39mI_gem, symbol\u001b[39m=\u001b[39m\u001b[39m\"\u001b[39m\u001b[39mo\u001b[39m\u001b[39m\"\u001b[39m, symbolSize\u001b[39m=\u001b[39m\u001b[39m5\u001b[39m, pen\u001b[39m=\u001b[39m\u001b[39mNone\u001b[39;00m)\n\u001b[0;32m     68\u001b[0m     error_bars \u001b[39m=\u001b[39m pg\u001b[39m.\u001b[39mErrorBarItem(x\u001b[39m=\u001b[39mnp\u001b[39m.\u001b[39marray(\u001b[39mself\u001b[39m\u001b[39m.\u001b[39mzc\u001b[39m.\u001b[39mU_gem), y\u001b[39m=\u001b[39mnp\u001b[39m.\u001b[39marray(\u001b[39mself\u001b[39m\u001b[39m.\u001b[39mzc\u001b[39m.\u001b[39mI_gem), height \u001b[39m=\u001b[39m np\u001b[39m.\u001b[39marray(\u001b[39mself\u001b[39m\u001b[39m.\u001b[39mzc\u001b[39m.\u001b[39mI_error))\n",
      "\u001b[1;31mAttributeError\u001b[0m: 'Ui_MainWindow' object has no attribute 'PlotWidget'"
     ]
    },
    {
     "ename": "AttributeError",
     "evalue": "'Ui_MainWindow' object has no attribute 'PlotWidget'",
     "output_type": "error",
     "traceback": [
      "\u001b[1;31m---------------------------------------------------------------------------\u001b[0m",
      "\u001b[1;31mAttributeError\u001b[0m                            Traceback (most recent call last)",
      "Cell \u001b[1;32mIn[1], line 66\u001b[0m, in \u001b[0;36mUserInterface.graph\u001b[1;34m(self)\u001b[0m\n\u001b[0;32m     64\u001b[0m \u001b[39m@Slot\u001b[39m()\n\u001b[0;32m     65\u001b[0m \u001b[39mdef\u001b[39;00m \u001b[39mgraph\u001b[39m(\u001b[39mself\u001b[39m):\n\u001b[1;32m---> 66\u001b[0m     \u001b[39mself\u001b[39;49m\u001b[39m.\u001b[39;49mui\u001b[39m.\u001b[39;49mPlotWidget\u001b[39m.\u001b[39mclear()\n\u001b[0;32m     67\u001b[0m     \u001b[39mself\u001b[39m\u001b[39m.\u001b[39mui\u001b[39m.\u001b[39mIU_graph\u001b[39m.\u001b[39mplot(\u001b[39mself\u001b[39m\u001b[39m.\u001b[39mzc\u001b[39m.\u001b[39mU_gem, \u001b[39mself\u001b[39m\u001b[39m.\u001b[39mzc\u001b[39m.\u001b[39mI_gem, symbol\u001b[39m=\u001b[39m\u001b[39m\"\u001b[39m\u001b[39mo\u001b[39m\u001b[39m\"\u001b[39m, symbolSize\u001b[39m=\u001b[39m\u001b[39m5\u001b[39m, pen\u001b[39m=\u001b[39m\u001b[39mNone\u001b[39;00m)\n\u001b[0;32m     68\u001b[0m     error_bars \u001b[39m=\u001b[39m pg\u001b[39m.\u001b[39mErrorBarItem(x\u001b[39m=\u001b[39mnp\u001b[39m.\u001b[39marray(\u001b[39mself\u001b[39m\u001b[39m.\u001b[39mzc\u001b[39m.\u001b[39mU_gem), y\u001b[39m=\u001b[39mnp\u001b[39m.\u001b[39marray(\u001b[39mself\u001b[39m\u001b[39m.\u001b[39mzc\u001b[39m.\u001b[39mI_gem), height \u001b[39m=\u001b[39m np\u001b[39m.\u001b[39marray(\u001b[39mself\u001b[39m\u001b[39m.\u001b[39mzc\u001b[39m.\u001b[39mI_error))\n",
      "\u001b[1;31mAttributeError\u001b[0m: 'Ui_MainWindow' object has no attribute 'PlotWidget'"
     ]
    },
    {
     "ename": "AttributeError",
     "evalue": "'Ui_MainWindow' object has no attribute 'PlotWidget'",
     "output_type": "error",
     "traceback": [
      "\u001b[1;31m---------------------------------------------------------------------------\u001b[0m",
      "\u001b[1;31mAttributeError\u001b[0m                            Traceback (most recent call last)",
      "Cell \u001b[1;32mIn[1], line 66\u001b[0m, in \u001b[0;36mUserInterface.graph\u001b[1;34m(self)\u001b[0m\n\u001b[0;32m     64\u001b[0m \u001b[39m@Slot\u001b[39m()\n\u001b[0;32m     65\u001b[0m \u001b[39mdef\u001b[39;00m \u001b[39mgraph\u001b[39m(\u001b[39mself\u001b[39m):\n\u001b[1;32m---> 66\u001b[0m     \u001b[39mself\u001b[39;49m\u001b[39m.\u001b[39;49mui\u001b[39m.\u001b[39;49mPlotWidget\u001b[39m.\u001b[39mclear()\n\u001b[0;32m     67\u001b[0m     \u001b[39mself\u001b[39m\u001b[39m.\u001b[39mui\u001b[39m.\u001b[39mIU_graph\u001b[39m.\u001b[39mplot(\u001b[39mself\u001b[39m\u001b[39m.\u001b[39mzc\u001b[39m.\u001b[39mU_gem, \u001b[39mself\u001b[39m\u001b[39m.\u001b[39mzc\u001b[39m.\u001b[39mI_gem, symbol\u001b[39m=\u001b[39m\u001b[39m\"\u001b[39m\u001b[39mo\u001b[39m\u001b[39m\"\u001b[39m, symbolSize\u001b[39m=\u001b[39m\u001b[39m5\u001b[39m, pen\u001b[39m=\u001b[39m\u001b[39mNone\u001b[39;00m)\n\u001b[0;32m     68\u001b[0m     error_bars \u001b[39m=\u001b[39m pg\u001b[39m.\u001b[39mErrorBarItem(x\u001b[39m=\u001b[39mnp\u001b[39m.\u001b[39marray(\u001b[39mself\u001b[39m\u001b[39m.\u001b[39mzc\u001b[39m.\u001b[39mU_gem), y\u001b[39m=\u001b[39mnp\u001b[39m.\u001b[39marray(\u001b[39mself\u001b[39m\u001b[39m.\u001b[39mzc\u001b[39m.\u001b[39mI_gem), height \u001b[39m=\u001b[39m np\u001b[39m.\u001b[39marray(\u001b[39mself\u001b[39m\u001b[39m.\u001b[39mzc\u001b[39m.\u001b[39mI_error))\n",
      "\u001b[1;31mAttributeError\u001b[0m: 'Ui_MainWindow' object has no attribute 'PlotWidget'"
     ]
    },
    {
     "ename": "AttributeError",
     "evalue": "'Ui_MainWindow' object has no attribute 'PlotWidget'",
     "output_type": "error",
     "traceback": [
      "\u001b[1;31m---------------------------------------------------------------------------\u001b[0m",
      "\u001b[1;31mAttributeError\u001b[0m                            Traceback (most recent call last)",
      "Cell \u001b[1;32mIn[1], line 66\u001b[0m, in \u001b[0;36mUserInterface.graph\u001b[1;34m(self)\u001b[0m\n\u001b[0;32m     64\u001b[0m \u001b[39m@Slot\u001b[39m()\n\u001b[0;32m     65\u001b[0m \u001b[39mdef\u001b[39;00m \u001b[39mgraph\u001b[39m(\u001b[39mself\u001b[39m):\n\u001b[1;32m---> 66\u001b[0m     \u001b[39mself\u001b[39;49m\u001b[39m.\u001b[39;49mui\u001b[39m.\u001b[39;49mPlotWidget\u001b[39m.\u001b[39mclear()\n\u001b[0;32m     67\u001b[0m     \u001b[39mself\u001b[39m\u001b[39m.\u001b[39mui\u001b[39m.\u001b[39mIU_graph\u001b[39m.\u001b[39mplot(\u001b[39mself\u001b[39m\u001b[39m.\u001b[39mzc\u001b[39m.\u001b[39mU_gem, \u001b[39mself\u001b[39m\u001b[39m.\u001b[39mzc\u001b[39m.\u001b[39mI_gem, symbol\u001b[39m=\u001b[39m\u001b[39m\"\u001b[39m\u001b[39mo\u001b[39m\u001b[39m\"\u001b[39m, symbolSize\u001b[39m=\u001b[39m\u001b[39m5\u001b[39m, pen\u001b[39m=\u001b[39m\u001b[39mNone\u001b[39;00m)\n\u001b[0;32m     68\u001b[0m     error_bars \u001b[39m=\u001b[39m pg\u001b[39m.\u001b[39mErrorBarItem(x\u001b[39m=\u001b[39mnp\u001b[39m.\u001b[39marray(\u001b[39mself\u001b[39m\u001b[39m.\u001b[39mzc\u001b[39m.\u001b[39mU_gem), y\u001b[39m=\u001b[39mnp\u001b[39m.\u001b[39marray(\u001b[39mself\u001b[39m\u001b[39m.\u001b[39mzc\u001b[39m.\u001b[39mI_gem), height \u001b[39m=\u001b[39m np\u001b[39m.\u001b[39marray(\u001b[39mself\u001b[39m\u001b[39m.\u001b[39mzc\u001b[39m.\u001b[39mI_error))\n",
      "\u001b[1;31mAttributeError\u001b[0m: 'Ui_MainWindow' object has no attribute 'PlotWidget'"
     ]
    },
    {
     "ename": "AttributeError",
     "evalue": "'Ui_MainWindow' object has no attribute 'PlotWidget'",
     "output_type": "error",
     "traceback": [
      "\u001b[1;31m---------------------------------------------------------------------------\u001b[0m",
      "\u001b[1;31mAttributeError\u001b[0m                            Traceback (most recent call last)",
      "Cell \u001b[1;32mIn[1], line 66\u001b[0m, in \u001b[0;36mUserInterface.graph\u001b[1;34m(self)\u001b[0m\n\u001b[0;32m     64\u001b[0m \u001b[39m@Slot\u001b[39m()\n\u001b[0;32m     65\u001b[0m \u001b[39mdef\u001b[39;00m \u001b[39mgraph\u001b[39m(\u001b[39mself\u001b[39m):\n\u001b[1;32m---> 66\u001b[0m     \u001b[39mself\u001b[39;49m\u001b[39m.\u001b[39;49mui\u001b[39m.\u001b[39;49mPlotWidget\u001b[39m.\u001b[39mclear()\n\u001b[0;32m     67\u001b[0m     \u001b[39mself\u001b[39m\u001b[39m.\u001b[39mui\u001b[39m.\u001b[39mIU_graph\u001b[39m.\u001b[39mplot(\u001b[39mself\u001b[39m\u001b[39m.\u001b[39mzc\u001b[39m.\u001b[39mU_gem, \u001b[39mself\u001b[39m\u001b[39m.\u001b[39mzc\u001b[39m.\u001b[39mI_gem, symbol\u001b[39m=\u001b[39m\u001b[39m\"\u001b[39m\u001b[39mo\u001b[39m\u001b[39m\"\u001b[39m, symbolSize\u001b[39m=\u001b[39m\u001b[39m5\u001b[39m, pen\u001b[39m=\u001b[39m\u001b[39mNone\u001b[39;00m)\n\u001b[0;32m     68\u001b[0m     error_bars \u001b[39m=\u001b[39m pg\u001b[39m.\u001b[39mErrorBarItem(x\u001b[39m=\u001b[39mnp\u001b[39m.\u001b[39marray(\u001b[39mself\u001b[39m\u001b[39m.\u001b[39mzc\u001b[39m.\u001b[39mU_gem), y\u001b[39m=\u001b[39mnp\u001b[39m.\u001b[39marray(\u001b[39mself\u001b[39m\u001b[39m.\u001b[39mzc\u001b[39m.\u001b[39mI_gem), height \u001b[39m=\u001b[39m np\u001b[39m.\u001b[39marray(\u001b[39mself\u001b[39m\u001b[39m.\u001b[39mzc\u001b[39m.\u001b[39mI_error))\n",
      "\u001b[1;31mAttributeError\u001b[0m: 'Ui_MainWindow' object has no attribute 'PlotWidget'"
     ]
    },
    {
     "ename": "AttributeError",
     "evalue": "'Ui_MainWindow' object has no attribute 'PlotWidget'",
     "output_type": "error",
     "traceback": [
      "\u001b[1;31m---------------------------------------------------------------------------\u001b[0m",
      "\u001b[1;31mAttributeError\u001b[0m                            Traceback (most recent call last)",
      "Cell \u001b[1;32mIn[1], line 66\u001b[0m, in \u001b[0;36mUserInterface.graph\u001b[1;34m(self)\u001b[0m\n\u001b[0;32m     64\u001b[0m \u001b[39m@Slot\u001b[39m()\n\u001b[0;32m     65\u001b[0m \u001b[39mdef\u001b[39;00m \u001b[39mgraph\u001b[39m(\u001b[39mself\u001b[39m):\n\u001b[1;32m---> 66\u001b[0m     \u001b[39mself\u001b[39;49m\u001b[39m.\u001b[39;49mui\u001b[39m.\u001b[39;49mPlotWidget\u001b[39m.\u001b[39mclear()\n\u001b[0;32m     67\u001b[0m     \u001b[39mself\u001b[39m\u001b[39m.\u001b[39mui\u001b[39m.\u001b[39mIU_graph\u001b[39m.\u001b[39mplot(\u001b[39mself\u001b[39m\u001b[39m.\u001b[39mzc\u001b[39m.\u001b[39mU_gem, \u001b[39mself\u001b[39m\u001b[39m.\u001b[39mzc\u001b[39m.\u001b[39mI_gem, symbol\u001b[39m=\u001b[39m\u001b[39m\"\u001b[39m\u001b[39mo\u001b[39m\u001b[39m\"\u001b[39m, symbolSize\u001b[39m=\u001b[39m\u001b[39m5\u001b[39m, pen\u001b[39m=\u001b[39m\u001b[39mNone\u001b[39;00m)\n\u001b[0;32m     68\u001b[0m     error_bars \u001b[39m=\u001b[39m pg\u001b[39m.\u001b[39mErrorBarItem(x\u001b[39m=\u001b[39mnp\u001b[39m.\u001b[39marray(\u001b[39mself\u001b[39m\u001b[39m.\u001b[39mzc\u001b[39m.\u001b[39mU_gem), y\u001b[39m=\u001b[39mnp\u001b[39m.\u001b[39marray(\u001b[39mself\u001b[39m\u001b[39m.\u001b[39mzc\u001b[39m.\u001b[39mI_gem), height \u001b[39m=\u001b[39m np\u001b[39m.\u001b[39marray(\u001b[39mself\u001b[39m\u001b[39m.\u001b[39mzc\u001b[39m.\u001b[39mI_error))\n",
      "\u001b[1;31mAttributeError\u001b[0m: 'Ui_MainWindow' object has no attribute 'PlotWidget'"
     ]
    },
    {
     "ename": "AttributeError",
     "evalue": "'Ui_MainWindow' object has no attribute 'PlotWidget'",
     "output_type": "error",
     "traceback": [
      "\u001b[1;31m---------------------------------------------------------------------------\u001b[0m",
      "\u001b[1;31mAttributeError\u001b[0m                            Traceback (most recent call last)",
      "Cell \u001b[1;32mIn[1], line 66\u001b[0m, in \u001b[0;36mUserInterface.graph\u001b[1;34m(self)\u001b[0m\n\u001b[0;32m     64\u001b[0m \u001b[39m@Slot\u001b[39m()\n\u001b[0;32m     65\u001b[0m \u001b[39mdef\u001b[39;00m \u001b[39mgraph\u001b[39m(\u001b[39mself\u001b[39m):\n\u001b[1;32m---> 66\u001b[0m     \u001b[39mself\u001b[39;49m\u001b[39m.\u001b[39;49mui\u001b[39m.\u001b[39;49mPlotWidget\u001b[39m.\u001b[39mclear()\n\u001b[0;32m     67\u001b[0m     \u001b[39mself\u001b[39m\u001b[39m.\u001b[39mui\u001b[39m.\u001b[39mIU_graph\u001b[39m.\u001b[39mplot(\u001b[39mself\u001b[39m\u001b[39m.\u001b[39mzc\u001b[39m.\u001b[39mU_gem, \u001b[39mself\u001b[39m\u001b[39m.\u001b[39mzc\u001b[39m.\u001b[39mI_gem, symbol\u001b[39m=\u001b[39m\u001b[39m\"\u001b[39m\u001b[39mo\u001b[39m\u001b[39m\"\u001b[39m, symbolSize\u001b[39m=\u001b[39m\u001b[39m5\u001b[39m, pen\u001b[39m=\u001b[39m\u001b[39mNone\u001b[39;00m)\n\u001b[0;32m     68\u001b[0m     error_bars \u001b[39m=\u001b[39m pg\u001b[39m.\u001b[39mErrorBarItem(x\u001b[39m=\u001b[39mnp\u001b[39m.\u001b[39marray(\u001b[39mself\u001b[39m\u001b[39m.\u001b[39mzc\u001b[39m.\u001b[39mU_gem), y\u001b[39m=\u001b[39mnp\u001b[39m.\u001b[39marray(\u001b[39mself\u001b[39m\u001b[39m.\u001b[39mzc\u001b[39m.\u001b[39mI_gem), height \u001b[39m=\u001b[39m np\u001b[39m.\u001b[39marray(\u001b[39mself\u001b[39m\u001b[39m.\u001b[39mzc\u001b[39m.\u001b[39mI_error))\n",
      "\u001b[1;31mAttributeError\u001b[0m: 'Ui_MainWindow' object has no attribute 'PlotWidget'"
     ]
    },
    {
     "ename": "AttributeError",
     "evalue": "'Ui_MainWindow' object has no attribute 'PlotWidget'",
     "output_type": "error",
     "traceback": [
      "\u001b[1;31m---------------------------------------------------------------------------\u001b[0m",
      "\u001b[1;31mAttributeError\u001b[0m                            Traceback (most recent call last)",
      "Cell \u001b[1;32mIn[1], line 66\u001b[0m, in \u001b[0;36mUserInterface.graph\u001b[1;34m(self)\u001b[0m\n\u001b[0;32m     64\u001b[0m \u001b[39m@Slot\u001b[39m()\n\u001b[0;32m     65\u001b[0m \u001b[39mdef\u001b[39;00m \u001b[39mgraph\u001b[39m(\u001b[39mself\u001b[39m):\n\u001b[1;32m---> 66\u001b[0m     \u001b[39mself\u001b[39;49m\u001b[39m.\u001b[39;49mui\u001b[39m.\u001b[39;49mPlotWidget\u001b[39m.\u001b[39mclear()\n\u001b[0;32m     67\u001b[0m     \u001b[39mself\u001b[39m\u001b[39m.\u001b[39mui\u001b[39m.\u001b[39mIU_graph\u001b[39m.\u001b[39mplot(\u001b[39mself\u001b[39m\u001b[39m.\u001b[39mzc\u001b[39m.\u001b[39mU_gem, \u001b[39mself\u001b[39m\u001b[39m.\u001b[39mzc\u001b[39m.\u001b[39mI_gem, symbol\u001b[39m=\u001b[39m\u001b[39m\"\u001b[39m\u001b[39mo\u001b[39m\u001b[39m\"\u001b[39m, symbolSize\u001b[39m=\u001b[39m\u001b[39m5\u001b[39m, pen\u001b[39m=\u001b[39m\u001b[39mNone\u001b[39;00m)\n\u001b[0;32m     68\u001b[0m     error_bars \u001b[39m=\u001b[39m pg\u001b[39m.\u001b[39mErrorBarItem(x\u001b[39m=\u001b[39mnp\u001b[39m.\u001b[39marray(\u001b[39mself\u001b[39m\u001b[39m.\u001b[39mzc\u001b[39m.\u001b[39mU_gem), y\u001b[39m=\u001b[39mnp\u001b[39m.\u001b[39marray(\u001b[39mself\u001b[39m\u001b[39m.\u001b[39mzc\u001b[39m.\u001b[39mI_gem), height \u001b[39m=\u001b[39m np\u001b[39m.\u001b[39marray(\u001b[39mself\u001b[39m\u001b[39m.\u001b[39mzc\u001b[39m.\u001b[39mI_error))\n",
      "\u001b[1;31mAttributeError\u001b[0m: 'Ui_MainWindow' object has no attribute 'PlotWidget'"
     ]
    },
    {
     "ename": "AttributeError",
     "evalue": "'Ui_MainWindow' object has no attribute 'PlotWidget'",
     "output_type": "error",
     "traceback": [
      "\u001b[1;31m---------------------------------------------------------------------------\u001b[0m",
      "\u001b[1;31mAttributeError\u001b[0m                            Traceback (most recent call last)",
      "Cell \u001b[1;32mIn[1], line 66\u001b[0m, in \u001b[0;36mUserInterface.graph\u001b[1;34m(self)\u001b[0m\n\u001b[0;32m     64\u001b[0m \u001b[39m@Slot\u001b[39m()\n\u001b[0;32m     65\u001b[0m \u001b[39mdef\u001b[39;00m \u001b[39mgraph\u001b[39m(\u001b[39mself\u001b[39m):\n\u001b[1;32m---> 66\u001b[0m     \u001b[39mself\u001b[39;49m\u001b[39m.\u001b[39;49mui\u001b[39m.\u001b[39;49mPlotWidget\u001b[39m.\u001b[39mclear()\n\u001b[0;32m     67\u001b[0m     \u001b[39mself\u001b[39m\u001b[39m.\u001b[39mui\u001b[39m.\u001b[39mIU_graph\u001b[39m.\u001b[39mplot(\u001b[39mself\u001b[39m\u001b[39m.\u001b[39mzc\u001b[39m.\u001b[39mU_gem, \u001b[39mself\u001b[39m\u001b[39m.\u001b[39mzc\u001b[39m.\u001b[39mI_gem, symbol\u001b[39m=\u001b[39m\u001b[39m\"\u001b[39m\u001b[39mo\u001b[39m\u001b[39m\"\u001b[39m, symbolSize\u001b[39m=\u001b[39m\u001b[39m5\u001b[39m, pen\u001b[39m=\u001b[39m\u001b[39mNone\u001b[39;00m)\n\u001b[0;32m     68\u001b[0m     error_bars \u001b[39m=\u001b[39m pg\u001b[39m.\u001b[39mErrorBarItem(x\u001b[39m=\u001b[39mnp\u001b[39m.\u001b[39marray(\u001b[39mself\u001b[39m\u001b[39m.\u001b[39mzc\u001b[39m.\u001b[39mU_gem), y\u001b[39m=\u001b[39mnp\u001b[39m.\u001b[39marray(\u001b[39mself\u001b[39m\u001b[39m.\u001b[39mzc\u001b[39m.\u001b[39mI_gem), height \u001b[39m=\u001b[39m np\u001b[39m.\u001b[39marray(\u001b[39mself\u001b[39m\u001b[39m.\u001b[39mzc\u001b[39m.\u001b[39mI_error))\n",
      "\u001b[1;31mAttributeError\u001b[0m: 'Ui_MainWindow' object has no attribute 'PlotWidget'"
     ]
    },
    {
     "ename": "AttributeError",
     "evalue": "'Ui_MainWindow' object has no attribute 'PlotWidget'",
     "output_type": "error",
     "traceback": [
      "\u001b[1;31m---------------------------------------------------------------------------\u001b[0m",
      "\u001b[1;31mAttributeError\u001b[0m                            Traceback (most recent call last)",
      "Cell \u001b[1;32mIn[1], line 66\u001b[0m, in \u001b[0;36mUserInterface.graph\u001b[1;34m(self)\u001b[0m\n\u001b[0;32m     64\u001b[0m \u001b[39m@Slot\u001b[39m()\n\u001b[0;32m     65\u001b[0m \u001b[39mdef\u001b[39;00m \u001b[39mgraph\u001b[39m(\u001b[39mself\u001b[39m):\n\u001b[1;32m---> 66\u001b[0m     \u001b[39mself\u001b[39;49m\u001b[39m.\u001b[39;49mui\u001b[39m.\u001b[39;49mPlotWidget\u001b[39m.\u001b[39mclear()\n\u001b[0;32m     67\u001b[0m     \u001b[39mself\u001b[39m\u001b[39m.\u001b[39mui\u001b[39m.\u001b[39mIU_graph\u001b[39m.\u001b[39mplot(\u001b[39mself\u001b[39m\u001b[39m.\u001b[39mzc\u001b[39m.\u001b[39mU_gem, \u001b[39mself\u001b[39m\u001b[39m.\u001b[39mzc\u001b[39m.\u001b[39mI_gem, symbol\u001b[39m=\u001b[39m\u001b[39m\"\u001b[39m\u001b[39mo\u001b[39m\u001b[39m\"\u001b[39m, symbolSize\u001b[39m=\u001b[39m\u001b[39m5\u001b[39m, pen\u001b[39m=\u001b[39m\u001b[39mNone\u001b[39;00m)\n\u001b[0;32m     68\u001b[0m     error_bars \u001b[39m=\u001b[39m pg\u001b[39m.\u001b[39mErrorBarItem(x\u001b[39m=\u001b[39mnp\u001b[39m.\u001b[39marray(\u001b[39mself\u001b[39m\u001b[39m.\u001b[39mzc\u001b[39m.\u001b[39mU_gem), y\u001b[39m=\u001b[39mnp\u001b[39m.\u001b[39marray(\u001b[39mself\u001b[39m\u001b[39m.\u001b[39mzc\u001b[39m.\u001b[39mI_gem), height \u001b[39m=\u001b[39m np\u001b[39m.\u001b[39marray(\u001b[39mself\u001b[39m\u001b[39m.\u001b[39mzc\u001b[39m.\u001b[39mI_error))\n",
      "\u001b[1;31mAttributeError\u001b[0m: 'Ui_MainWindow' object has no attribute 'PlotWidget'"
     ]
    },
    {
     "ename": "AttributeError",
     "evalue": "'Ui_MainWindow' object has no attribute 'PlotWidget'",
     "output_type": "error",
     "traceback": [
      "\u001b[1;31m---------------------------------------------------------------------------\u001b[0m",
      "\u001b[1;31mAttributeError\u001b[0m                            Traceback (most recent call last)",
      "Cell \u001b[1;32mIn[1], line 66\u001b[0m, in \u001b[0;36mUserInterface.graph\u001b[1;34m(self)\u001b[0m\n\u001b[0;32m     64\u001b[0m \u001b[39m@Slot\u001b[39m()\n\u001b[0;32m     65\u001b[0m \u001b[39mdef\u001b[39;00m \u001b[39mgraph\u001b[39m(\u001b[39mself\u001b[39m):\n\u001b[1;32m---> 66\u001b[0m     \u001b[39mself\u001b[39;49m\u001b[39m.\u001b[39;49mui\u001b[39m.\u001b[39;49mPlotWidget\u001b[39m.\u001b[39mclear()\n\u001b[0;32m     67\u001b[0m     \u001b[39mself\u001b[39m\u001b[39m.\u001b[39mui\u001b[39m.\u001b[39mIU_graph\u001b[39m.\u001b[39mplot(\u001b[39mself\u001b[39m\u001b[39m.\u001b[39mzc\u001b[39m.\u001b[39mU_gem, \u001b[39mself\u001b[39m\u001b[39m.\u001b[39mzc\u001b[39m.\u001b[39mI_gem, symbol\u001b[39m=\u001b[39m\u001b[39m\"\u001b[39m\u001b[39mo\u001b[39m\u001b[39m\"\u001b[39m, symbolSize\u001b[39m=\u001b[39m\u001b[39m5\u001b[39m, pen\u001b[39m=\u001b[39m\u001b[39mNone\u001b[39;00m)\n\u001b[0;32m     68\u001b[0m     error_bars \u001b[39m=\u001b[39m pg\u001b[39m.\u001b[39mErrorBarItem(x\u001b[39m=\u001b[39mnp\u001b[39m.\u001b[39marray(\u001b[39mself\u001b[39m\u001b[39m.\u001b[39mzc\u001b[39m.\u001b[39mU_gem), y\u001b[39m=\u001b[39mnp\u001b[39m.\u001b[39marray(\u001b[39mself\u001b[39m\u001b[39m.\u001b[39mzc\u001b[39m.\u001b[39mI_gem), height \u001b[39m=\u001b[39m np\u001b[39m.\u001b[39marray(\u001b[39mself\u001b[39m\u001b[39m.\u001b[39mzc\u001b[39m.\u001b[39mI_error))\n",
      "\u001b[1;31mAttributeError\u001b[0m: 'Ui_MainWindow' object has no attribute 'PlotWidget'"
     ]
    },
    {
     "ename": "AttributeError",
     "evalue": "'Ui_MainWindow' object has no attribute 'PlotWidget'",
     "output_type": "error",
     "traceback": [
      "\u001b[1;31m---------------------------------------------------------------------------\u001b[0m",
      "\u001b[1;31mAttributeError\u001b[0m                            Traceback (most recent call last)",
      "Cell \u001b[1;32mIn[1], line 66\u001b[0m, in \u001b[0;36mUserInterface.graph\u001b[1;34m(self)\u001b[0m\n\u001b[0;32m     64\u001b[0m \u001b[39m@Slot\u001b[39m()\n\u001b[0;32m     65\u001b[0m \u001b[39mdef\u001b[39;00m \u001b[39mgraph\u001b[39m(\u001b[39mself\u001b[39m):\n\u001b[1;32m---> 66\u001b[0m     \u001b[39mself\u001b[39;49m\u001b[39m.\u001b[39;49mui\u001b[39m.\u001b[39;49mPlotWidget\u001b[39m.\u001b[39mclear()\n\u001b[0;32m     67\u001b[0m     \u001b[39mself\u001b[39m\u001b[39m.\u001b[39mui\u001b[39m.\u001b[39mIU_graph\u001b[39m.\u001b[39mplot(\u001b[39mself\u001b[39m\u001b[39m.\u001b[39mzc\u001b[39m.\u001b[39mU_gem, \u001b[39mself\u001b[39m\u001b[39m.\u001b[39mzc\u001b[39m.\u001b[39mI_gem, symbol\u001b[39m=\u001b[39m\u001b[39m\"\u001b[39m\u001b[39mo\u001b[39m\u001b[39m\"\u001b[39m, symbolSize\u001b[39m=\u001b[39m\u001b[39m5\u001b[39m, pen\u001b[39m=\u001b[39m\u001b[39mNone\u001b[39;00m)\n\u001b[0;32m     68\u001b[0m     error_bars \u001b[39m=\u001b[39m pg\u001b[39m.\u001b[39mErrorBarItem(x\u001b[39m=\u001b[39mnp\u001b[39m.\u001b[39marray(\u001b[39mself\u001b[39m\u001b[39m.\u001b[39mzc\u001b[39m.\u001b[39mU_gem), y\u001b[39m=\u001b[39mnp\u001b[39m.\u001b[39marray(\u001b[39mself\u001b[39m\u001b[39m.\u001b[39mzc\u001b[39m.\u001b[39mI_gem), height \u001b[39m=\u001b[39m np\u001b[39m.\u001b[39marray(\u001b[39mself\u001b[39m\u001b[39m.\u001b[39mzc\u001b[39m.\u001b[39mI_error))\n",
      "\u001b[1;31mAttributeError\u001b[0m: 'Ui_MainWindow' object has no attribute 'PlotWidget'"
     ]
    },
    {
     "ename": "AttributeError",
     "evalue": "'Ui_MainWindow' object has no attribute 'PlotWidget'",
     "output_type": "error",
     "traceback": [
      "\u001b[1;31m---------------------------------------------------------------------------\u001b[0m",
      "\u001b[1;31mAttributeError\u001b[0m                            Traceback (most recent call last)",
      "Cell \u001b[1;32mIn[1], line 66\u001b[0m, in \u001b[0;36mUserInterface.graph\u001b[1;34m(self)\u001b[0m\n\u001b[0;32m     64\u001b[0m \u001b[39m@Slot\u001b[39m()\n\u001b[0;32m     65\u001b[0m \u001b[39mdef\u001b[39;00m \u001b[39mgraph\u001b[39m(\u001b[39mself\u001b[39m):\n\u001b[1;32m---> 66\u001b[0m     \u001b[39mself\u001b[39;49m\u001b[39m.\u001b[39;49mui\u001b[39m.\u001b[39;49mPlotWidget\u001b[39m.\u001b[39mclear()\n\u001b[0;32m     67\u001b[0m     \u001b[39mself\u001b[39m\u001b[39m.\u001b[39mui\u001b[39m.\u001b[39mIU_graph\u001b[39m.\u001b[39mplot(\u001b[39mself\u001b[39m\u001b[39m.\u001b[39mzc\u001b[39m.\u001b[39mU_gem, \u001b[39mself\u001b[39m\u001b[39m.\u001b[39mzc\u001b[39m.\u001b[39mI_gem, symbol\u001b[39m=\u001b[39m\u001b[39m\"\u001b[39m\u001b[39mo\u001b[39m\u001b[39m\"\u001b[39m, symbolSize\u001b[39m=\u001b[39m\u001b[39m5\u001b[39m, pen\u001b[39m=\u001b[39m\u001b[39mNone\u001b[39;00m)\n\u001b[0;32m     68\u001b[0m     error_bars \u001b[39m=\u001b[39m pg\u001b[39m.\u001b[39mErrorBarItem(x\u001b[39m=\u001b[39mnp\u001b[39m.\u001b[39marray(\u001b[39mself\u001b[39m\u001b[39m.\u001b[39mzc\u001b[39m.\u001b[39mU_gem), y\u001b[39m=\u001b[39mnp\u001b[39m.\u001b[39marray(\u001b[39mself\u001b[39m\u001b[39m.\u001b[39mzc\u001b[39m.\u001b[39mI_gem), height \u001b[39m=\u001b[39m np\u001b[39m.\u001b[39marray(\u001b[39mself\u001b[39m\u001b[39m.\u001b[39mzc\u001b[39m.\u001b[39mI_error))\n",
      "\u001b[1;31mAttributeError\u001b[0m: 'Ui_MainWindow' object has no attribute 'PlotWidget'"
     ]
    },
    {
     "ename": "AttributeError",
     "evalue": "'Ui_MainWindow' object has no attribute 'PlotWidget'",
     "output_type": "error",
     "traceback": [
      "\u001b[1;31m---------------------------------------------------------------------------\u001b[0m",
      "\u001b[1;31mAttributeError\u001b[0m                            Traceback (most recent call last)",
      "Cell \u001b[1;32mIn[1], line 66\u001b[0m, in \u001b[0;36mUserInterface.graph\u001b[1;34m(self)\u001b[0m\n\u001b[0;32m     64\u001b[0m \u001b[39m@Slot\u001b[39m()\n\u001b[0;32m     65\u001b[0m \u001b[39mdef\u001b[39;00m \u001b[39mgraph\u001b[39m(\u001b[39mself\u001b[39m):\n\u001b[1;32m---> 66\u001b[0m     \u001b[39mself\u001b[39;49m\u001b[39m.\u001b[39;49mui\u001b[39m.\u001b[39;49mPlotWidget\u001b[39m.\u001b[39mclear()\n\u001b[0;32m     67\u001b[0m     \u001b[39mself\u001b[39m\u001b[39m.\u001b[39mui\u001b[39m.\u001b[39mIU_graph\u001b[39m.\u001b[39mplot(\u001b[39mself\u001b[39m\u001b[39m.\u001b[39mzc\u001b[39m.\u001b[39mU_gem, \u001b[39mself\u001b[39m\u001b[39m.\u001b[39mzc\u001b[39m.\u001b[39mI_gem, symbol\u001b[39m=\u001b[39m\u001b[39m\"\u001b[39m\u001b[39mo\u001b[39m\u001b[39m\"\u001b[39m, symbolSize\u001b[39m=\u001b[39m\u001b[39m5\u001b[39m, pen\u001b[39m=\u001b[39m\u001b[39mNone\u001b[39;00m)\n\u001b[0;32m     68\u001b[0m     error_bars \u001b[39m=\u001b[39m pg\u001b[39m.\u001b[39mErrorBarItem(x\u001b[39m=\u001b[39mnp\u001b[39m.\u001b[39marray(\u001b[39mself\u001b[39m\u001b[39m.\u001b[39mzc\u001b[39m.\u001b[39mU_gem), y\u001b[39m=\u001b[39mnp\u001b[39m.\u001b[39marray(\u001b[39mself\u001b[39m\u001b[39m.\u001b[39mzc\u001b[39m.\u001b[39mI_gem), height \u001b[39m=\u001b[39m np\u001b[39m.\u001b[39marray(\u001b[39mself\u001b[39m\u001b[39m.\u001b[39mzc\u001b[39m.\u001b[39mI_error))\n",
      "\u001b[1;31mAttributeError\u001b[0m: 'Ui_MainWindow' object has no attribute 'PlotWidget'"
     ]
    },
    {
     "ename": "AttributeError",
     "evalue": "'Ui_MainWindow' object has no attribute 'PlotWidget'",
     "output_type": "error",
     "traceback": [
      "\u001b[1;31m---------------------------------------------------------------------------\u001b[0m",
      "\u001b[1;31mAttributeError\u001b[0m                            Traceback (most recent call last)",
      "Cell \u001b[1;32mIn[1], line 66\u001b[0m, in \u001b[0;36mUserInterface.graph\u001b[1;34m(self)\u001b[0m\n\u001b[0;32m     64\u001b[0m \u001b[39m@Slot\u001b[39m()\n\u001b[0;32m     65\u001b[0m \u001b[39mdef\u001b[39;00m \u001b[39mgraph\u001b[39m(\u001b[39mself\u001b[39m):\n\u001b[1;32m---> 66\u001b[0m     \u001b[39mself\u001b[39;49m\u001b[39m.\u001b[39;49mui\u001b[39m.\u001b[39;49mPlotWidget\u001b[39m.\u001b[39mclear()\n\u001b[0;32m     67\u001b[0m     \u001b[39mself\u001b[39m\u001b[39m.\u001b[39mui\u001b[39m.\u001b[39mIU_graph\u001b[39m.\u001b[39mplot(\u001b[39mself\u001b[39m\u001b[39m.\u001b[39mzc\u001b[39m.\u001b[39mU_gem, \u001b[39mself\u001b[39m\u001b[39m.\u001b[39mzc\u001b[39m.\u001b[39mI_gem, symbol\u001b[39m=\u001b[39m\u001b[39m\"\u001b[39m\u001b[39mo\u001b[39m\u001b[39m\"\u001b[39m, symbolSize\u001b[39m=\u001b[39m\u001b[39m5\u001b[39m, pen\u001b[39m=\u001b[39m\u001b[39mNone\u001b[39;00m)\n\u001b[0;32m     68\u001b[0m     error_bars \u001b[39m=\u001b[39m pg\u001b[39m.\u001b[39mErrorBarItem(x\u001b[39m=\u001b[39mnp\u001b[39m.\u001b[39marray(\u001b[39mself\u001b[39m\u001b[39m.\u001b[39mzc\u001b[39m.\u001b[39mU_gem), y\u001b[39m=\u001b[39mnp\u001b[39m.\u001b[39marray(\u001b[39mself\u001b[39m\u001b[39m.\u001b[39mzc\u001b[39m.\u001b[39mI_gem), height \u001b[39m=\u001b[39m np\u001b[39m.\u001b[39marray(\u001b[39mself\u001b[39m\u001b[39m.\u001b[39mzc\u001b[39m.\u001b[39mI_error))\n",
      "\u001b[1;31mAttributeError\u001b[0m: 'Ui_MainWindow' object has no attribute 'PlotWidget'"
     ]
    },
    {
     "ename": "AttributeError",
     "evalue": "'Ui_MainWindow' object has no attribute 'PlotWidget'",
     "output_type": "error",
     "traceback": [
      "\u001b[1;31m---------------------------------------------------------------------------\u001b[0m",
      "\u001b[1;31mAttributeError\u001b[0m                            Traceback (most recent call last)",
      "Cell \u001b[1;32mIn[1], line 66\u001b[0m, in \u001b[0;36mUserInterface.graph\u001b[1;34m(self)\u001b[0m\n\u001b[0;32m     64\u001b[0m \u001b[39m@Slot\u001b[39m()\n\u001b[0;32m     65\u001b[0m \u001b[39mdef\u001b[39;00m \u001b[39mgraph\u001b[39m(\u001b[39mself\u001b[39m):\n\u001b[1;32m---> 66\u001b[0m     \u001b[39mself\u001b[39;49m\u001b[39m.\u001b[39;49mui\u001b[39m.\u001b[39;49mPlotWidget\u001b[39m.\u001b[39mclear()\n\u001b[0;32m     67\u001b[0m     \u001b[39mself\u001b[39m\u001b[39m.\u001b[39mui\u001b[39m.\u001b[39mIU_graph\u001b[39m.\u001b[39mplot(\u001b[39mself\u001b[39m\u001b[39m.\u001b[39mzc\u001b[39m.\u001b[39mU_gem, \u001b[39mself\u001b[39m\u001b[39m.\u001b[39mzc\u001b[39m.\u001b[39mI_gem, symbol\u001b[39m=\u001b[39m\u001b[39m\"\u001b[39m\u001b[39mo\u001b[39m\u001b[39m\"\u001b[39m, symbolSize\u001b[39m=\u001b[39m\u001b[39m5\u001b[39m, pen\u001b[39m=\u001b[39m\u001b[39mNone\u001b[39;00m)\n\u001b[0;32m     68\u001b[0m     error_bars \u001b[39m=\u001b[39m pg\u001b[39m.\u001b[39mErrorBarItem(x\u001b[39m=\u001b[39mnp\u001b[39m.\u001b[39marray(\u001b[39mself\u001b[39m\u001b[39m.\u001b[39mzc\u001b[39m.\u001b[39mU_gem), y\u001b[39m=\u001b[39mnp\u001b[39m.\u001b[39marray(\u001b[39mself\u001b[39m\u001b[39m.\u001b[39mzc\u001b[39m.\u001b[39mI_gem), height \u001b[39m=\u001b[39m np\u001b[39m.\u001b[39marray(\u001b[39mself\u001b[39m\u001b[39m.\u001b[39mzc\u001b[39m.\u001b[39mI_error))\n",
      "\u001b[1;31mAttributeError\u001b[0m: 'Ui_MainWindow' object has no attribute 'PlotWidget'"
     ]
    },
    {
     "ename": "AttributeError",
     "evalue": "'Ui_MainWindow' object has no attribute 'PlotWidget'",
     "output_type": "error",
     "traceback": [
      "\u001b[1;31m---------------------------------------------------------------------------\u001b[0m",
      "\u001b[1;31mAttributeError\u001b[0m                            Traceback (most recent call last)",
      "Cell \u001b[1;32mIn[1], line 66\u001b[0m, in \u001b[0;36mUserInterface.graph\u001b[1;34m(self)\u001b[0m\n\u001b[0;32m     64\u001b[0m \u001b[39m@Slot\u001b[39m()\n\u001b[0;32m     65\u001b[0m \u001b[39mdef\u001b[39;00m \u001b[39mgraph\u001b[39m(\u001b[39mself\u001b[39m):\n\u001b[1;32m---> 66\u001b[0m     \u001b[39mself\u001b[39;49m\u001b[39m.\u001b[39;49mui\u001b[39m.\u001b[39;49mPlotWidget\u001b[39m.\u001b[39mclear()\n\u001b[0;32m     67\u001b[0m     \u001b[39mself\u001b[39m\u001b[39m.\u001b[39mui\u001b[39m.\u001b[39mIU_graph\u001b[39m.\u001b[39mplot(\u001b[39mself\u001b[39m\u001b[39m.\u001b[39mzc\u001b[39m.\u001b[39mU_gem, \u001b[39mself\u001b[39m\u001b[39m.\u001b[39mzc\u001b[39m.\u001b[39mI_gem, symbol\u001b[39m=\u001b[39m\u001b[39m\"\u001b[39m\u001b[39mo\u001b[39m\u001b[39m\"\u001b[39m, symbolSize\u001b[39m=\u001b[39m\u001b[39m5\u001b[39m, pen\u001b[39m=\u001b[39m\u001b[39mNone\u001b[39;00m)\n\u001b[0;32m     68\u001b[0m     error_bars \u001b[39m=\u001b[39m pg\u001b[39m.\u001b[39mErrorBarItem(x\u001b[39m=\u001b[39mnp\u001b[39m.\u001b[39marray(\u001b[39mself\u001b[39m\u001b[39m.\u001b[39mzc\u001b[39m.\u001b[39mU_gem), y\u001b[39m=\u001b[39mnp\u001b[39m.\u001b[39marray(\u001b[39mself\u001b[39m\u001b[39m.\u001b[39mzc\u001b[39m.\u001b[39mI_gem), height \u001b[39m=\u001b[39m np\u001b[39m.\u001b[39marray(\u001b[39mself\u001b[39m\u001b[39m.\u001b[39mzc\u001b[39m.\u001b[39mI_error))\n",
      "\u001b[1;31mAttributeError\u001b[0m: 'Ui_MainWindow' object has no attribute 'PlotWidget'"
     ]
    },
    {
     "ename": "AttributeError",
     "evalue": "'Ui_MainWindow' object has no attribute 'PlotWidget'",
     "output_type": "error",
     "traceback": [
      "\u001b[1;31m---------------------------------------------------------------------------\u001b[0m",
      "\u001b[1;31mAttributeError\u001b[0m                            Traceback (most recent call last)",
      "Cell \u001b[1;32mIn[1], line 66\u001b[0m, in \u001b[0;36mUserInterface.graph\u001b[1;34m(self)\u001b[0m\n\u001b[0;32m     64\u001b[0m \u001b[39m@Slot\u001b[39m()\n\u001b[0;32m     65\u001b[0m \u001b[39mdef\u001b[39;00m \u001b[39mgraph\u001b[39m(\u001b[39mself\u001b[39m):\n\u001b[1;32m---> 66\u001b[0m     \u001b[39mself\u001b[39;49m\u001b[39m.\u001b[39;49mui\u001b[39m.\u001b[39;49mPlotWidget\u001b[39m.\u001b[39mclear()\n\u001b[0;32m     67\u001b[0m     \u001b[39mself\u001b[39m\u001b[39m.\u001b[39mui\u001b[39m.\u001b[39mIU_graph\u001b[39m.\u001b[39mplot(\u001b[39mself\u001b[39m\u001b[39m.\u001b[39mzc\u001b[39m.\u001b[39mU_gem, \u001b[39mself\u001b[39m\u001b[39m.\u001b[39mzc\u001b[39m.\u001b[39mI_gem, symbol\u001b[39m=\u001b[39m\u001b[39m\"\u001b[39m\u001b[39mo\u001b[39m\u001b[39m\"\u001b[39m, symbolSize\u001b[39m=\u001b[39m\u001b[39m5\u001b[39m, pen\u001b[39m=\u001b[39m\u001b[39mNone\u001b[39;00m)\n\u001b[0;32m     68\u001b[0m     error_bars \u001b[39m=\u001b[39m pg\u001b[39m.\u001b[39mErrorBarItem(x\u001b[39m=\u001b[39mnp\u001b[39m.\u001b[39marray(\u001b[39mself\u001b[39m\u001b[39m.\u001b[39mzc\u001b[39m.\u001b[39mU_gem), y\u001b[39m=\u001b[39mnp\u001b[39m.\u001b[39marray(\u001b[39mself\u001b[39m\u001b[39m.\u001b[39mzc\u001b[39m.\u001b[39mI_gem), height \u001b[39m=\u001b[39m np\u001b[39m.\u001b[39marray(\u001b[39mself\u001b[39m\u001b[39m.\u001b[39mzc\u001b[39m.\u001b[39mI_error))\n",
      "\u001b[1;31mAttributeError\u001b[0m: 'Ui_MainWindow' object has no attribute 'PlotWidget'"
     ]
    },
    {
     "ename": "AttributeError",
     "evalue": "'Ui_MainWindow' object has no attribute 'PlotWidget'",
     "output_type": "error",
     "traceback": [
      "\u001b[1;31m---------------------------------------------------------------------------\u001b[0m",
      "\u001b[1;31mAttributeError\u001b[0m                            Traceback (most recent call last)",
      "Cell \u001b[1;32mIn[1], line 66\u001b[0m, in \u001b[0;36mUserInterface.graph\u001b[1;34m(self)\u001b[0m\n\u001b[0;32m     64\u001b[0m \u001b[39m@Slot\u001b[39m()\n\u001b[0;32m     65\u001b[0m \u001b[39mdef\u001b[39;00m \u001b[39mgraph\u001b[39m(\u001b[39mself\u001b[39m):\n\u001b[1;32m---> 66\u001b[0m     \u001b[39mself\u001b[39;49m\u001b[39m.\u001b[39;49mui\u001b[39m.\u001b[39;49mPlotWidget\u001b[39m.\u001b[39mclear()\n\u001b[0;32m     67\u001b[0m     \u001b[39mself\u001b[39m\u001b[39m.\u001b[39mui\u001b[39m.\u001b[39mIU_graph\u001b[39m.\u001b[39mplot(\u001b[39mself\u001b[39m\u001b[39m.\u001b[39mzc\u001b[39m.\u001b[39mU_gem, \u001b[39mself\u001b[39m\u001b[39m.\u001b[39mzc\u001b[39m.\u001b[39mI_gem, symbol\u001b[39m=\u001b[39m\u001b[39m\"\u001b[39m\u001b[39mo\u001b[39m\u001b[39m\"\u001b[39m, symbolSize\u001b[39m=\u001b[39m\u001b[39m5\u001b[39m, pen\u001b[39m=\u001b[39m\u001b[39mNone\u001b[39;00m)\n\u001b[0;32m     68\u001b[0m     error_bars \u001b[39m=\u001b[39m pg\u001b[39m.\u001b[39mErrorBarItem(x\u001b[39m=\u001b[39mnp\u001b[39m.\u001b[39marray(\u001b[39mself\u001b[39m\u001b[39m.\u001b[39mzc\u001b[39m.\u001b[39mU_gem), y\u001b[39m=\u001b[39mnp\u001b[39m.\u001b[39marray(\u001b[39mself\u001b[39m\u001b[39m.\u001b[39mzc\u001b[39m.\u001b[39mI_gem), height \u001b[39m=\u001b[39m np\u001b[39m.\u001b[39marray(\u001b[39mself\u001b[39m\u001b[39m.\u001b[39mzc\u001b[39m.\u001b[39mI_error))\n",
      "\u001b[1;31mAttributeError\u001b[0m: 'Ui_MainWindow' object has no attribute 'PlotWidget'"
     ]
    },
    {
     "ename": "AttributeError",
     "evalue": "'Ui_MainWindow' object has no attribute 'PlotWidget'",
     "output_type": "error",
     "traceback": [
      "\u001b[1;31m---------------------------------------------------------------------------\u001b[0m",
      "\u001b[1;31mAttributeError\u001b[0m                            Traceback (most recent call last)",
      "Cell \u001b[1;32mIn[1], line 66\u001b[0m, in \u001b[0;36mUserInterface.graph\u001b[1;34m(self)\u001b[0m\n\u001b[0;32m     64\u001b[0m \u001b[39m@Slot\u001b[39m()\n\u001b[0;32m     65\u001b[0m \u001b[39mdef\u001b[39;00m \u001b[39mgraph\u001b[39m(\u001b[39mself\u001b[39m):\n\u001b[1;32m---> 66\u001b[0m     \u001b[39mself\u001b[39;49m\u001b[39m.\u001b[39;49mui\u001b[39m.\u001b[39;49mPlotWidget\u001b[39m.\u001b[39mclear()\n\u001b[0;32m     67\u001b[0m     \u001b[39mself\u001b[39m\u001b[39m.\u001b[39mui\u001b[39m.\u001b[39mIU_graph\u001b[39m.\u001b[39mplot(\u001b[39mself\u001b[39m\u001b[39m.\u001b[39mzc\u001b[39m.\u001b[39mU_gem, \u001b[39mself\u001b[39m\u001b[39m.\u001b[39mzc\u001b[39m.\u001b[39mI_gem, symbol\u001b[39m=\u001b[39m\u001b[39m\"\u001b[39m\u001b[39mo\u001b[39m\u001b[39m\"\u001b[39m, symbolSize\u001b[39m=\u001b[39m\u001b[39m5\u001b[39m, pen\u001b[39m=\u001b[39m\u001b[39mNone\u001b[39;00m)\n\u001b[0;32m     68\u001b[0m     error_bars \u001b[39m=\u001b[39m pg\u001b[39m.\u001b[39mErrorBarItem(x\u001b[39m=\u001b[39mnp\u001b[39m.\u001b[39marray(\u001b[39mself\u001b[39m\u001b[39m.\u001b[39mzc\u001b[39m.\u001b[39mU_gem), y\u001b[39m=\u001b[39mnp\u001b[39m.\u001b[39marray(\u001b[39mself\u001b[39m\u001b[39m.\u001b[39mzc\u001b[39m.\u001b[39mI_gem), height \u001b[39m=\u001b[39m np\u001b[39m.\u001b[39marray(\u001b[39mself\u001b[39m\u001b[39m.\u001b[39mzc\u001b[39m.\u001b[39mI_error))\n",
      "\u001b[1;31mAttributeError\u001b[0m: 'Ui_MainWindow' object has no attribute 'PlotWidget'"
     ]
    },
    {
     "ename": "AttributeError",
     "evalue": "'Ui_MainWindow' object has no attribute 'PlotWidget'",
     "output_type": "error",
     "traceback": [
      "\u001b[1;31m---------------------------------------------------------------------------\u001b[0m",
      "\u001b[1;31mAttributeError\u001b[0m                            Traceback (most recent call last)",
      "Cell \u001b[1;32mIn[1], line 66\u001b[0m, in \u001b[0;36mUserInterface.graph\u001b[1;34m(self)\u001b[0m\n\u001b[0;32m     64\u001b[0m \u001b[39m@Slot\u001b[39m()\n\u001b[0;32m     65\u001b[0m \u001b[39mdef\u001b[39;00m \u001b[39mgraph\u001b[39m(\u001b[39mself\u001b[39m):\n\u001b[1;32m---> 66\u001b[0m     \u001b[39mself\u001b[39;49m\u001b[39m.\u001b[39;49mui\u001b[39m.\u001b[39;49mPlotWidget\u001b[39m.\u001b[39mclear()\n\u001b[0;32m     67\u001b[0m     \u001b[39mself\u001b[39m\u001b[39m.\u001b[39mui\u001b[39m.\u001b[39mIU_graph\u001b[39m.\u001b[39mplot(\u001b[39mself\u001b[39m\u001b[39m.\u001b[39mzc\u001b[39m.\u001b[39mU_gem, \u001b[39mself\u001b[39m\u001b[39m.\u001b[39mzc\u001b[39m.\u001b[39mI_gem, symbol\u001b[39m=\u001b[39m\u001b[39m\"\u001b[39m\u001b[39mo\u001b[39m\u001b[39m\"\u001b[39m, symbolSize\u001b[39m=\u001b[39m\u001b[39m5\u001b[39m, pen\u001b[39m=\u001b[39m\u001b[39mNone\u001b[39;00m)\n\u001b[0;32m     68\u001b[0m     error_bars \u001b[39m=\u001b[39m pg\u001b[39m.\u001b[39mErrorBarItem(x\u001b[39m=\u001b[39mnp\u001b[39m.\u001b[39marray(\u001b[39mself\u001b[39m\u001b[39m.\u001b[39mzc\u001b[39m.\u001b[39mU_gem), y\u001b[39m=\u001b[39mnp\u001b[39m.\u001b[39marray(\u001b[39mself\u001b[39m\u001b[39m.\u001b[39mzc\u001b[39m.\u001b[39mI_gem), height \u001b[39m=\u001b[39m np\u001b[39m.\u001b[39marray(\u001b[39mself\u001b[39m\u001b[39m.\u001b[39mzc\u001b[39m.\u001b[39mI_error))\n",
      "\u001b[1;31mAttributeError\u001b[0m: 'Ui_MainWindow' object has no attribute 'PlotWidget'"
     ]
    },
    {
     "ename": "AttributeError",
     "evalue": "'Ui_MainWindow' object has no attribute 'PlotWidget'",
     "output_type": "error",
     "traceback": [
      "\u001b[1;31m---------------------------------------------------------------------------\u001b[0m",
      "\u001b[1;31mAttributeError\u001b[0m                            Traceback (most recent call last)",
      "Cell \u001b[1;32mIn[1], line 66\u001b[0m, in \u001b[0;36mUserInterface.graph\u001b[1;34m(self)\u001b[0m\n\u001b[0;32m     64\u001b[0m \u001b[39m@Slot\u001b[39m()\n\u001b[0;32m     65\u001b[0m \u001b[39mdef\u001b[39;00m \u001b[39mgraph\u001b[39m(\u001b[39mself\u001b[39m):\n\u001b[1;32m---> 66\u001b[0m     \u001b[39mself\u001b[39;49m\u001b[39m.\u001b[39;49mui\u001b[39m.\u001b[39;49mPlotWidget\u001b[39m.\u001b[39mclear()\n\u001b[0;32m     67\u001b[0m     \u001b[39mself\u001b[39m\u001b[39m.\u001b[39mui\u001b[39m.\u001b[39mIU_graph\u001b[39m.\u001b[39mplot(\u001b[39mself\u001b[39m\u001b[39m.\u001b[39mzc\u001b[39m.\u001b[39mU_gem, \u001b[39mself\u001b[39m\u001b[39m.\u001b[39mzc\u001b[39m.\u001b[39mI_gem, symbol\u001b[39m=\u001b[39m\u001b[39m\"\u001b[39m\u001b[39mo\u001b[39m\u001b[39m\"\u001b[39m, symbolSize\u001b[39m=\u001b[39m\u001b[39m5\u001b[39m, pen\u001b[39m=\u001b[39m\u001b[39mNone\u001b[39;00m)\n\u001b[0;32m     68\u001b[0m     error_bars \u001b[39m=\u001b[39m pg\u001b[39m.\u001b[39mErrorBarItem(x\u001b[39m=\u001b[39mnp\u001b[39m.\u001b[39marray(\u001b[39mself\u001b[39m\u001b[39m.\u001b[39mzc\u001b[39m.\u001b[39mU_gem), y\u001b[39m=\u001b[39mnp\u001b[39m.\u001b[39marray(\u001b[39mself\u001b[39m\u001b[39m.\u001b[39mzc\u001b[39m.\u001b[39mI_gem), height \u001b[39m=\u001b[39m np\u001b[39m.\u001b[39marray(\u001b[39mself\u001b[39m\u001b[39m.\u001b[39mzc\u001b[39m.\u001b[39mI_error))\n",
      "\u001b[1;31mAttributeError\u001b[0m: 'Ui_MainWindow' object has no attribute 'PlotWidget'"
     ]
    },
    {
     "ename": "AttributeError",
     "evalue": "'Ui_MainWindow' object has no attribute 'PlotWidget'",
     "output_type": "error",
     "traceback": [
      "\u001b[1;31m---------------------------------------------------------------------------\u001b[0m",
      "\u001b[1;31mAttributeError\u001b[0m                            Traceback (most recent call last)",
      "Cell \u001b[1;32mIn[1], line 66\u001b[0m, in \u001b[0;36mUserInterface.graph\u001b[1;34m(self)\u001b[0m\n\u001b[0;32m     64\u001b[0m \u001b[39m@Slot\u001b[39m()\n\u001b[0;32m     65\u001b[0m \u001b[39mdef\u001b[39;00m \u001b[39mgraph\u001b[39m(\u001b[39mself\u001b[39m):\n\u001b[1;32m---> 66\u001b[0m     \u001b[39mself\u001b[39;49m\u001b[39m.\u001b[39;49mui\u001b[39m.\u001b[39;49mPlotWidget\u001b[39m.\u001b[39mclear()\n\u001b[0;32m     67\u001b[0m     \u001b[39mself\u001b[39m\u001b[39m.\u001b[39mui\u001b[39m.\u001b[39mIU_graph\u001b[39m.\u001b[39mplot(\u001b[39mself\u001b[39m\u001b[39m.\u001b[39mzc\u001b[39m.\u001b[39mU_gem, \u001b[39mself\u001b[39m\u001b[39m.\u001b[39mzc\u001b[39m.\u001b[39mI_gem, symbol\u001b[39m=\u001b[39m\u001b[39m\"\u001b[39m\u001b[39mo\u001b[39m\u001b[39m\"\u001b[39m, symbolSize\u001b[39m=\u001b[39m\u001b[39m5\u001b[39m, pen\u001b[39m=\u001b[39m\u001b[39mNone\u001b[39;00m)\n\u001b[0;32m     68\u001b[0m     error_bars \u001b[39m=\u001b[39m pg\u001b[39m.\u001b[39mErrorBarItem(x\u001b[39m=\u001b[39mnp\u001b[39m.\u001b[39marray(\u001b[39mself\u001b[39m\u001b[39m.\u001b[39mzc\u001b[39m.\u001b[39mU_gem), y\u001b[39m=\u001b[39mnp\u001b[39m.\u001b[39marray(\u001b[39mself\u001b[39m\u001b[39m.\u001b[39mzc\u001b[39m.\u001b[39mI_gem), height \u001b[39m=\u001b[39m np\u001b[39m.\u001b[39marray(\u001b[39mself\u001b[39m\u001b[39m.\u001b[39mzc\u001b[39m.\u001b[39mI_error))\n",
      "\u001b[1;31mAttributeError\u001b[0m: 'Ui_MainWindow' object has no attribute 'PlotWidget'"
     ]
    },
    {
     "ename": "AttributeError",
     "evalue": "'Ui_MainWindow' object has no attribute 'PlotWidget'",
     "output_type": "error",
     "traceback": [
      "\u001b[1;31m---------------------------------------------------------------------------\u001b[0m",
      "\u001b[1;31mAttributeError\u001b[0m                            Traceback (most recent call last)",
      "Cell \u001b[1;32mIn[1], line 66\u001b[0m, in \u001b[0;36mUserInterface.graph\u001b[1;34m(self)\u001b[0m\n\u001b[0;32m     64\u001b[0m \u001b[39m@Slot\u001b[39m()\n\u001b[0;32m     65\u001b[0m \u001b[39mdef\u001b[39;00m \u001b[39mgraph\u001b[39m(\u001b[39mself\u001b[39m):\n\u001b[1;32m---> 66\u001b[0m     \u001b[39mself\u001b[39;49m\u001b[39m.\u001b[39;49mui\u001b[39m.\u001b[39;49mPlotWidget\u001b[39m.\u001b[39mclear()\n\u001b[0;32m     67\u001b[0m     \u001b[39mself\u001b[39m\u001b[39m.\u001b[39mui\u001b[39m.\u001b[39mIU_graph\u001b[39m.\u001b[39mplot(\u001b[39mself\u001b[39m\u001b[39m.\u001b[39mzc\u001b[39m.\u001b[39mU_gem, \u001b[39mself\u001b[39m\u001b[39m.\u001b[39mzc\u001b[39m.\u001b[39mI_gem, symbol\u001b[39m=\u001b[39m\u001b[39m\"\u001b[39m\u001b[39mo\u001b[39m\u001b[39m\"\u001b[39m, symbolSize\u001b[39m=\u001b[39m\u001b[39m5\u001b[39m, pen\u001b[39m=\u001b[39m\u001b[39mNone\u001b[39;00m)\n\u001b[0;32m     68\u001b[0m     error_bars \u001b[39m=\u001b[39m pg\u001b[39m.\u001b[39mErrorBarItem(x\u001b[39m=\u001b[39mnp\u001b[39m.\u001b[39marray(\u001b[39mself\u001b[39m\u001b[39m.\u001b[39mzc\u001b[39m.\u001b[39mU_gem), y\u001b[39m=\u001b[39mnp\u001b[39m.\u001b[39marray(\u001b[39mself\u001b[39m\u001b[39m.\u001b[39mzc\u001b[39m.\u001b[39mI_gem), height \u001b[39m=\u001b[39m np\u001b[39m.\u001b[39marray(\u001b[39mself\u001b[39m\u001b[39m.\u001b[39mzc\u001b[39m.\u001b[39mI_error))\n",
      "\u001b[1;31mAttributeError\u001b[0m: 'Ui_MainWindow' object has no attribute 'PlotWidget'"
     ]
    },
    {
     "ename": "AttributeError",
     "evalue": "'Ui_MainWindow' object has no attribute 'PlotWidget'",
     "output_type": "error",
     "traceback": [
      "\u001b[1;31m---------------------------------------------------------------------------\u001b[0m",
      "\u001b[1;31mAttributeError\u001b[0m                            Traceback (most recent call last)",
      "Cell \u001b[1;32mIn[1], line 66\u001b[0m, in \u001b[0;36mUserInterface.graph\u001b[1;34m(self)\u001b[0m\n\u001b[0;32m     64\u001b[0m \u001b[39m@Slot\u001b[39m()\n\u001b[0;32m     65\u001b[0m \u001b[39mdef\u001b[39;00m \u001b[39mgraph\u001b[39m(\u001b[39mself\u001b[39m):\n\u001b[1;32m---> 66\u001b[0m     \u001b[39mself\u001b[39;49m\u001b[39m.\u001b[39;49mui\u001b[39m.\u001b[39;49mPlotWidget\u001b[39m.\u001b[39mclear()\n\u001b[0;32m     67\u001b[0m     \u001b[39mself\u001b[39m\u001b[39m.\u001b[39mui\u001b[39m.\u001b[39mIU_graph\u001b[39m.\u001b[39mplot(\u001b[39mself\u001b[39m\u001b[39m.\u001b[39mzc\u001b[39m.\u001b[39mU_gem, \u001b[39mself\u001b[39m\u001b[39m.\u001b[39mzc\u001b[39m.\u001b[39mI_gem, symbol\u001b[39m=\u001b[39m\u001b[39m\"\u001b[39m\u001b[39mo\u001b[39m\u001b[39m\"\u001b[39m, symbolSize\u001b[39m=\u001b[39m\u001b[39m5\u001b[39m, pen\u001b[39m=\u001b[39m\u001b[39mNone\u001b[39;00m)\n\u001b[0;32m     68\u001b[0m     error_bars \u001b[39m=\u001b[39m pg\u001b[39m.\u001b[39mErrorBarItem(x\u001b[39m=\u001b[39mnp\u001b[39m.\u001b[39marray(\u001b[39mself\u001b[39m\u001b[39m.\u001b[39mzc\u001b[39m.\u001b[39mU_gem), y\u001b[39m=\u001b[39mnp\u001b[39m.\u001b[39marray(\u001b[39mself\u001b[39m\u001b[39m.\u001b[39mzc\u001b[39m.\u001b[39mI_gem), height \u001b[39m=\u001b[39m np\u001b[39m.\u001b[39marray(\u001b[39mself\u001b[39m\u001b[39m.\u001b[39mzc\u001b[39m.\u001b[39mI_error))\n",
      "\u001b[1;31mAttributeError\u001b[0m: 'Ui_MainWindow' object has no attribute 'PlotWidget'"
     ]
    },
    {
     "ename": "AttributeError",
     "evalue": "'Ui_MainWindow' object has no attribute 'PlotWidget'",
     "output_type": "error",
     "traceback": [
      "\u001b[1;31m---------------------------------------------------------------------------\u001b[0m",
      "\u001b[1;31mAttributeError\u001b[0m                            Traceback (most recent call last)",
      "Cell \u001b[1;32mIn[1], line 66\u001b[0m, in \u001b[0;36mUserInterface.graph\u001b[1;34m(self)\u001b[0m\n\u001b[0;32m     64\u001b[0m \u001b[39m@Slot\u001b[39m()\n\u001b[0;32m     65\u001b[0m \u001b[39mdef\u001b[39;00m \u001b[39mgraph\u001b[39m(\u001b[39mself\u001b[39m):\n\u001b[1;32m---> 66\u001b[0m     \u001b[39mself\u001b[39;49m\u001b[39m.\u001b[39;49mui\u001b[39m.\u001b[39;49mPlotWidget\u001b[39m.\u001b[39mclear()\n\u001b[0;32m     67\u001b[0m     \u001b[39mself\u001b[39m\u001b[39m.\u001b[39mui\u001b[39m.\u001b[39mIU_graph\u001b[39m.\u001b[39mplot(\u001b[39mself\u001b[39m\u001b[39m.\u001b[39mzc\u001b[39m.\u001b[39mU_gem, \u001b[39mself\u001b[39m\u001b[39m.\u001b[39mzc\u001b[39m.\u001b[39mI_gem, symbol\u001b[39m=\u001b[39m\u001b[39m\"\u001b[39m\u001b[39mo\u001b[39m\u001b[39m\"\u001b[39m, symbolSize\u001b[39m=\u001b[39m\u001b[39m5\u001b[39m, pen\u001b[39m=\u001b[39m\u001b[39mNone\u001b[39;00m)\n\u001b[0;32m     68\u001b[0m     error_bars \u001b[39m=\u001b[39m pg\u001b[39m.\u001b[39mErrorBarItem(x\u001b[39m=\u001b[39mnp\u001b[39m.\u001b[39marray(\u001b[39mself\u001b[39m\u001b[39m.\u001b[39mzc\u001b[39m.\u001b[39mU_gem), y\u001b[39m=\u001b[39mnp\u001b[39m.\u001b[39marray(\u001b[39mself\u001b[39m\u001b[39m.\u001b[39mzc\u001b[39m.\u001b[39mI_gem), height \u001b[39m=\u001b[39m np\u001b[39m.\u001b[39marray(\u001b[39mself\u001b[39m\u001b[39m.\u001b[39mzc\u001b[39m.\u001b[39mI_error))\n",
      "\u001b[1;31mAttributeError\u001b[0m: 'Ui_MainWindow' object has no attribute 'PlotWidget'"
     ]
    },
    {
     "ename": "AttributeError",
     "evalue": "'Ui_MainWindow' object has no attribute 'PlotWidget'",
     "output_type": "error",
     "traceback": [
      "\u001b[1;31m---------------------------------------------------------------------------\u001b[0m",
      "\u001b[1;31mAttributeError\u001b[0m                            Traceback (most recent call last)",
      "Cell \u001b[1;32mIn[1], line 66\u001b[0m, in \u001b[0;36mUserInterface.graph\u001b[1;34m(self)\u001b[0m\n\u001b[0;32m     64\u001b[0m \u001b[39m@Slot\u001b[39m()\n\u001b[0;32m     65\u001b[0m \u001b[39mdef\u001b[39;00m \u001b[39mgraph\u001b[39m(\u001b[39mself\u001b[39m):\n\u001b[1;32m---> 66\u001b[0m     \u001b[39mself\u001b[39;49m\u001b[39m.\u001b[39;49mui\u001b[39m.\u001b[39;49mPlotWidget\u001b[39m.\u001b[39mclear()\n\u001b[0;32m     67\u001b[0m     \u001b[39mself\u001b[39m\u001b[39m.\u001b[39mui\u001b[39m.\u001b[39mIU_graph\u001b[39m.\u001b[39mplot(\u001b[39mself\u001b[39m\u001b[39m.\u001b[39mzc\u001b[39m.\u001b[39mU_gem, \u001b[39mself\u001b[39m\u001b[39m.\u001b[39mzc\u001b[39m.\u001b[39mI_gem, symbol\u001b[39m=\u001b[39m\u001b[39m\"\u001b[39m\u001b[39mo\u001b[39m\u001b[39m\"\u001b[39m, symbolSize\u001b[39m=\u001b[39m\u001b[39m5\u001b[39m, pen\u001b[39m=\u001b[39m\u001b[39mNone\u001b[39;00m)\n\u001b[0;32m     68\u001b[0m     error_bars \u001b[39m=\u001b[39m pg\u001b[39m.\u001b[39mErrorBarItem(x\u001b[39m=\u001b[39mnp\u001b[39m.\u001b[39marray(\u001b[39mself\u001b[39m\u001b[39m.\u001b[39mzc\u001b[39m.\u001b[39mU_gem), y\u001b[39m=\u001b[39mnp\u001b[39m.\u001b[39marray(\u001b[39mself\u001b[39m\u001b[39m.\u001b[39mzc\u001b[39m.\u001b[39mI_gem), height \u001b[39m=\u001b[39m np\u001b[39m.\u001b[39marray(\u001b[39mself\u001b[39m\u001b[39m.\u001b[39mzc\u001b[39m.\u001b[39mI_error))\n",
      "\u001b[1;31mAttributeError\u001b[0m: 'Ui_MainWindow' object has no attribute 'PlotWidget'"
     ]
    },
    {
     "ename": "AttributeError",
     "evalue": "'Ui_MainWindow' object has no attribute 'PlotWidget'",
     "output_type": "error",
     "traceback": [
      "\u001b[1;31m---------------------------------------------------------------------------\u001b[0m",
      "\u001b[1;31mAttributeError\u001b[0m                            Traceback (most recent call last)",
      "Cell \u001b[1;32mIn[1], line 66\u001b[0m, in \u001b[0;36mUserInterface.graph\u001b[1;34m(self)\u001b[0m\n\u001b[0;32m     64\u001b[0m \u001b[39m@Slot\u001b[39m()\n\u001b[0;32m     65\u001b[0m \u001b[39mdef\u001b[39;00m \u001b[39mgraph\u001b[39m(\u001b[39mself\u001b[39m):\n\u001b[1;32m---> 66\u001b[0m     \u001b[39mself\u001b[39;49m\u001b[39m.\u001b[39;49mui\u001b[39m.\u001b[39;49mPlotWidget\u001b[39m.\u001b[39mclear()\n\u001b[0;32m     67\u001b[0m     \u001b[39mself\u001b[39m\u001b[39m.\u001b[39mui\u001b[39m.\u001b[39mIU_graph\u001b[39m.\u001b[39mplot(\u001b[39mself\u001b[39m\u001b[39m.\u001b[39mzc\u001b[39m.\u001b[39mU_gem, \u001b[39mself\u001b[39m\u001b[39m.\u001b[39mzc\u001b[39m.\u001b[39mI_gem, symbol\u001b[39m=\u001b[39m\u001b[39m\"\u001b[39m\u001b[39mo\u001b[39m\u001b[39m\"\u001b[39m, symbolSize\u001b[39m=\u001b[39m\u001b[39m5\u001b[39m, pen\u001b[39m=\u001b[39m\u001b[39mNone\u001b[39;00m)\n\u001b[0;32m     68\u001b[0m     error_bars \u001b[39m=\u001b[39m pg\u001b[39m.\u001b[39mErrorBarItem(x\u001b[39m=\u001b[39mnp\u001b[39m.\u001b[39marray(\u001b[39mself\u001b[39m\u001b[39m.\u001b[39mzc\u001b[39m.\u001b[39mU_gem), y\u001b[39m=\u001b[39mnp\u001b[39m.\u001b[39marray(\u001b[39mself\u001b[39m\u001b[39m.\u001b[39mzc\u001b[39m.\u001b[39mI_gem), height \u001b[39m=\u001b[39m np\u001b[39m.\u001b[39marray(\u001b[39mself\u001b[39m\u001b[39m.\u001b[39mzc\u001b[39m.\u001b[39mI_error))\n",
      "\u001b[1;31mAttributeError\u001b[0m: 'Ui_MainWindow' object has no attribute 'PlotWidget'"
     ]
    },
    {
     "ename": "AttributeError",
     "evalue": "'Ui_MainWindow' object has no attribute 'PlotWidget'",
     "output_type": "error",
     "traceback": [
      "\u001b[1;31m---------------------------------------------------------------------------\u001b[0m",
      "\u001b[1;31mAttributeError\u001b[0m                            Traceback (most recent call last)",
      "Cell \u001b[1;32mIn[1], line 66\u001b[0m, in \u001b[0;36mUserInterface.graph\u001b[1;34m(self)\u001b[0m\n\u001b[0;32m     64\u001b[0m \u001b[39m@Slot\u001b[39m()\n\u001b[0;32m     65\u001b[0m \u001b[39mdef\u001b[39;00m \u001b[39mgraph\u001b[39m(\u001b[39mself\u001b[39m):\n\u001b[1;32m---> 66\u001b[0m     \u001b[39mself\u001b[39;49m\u001b[39m.\u001b[39;49mui\u001b[39m.\u001b[39;49mPlotWidget\u001b[39m.\u001b[39mclear()\n\u001b[0;32m     67\u001b[0m     \u001b[39mself\u001b[39m\u001b[39m.\u001b[39mui\u001b[39m.\u001b[39mIU_graph\u001b[39m.\u001b[39mplot(\u001b[39mself\u001b[39m\u001b[39m.\u001b[39mzc\u001b[39m.\u001b[39mU_gem, \u001b[39mself\u001b[39m\u001b[39m.\u001b[39mzc\u001b[39m.\u001b[39mI_gem, symbol\u001b[39m=\u001b[39m\u001b[39m\"\u001b[39m\u001b[39mo\u001b[39m\u001b[39m\"\u001b[39m, symbolSize\u001b[39m=\u001b[39m\u001b[39m5\u001b[39m, pen\u001b[39m=\u001b[39m\u001b[39mNone\u001b[39;00m)\n\u001b[0;32m     68\u001b[0m     error_bars \u001b[39m=\u001b[39m pg\u001b[39m.\u001b[39mErrorBarItem(x\u001b[39m=\u001b[39mnp\u001b[39m.\u001b[39marray(\u001b[39mself\u001b[39m\u001b[39m.\u001b[39mzc\u001b[39m.\u001b[39mU_gem), y\u001b[39m=\u001b[39mnp\u001b[39m.\u001b[39marray(\u001b[39mself\u001b[39m\u001b[39m.\u001b[39mzc\u001b[39m.\u001b[39mI_gem), height \u001b[39m=\u001b[39m np\u001b[39m.\u001b[39marray(\u001b[39mself\u001b[39m\u001b[39m.\u001b[39mzc\u001b[39m.\u001b[39mI_error))\n",
      "\u001b[1;31mAttributeError\u001b[0m: 'Ui_MainWindow' object has no attribute 'PlotWidget'"
     ]
    },
    {
     "ename": "AttributeError",
     "evalue": "'Ui_MainWindow' object has no attribute 'PlotWidget'",
     "output_type": "error",
     "traceback": [
      "\u001b[1;31m---------------------------------------------------------------------------\u001b[0m",
      "\u001b[1;31mAttributeError\u001b[0m                            Traceback (most recent call last)",
      "Cell \u001b[1;32mIn[1], line 66\u001b[0m, in \u001b[0;36mUserInterface.graph\u001b[1;34m(self)\u001b[0m\n\u001b[0;32m     64\u001b[0m \u001b[39m@Slot\u001b[39m()\n\u001b[0;32m     65\u001b[0m \u001b[39mdef\u001b[39;00m \u001b[39mgraph\u001b[39m(\u001b[39mself\u001b[39m):\n\u001b[1;32m---> 66\u001b[0m     \u001b[39mself\u001b[39;49m\u001b[39m.\u001b[39;49mui\u001b[39m.\u001b[39;49mPlotWidget\u001b[39m.\u001b[39mclear()\n\u001b[0;32m     67\u001b[0m     \u001b[39mself\u001b[39m\u001b[39m.\u001b[39mui\u001b[39m.\u001b[39mIU_graph\u001b[39m.\u001b[39mplot(\u001b[39mself\u001b[39m\u001b[39m.\u001b[39mzc\u001b[39m.\u001b[39mU_gem, \u001b[39mself\u001b[39m\u001b[39m.\u001b[39mzc\u001b[39m.\u001b[39mI_gem, symbol\u001b[39m=\u001b[39m\u001b[39m\"\u001b[39m\u001b[39mo\u001b[39m\u001b[39m\"\u001b[39m, symbolSize\u001b[39m=\u001b[39m\u001b[39m5\u001b[39m, pen\u001b[39m=\u001b[39m\u001b[39mNone\u001b[39;00m)\n\u001b[0;32m     68\u001b[0m     error_bars \u001b[39m=\u001b[39m pg\u001b[39m.\u001b[39mErrorBarItem(x\u001b[39m=\u001b[39mnp\u001b[39m.\u001b[39marray(\u001b[39mself\u001b[39m\u001b[39m.\u001b[39mzc\u001b[39m.\u001b[39mU_gem), y\u001b[39m=\u001b[39mnp\u001b[39m.\u001b[39marray(\u001b[39mself\u001b[39m\u001b[39m.\u001b[39mzc\u001b[39m.\u001b[39mI_gem), height \u001b[39m=\u001b[39m np\u001b[39m.\u001b[39marray(\u001b[39mself\u001b[39m\u001b[39m.\u001b[39mzc\u001b[39m.\u001b[39mI_error))\n",
      "\u001b[1;31mAttributeError\u001b[0m: 'Ui_MainWindow' object has no attribute 'PlotWidget'"
     ]
    },
    {
     "ename": "AttributeError",
     "evalue": "'Ui_MainWindow' object has no attribute 'PlotWidget'",
     "output_type": "error",
     "traceback": [
      "\u001b[1;31m---------------------------------------------------------------------------\u001b[0m",
      "\u001b[1;31mAttributeError\u001b[0m                            Traceback (most recent call last)",
      "Cell \u001b[1;32mIn[1], line 66\u001b[0m, in \u001b[0;36mUserInterface.graph\u001b[1;34m(self)\u001b[0m\n\u001b[0;32m     64\u001b[0m \u001b[39m@Slot\u001b[39m()\n\u001b[0;32m     65\u001b[0m \u001b[39mdef\u001b[39;00m \u001b[39mgraph\u001b[39m(\u001b[39mself\u001b[39m):\n\u001b[1;32m---> 66\u001b[0m     \u001b[39mself\u001b[39;49m\u001b[39m.\u001b[39;49mui\u001b[39m.\u001b[39;49mPlotWidget\u001b[39m.\u001b[39mclear()\n\u001b[0;32m     67\u001b[0m     \u001b[39mself\u001b[39m\u001b[39m.\u001b[39mui\u001b[39m.\u001b[39mIU_graph\u001b[39m.\u001b[39mplot(\u001b[39mself\u001b[39m\u001b[39m.\u001b[39mzc\u001b[39m.\u001b[39mU_gem, \u001b[39mself\u001b[39m\u001b[39m.\u001b[39mzc\u001b[39m.\u001b[39mI_gem, symbol\u001b[39m=\u001b[39m\u001b[39m\"\u001b[39m\u001b[39mo\u001b[39m\u001b[39m\"\u001b[39m, symbolSize\u001b[39m=\u001b[39m\u001b[39m5\u001b[39m, pen\u001b[39m=\u001b[39m\u001b[39mNone\u001b[39;00m)\n\u001b[0;32m     68\u001b[0m     error_bars \u001b[39m=\u001b[39m pg\u001b[39m.\u001b[39mErrorBarItem(x\u001b[39m=\u001b[39mnp\u001b[39m.\u001b[39marray(\u001b[39mself\u001b[39m\u001b[39m.\u001b[39mzc\u001b[39m.\u001b[39mU_gem), y\u001b[39m=\u001b[39mnp\u001b[39m.\u001b[39marray(\u001b[39mself\u001b[39m\u001b[39m.\u001b[39mzc\u001b[39m.\u001b[39mI_gem), height \u001b[39m=\u001b[39m np\u001b[39m.\u001b[39marray(\u001b[39mself\u001b[39m\u001b[39m.\u001b[39mzc\u001b[39m.\u001b[39mI_error))\n",
      "\u001b[1;31mAttributeError\u001b[0m: 'Ui_MainWindow' object has no attribute 'PlotWidget'"
     ]
    },
    {
     "ename": "AttributeError",
     "evalue": "'Ui_MainWindow' object has no attribute 'PlotWidget'",
     "output_type": "error",
     "traceback": [
      "\u001b[1;31m---------------------------------------------------------------------------\u001b[0m",
      "\u001b[1;31mAttributeError\u001b[0m                            Traceback (most recent call last)",
      "Cell \u001b[1;32mIn[1], line 66\u001b[0m, in \u001b[0;36mUserInterface.graph\u001b[1;34m(self)\u001b[0m\n\u001b[0;32m     64\u001b[0m \u001b[39m@Slot\u001b[39m()\n\u001b[0;32m     65\u001b[0m \u001b[39mdef\u001b[39;00m \u001b[39mgraph\u001b[39m(\u001b[39mself\u001b[39m):\n\u001b[1;32m---> 66\u001b[0m     \u001b[39mself\u001b[39;49m\u001b[39m.\u001b[39;49mui\u001b[39m.\u001b[39;49mPlotWidget\u001b[39m.\u001b[39mclear()\n\u001b[0;32m     67\u001b[0m     \u001b[39mself\u001b[39m\u001b[39m.\u001b[39mui\u001b[39m.\u001b[39mIU_graph\u001b[39m.\u001b[39mplot(\u001b[39mself\u001b[39m\u001b[39m.\u001b[39mzc\u001b[39m.\u001b[39mU_gem, \u001b[39mself\u001b[39m\u001b[39m.\u001b[39mzc\u001b[39m.\u001b[39mI_gem, symbol\u001b[39m=\u001b[39m\u001b[39m\"\u001b[39m\u001b[39mo\u001b[39m\u001b[39m\"\u001b[39m, symbolSize\u001b[39m=\u001b[39m\u001b[39m5\u001b[39m, pen\u001b[39m=\u001b[39m\u001b[39mNone\u001b[39;00m)\n\u001b[0;32m     68\u001b[0m     error_bars \u001b[39m=\u001b[39m pg\u001b[39m.\u001b[39mErrorBarItem(x\u001b[39m=\u001b[39mnp\u001b[39m.\u001b[39marray(\u001b[39mself\u001b[39m\u001b[39m.\u001b[39mzc\u001b[39m.\u001b[39mU_gem), y\u001b[39m=\u001b[39mnp\u001b[39m.\u001b[39marray(\u001b[39mself\u001b[39m\u001b[39m.\u001b[39mzc\u001b[39m.\u001b[39mI_gem), height \u001b[39m=\u001b[39m np\u001b[39m.\u001b[39marray(\u001b[39mself\u001b[39m\u001b[39m.\u001b[39mzc\u001b[39m.\u001b[39mI_error))\n",
      "\u001b[1;31mAttributeError\u001b[0m: 'Ui_MainWindow' object has no attribute 'PlotWidget'"
     ]
    },
    {
     "ename": "AttributeError",
     "evalue": "'Ui_MainWindow' object has no attribute 'PlotWidget'",
     "output_type": "error",
     "traceback": [
      "\u001b[1;31m---------------------------------------------------------------------------\u001b[0m",
      "\u001b[1;31mAttributeError\u001b[0m                            Traceback (most recent call last)",
      "Cell \u001b[1;32mIn[1], line 66\u001b[0m, in \u001b[0;36mUserInterface.graph\u001b[1;34m(self)\u001b[0m\n\u001b[0;32m     64\u001b[0m \u001b[39m@Slot\u001b[39m()\n\u001b[0;32m     65\u001b[0m \u001b[39mdef\u001b[39;00m \u001b[39mgraph\u001b[39m(\u001b[39mself\u001b[39m):\n\u001b[1;32m---> 66\u001b[0m     \u001b[39mself\u001b[39;49m\u001b[39m.\u001b[39;49mui\u001b[39m.\u001b[39;49mPlotWidget\u001b[39m.\u001b[39mclear()\n\u001b[0;32m     67\u001b[0m     \u001b[39mself\u001b[39m\u001b[39m.\u001b[39mui\u001b[39m.\u001b[39mIU_graph\u001b[39m.\u001b[39mplot(\u001b[39mself\u001b[39m\u001b[39m.\u001b[39mzc\u001b[39m.\u001b[39mU_gem, \u001b[39mself\u001b[39m\u001b[39m.\u001b[39mzc\u001b[39m.\u001b[39mI_gem, symbol\u001b[39m=\u001b[39m\u001b[39m\"\u001b[39m\u001b[39mo\u001b[39m\u001b[39m\"\u001b[39m, symbolSize\u001b[39m=\u001b[39m\u001b[39m5\u001b[39m, pen\u001b[39m=\u001b[39m\u001b[39mNone\u001b[39;00m)\n\u001b[0;32m     68\u001b[0m     error_bars \u001b[39m=\u001b[39m pg\u001b[39m.\u001b[39mErrorBarItem(x\u001b[39m=\u001b[39mnp\u001b[39m.\u001b[39marray(\u001b[39mself\u001b[39m\u001b[39m.\u001b[39mzc\u001b[39m.\u001b[39mU_gem), y\u001b[39m=\u001b[39mnp\u001b[39m.\u001b[39marray(\u001b[39mself\u001b[39m\u001b[39m.\u001b[39mzc\u001b[39m.\u001b[39mI_gem), height \u001b[39m=\u001b[39m np\u001b[39m.\u001b[39marray(\u001b[39mself\u001b[39m\u001b[39m.\u001b[39mzc\u001b[39m.\u001b[39mI_error))\n",
      "\u001b[1;31mAttributeError\u001b[0m: 'Ui_MainWindow' object has no attribute 'PlotWidget'"
     ]
    },
    {
     "ename": "AttributeError",
     "evalue": "'Ui_MainWindow' object has no attribute 'PlotWidget'",
     "output_type": "error",
     "traceback": [
      "\u001b[1;31m---------------------------------------------------------------------------\u001b[0m",
      "\u001b[1;31mAttributeError\u001b[0m                            Traceback (most recent call last)",
      "Cell \u001b[1;32mIn[1], line 66\u001b[0m, in \u001b[0;36mUserInterface.graph\u001b[1;34m(self)\u001b[0m\n\u001b[0;32m     64\u001b[0m \u001b[39m@Slot\u001b[39m()\n\u001b[0;32m     65\u001b[0m \u001b[39mdef\u001b[39;00m \u001b[39mgraph\u001b[39m(\u001b[39mself\u001b[39m):\n\u001b[1;32m---> 66\u001b[0m     \u001b[39mself\u001b[39;49m\u001b[39m.\u001b[39;49mui\u001b[39m.\u001b[39;49mPlotWidget\u001b[39m.\u001b[39mclear()\n\u001b[0;32m     67\u001b[0m     \u001b[39mself\u001b[39m\u001b[39m.\u001b[39mui\u001b[39m.\u001b[39mIU_graph\u001b[39m.\u001b[39mplot(\u001b[39mself\u001b[39m\u001b[39m.\u001b[39mzc\u001b[39m.\u001b[39mU_gem, \u001b[39mself\u001b[39m\u001b[39m.\u001b[39mzc\u001b[39m.\u001b[39mI_gem, symbol\u001b[39m=\u001b[39m\u001b[39m\"\u001b[39m\u001b[39mo\u001b[39m\u001b[39m\"\u001b[39m, symbolSize\u001b[39m=\u001b[39m\u001b[39m5\u001b[39m, pen\u001b[39m=\u001b[39m\u001b[39mNone\u001b[39;00m)\n\u001b[0;32m     68\u001b[0m     error_bars \u001b[39m=\u001b[39m pg\u001b[39m.\u001b[39mErrorBarItem(x\u001b[39m=\u001b[39mnp\u001b[39m.\u001b[39marray(\u001b[39mself\u001b[39m\u001b[39m.\u001b[39mzc\u001b[39m.\u001b[39mU_gem), y\u001b[39m=\u001b[39mnp\u001b[39m.\u001b[39marray(\u001b[39mself\u001b[39m\u001b[39m.\u001b[39mzc\u001b[39m.\u001b[39mI_gem), height \u001b[39m=\u001b[39m np\u001b[39m.\u001b[39marray(\u001b[39mself\u001b[39m\u001b[39m.\u001b[39mzc\u001b[39m.\u001b[39mI_error))\n",
      "\u001b[1;31mAttributeError\u001b[0m: 'Ui_MainWindow' object has no attribute 'PlotWidget'"
     ]
    },
    {
     "ename": "AttributeError",
     "evalue": "'Ui_MainWindow' object has no attribute 'PlotWidget'",
     "output_type": "error",
     "traceback": [
      "\u001b[1;31m---------------------------------------------------------------------------\u001b[0m",
      "\u001b[1;31mAttributeError\u001b[0m                            Traceback (most recent call last)",
      "Cell \u001b[1;32mIn[1], line 66\u001b[0m, in \u001b[0;36mUserInterface.graph\u001b[1;34m(self)\u001b[0m\n\u001b[0;32m     64\u001b[0m \u001b[39m@Slot\u001b[39m()\n\u001b[0;32m     65\u001b[0m \u001b[39mdef\u001b[39;00m \u001b[39mgraph\u001b[39m(\u001b[39mself\u001b[39m):\n\u001b[1;32m---> 66\u001b[0m     \u001b[39mself\u001b[39;49m\u001b[39m.\u001b[39;49mui\u001b[39m.\u001b[39;49mPlotWidget\u001b[39m.\u001b[39mclear()\n\u001b[0;32m     67\u001b[0m     \u001b[39mself\u001b[39m\u001b[39m.\u001b[39mui\u001b[39m.\u001b[39mIU_graph\u001b[39m.\u001b[39mplot(\u001b[39mself\u001b[39m\u001b[39m.\u001b[39mzc\u001b[39m.\u001b[39mU_gem, \u001b[39mself\u001b[39m\u001b[39m.\u001b[39mzc\u001b[39m.\u001b[39mI_gem, symbol\u001b[39m=\u001b[39m\u001b[39m\"\u001b[39m\u001b[39mo\u001b[39m\u001b[39m\"\u001b[39m, symbolSize\u001b[39m=\u001b[39m\u001b[39m5\u001b[39m, pen\u001b[39m=\u001b[39m\u001b[39mNone\u001b[39;00m)\n\u001b[0;32m     68\u001b[0m     error_bars \u001b[39m=\u001b[39m pg\u001b[39m.\u001b[39mErrorBarItem(x\u001b[39m=\u001b[39mnp\u001b[39m.\u001b[39marray(\u001b[39mself\u001b[39m\u001b[39m.\u001b[39mzc\u001b[39m.\u001b[39mU_gem), y\u001b[39m=\u001b[39mnp\u001b[39m.\u001b[39marray(\u001b[39mself\u001b[39m\u001b[39m.\u001b[39mzc\u001b[39m.\u001b[39mI_gem), height \u001b[39m=\u001b[39m np\u001b[39m.\u001b[39marray(\u001b[39mself\u001b[39m\u001b[39m.\u001b[39mzc\u001b[39m.\u001b[39mI_error))\n",
      "\u001b[1;31mAttributeError\u001b[0m: 'Ui_MainWindow' object has no attribute 'PlotWidget'"
     ]
    },
    {
     "ename": "AttributeError",
     "evalue": "'Ui_MainWindow' object has no attribute 'PlotWidget'",
     "output_type": "error",
     "traceback": [
      "\u001b[1;31m---------------------------------------------------------------------------\u001b[0m",
      "\u001b[1;31mAttributeError\u001b[0m                            Traceback (most recent call last)",
      "Cell \u001b[1;32mIn[1], line 66\u001b[0m, in \u001b[0;36mUserInterface.graph\u001b[1;34m(self)\u001b[0m\n\u001b[0;32m     64\u001b[0m \u001b[39m@Slot\u001b[39m()\n\u001b[0;32m     65\u001b[0m \u001b[39mdef\u001b[39;00m \u001b[39mgraph\u001b[39m(\u001b[39mself\u001b[39m):\n\u001b[1;32m---> 66\u001b[0m     \u001b[39mself\u001b[39;49m\u001b[39m.\u001b[39;49mui\u001b[39m.\u001b[39;49mPlotWidget\u001b[39m.\u001b[39mclear()\n\u001b[0;32m     67\u001b[0m     \u001b[39mself\u001b[39m\u001b[39m.\u001b[39mui\u001b[39m.\u001b[39mIU_graph\u001b[39m.\u001b[39mplot(\u001b[39mself\u001b[39m\u001b[39m.\u001b[39mzc\u001b[39m.\u001b[39mU_gem, \u001b[39mself\u001b[39m\u001b[39m.\u001b[39mzc\u001b[39m.\u001b[39mI_gem, symbol\u001b[39m=\u001b[39m\u001b[39m\"\u001b[39m\u001b[39mo\u001b[39m\u001b[39m\"\u001b[39m, symbolSize\u001b[39m=\u001b[39m\u001b[39m5\u001b[39m, pen\u001b[39m=\u001b[39m\u001b[39mNone\u001b[39;00m)\n\u001b[0;32m     68\u001b[0m     error_bars \u001b[39m=\u001b[39m pg\u001b[39m.\u001b[39mErrorBarItem(x\u001b[39m=\u001b[39mnp\u001b[39m.\u001b[39marray(\u001b[39mself\u001b[39m\u001b[39m.\u001b[39mzc\u001b[39m.\u001b[39mU_gem), y\u001b[39m=\u001b[39mnp\u001b[39m.\u001b[39marray(\u001b[39mself\u001b[39m\u001b[39m.\u001b[39mzc\u001b[39m.\u001b[39mI_gem), height \u001b[39m=\u001b[39m np\u001b[39m.\u001b[39marray(\u001b[39mself\u001b[39m\u001b[39m.\u001b[39mzc\u001b[39m.\u001b[39mI_error))\n",
      "\u001b[1;31mAttributeError\u001b[0m: 'Ui_MainWindow' object has no attribute 'PlotWidget'"
     ]
    },
    {
     "ename": "AttributeError",
     "evalue": "'Ui_MainWindow' object has no attribute 'PlotWidget'",
     "output_type": "error",
     "traceback": [
      "\u001b[1;31m---------------------------------------------------------------------------\u001b[0m",
      "\u001b[1;31mAttributeError\u001b[0m                            Traceback (most recent call last)",
      "Cell \u001b[1;32mIn[1], line 66\u001b[0m, in \u001b[0;36mUserInterface.graph\u001b[1;34m(self)\u001b[0m\n\u001b[0;32m     64\u001b[0m \u001b[39m@Slot\u001b[39m()\n\u001b[0;32m     65\u001b[0m \u001b[39mdef\u001b[39;00m \u001b[39mgraph\u001b[39m(\u001b[39mself\u001b[39m):\n\u001b[1;32m---> 66\u001b[0m     \u001b[39mself\u001b[39;49m\u001b[39m.\u001b[39;49mui\u001b[39m.\u001b[39;49mPlotWidget\u001b[39m.\u001b[39mclear()\n\u001b[0;32m     67\u001b[0m     \u001b[39mself\u001b[39m\u001b[39m.\u001b[39mui\u001b[39m.\u001b[39mIU_graph\u001b[39m.\u001b[39mplot(\u001b[39mself\u001b[39m\u001b[39m.\u001b[39mzc\u001b[39m.\u001b[39mU_gem, \u001b[39mself\u001b[39m\u001b[39m.\u001b[39mzc\u001b[39m.\u001b[39mI_gem, symbol\u001b[39m=\u001b[39m\u001b[39m\"\u001b[39m\u001b[39mo\u001b[39m\u001b[39m\"\u001b[39m, symbolSize\u001b[39m=\u001b[39m\u001b[39m5\u001b[39m, pen\u001b[39m=\u001b[39m\u001b[39mNone\u001b[39;00m)\n\u001b[0;32m     68\u001b[0m     error_bars \u001b[39m=\u001b[39m pg\u001b[39m.\u001b[39mErrorBarItem(x\u001b[39m=\u001b[39mnp\u001b[39m.\u001b[39marray(\u001b[39mself\u001b[39m\u001b[39m.\u001b[39mzc\u001b[39m.\u001b[39mU_gem), y\u001b[39m=\u001b[39mnp\u001b[39m.\u001b[39marray(\u001b[39mself\u001b[39m\u001b[39m.\u001b[39mzc\u001b[39m.\u001b[39mI_gem), height \u001b[39m=\u001b[39m np\u001b[39m.\u001b[39marray(\u001b[39mself\u001b[39m\u001b[39m.\u001b[39mzc\u001b[39m.\u001b[39mI_error))\n",
      "\u001b[1;31mAttributeError\u001b[0m: 'Ui_MainWindow' object has no attribute 'PlotWidget'"
     ]
    },
    {
     "ename": "AttributeError",
     "evalue": "'Ui_MainWindow' object has no attribute 'PlotWidget'",
     "output_type": "error",
     "traceback": [
      "\u001b[1;31m---------------------------------------------------------------------------\u001b[0m",
      "\u001b[1;31mAttributeError\u001b[0m                            Traceback (most recent call last)",
      "Cell \u001b[1;32mIn[1], line 66\u001b[0m, in \u001b[0;36mUserInterface.graph\u001b[1;34m(self)\u001b[0m\n\u001b[0;32m     64\u001b[0m \u001b[39m@Slot\u001b[39m()\n\u001b[0;32m     65\u001b[0m \u001b[39mdef\u001b[39;00m \u001b[39mgraph\u001b[39m(\u001b[39mself\u001b[39m):\n\u001b[1;32m---> 66\u001b[0m     \u001b[39mself\u001b[39;49m\u001b[39m.\u001b[39;49mui\u001b[39m.\u001b[39;49mPlotWidget\u001b[39m.\u001b[39mclear()\n\u001b[0;32m     67\u001b[0m     \u001b[39mself\u001b[39m\u001b[39m.\u001b[39mui\u001b[39m.\u001b[39mIU_graph\u001b[39m.\u001b[39mplot(\u001b[39mself\u001b[39m\u001b[39m.\u001b[39mzc\u001b[39m.\u001b[39mU_gem, \u001b[39mself\u001b[39m\u001b[39m.\u001b[39mzc\u001b[39m.\u001b[39mI_gem, symbol\u001b[39m=\u001b[39m\u001b[39m\"\u001b[39m\u001b[39mo\u001b[39m\u001b[39m\"\u001b[39m, symbolSize\u001b[39m=\u001b[39m\u001b[39m5\u001b[39m, pen\u001b[39m=\u001b[39m\u001b[39mNone\u001b[39;00m)\n\u001b[0;32m     68\u001b[0m     error_bars \u001b[39m=\u001b[39m pg\u001b[39m.\u001b[39mErrorBarItem(x\u001b[39m=\u001b[39mnp\u001b[39m.\u001b[39marray(\u001b[39mself\u001b[39m\u001b[39m.\u001b[39mzc\u001b[39m.\u001b[39mU_gem), y\u001b[39m=\u001b[39mnp\u001b[39m.\u001b[39marray(\u001b[39mself\u001b[39m\u001b[39m.\u001b[39mzc\u001b[39m.\u001b[39mI_gem), height \u001b[39m=\u001b[39m np\u001b[39m.\u001b[39marray(\u001b[39mself\u001b[39m\u001b[39m.\u001b[39mzc\u001b[39m.\u001b[39mI_error))\n",
      "\u001b[1;31mAttributeError\u001b[0m: 'Ui_MainWindow' object has no attribute 'PlotWidget'"
     ]
    },
    {
     "ename": "AttributeError",
     "evalue": "'Ui_MainWindow' object has no attribute 'PlotWidget'",
     "output_type": "error",
     "traceback": [
      "\u001b[1;31m---------------------------------------------------------------------------\u001b[0m",
      "\u001b[1;31mAttributeError\u001b[0m                            Traceback (most recent call last)",
      "Cell \u001b[1;32mIn[1], line 66\u001b[0m, in \u001b[0;36mUserInterface.graph\u001b[1;34m(self)\u001b[0m\n\u001b[0;32m     64\u001b[0m \u001b[39m@Slot\u001b[39m()\n\u001b[0;32m     65\u001b[0m \u001b[39mdef\u001b[39;00m \u001b[39mgraph\u001b[39m(\u001b[39mself\u001b[39m):\n\u001b[1;32m---> 66\u001b[0m     \u001b[39mself\u001b[39;49m\u001b[39m.\u001b[39;49mui\u001b[39m.\u001b[39;49mPlotWidget\u001b[39m.\u001b[39mclear()\n\u001b[0;32m     67\u001b[0m     \u001b[39mself\u001b[39m\u001b[39m.\u001b[39mui\u001b[39m.\u001b[39mIU_graph\u001b[39m.\u001b[39mplot(\u001b[39mself\u001b[39m\u001b[39m.\u001b[39mzc\u001b[39m.\u001b[39mU_gem, \u001b[39mself\u001b[39m\u001b[39m.\u001b[39mzc\u001b[39m.\u001b[39mI_gem, symbol\u001b[39m=\u001b[39m\u001b[39m\"\u001b[39m\u001b[39mo\u001b[39m\u001b[39m\"\u001b[39m, symbolSize\u001b[39m=\u001b[39m\u001b[39m5\u001b[39m, pen\u001b[39m=\u001b[39m\u001b[39mNone\u001b[39;00m)\n\u001b[0;32m     68\u001b[0m     error_bars \u001b[39m=\u001b[39m pg\u001b[39m.\u001b[39mErrorBarItem(x\u001b[39m=\u001b[39mnp\u001b[39m.\u001b[39marray(\u001b[39mself\u001b[39m\u001b[39m.\u001b[39mzc\u001b[39m.\u001b[39mU_gem), y\u001b[39m=\u001b[39mnp\u001b[39m.\u001b[39marray(\u001b[39mself\u001b[39m\u001b[39m.\u001b[39mzc\u001b[39m.\u001b[39mI_gem), height \u001b[39m=\u001b[39m np\u001b[39m.\u001b[39marray(\u001b[39mself\u001b[39m\u001b[39m.\u001b[39mzc\u001b[39m.\u001b[39mI_error))\n",
      "\u001b[1;31mAttributeError\u001b[0m: 'Ui_MainWindow' object has no attribute 'PlotWidget'"
     ]
    },
    {
     "ename": "AttributeError",
     "evalue": "'Ui_MainWindow' object has no attribute 'PlotWidget'",
     "output_type": "error",
     "traceback": [
      "\u001b[1;31m---------------------------------------------------------------------------\u001b[0m",
      "\u001b[1;31mAttributeError\u001b[0m                            Traceback (most recent call last)",
      "Cell \u001b[1;32mIn[1], line 66\u001b[0m, in \u001b[0;36mUserInterface.graph\u001b[1;34m(self)\u001b[0m\n\u001b[0;32m     64\u001b[0m \u001b[39m@Slot\u001b[39m()\n\u001b[0;32m     65\u001b[0m \u001b[39mdef\u001b[39;00m \u001b[39mgraph\u001b[39m(\u001b[39mself\u001b[39m):\n\u001b[1;32m---> 66\u001b[0m     \u001b[39mself\u001b[39;49m\u001b[39m.\u001b[39;49mui\u001b[39m.\u001b[39;49mPlotWidget\u001b[39m.\u001b[39mclear()\n\u001b[0;32m     67\u001b[0m     \u001b[39mself\u001b[39m\u001b[39m.\u001b[39mui\u001b[39m.\u001b[39mIU_graph\u001b[39m.\u001b[39mplot(\u001b[39mself\u001b[39m\u001b[39m.\u001b[39mzc\u001b[39m.\u001b[39mU_gem, \u001b[39mself\u001b[39m\u001b[39m.\u001b[39mzc\u001b[39m.\u001b[39mI_gem, symbol\u001b[39m=\u001b[39m\u001b[39m\"\u001b[39m\u001b[39mo\u001b[39m\u001b[39m\"\u001b[39m, symbolSize\u001b[39m=\u001b[39m\u001b[39m5\u001b[39m, pen\u001b[39m=\u001b[39m\u001b[39mNone\u001b[39;00m)\n\u001b[0;32m     68\u001b[0m     error_bars \u001b[39m=\u001b[39m pg\u001b[39m.\u001b[39mErrorBarItem(x\u001b[39m=\u001b[39mnp\u001b[39m.\u001b[39marray(\u001b[39mself\u001b[39m\u001b[39m.\u001b[39mzc\u001b[39m.\u001b[39mU_gem), y\u001b[39m=\u001b[39mnp\u001b[39m.\u001b[39marray(\u001b[39mself\u001b[39m\u001b[39m.\u001b[39mzc\u001b[39m.\u001b[39mI_gem), height \u001b[39m=\u001b[39m np\u001b[39m.\u001b[39marray(\u001b[39mself\u001b[39m\u001b[39m.\u001b[39mzc\u001b[39m.\u001b[39mI_error))\n",
      "\u001b[1;31mAttributeError\u001b[0m: 'Ui_MainWindow' object has no attribute 'PlotWidget'"
     ]
    },
    {
     "ename": "AttributeError",
     "evalue": "'Ui_MainWindow' object has no attribute 'PlotWidget'",
     "output_type": "error",
     "traceback": [
      "\u001b[1;31m---------------------------------------------------------------------------\u001b[0m",
      "\u001b[1;31mAttributeError\u001b[0m                            Traceback (most recent call last)",
      "Cell \u001b[1;32mIn[1], line 66\u001b[0m, in \u001b[0;36mUserInterface.graph\u001b[1;34m(self)\u001b[0m\n\u001b[0;32m     64\u001b[0m \u001b[39m@Slot\u001b[39m()\n\u001b[0;32m     65\u001b[0m \u001b[39mdef\u001b[39;00m \u001b[39mgraph\u001b[39m(\u001b[39mself\u001b[39m):\n\u001b[1;32m---> 66\u001b[0m     \u001b[39mself\u001b[39;49m\u001b[39m.\u001b[39;49mui\u001b[39m.\u001b[39;49mPlotWidget\u001b[39m.\u001b[39mclear()\n\u001b[0;32m     67\u001b[0m     \u001b[39mself\u001b[39m\u001b[39m.\u001b[39mui\u001b[39m.\u001b[39mIU_graph\u001b[39m.\u001b[39mplot(\u001b[39mself\u001b[39m\u001b[39m.\u001b[39mzc\u001b[39m.\u001b[39mU_gem, \u001b[39mself\u001b[39m\u001b[39m.\u001b[39mzc\u001b[39m.\u001b[39mI_gem, symbol\u001b[39m=\u001b[39m\u001b[39m\"\u001b[39m\u001b[39mo\u001b[39m\u001b[39m\"\u001b[39m, symbolSize\u001b[39m=\u001b[39m\u001b[39m5\u001b[39m, pen\u001b[39m=\u001b[39m\u001b[39mNone\u001b[39;00m)\n\u001b[0;32m     68\u001b[0m     error_bars \u001b[39m=\u001b[39m pg\u001b[39m.\u001b[39mErrorBarItem(x\u001b[39m=\u001b[39mnp\u001b[39m.\u001b[39marray(\u001b[39mself\u001b[39m\u001b[39m.\u001b[39mzc\u001b[39m.\u001b[39mU_gem), y\u001b[39m=\u001b[39mnp\u001b[39m.\u001b[39marray(\u001b[39mself\u001b[39m\u001b[39m.\u001b[39mzc\u001b[39m.\u001b[39mI_gem), height \u001b[39m=\u001b[39m np\u001b[39m.\u001b[39marray(\u001b[39mself\u001b[39m\u001b[39m.\u001b[39mzc\u001b[39m.\u001b[39mI_error))\n",
      "\u001b[1;31mAttributeError\u001b[0m: 'Ui_MainWindow' object has no attribute 'PlotWidget'"
     ]
    },
    {
     "ename": "AttributeError",
     "evalue": "'Ui_MainWindow' object has no attribute 'PlotWidget'",
     "output_type": "error",
     "traceback": [
      "\u001b[1;31m---------------------------------------------------------------------------\u001b[0m",
      "\u001b[1;31mAttributeError\u001b[0m                            Traceback (most recent call last)",
      "Cell \u001b[1;32mIn[1], line 66\u001b[0m, in \u001b[0;36mUserInterface.graph\u001b[1;34m(self)\u001b[0m\n\u001b[0;32m     64\u001b[0m \u001b[39m@Slot\u001b[39m()\n\u001b[0;32m     65\u001b[0m \u001b[39mdef\u001b[39;00m \u001b[39mgraph\u001b[39m(\u001b[39mself\u001b[39m):\n\u001b[1;32m---> 66\u001b[0m     \u001b[39mself\u001b[39;49m\u001b[39m.\u001b[39;49mui\u001b[39m.\u001b[39;49mPlotWidget\u001b[39m.\u001b[39mclear()\n\u001b[0;32m     67\u001b[0m     \u001b[39mself\u001b[39m\u001b[39m.\u001b[39mui\u001b[39m.\u001b[39mIU_graph\u001b[39m.\u001b[39mplot(\u001b[39mself\u001b[39m\u001b[39m.\u001b[39mzc\u001b[39m.\u001b[39mU_gem, \u001b[39mself\u001b[39m\u001b[39m.\u001b[39mzc\u001b[39m.\u001b[39mI_gem, symbol\u001b[39m=\u001b[39m\u001b[39m\"\u001b[39m\u001b[39mo\u001b[39m\u001b[39m\"\u001b[39m, symbolSize\u001b[39m=\u001b[39m\u001b[39m5\u001b[39m, pen\u001b[39m=\u001b[39m\u001b[39mNone\u001b[39;00m)\n\u001b[0;32m     68\u001b[0m     error_bars \u001b[39m=\u001b[39m pg\u001b[39m.\u001b[39mErrorBarItem(x\u001b[39m=\u001b[39mnp\u001b[39m.\u001b[39marray(\u001b[39mself\u001b[39m\u001b[39m.\u001b[39mzc\u001b[39m.\u001b[39mU_gem), y\u001b[39m=\u001b[39mnp\u001b[39m.\u001b[39marray(\u001b[39mself\u001b[39m\u001b[39m.\u001b[39mzc\u001b[39m.\u001b[39mI_gem), height \u001b[39m=\u001b[39m np\u001b[39m.\u001b[39marray(\u001b[39mself\u001b[39m\u001b[39m.\u001b[39mzc\u001b[39m.\u001b[39mI_error))\n",
      "\u001b[1;31mAttributeError\u001b[0m: 'Ui_MainWindow' object has no attribute 'PlotWidget'"
     ]
    },
    {
     "ename": "AttributeError",
     "evalue": "'Ui_MainWindow' object has no attribute 'PlotWidget'",
     "output_type": "error",
     "traceback": [
      "\u001b[1;31m---------------------------------------------------------------------------\u001b[0m",
      "\u001b[1;31mAttributeError\u001b[0m                            Traceback (most recent call last)",
      "Cell \u001b[1;32mIn[1], line 66\u001b[0m, in \u001b[0;36mUserInterface.graph\u001b[1;34m(self)\u001b[0m\n\u001b[0;32m     64\u001b[0m \u001b[39m@Slot\u001b[39m()\n\u001b[0;32m     65\u001b[0m \u001b[39mdef\u001b[39;00m \u001b[39mgraph\u001b[39m(\u001b[39mself\u001b[39m):\n\u001b[1;32m---> 66\u001b[0m     \u001b[39mself\u001b[39;49m\u001b[39m.\u001b[39;49mui\u001b[39m.\u001b[39;49mPlotWidget\u001b[39m.\u001b[39mclear()\n\u001b[0;32m     67\u001b[0m     \u001b[39mself\u001b[39m\u001b[39m.\u001b[39mui\u001b[39m.\u001b[39mIU_graph\u001b[39m.\u001b[39mplot(\u001b[39mself\u001b[39m\u001b[39m.\u001b[39mzc\u001b[39m.\u001b[39mU_gem, \u001b[39mself\u001b[39m\u001b[39m.\u001b[39mzc\u001b[39m.\u001b[39mI_gem, symbol\u001b[39m=\u001b[39m\u001b[39m\"\u001b[39m\u001b[39mo\u001b[39m\u001b[39m\"\u001b[39m, symbolSize\u001b[39m=\u001b[39m\u001b[39m5\u001b[39m, pen\u001b[39m=\u001b[39m\u001b[39mNone\u001b[39;00m)\n\u001b[0;32m     68\u001b[0m     error_bars \u001b[39m=\u001b[39m pg\u001b[39m.\u001b[39mErrorBarItem(x\u001b[39m=\u001b[39mnp\u001b[39m.\u001b[39marray(\u001b[39mself\u001b[39m\u001b[39m.\u001b[39mzc\u001b[39m.\u001b[39mU_gem), y\u001b[39m=\u001b[39mnp\u001b[39m.\u001b[39marray(\u001b[39mself\u001b[39m\u001b[39m.\u001b[39mzc\u001b[39m.\u001b[39mI_gem), height \u001b[39m=\u001b[39m np\u001b[39m.\u001b[39marray(\u001b[39mself\u001b[39m\u001b[39m.\u001b[39mzc\u001b[39m.\u001b[39mI_error))\n",
      "\u001b[1;31mAttributeError\u001b[0m: 'Ui_MainWindow' object has no attribute 'PlotWidget'"
     ]
    },
    {
     "ename": "AttributeError",
     "evalue": "'Ui_MainWindow' object has no attribute 'PlotWidget'",
     "output_type": "error",
     "traceback": [
      "\u001b[1;31m---------------------------------------------------------------------------\u001b[0m",
      "\u001b[1;31mAttributeError\u001b[0m                            Traceback (most recent call last)",
      "Cell \u001b[1;32mIn[1], line 66\u001b[0m, in \u001b[0;36mUserInterface.graph\u001b[1;34m(self)\u001b[0m\n\u001b[0;32m     64\u001b[0m \u001b[39m@Slot\u001b[39m()\n\u001b[0;32m     65\u001b[0m \u001b[39mdef\u001b[39;00m \u001b[39mgraph\u001b[39m(\u001b[39mself\u001b[39m):\n\u001b[1;32m---> 66\u001b[0m     \u001b[39mself\u001b[39;49m\u001b[39m.\u001b[39;49mui\u001b[39m.\u001b[39;49mPlotWidget\u001b[39m.\u001b[39mclear()\n\u001b[0;32m     67\u001b[0m     \u001b[39mself\u001b[39m\u001b[39m.\u001b[39mui\u001b[39m.\u001b[39mIU_graph\u001b[39m.\u001b[39mplot(\u001b[39mself\u001b[39m\u001b[39m.\u001b[39mzc\u001b[39m.\u001b[39mU_gem, \u001b[39mself\u001b[39m\u001b[39m.\u001b[39mzc\u001b[39m.\u001b[39mI_gem, symbol\u001b[39m=\u001b[39m\u001b[39m\"\u001b[39m\u001b[39mo\u001b[39m\u001b[39m\"\u001b[39m, symbolSize\u001b[39m=\u001b[39m\u001b[39m5\u001b[39m, pen\u001b[39m=\u001b[39m\u001b[39mNone\u001b[39;00m)\n\u001b[0;32m     68\u001b[0m     error_bars \u001b[39m=\u001b[39m pg\u001b[39m.\u001b[39mErrorBarItem(x\u001b[39m=\u001b[39mnp\u001b[39m.\u001b[39marray(\u001b[39mself\u001b[39m\u001b[39m.\u001b[39mzc\u001b[39m.\u001b[39mU_gem), y\u001b[39m=\u001b[39mnp\u001b[39m.\u001b[39marray(\u001b[39mself\u001b[39m\u001b[39m.\u001b[39mzc\u001b[39m.\u001b[39mI_gem), height \u001b[39m=\u001b[39m np\u001b[39m.\u001b[39marray(\u001b[39mself\u001b[39m\u001b[39m.\u001b[39mzc\u001b[39m.\u001b[39mI_error))\n",
      "\u001b[1;31mAttributeError\u001b[0m: 'Ui_MainWindow' object has no attribute 'PlotWidget'"
     ]
    },
    {
     "ename": "AttributeError",
     "evalue": "'Ui_MainWindow' object has no attribute 'PlotWidget'",
     "output_type": "error",
     "traceback": [
      "\u001b[1;31m---------------------------------------------------------------------------\u001b[0m",
      "\u001b[1;31mAttributeError\u001b[0m                            Traceback (most recent call last)",
      "Cell \u001b[1;32mIn[1], line 66\u001b[0m, in \u001b[0;36mUserInterface.graph\u001b[1;34m(self)\u001b[0m\n\u001b[0;32m     64\u001b[0m \u001b[39m@Slot\u001b[39m()\n\u001b[0;32m     65\u001b[0m \u001b[39mdef\u001b[39;00m \u001b[39mgraph\u001b[39m(\u001b[39mself\u001b[39m):\n\u001b[1;32m---> 66\u001b[0m     \u001b[39mself\u001b[39;49m\u001b[39m.\u001b[39;49mui\u001b[39m.\u001b[39;49mPlotWidget\u001b[39m.\u001b[39mclear()\n\u001b[0;32m     67\u001b[0m     \u001b[39mself\u001b[39m\u001b[39m.\u001b[39mui\u001b[39m.\u001b[39mIU_graph\u001b[39m.\u001b[39mplot(\u001b[39mself\u001b[39m\u001b[39m.\u001b[39mzc\u001b[39m.\u001b[39mU_gem, \u001b[39mself\u001b[39m\u001b[39m.\u001b[39mzc\u001b[39m.\u001b[39mI_gem, symbol\u001b[39m=\u001b[39m\u001b[39m\"\u001b[39m\u001b[39mo\u001b[39m\u001b[39m\"\u001b[39m, symbolSize\u001b[39m=\u001b[39m\u001b[39m5\u001b[39m, pen\u001b[39m=\u001b[39m\u001b[39mNone\u001b[39;00m)\n\u001b[0;32m     68\u001b[0m     error_bars \u001b[39m=\u001b[39m pg\u001b[39m.\u001b[39mErrorBarItem(x\u001b[39m=\u001b[39mnp\u001b[39m.\u001b[39marray(\u001b[39mself\u001b[39m\u001b[39m.\u001b[39mzc\u001b[39m.\u001b[39mU_gem), y\u001b[39m=\u001b[39mnp\u001b[39m.\u001b[39marray(\u001b[39mself\u001b[39m\u001b[39m.\u001b[39mzc\u001b[39m.\u001b[39mI_gem), height \u001b[39m=\u001b[39m np\u001b[39m.\u001b[39marray(\u001b[39mself\u001b[39m\u001b[39m.\u001b[39mzc\u001b[39m.\u001b[39mI_error))\n",
      "\u001b[1;31mAttributeError\u001b[0m: 'Ui_MainWindow' object has no attribute 'PlotWidget'"
     ]
    },
    {
     "ename": "AttributeError",
     "evalue": "'Ui_MainWindow' object has no attribute 'PlotWidget'",
     "output_type": "error",
     "traceback": [
      "\u001b[1;31m---------------------------------------------------------------------------\u001b[0m",
      "\u001b[1;31mAttributeError\u001b[0m                            Traceback (most recent call last)",
      "Cell \u001b[1;32mIn[1], line 66\u001b[0m, in \u001b[0;36mUserInterface.graph\u001b[1;34m(self)\u001b[0m\n\u001b[0;32m     64\u001b[0m \u001b[39m@Slot\u001b[39m()\n\u001b[0;32m     65\u001b[0m \u001b[39mdef\u001b[39;00m \u001b[39mgraph\u001b[39m(\u001b[39mself\u001b[39m):\n\u001b[1;32m---> 66\u001b[0m     \u001b[39mself\u001b[39;49m\u001b[39m.\u001b[39;49mui\u001b[39m.\u001b[39;49mPlotWidget\u001b[39m.\u001b[39mclear()\n\u001b[0;32m     67\u001b[0m     \u001b[39mself\u001b[39m\u001b[39m.\u001b[39mui\u001b[39m.\u001b[39mIU_graph\u001b[39m.\u001b[39mplot(\u001b[39mself\u001b[39m\u001b[39m.\u001b[39mzc\u001b[39m.\u001b[39mU_gem, \u001b[39mself\u001b[39m\u001b[39m.\u001b[39mzc\u001b[39m.\u001b[39mI_gem, symbol\u001b[39m=\u001b[39m\u001b[39m\"\u001b[39m\u001b[39mo\u001b[39m\u001b[39m\"\u001b[39m, symbolSize\u001b[39m=\u001b[39m\u001b[39m5\u001b[39m, pen\u001b[39m=\u001b[39m\u001b[39mNone\u001b[39;00m)\n\u001b[0;32m     68\u001b[0m     error_bars \u001b[39m=\u001b[39m pg\u001b[39m.\u001b[39mErrorBarItem(x\u001b[39m=\u001b[39mnp\u001b[39m.\u001b[39marray(\u001b[39mself\u001b[39m\u001b[39m.\u001b[39mzc\u001b[39m.\u001b[39mU_gem), y\u001b[39m=\u001b[39mnp\u001b[39m.\u001b[39marray(\u001b[39mself\u001b[39m\u001b[39m.\u001b[39mzc\u001b[39m.\u001b[39mI_gem), height \u001b[39m=\u001b[39m np\u001b[39m.\u001b[39marray(\u001b[39mself\u001b[39m\u001b[39m.\u001b[39mzc\u001b[39m.\u001b[39mI_error))\n",
      "\u001b[1;31mAttributeError\u001b[0m: 'Ui_MainWindow' object has no attribute 'PlotWidget'"
     ]
    },
    {
     "ename": "AttributeError",
     "evalue": "'Ui_MainWindow' object has no attribute 'PlotWidget'",
     "output_type": "error",
     "traceback": [
      "\u001b[1;31m---------------------------------------------------------------------------\u001b[0m",
      "\u001b[1;31mAttributeError\u001b[0m                            Traceback (most recent call last)",
      "Cell \u001b[1;32mIn[1], line 66\u001b[0m, in \u001b[0;36mUserInterface.graph\u001b[1;34m(self)\u001b[0m\n\u001b[0;32m     64\u001b[0m \u001b[39m@Slot\u001b[39m()\n\u001b[0;32m     65\u001b[0m \u001b[39mdef\u001b[39;00m \u001b[39mgraph\u001b[39m(\u001b[39mself\u001b[39m):\n\u001b[1;32m---> 66\u001b[0m     \u001b[39mself\u001b[39;49m\u001b[39m.\u001b[39;49mui\u001b[39m.\u001b[39;49mPlotWidget\u001b[39m.\u001b[39mclear()\n\u001b[0;32m     67\u001b[0m     \u001b[39mself\u001b[39m\u001b[39m.\u001b[39mui\u001b[39m.\u001b[39mIU_graph\u001b[39m.\u001b[39mplot(\u001b[39mself\u001b[39m\u001b[39m.\u001b[39mzc\u001b[39m.\u001b[39mU_gem, \u001b[39mself\u001b[39m\u001b[39m.\u001b[39mzc\u001b[39m.\u001b[39mI_gem, symbol\u001b[39m=\u001b[39m\u001b[39m\"\u001b[39m\u001b[39mo\u001b[39m\u001b[39m\"\u001b[39m, symbolSize\u001b[39m=\u001b[39m\u001b[39m5\u001b[39m, pen\u001b[39m=\u001b[39m\u001b[39mNone\u001b[39;00m)\n\u001b[0;32m     68\u001b[0m     error_bars \u001b[39m=\u001b[39m pg\u001b[39m.\u001b[39mErrorBarItem(x\u001b[39m=\u001b[39mnp\u001b[39m.\u001b[39marray(\u001b[39mself\u001b[39m\u001b[39m.\u001b[39mzc\u001b[39m.\u001b[39mU_gem), y\u001b[39m=\u001b[39mnp\u001b[39m.\u001b[39marray(\u001b[39mself\u001b[39m\u001b[39m.\u001b[39mzc\u001b[39m.\u001b[39mI_gem), height \u001b[39m=\u001b[39m np\u001b[39m.\u001b[39marray(\u001b[39mself\u001b[39m\u001b[39m.\u001b[39mzc\u001b[39m.\u001b[39mI_error))\n",
      "\u001b[1;31mAttributeError\u001b[0m: 'Ui_MainWindow' object has no attribute 'PlotWidget'"
     ]
    },
    {
     "ename": "AttributeError",
     "evalue": "'Ui_MainWindow' object has no attribute 'PlotWidget'",
     "output_type": "error",
     "traceback": [
      "\u001b[1;31m---------------------------------------------------------------------------\u001b[0m",
      "\u001b[1;31mAttributeError\u001b[0m                            Traceback (most recent call last)",
      "Cell \u001b[1;32mIn[1], line 66\u001b[0m, in \u001b[0;36mUserInterface.graph\u001b[1;34m(self)\u001b[0m\n\u001b[0;32m     64\u001b[0m \u001b[39m@Slot\u001b[39m()\n\u001b[0;32m     65\u001b[0m \u001b[39mdef\u001b[39;00m \u001b[39mgraph\u001b[39m(\u001b[39mself\u001b[39m):\n\u001b[1;32m---> 66\u001b[0m     \u001b[39mself\u001b[39;49m\u001b[39m.\u001b[39;49mui\u001b[39m.\u001b[39;49mPlotWidget\u001b[39m.\u001b[39mclear()\n\u001b[0;32m     67\u001b[0m     \u001b[39mself\u001b[39m\u001b[39m.\u001b[39mui\u001b[39m.\u001b[39mIU_graph\u001b[39m.\u001b[39mplot(\u001b[39mself\u001b[39m\u001b[39m.\u001b[39mzc\u001b[39m.\u001b[39mU_gem, \u001b[39mself\u001b[39m\u001b[39m.\u001b[39mzc\u001b[39m.\u001b[39mI_gem, symbol\u001b[39m=\u001b[39m\u001b[39m\"\u001b[39m\u001b[39mo\u001b[39m\u001b[39m\"\u001b[39m, symbolSize\u001b[39m=\u001b[39m\u001b[39m5\u001b[39m, pen\u001b[39m=\u001b[39m\u001b[39mNone\u001b[39;00m)\n\u001b[0;32m     68\u001b[0m     error_bars \u001b[39m=\u001b[39m pg\u001b[39m.\u001b[39mErrorBarItem(x\u001b[39m=\u001b[39mnp\u001b[39m.\u001b[39marray(\u001b[39mself\u001b[39m\u001b[39m.\u001b[39mzc\u001b[39m.\u001b[39mU_gem), y\u001b[39m=\u001b[39mnp\u001b[39m.\u001b[39marray(\u001b[39mself\u001b[39m\u001b[39m.\u001b[39mzc\u001b[39m.\u001b[39mI_gem), height \u001b[39m=\u001b[39m np\u001b[39m.\u001b[39marray(\u001b[39mself\u001b[39m\u001b[39m.\u001b[39mzc\u001b[39m.\u001b[39mI_error))\n",
      "\u001b[1;31mAttributeError\u001b[0m: 'Ui_MainWindow' object has no attribute 'PlotWidget'"
     ]
    },
    {
     "ename": "AttributeError",
     "evalue": "'Ui_MainWindow' object has no attribute 'PlotWidget'",
     "output_type": "error",
     "traceback": [
      "\u001b[1;31m---------------------------------------------------------------------------\u001b[0m",
      "\u001b[1;31mAttributeError\u001b[0m                            Traceback (most recent call last)",
      "Cell \u001b[1;32mIn[1], line 66\u001b[0m, in \u001b[0;36mUserInterface.graph\u001b[1;34m(self)\u001b[0m\n\u001b[0;32m     64\u001b[0m \u001b[39m@Slot\u001b[39m()\n\u001b[0;32m     65\u001b[0m \u001b[39mdef\u001b[39;00m \u001b[39mgraph\u001b[39m(\u001b[39mself\u001b[39m):\n\u001b[1;32m---> 66\u001b[0m     \u001b[39mself\u001b[39;49m\u001b[39m.\u001b[39;49mui\u001b[39m.\u001b[39;49mPlotWidget\u001b[39m.\u001b[39mclear()\n\u001b[0;32m     67\u001b[0m     \u001b[39mself\u001b[39m\u001b[39m.\u001b[39mui\u001b[39m.\u001b[39mIU_graph\u001b[39m.\u001b[39mplot(\u001b[39mself\u001b[39m\u001b[39m.\u001b[39mzc\u001b[39m.\u001b[39mU_gem, \u001b[39mself\u001b[39m\u001b[39m.\u001b[39mzc\u001b[39m.\u001b[39mI_gem, symbol\u001b[39m=\u001b[39m\u001b[39m\"\u001b[39m\u001b[39mo\u001b[39m\u001b[39m\"\u001b[39m, symbolSize\u001b[39m=\u001b[39m\u001b[39m5\u001b[39m, pen\u001b[39m=\u001b[39m\u001b[39mNone\u001b[39;00m)\n\u001b[0;32m     68\u001b[0m     error_bars \u001b[39m=\u001b[39m pg\u001b[39m.\u001b[39mErrorBarItem(x\u001b[39m=\u001b[39mnp\u001b[39m.\u001b[39marray(\u001b[39mself\u001b[39m\u001b[39m.\u001b[39mzc\u001b[39m.\u001b[39mU_gem), y\u001b[39m=\u001b[39mnp\u001b[39m.\u001b[39marray(\u001b[39mself\u001b[39m\u001b[39m.\u001b[39mzc\u001b[39m.\u001b[39mI_gem), height \u001b[39m=\u001b[39m np\u001b[39m.\u001b[39marray(\u001b[39mself\u001b[39m\u001b[39m.\u001b[39mzc\u001b[39m.\u001b[39mI_error))\n",
      "\u001b[1;31mAttributeError\u001b[0m: 'Ui_MainWindow' object has no attribute 'PlotWidget'"
     ]
    },
    {
     "ename": "AttributeError",
     "evalue": "'Ui_MainWindow' object has no attribute 'PlotWidget'",
     "output_type": "error",
     "traceback": [
      "\u001b[1;31m---------------------------------------------------------------------------\u001b[0m",
      "\u001b[1;31mAttributeError\u001b[0m                            Traceback (most recent call last)",
      "Cell \u001b[1;32mIn[1], line 66\u001b[0m, in \u001b[0;36mUserInterface.graph\u001b[1;34m(self)\u001b[0m\n\u001b[0;32m     64\u001b[0m \u001b[39m@Slot\u001b[39m()\n\u001b[0;32m     65\u001b[0m \u001b[39mdef\u001b[39;00m \u001b[39mgraph\u001b[39m(\u001b[39mself\u001b[39m):\n\u001b[1;32m---> 66\u001b[0m     \u001b[39mself\u001b[39;49m\u001b[39m.\u001b[39;49mui\u001b[39m.\u001b[39;49mPlotWidget\u001b[39m.\u001b[39mclear()\n\u001b[0;32m     67\u001b[0m     \u001b[39mself\u001b[39m\u001b[39m.\u001b[39mui\u001b[39m.\u001b[39mIU_graph\u001b[39m.\u001b[39mplot(\u001b[39mself\u001b[39m\u001b[39m.\u001b[39mzc\u001b[39m.\u001b[39mU_gem, \u001b[39mself\u001b[39m\u001b[39m.\u001b[39mzc\u001b[39m.\u001b[39mI_gem, symbol\u001b[39m=\u001b[39m\u001b[39m\"\u001b[39m\u001b[39mo\u001b[39m\u001b[39m\"\u001b[39m, symbolSize\u001b[39m=\u001b[39m\u001b[39m5\u001b[39m, pen\u001b[39m=\u001b[39m\u001b[39mNone\u001b[39;00m)\n\u001b[0;32m     68\u001b[0m     error_bars \u001b[39m=\u001b[39m pg\u001b[39m.\u001b[39mErrorBarItem(x\u001b[39m=\u001b[39mnp\u001b[39m.\u001b[39marray(\u001b[39mself\u001b[39m\u001b[39m.\u001b[39mzc\u001b[39m.\u001b[39mU_gem), y\u001b[39m=\u001b[39mnp\u001b[39m.\u001b[39marray(\u001b[39mself\u001b[39m\u001b[39m.\u001b[39mzc\u001b[39m.\u001b[39mI_gem), height \u001b[39m=\u001b[39m np\u001b[39m.\u001b[39marray(\u001b[39mself\u001b[39m\u001b[39m.\u001b[39mzc\u001b[39m.\u001b[39mI_error))\n",
      "\u001b[1;31mAttributeError\u001b[0m: 'Ui_MainWindow' object has no attribute 'PlotWidget'"
     ]
    },
    {
     "ename": "AttributeError",
     "evalue": "'Ui_MainWindow' object has no attribute 'PlotWidget'",
     "output_type": "error",
     "traceback": [
      "\u001b[1;31m---------------------------------------------------------------------------\u001b[0m",
      "\u001b[1;31mAttributeError\u001b[0m                            Traceback (most recent call last)",
      "Cell \u001b[1;32mIn[1], line 66\u001b[0m, in \u001b[0;36mUserInterface.graph\u001b[1;34m(self)\u001b[0m\n\u001b[0;32m     64\u001b[0m \u001b[39m@Slot\u001b[39m()\n\u001b[0;32m     65\u001b[0m \u001b[39mdef\u001b[39;00m \u001b[39mgraph\u001b[39m(\u001b[39mself\u001b[39m):\n\u001b[1;32m---> 66\u001b[0m     \u001b[39mself\u001b[39;49m\u001b[39m.\u001b[39;49mui\u001b[39m.\u001b[39;49mPlotWidget\u001b[39m.\u001b[39mclear()\n\u001b[0;32m     67\u001b[0m     \u001b[39mself\u001b[39m\u001b[39m.\u001b[39mui\u001b[39m.\u001b[39mIU_graph\u001b[39m.\u001b[39mplot(\u001b[39mself\u001b[39m\u001b[39m.\u001b[39mzc\u001b[39m.\u001b[39mU_gem, \u001b[39mself\u001b[39m\u001b[39m.\u001b[39mzc\u001b[39m.\u001b[39mI_gem, symbol\u001b[39m=\u001b[39m\u001b[39m\"\u001b[39m\u001b[39mo\u001b[39m\u001b[39m\"\u001b[39m, symbolSize\u001b[39m=\u001b[39m\u001b[39m5\u001b[39m, pen\u001b[39m=\u001b[39m\u001b[39mNone\u001b[39;00m)\n\u001b[0;32m     68\u001b[0m     error_bars \u001b[39m=\u001b[39m pg\u001b[39m.\u001b[39mErrorBarItem(x\u001b[39m=\u001b[39mnp\u001b[39m.\u001b[39marray(\u001b[39mself\u001b[39m\u001b[39m.\u001b[39mzc\u001b[39m.\u001b[39mU_gem), y\u001b[39m=\u001b[39mnp\u001b[39m.\u001b[39marray(\u001b[39mself\u001b[39m\u001b[39m.\u001b[39mzc\u001b[39m.\u001b[39mI_gem), height \u001b[39m=\u001b[39m np\u001b[39m.\u001b[39marray(\u001b[39mself\u001b[39m\u001b[39m.\u001b[39mzc\u001b[39m.\u001b[39mI_error))\n",
      "\u001b[1;31mAttributeError\u001b[0m: 'Ui_MainWindow' object has no attribute 'PlotWidget'"
     ]
    },
    {
     "ename": "AttributeError",
     "evalue": "'Ui_MainWindow' object has no attribute 'PlotWidget'",
     "output_type": "error",
     "traceback": [
      "\u001b[1;31m---------------------------------------------------------------------------\u001b[0m",
      "\u001b[1;31mAttributeError\u001b[0m                            Traceback (most recent call last)",
      "Cell \u001b[1;32mIn[1], line 66\u001b[0m, in \u001b[0;36mUserInterface.graph\u001b[1;34m(self)\u001b[0m\n\u001b[0;32m     64\u001b[0m \u001b[39m@Slot\u001b[39m()\n\u001b[0;32m     65\u001b[0m \u001b[39mdef\u001b[39;00m \u001b[39mgraph\u001b[39m(\u001b[39mself\u001b[39m):\n\u001b[1;32m---> 66\u001b[0m     \u001b[39mself\u001b[39;49m\u001b[39m.\u001b[39;49mui\u001b[39m.\u001b[39;49mPlotWidget\u001b[39m.\u001b[39mclear()\n\u001b[0;32m     67\u001b[0m     \u001b[39mself\u001b[39m\u001b[39m.\u001b[39mui\u001b[39m.\u001b[39mIU_graph\u001b[39m.\u001b[39mplot(\u001b[39mself\u001b[39m\u001b[39m.\u001b[39mzc\u001b[39m.\u001b[39mU_gem, \u001b[39mself\u001b[39m\u001b[39m.\u001b[39mzc\u001b[39m.\u001b[39mI_gem, symbol\u001b[39m=\u001b[39m\u001b[39m\"\u001b[39m\u001b[39mo\u001b[39m\u001b[39m\"\u001b[39m, symbolSize\u001b[39m=\u001b[39m\u001b[39m5\u001b[39m, pen\u001b[39m=\u001b[39m\u001b[39mNone\u001b[39;00m)\n\u001b[0;32m     68\u001b[0m     error_bars \u001b[39m=\u001b[39m pg\u001b[39m.\u001b[39mErrorBarItem(x\u001b[39m=\u001b[39mnp\u001b[39m.\u001b[39marray(\u001b[39mself\u001b[39m\u001b[39m.\u001b[39mzc\u001b[39m.\u001b[39mU_gem), y\u001b[39m=\u001b[39mnp\u001b[39m.\u001b[39marray(\u001b[39mself\u001b[39m\u001b[39m.\u001b[39mzc\u001b[39m.\u001b[39mI_gem), height \u001b[39m=\u001b[39m np\u001b[39m.\u001b[39marray(\u001b[39mself\u001b[39m\u001b[39m.\u001b[39mzc\u001b[39m.\u001b[39mI_error))\n",
      "\u001b[1;31mAttributeError\u001b[0m: 'Ui_MainWindow' object has no attribute 'PlotWidget'"
     ]
    },
    {
     "ename": "AttributeError",
     "evalue": "'Ui_MainWindow' object has no attribute 'PlotWidget'",
     "output_type": "error",
     "traceback": [
      "\u001b[1;31m---------------------------------------------------------------------------\u001b[0m",
      "\u001b[1;31mAttributeError\u001b[0m                            Traceback (most recent call last)",
      "Cell \u001b[1;32mIn[1], line 66\u001b[0m, in \u001b[0;36mUserInterface.graph\u001b[1;34m(self)\u001b[0m\n\u001b[0;32m     64\u001b[0m \u001b[39m@Slot\u001b[39m()\n\u001b[0;32m     65\u001b[0m \u001b[39mdef\u001b[39;00m \u001b[39mgraph\u001b[39m(\u001b[39mself\u001b[39m):\n\u001b[1;32m---> 66\u001b[0m     \u001b[39mself\u001b[39;49m\u001b[39m.\u001b[39;49mui\u001b[39m.\u001b[39;49mPlotWidget\u001b[39m.\u001b[39mclear()\n\u001b[0;32m     67\u001b[0m     \u001b[39mself\u001b[39m\u001b[39m.\u001b[39mui\u001b[39m.\u001b[39mIU_graph\u001b[39m.\u001b[39mplot(\u001b[39mself\u001b[39m\u001b[39m.\u001b[39mzc\u001b[39m.\u001b[39mU_gem, \u001b[39mself\u001b[39m\u001b[39m.\u001b[39mzc\u001b[39m.\u001b[39mI_gem, symbol\u001b[39m=\u001b[39m\u001b[39m\"\u001b[39m\u001b[39mo\u001b[39m\u001b[39m\"\u001b[39m, symbolSize\u001b[39m=\u001b[39m\u001b[39m5\u001b[39m, pen\u001b[39m=\u001b[39m\u001b[39mNone\u001b[39;00m)\n\u001b[0;32m     68\u001b[0m     error_bars \u001b[39m=\u001b[39m pg\u001b[39m.\u001b[39mErrorBarItem(x\u001b[39m=\u001b[39mnp\u001b[39m.\u001b[39marray(\u001b[39mself\u001b[39m\u001b[39m.\u001b[39mzc\u001b[39m.\u001b[39mU_gem), y\u001b[39m=\u001b[39mnp\u001b[39m.\u001b[39marray(\u001b[39mself\u001b[39m\u001b[39m.\u001b[39mzc\u001b[39m.\u001b[39mI_gem), height \u001b[39m=\u001b[39m np\u001b[39m.\u001b[39marray(\u001b[39mself\u001b[39m\u001b[39m.\u001b[39mzc\u001b[39m.\u001b[39mI_error))\n",
      "\u001b[1;31mAttributeError\u001b[0m: 'Ui_MainWindow' object has no attribute 'PlotWidget'"
     ]
    },
    {
     "ename": "AttributeError",
     "evalue": "'Ui_MainWindow' object has no attribute 'PlotWidget'",
     "output_type": "error",
     "traceback": [
      "\u001b[1;31m---------------------------------------------------------------------------\u001b[0m",
      "\u001b[1;31mAttributeError\u001b[0m                            Traceback (most recent call last)",
      "Cell \u001b[1;32mIn[1], line 66\u001b[0m, in \u001b[0;36mUserInterface.graph\u001b[1;34m(self)\u001b[0m\n\u001b[0;32m     64\u001b[0m \u001b[39m@Slot\u001b[39m()\n\u001b[0;32m     65\u001b[0m \u001b[39mdef\u001b[39;00m \u001b[39mgraph\u001b[39m(\u001b[39mself\u001b[39m):\n\u001b[1;32m---> 66\u001b[0m     \u001b[39mself\u001b[39;49m\u001b[39m.\u001b[39;49mui\u001b[39m.\u001b[39;49mPlotWidget\u001b[39m.\u001b[39mclear()\n\u001b[0;32m     67\u001b[0m     \u001b[39mself\u001b[39m\u001b[39m.\u001b[39mui\u001b[39m.\u001b[39mIU_graph\u001b[39m.\u001b[39mplot(\u001b[39mself\u001b[39m\u001b[39m.\u001b[39mzc\u001b[39m.\u001b[39mU_gem, \u001b[39mself\u001b[39m\u001b[39m.\u001b[39mzc\u001b[39m.\u001b[39mI_gem, symbol\u001b[39m=\u001b[39m\u001b[39m\"\u001b[39m\u001b[39mo\u001b[39m\u001b[39m\"\u001b[39m, symbolSize\u001b[39m=\u001b[39m\u001b[39m5\u001b[39m, pen\u001b[39m=\u001b[39m\u001b[39mNone\u001b[39;00m)\n\u001b[0;32m     68\u001b[0m     error_bars \u001b[39m=\u001b[39m pg\u001b[39m.\u001b[39mErrorBarItem(x\u001b[39m=\u001b[39mnp\u001b[39m.\u001b[39marray(\u001b[39mself\u001b[39m\u001b[39m.\u001b[39mzc\u001b[39m.\u001b[39mU_gem), y\u001b[39m=\u001b[39mnp\u001b[39m.\u001b[39marray(\u001b[39mself\u001b[39m\u001b[39m.\u001b[39mzc\u001b[39m.\u001b[39mI_gem), height \u001b[39m=\u001b[39m np\u001b[39m.\u001b[39marray(\u001b[39mself\u001b[39m\u001b[39m.\u001b[39mzc\u001b[39m.\u001b[39mI_error))\n",
      "\u001b[1;31mAttributeError\u001b[0m: 'Ui_MainWindow' object has no attribute 'PlotWidget'"
     ]
    },
    {
     "ename": "AttributeError",
     "evalue": "'Ui_MainWindow' object has no attribute 'PlotWidget'",
     "output_type": "error",
     "traceback": [
      "\u001b[1;31m---------------------------------------------------------------------------\u001b[0m",
      "\u001b[1;31mAttributeError\u001b[0m                            Traceback (most recent call last)",
      "Cell \u001b[1;32mIn[1], line 66\u001b[0m, in \u001b[0;36mUserInterface.graph\u001b[1;34m(self)\u001b[0m\n\u001b[0;32m     64\u001b[0m \u001b[39m@Slot\u001b[39m()\n\u001b[0;32m     65\u001b[0m \u001b[39mdef\u001b[39;00m \u001b[39mgraph\u001b[39m(\u001b[39mself\u001b[39m):\n\u001b[1;32m---> 66\u001b[0m     \u001b[39mself\u001b[39;49m\u001b[39m.\u001b[39;49mui\u001b[39m.\u001b[39;49mPlotWidget\u001b[39m.\u001b[39mclear()\n\u001b[0;32m     67\u001b[0m     \u001b[39mself\u001b[39m\u001b[39m.\u001b[39mui\u001b[39m.\u001b[39mIU_graph\u001b[39m.\u001b[39mplot(\u001b[39mself\u001b[39m\u001b[39m.\u001b[39mzc\u001b[39m.\u001b[39mU_gem, \u001b[39mself\u001b[39m\u001b[39m.\u001b[39mzc\u001b[39m.\u001b[39mI_gem, symbol\u001b[39m=\u001b[39m\u001b[39m\"\u001b[39m\u001b[39mo\u001b[39m\u001b[39m\"\u001b[39m, symbolSize\u001b[39m=\u001b[39m\u001b[39m5\u001b[39m, pen\u001b[39m=\u001b[39m\u001b[39mNone\u001b[39;00m)\n\u001b[0;32m     68\u001b[0m     error_bars \u001b[39m=\u001b[39m pg\u001b[39m.\u001b[39mErrorBarItem(x\u001b[39m=\u001b[39mnp\u001b[39m.\u001b[39marray(\u001b[39mself\u001b[39m\u001b[39m.\u001b[39mzc\u001b[39m.\u001b[39mU_gem), y\u001b[39m=\u001b[39mnp\u001b[39m.\u001b[39marray(\u001b[39mself\u001b[39m\u001b[39m.\u001b[39mzc\u001b[39m.\u001b[39mI_gem), height \u001b[39m=\u001b[39m np\u001b[39m.\u001b[39marray(\u001b[39mself\u001b[39m\u001b[39m.\u001b[39mzc\u001b[39m.\u001b[39mI_error))\n",
      "\u001b[1;31mAttributeError\u001b[0m: 'Ui_MainWindow' object has no attribute 'PlotWidget'"
     ]
    },
    {
     "ename": "AttributeError",
     "evalue": "'Ui_MainWindow' object has no attribute 'PlotWidget'",
     "output_type": "error",
     "traceback": [
      "\u001b[1;31m---------------------------------------------------------------------------\u001b[0m",
      "\u001b[1;31mAttributeError\u001b[0m                            Traceback (most recent call last)",
      "Cell \u001b[1;32mIn[1], line 66\u001b[0m, in \u001b[0;36mUserInterface.graph\u001b[1;34m(self)\u001b[0m\n\u001b[0;32m     64\u001b[0m \u001b[39m@Slot\u001b[39m()\n\u001b[0;32m     65\u001b[0m \u001b[39mdef\u001b[39;00m \u001b[39mgraph\u001b[39m(\u001b[39mself\u001b[39m):\n\u001b[1;32m---> 66\u001b[0m     \u001b[39mself\u001b[39;49m\u001b[39m.\u001b[39;49mui\u001b[39m.\u001b[39;49mPlotWidget\u001b[39m.\u001b[39mclear()\n\u001b[0;32m     67\u001b[0m     \u001b[39mself\u001b[39m\u001b[39m.\u001b[39mui\u001b[39m.\u001b[39mIU_graph\u001b[39m.\u001b[39mplot(\u001b[39mself\u001b[39m\u001b[39m.\u001b[39mzc\u001b[39m.\u001b[39mU_gem, \u001b[39mself\u001b[39m\u001b[39m.\u001b[39mzc\u001b[39m.\u001b[39mI_gem, symbol\u001b[39m=\u001b[39m\u001b[39m\"\u001b[39m\u001b[39mo\u001b[39m\u001b[39m\"\u001b[39m, symbolSize\u001b[39m=\u001b[39m\u001b[39m5\u001b[39m, pen\u001b[39m=\u001b[39m\u001b[39mNone\u001b[39;00m)\n\u001b[0;32m     68\u001b[0m     error_bars \u001b[39m=\u001b[39m pg\u001b[39m.\u001b[39mErrorBarItem(x\u001b[39m=\u001b[39mnp\u001b[39m.\u001b[39marray(\u001b[39mself\u001b[39m\u001b[39m.\u001b[39mzc\u001b[39m.\u001b[39mU_gem), y\u001b[39m=\u001b[39mnp\u001b[39m.\u001b[39marray(\u001b[39mself\u001b[39m\u001b[39m.\u001b[39mzc\u001b[39m.\u001b[39mI_gem), height \u001b[39m=\u001b[39m np\u001b[39m.\u001b[39marray(\u001b[39mself\u001b[39m\u001b[39m.\u001b[39mzc\u001b[39m.\u001b[39mI_error))\n",
      "\u001b[1;31mAttributeError\u001b[0m: 'Ui_MainWindow' object has no attribute 'PlotWidget'"
     ]
    },
    {
     "ename": "AttributeError",
     "evalue": "'Ui_MainWindow' object has no attribute 'PlotWidget'",
     "output_type": "error",
     "traceback": [
      "\u001b[1;31m---------------------------------------------------------------------------\u001b[0m",
      "\u001b[1;31mAttributeError\u001b[0m                            Traceback (most recent call last)",
      "Cell \u001b[1;32mIn[1], line 66\u001b[0m, in \u001b[0;36mUserInterface.graph\u001b[1;34m(self)\u001b[0m\n\u001b[0;32m     64\u001b[0m \u001b[39m@Slot\u001b[39m()\n\u001b[0;32m     65\u001b[0m \u001b[39mdef\u001b[39;00m \u001b[39mgraph\u001b[39m(\u001b[39mself\u001b[39m):\n\u001b[1;32m---> 66\u001b[0m     \u001b[39mself\u001b[39;49m\u001b[39m.\u001b[39;49mui\u001b[39m.\u001b[39;49mPlotWidget\u001b[39m.\u001b[39mclear()\n\u001b[0;32m     67\u001b[0m     \u001b[39mself\u001b[39m\u001b[39m.\u001b[39mui\u001b[39m.\u001b[39mIU_graph\u001b[39m.\u001b[39mplot(\u001b[39mself\u001b[39m\u001b[39m.\u001b[39mzc\u001b[39m.\u001b[39mU_gem, \u001b[39mself\u001b[39m\u001b[39m.\u001b[39mzc\u001b[39m.\u001b[39mI_gem, symbol\u001b[39m=\u001b[39m\u001b[39m\"\u001b[39m\u001b[39mo\u001b[39m\u001b[39m\"\u001b[39m, symbolSize\u001b[39m=\u001b[39m\u001b[39m5\u001b[39m, pen\u001b[39m=\u001b[39m\u001b[39mNone\u001b[39;00m)\n\u001b[0;32m     68\u001b[0m     error_bars \u001b[39m=\u001b[39m pg\u001b[39m.\u001b[39mErrorBarItem(x\u001b[39m=\u001b[39mnp\u001b[39m.\u001b[39marray(\u001b[39mself\u001b[39m\u001b[39m.\u001b[39mzc\u001b[39m.\u001b[39mU_gem), y\u001b[39m=\u001b[39mnp\u001b[39m.\u001b[39marray(\u001b[39mself\u001b[39m\u001b[39m.\u001b[39mzc\u001b[39m.\u001b[39mI_gem), height \u001b[39m=\u001b[39m np\u001b[39m.\u001b[39marray(\u001b[39mself\u001b[39m\u001b[39m.\u001b[39mzc\u001b[39m.\u001b[39mI_error))\n",
      "\u001b[1;31mAttributeError\u001b[0m: 'Ui_MainWindow' object has no attribute 'PlotWidget'"
     ]
    },
    {
     "ename": "AttributeError",
     "evalue": "'Ui_MainWindow' object has no attribute 'PlotWidget'",
     "output_type": "error",
     "traceback": [
      "\u001b[1;31m---------------------------------------------------------------------------\u001b[0m",
      "\u001b[1;31mAttributeError\u001b[0m                            Traceback (most recent call last)",
      "Cell \u001b[1;32mIn[1], line 66\u001b[0m, in \u001b[0;36mUserInterface.graph\u001b[1;34m(self)\u001b[0m\n\u001b[0;32m     64\u001b[0m \u001b[39m@Slot\u001b[39m()\n\u001b[0;32m     65\u001b[0m \u001b[39mdef\u001b[39;00m \u001b[39mgraph\u001b[39m(\u001b[39mself\u001b[39m):\n\u001b[1;32m---> 66\u001b[0m     \u001b[39mself\u001b[39;49m\u001b[39m.\u001b[39;49mui\u001b[39m.\u001b[39;49mPlotWidget\u001b[39m.\u001b[39mclear()\n\u001b[0;32m     67\u001b[0m     \u001b[39mself\u001b[39m\u001b[39m.\u001b[39mui\u001b[39m.\u001b[39mIU_graph\u001b[39m.\u001b[39mplot(\u001b[39mself\u001b[39m\u001b[39m.\u001b[39mzc\u001b[39m.\u001b[39mU_gem, \u001b[39mself\u001b[39m\u001b[39m.\u001b[39mzc\u001b[39m.\u001b[39mI_gem, symbol\u001b[39m=\u001b[39m\u001b[39m\"\u001b[39m\u001b[39mo\u001b[39m\u001b[39m\"\u001b[39m, symbolSize\u001b[39m=\u001b[39m\u001b[39m5\u001b[39m, pen\u001b[39m=\u001b[39m\u001b[39mNone\u001b[39;00m)\n\u001b[0;32m     68\u001b[0m     error_bars \u001b[39m=\u001b[39m pg\u001b[39m.\u001b[39mErrorBarItem(x\u001b[39m=\u001b[39mnp\u001b[39m.\u001b[39marray(\u001b[39mself\u001b[39m\u001b[39m.\u001b[39mzc\u001b[39m.\u001b[39mU_gem), y\u001b[39m=\u001b[39mnp\u001b[39m.\u001b[39marray(\u001b[39mself\u001b[39m\u001b[39m.\u001b[39mzc\u001b[39m.\u001b[39mI_gem), height \u001b[39m=\u001b[39m np\u001b[39m.\u001b[39marray(\u001b[39mself\u001b[39m\u001b[39m.\u001b[39mzc\u001b[39m.\u001b[39mI_error))\n",
      "\u001b[1;31mAttributeError\u001b[0m: 'Ui_MainWindow' object has no attribute 'PlotWidget'"
     ]
    },
    {
     "ename": "AttributeError",
     "evalue": "'Ui_MainWindow' object has no attribute 'PlotWidget'",
     "output_type": "error",
     "traceback": [
      "\u001b[1;31m---------------------------------------------------------------------------\u001b[0m",
      "\u001b[1;31mAttributeError\u001b[0m                            Traceback (most recent call last)",
      "Cell \u001b[1;32mIn[1], line 66\u001b[0m, in \u001b[0;36mUserInterface.graph\u001b[1;34m(self)\u001b[0m\n\u001b[0;32m     64\u001b[0m \u001b[39m@Slot\u001b[39m()\n\u001b[0;32m     65\u001b[0m \u001b[39mdef\u001b[39;00m \u001b[39mgraph\u001b[39m(\u001b[39mself\u001b[39m):\n\u001b[1;32m---> 66\u001b[0m     \u001b[39mself\u001b[39;49m\u001b[39m.\u001b[39;49mui\u001b[39m.\u001b[39;49mPlotWidget\u001b[39m.\u001b[39mclear()\n\u001b[0;32m     67\u001b[0m     \u001b[39mself\u001b[39m\u001b[39m.\u001b[39mui\u001b[39m.\u001b[39mIU_graph\u001b[39m.\u001b[39mplot(\u001b[39mself\u001b[39m\u001b[39m.\u001b[39mzc\u001b[39m.\u001b[39mU_gem, \u001b[39mself\u001b[39m\u001b[39m.\u001b[39mzc\u001b[39m.\u001b[39mI_gem, symbol\u001b[39m=\u001b[39m\u001b[39m\"\u001b[39m\u001b[39mo\u001b[39m\u001b[39m\"\u001b[39m, symbolSize\u001b[39m=\u001b[39m\u001b[39m5\u001b[39m, pen\u001b[39m=\u001b[39m\u001b[39mNone\u001b[39;00m)\n\u001b[0;32m     68\u001b[0m     error_bars \u001b[39m=\u001b[39m pg\u001b[39m.\u001b[39mErrorBarItem(x\u001b[39m=\u001b[39mnp\u001b[39m.\u001b[39marray(\u001b[39mself\u001b[39m\u001b[39m.\u001b[39mzc\u001b[39m.\u001b[39mU_gem), y\u001b[39m=\u001b[39mnp\u001b[39m.\u001b[39marray(\u001b[39mself\u001b[39m\u001b[39m.\u001b[39mzc\u001b[39m.\u001b[39mI_gem), height \u001b[39m=\u001b[39m np\u001b[39m.\u001b[39marray(\u001b[39mself\u001b[39m\u001b[39m.\u001b[39mzc\u001b[39m.\u001b[39mI_error))\n",
      "\u001b[1;31mAttributeError\u001b[0m: 'Ui_MainWindow' object has no attribute 'PlotWidget'"
     ]
    },
    {
     "ename": "AttributeError",
     "evalue": "'Ui_MainWindow' object has no attribute 'PlotWidget'",
     "output_type": "error",
     "traceback": [
      "\u001b[1;31m---------------------------------------------------------------------------\u001b[0m",
      "\u001b[1;31mAttributeError\u001b[0m                            Traceback (most recent call last)",
      "Cell \u001b[1;32mIn[1], line 66\u001b[0m, in \u001b[0;36mUserInterface.graph\u001b[1;34m(self)\u001b[0m\n\u001b[0;32m     64\u001b[0m \u001b[39m@Slot\u001b[39m()\n\u001b[0;32m     65\u001b[0m \u001b[39mdef\u001b[39;00m \u001b[39mgraph\u001b[39m(\u001b[39mself\u001b[39m):\n\u001b[1;32m---> 66\u001b[0m     \u001b[39mself\u001b[39;49m\u001b[39m.\u001b[39;49mui\u001b[39m.\u001b[39;49mPlotWidget\u001b[39m.\u001b[39mclear()\n\u001b[0;32m     67\u001b[0m     \u001b[39mself\u001b[39m\u001b[39m.\u001b[39mui\u001b[39m.\u001b[39mIU_graph\u001b[39m.\u001b[39mplot(\u001b[39mself\u001b[39m\u001b[39m.\u001b[39mzc\u001b[39m.\u001b[39mU_gem, \u001b[39mself\u001b[39m\u001b[39m.\u001b[39mzc\u001b[39m.\u001b[39mI_gem, symbol\u001b[39m=\u001b[39m\u001b[39m\"\u001b[39m\u001b[39mo\u001b[39m\u001b[39m\"\u001b[39m, symbolSize\u001b[39m=\u001b[39m\u001b[39m5\u001b[39m, pen\u001b[39m=\u001b[39m\u001b[39mNone\u001b[39;00m)\n\u001b[0;32m     68\u001b[0m     error_bars \u001b[39m=\u001b[39m pg\u001b[39m.\u001b[39mErrorBarItem(x\u001b[39m=\u001b[39mnp\u001b[39m.\u001b[39marray(\u001b[39mself\u001b[39m\u001b[39m.\u001b[39mzc\u001b[39m.\u001b[39mU_gem), y\u001b[39m=\u001b[39mnp\u001b[39m.\u001b[39marray(\u001b[39mself\u001b[39m\u001b[39m.\u001b[39mzc\u001b[39m.\u001b[39mI_gem), height \u001b[39m=\u001b[39m np\u001b[39m.\u001b[39marray(\u001b[39mself\u001b[39m\u001b[39m.\u001b[39mzc\u001b[39m.\u001b[39mI_error))\n",
      "\u001b[1;31mAttributeError\u001b[0m: 'Ui_MainWindow' object has no attribute 'PlotWidget'"
     ]
    },
    {
     "ename": "AttributeError",
     "evalue": "'UserInterface' object has no attribute 'port'",
     "output_type": "error",
     "traceback": [
      "\u001b[1;31m---------------------------------------------------------------------------\u001b[0m",
      "\u001b[1;31mAttributeError\u001b[0m                            Traceback (most recent call last)",
      "Cell \u001b[1;32mIn[1], line 59\u001b[0m, in \u001b[0;36mUserInterface.start_scan\u001b[1;34m(self)\u001b[0m\n\u001b[0;32m     57\u001b[0m end \u001b[39m=\u001b[39m \u001b[39mint\u001b[39m(\u001b[39mself\u001b[39m\u001b[39m.\u001b[39mui\u001b[39m.\u001b[39mstop_button\u001b[39m.\u001b[39mvalue())\n\u001b[0;32m     58\u001b[0m runs \u001b[39m=\u001b[39m \u001b[39mself\u001b[39m\u001b[39m.\u001b[39mui\u001b[39m.\u001b[39mruns_button\u001b[39m.\u001b[39mvalue()\n\u001b[1;32m---> 59\u001b[0m \u001b[39mif\u001b[39;00m \u001b[39mself\u001b[39;49m\u001b[39m.\u001b[39;49mport \u001b[39m==\u001b[39m \u001b[39mNone\u001b[39;00m:\n\u001b[0;32m     60\u001b[0m     \u001b[39mprint\u001b[39m(\u001b[39m\"\u001b[39m\u001b[39mNo device selected\u001b[39m\u001b[39m\"\u001b[39m)\n\u001b[0;32m     61\u001b[0m \u001b[39melse\u001b[39;00m:\n",
      "\u001b[1;31mAttributeError\u001b[0m: 'UserInterface' object has no attribute 'port'"
     ]
    },
    {
     "ename": "AttributeError",
     "evalue": "'Ui_MainWindow' object has no attribute 'PlotWidget'",
     "output_type": "error",
     "traceback": [
      "\u001b[1;31m---------------------------------------------------------------------------\u001b[0m",
      "\u001b[1;31mAttributeError\u001b[0m                            Traceback (most recent call last)",
      "Cell \u001b[1;32mIn[1], line 66\u001b[0m, in \u001b[0;36mUserInterface.graph\u001b[1;34m(self)\u001b[0m\n\u001b[0;32m     64\u001b[0m \u001b[39m@Slot\u001b[39m()\n\u001b[0;32m     65\u001b[0m \u001b[39mdef\u001b[39;00m \u001b[39mgraph\u001b[39m(\u001b[39mself\u001b[39m):\n\u001b[1;32m---> 66\u001b[0m     \u001b[39mself\u001b[39;49m\u001b[39m.\u001b[39;49mui\u001b[39m.\u001b[39;49mPlotWidget\u001b[39m.\u001b[39mclear()\n\u001b[0;32m     67\u001b[0m     \u001b[39mself\u001b[39m\u001b[39m.\u001b[39mui\u001b[39m.\u001b[39mIU_graph\u001b[39m.\u001b[39mplot(\u001b[39mself\u001b[39m\u001b[39m.\u001b[39mzc\u001b[39m.\u001b[39mU_gem, \u001b[39mself\u001b[39m\u001b[39m.\u001b[39mzc\u001b[39m.\u001b[39mI_gem, symbol\u001b[39m=\u001b[39m\u001b[39m\"\u001b[39m\u001b[39mo\u001b[39m\u001b[39m\"\u001b[39m, symbolSize\u001b[39m=\u001b[39m\u001b[39m5\u001b[39m, pen\u001b[39m=\u001b[39m\u001b[39mNone\u001b[39;00m)\n\u001b[0;32m     68\u001b[0m     error_bars \u001b[39m=\u001b[39m pg\u001b[39m.\u001b[39mErrorBarItem(x\u001b[39m=\u001b[39mnp\u001b[39m.\u001b[39marray(\u001b[39mself\u001b[39m\u001b[39m.\u001b[39mzc\u001b[39m.\u001b[39mU_gem), y\u001b[39m=\u001b[39mnp\u001b[39m.\u001b[39marray(\u001b[39mself\u001b[39m\u001b[39m.\u001b[39mzc\u001b[39m.\u001b[39mI_gem), height \u001b[39m=\u001b[39m np\u001b[39m.\u001b[39marray(\u001b[39mself\u001b[39m\u001b[39m.\u001b[39mzc\u001b[39m.\u001b[39mI_error))\n",
      "\u001b[1;31mAttributeError\u001b[0m: 'Ui_MainWindow' object has no attribute 'PlotWidget'"
     ]
    },
    {
     "ename": "AttributeError",
     "evalue": "'Ui_MainWindow' object has no attribute 'PlotWidget'",
     "output_type": "error",
     "traceback": [
      "\u001b[1;31m---------------------------------------------------------------------------\u001b[0m",
      "\u001b[1;31mAttributeError\u001b[0m                            Traceback (most recent call last)",
      "Cell \u001b[1;32mIn[1], line 66\u001b[0m, in \u001b[0;36mUserInterface.graph\u001b[1;34m(self)\u001b[0m\n\u001b[0;32m     64\u001b[0m \u001b[39m@Slot\u001b[39m()\n\u001b[0;32m     65\u001b[0m \u001b[39mdef\u001b[39;00m \u001b[39mgraph\u001b[39m(\u001b[39mself\u001b[39m):\n\u001b[1;32m---> 66\u001b[0m     \u001b[39mself\u001b[39;49m\u001b[39m.\u001b[39;49mui\u001b[39m.\u001b[39;49mPlotWidget\u001b[39m.\u001b[39mclear()\n\u001b[0;32m     67\u001b[0m     \u001b[39mself\u001b[39m\u001b[39m.\u001b[39mui\u001b[39m.\u001b[39mIU_graph\u001b[39m.\u001b[39mplot(\u001b[39mself\u001b[39m\u001b[39m.\u001b[39mzc\u001b[39m.\u001b[39mU_gem, \u001b[39mself\u001b[39m\u001b[39m.\u001b[39mzc\u001b[39m.\u001b[39mI_gem, symbol\u001b[39m=\u001b[39m\u001b[39m\"\u001b[39m\u001b[39mo\u001b[39m\u001b[39m\"\u001b[39m, symbolSize\u001b[39m=\u001b[39m\u001b[39m5\u001b[39m, pen\u001b[39m=\u001b[39m\u001b[39mNone\u001b[39;00m)\n\u001b[0;32m     68\u001b[0m     error_bars \u001b[39m=\u001b[39m pg\u001b[39m.\u001b[39mErrorBarItem(x\u001b[39m=\u001b[39mnp\u001b[39m.\u001b[39marray(\u001b[39mself\u001b[39m\u001b[39m.\u001b[39mzc\u001b[39m.\u001b[39mU_gem), y\u001b[39m=\u001b[39mnp\u001b[39m.\u001b[39marray(\u001b[39mself\u001b[39m\u001b[39m.\u001b[39mzc\u001b[39m.\u001b[39mI_gem), height \u001b[39m=\u001b[39m np\u001b[39m.\u001b[39marray(\u001b[39mself\u001b[39m\u001b[39m.\u001b[39mzc\u001b[39m.\u001b[39mI_error))\n",
      "\u001b[1;31mAttributeError\u001b[0m: 'Ui_MainWindow' object has no attribute 'PlotWidget'"
     ]
    },
    {
     "ename": "AttributeError",
     "evalue": "'Ui_MainWindow' object has no attribute 'PlotWidget'",
     "output_type": "error",
     "traceback": [
      "\u001b[1;31m---------------------------------------------------------------------------\u001b[0m",
      "\u001b[1;31mAttributeError\u001b[0m                            Traceback (most recent call last)",
      "Cell \u001b[1;32mIn[1], line 66\u001b[0m, in \u001b[0;36mUserInterface.graph\u001b[1;34m(self)\u001b[0m\n\u001b[0;32m     64\u001b[0m \u001b[39m@Slot\u001b[39m()\n\u001b[0;32m     65\u001b[0m \u001b[39mdef\u001b[39;00m \u001b[39mgraph\u001b[39m(\u001b[39mself\u001b[39m):\n\u001b[1;32m---> 66\u001b[0m     \u001b[39mself\u001b[39;49m\u001b[39m.\u001b[39;49mui\u001b[39m.\u001b[39;49mPlotWidget\u001b[39m.\u001b[39mclear()\n\u001b[0;32m     67\u001b[0m     \u001b[39mself\u001b[39m\u001b[39m.\u001b[39mui\u001b[39m.\u001b[39mIU_graph\u001b[39m.\u001b[39mplot(\u001b[39mself\u001b[39m\u001b[39m.\u001b[39mzc\u001b[39m.\u001b[39mU_gem, \u001b[39mself\u001b[39m\u001b[39m.\u001b[39mzc\u001b[39m.\u001b[39mI_gem, symbol\u001b[39m=\u001b[39m\u001b[39m\"\u001b[39m\u001b[39mo\u001b[39m\u001b[39m\"\u001b[39m, symbolSize\u001b[39m=\u001b[39m\u001b[39m5\u001b[39m, pen\u001b[39m=\u001b[39m\u001b[39mNone\u001b[39;00m)\n\u001b[0;32m     68\u001b[0m     error_bars \u001b[39m=\u001b[39m pg\u001b[39m.\u001b[39mErrorBarItem(x\u001b[39m=\u001b[39mnp\u001b[39m.\u001b[39marray(\u001b[39mself\u001b[39m\u001b[39m.\u001b[39mzc\u001b[39m.\u001b[39mU_gem), y\u001b[39m=\u001b[39mnp\u001b[39m.\u001b[39marray(\u001b[39mself\u001b[39m\u001b[39m.\u001b[39mzc\u001b[39m.\u001b[39mI_gem), height \u001b[39m=\u001b[39m np\u001b[39m.\u001b[39marray(\u001b[39mself\u001b[39m\u001b[39m.\u001b[39mzc\u001b[39m.\u001b[39mI_error))\n",
      "\u001b[1;31mAttributeError\u001b[0m: 'Ui_MainWindow' object has no attribute 'PlotWidget'"
     ]
    },
    {
     "ename": "AttributeError",
     "evalue": "'Ui_MainWindow' object has no attribute 'PlotWidget'",
     "output_type": "error",
     "traceback": [
      "\u001b[1;31m---------------------------------------------------------------------------\u001b[0m",
      "\u001b[1;31mAttributeError\u001b[0m                            Traceback (most recent call last)",
      "Cell \u001b[1;32mIn[1], line 66\u001b[0m, in \u001b[0;36mUserInterface.graph\u001b[1;34m(self)\u001b[0m\n\u001b[0;32m     64\u001b[0m \u001b[39m@Slot\u001b[39m()\n\u001b[0;32m     65\u001b[0m \u001b[39mdef\u001b[39;00m \u001b[39mgraph\u001b[39m(\u001b[39mself\u001b[39m):\n\u001b[1;32m---> 66\u001b[0m     \u001b[39mself\u001b[39;49m\u001b[39m.\u001b[39;49mui\u001b[39m.\u001b[39;49mPlotWidget\u001b[39m.\u001b[39mclear()\n\u001b[0;32m     67\u001b[0m     \u001b[39mself\u001b[39m\u001b[39m.\u001b[39mui\u001b[39m.\u001b[39mIU_graph\u001b[39m.\u001b[39mplot(\u001b[39mself\u001b[39m\u001b[39m.\u001b[39mzc\u001b[39m.\u001b[39mU_gem, \u001b[39mself\u001b[39m\u001b[39m.\u001b[39mzc\u001b[39m.\u001b[39mI_gem, symbol\u001b[39m=\u001b[39m\u001b[39m\"\u001b[39m\u001b[39mo\u001b[39m\u001b[39m\"\u001b[39m, symbolSize\u001b[39m=\u001b[39m\u001b[39m5\u001b[39m, pen\u001b[39m=\u001b[39m\u001b[39mNone\u001b[39;00m)\n\u001b[0;32m     68\u001b[0m     error_bars \u001b[39m=\u001b[39m pg\u001b[39m.\u001b[39mErrorBarItem(x\u001b[39m=\u001b[39mnp\u001b[39m.\u001b[39marray(\u001b[39mself\u001b[39m\u001b[39m.\u001b[39mzc\u001b[39m.\u001b[39mU_gem), y\u001b[39m=\u001b[39mnp\u001b[39m.\u001b[39marray(\u001b[39mself\u001b[39m\u001b[39m.\u001b[39mzc\u001b[39m.\u001b[39mI_gem), height \u001b[39m=\u001b[39m np\u001b[39m.\u001b[39marray(\u001b[39mself\u001b[39m\u001b[39m.\u001b[39mzc\u001b[39m.\u001b[39mI_error))\n",
      "\u001b[1;31mAttributeError\u001b[0m: 'Ui_MainWindow' object has no attribute 'PlotWidget'"
     ]
    },
    {
     "ename": "AttributeError",
     "evalue": "'Ui_MainWindow' object has no attribute 'PlotWidget'",
     "output_type": "error",
     "traceback": [
      "\u001b[1;31m---------------------------------------------------------------------------\u001b[0m",
      "\u001b[1;31mAttributeError\u001b[0m                            Traceback (most recent call last)",
      "Cell \u001b[1;32mIn[1], line 66\u001b[0m, in \u001b[0;36mUserInterface.graph\u001b[1;34m(self)\u001b[0m\n\u001b[0;32m     64\u001b[0m \u001b[39m@Slot\u001b[39m()\n\u001b[0;32m     65\u001b[0m \u001b[39mdef\u001b[39;00m \u001b[39mgraph\u001b[39m(\u001b[39mself\u001b[39m):\n\u001b[1;32m---> 66\u001b[0m     \u001b[39mself\u001b[39;49m\u001b[39m.\u001b[39;49mui\u001b[39m.\u001b[39;49mPlotWidget\u001b[39m.\u001b[39mclear()\n\u001b[0;32m     67\u001b[0m     \u001b[39mself\u001b[39m\u001b[39m.\u001b[39mui\u001b[39m.\u001b[39mIU_graph\u001b[39m.\u001b[39mplot(\u001b[39mself\u001b[39m\u001b[39m.\u001b[39mzc\u001b[39m.\u001b[39mU_gem, \u001b[39mself\u001b[39m\u001b[39m.\u001b[39mzc\u001b[39m.\u001b[39mI_gem, symbol\u001b[39m=\u001b[39m\u001b[39m\"\u001b[39m\u001b[39mo\u001b[39m\u001b[39m\"\u001b[39m, symbolSize\u001b[39m=\u001b[39m\u001b[39m5\u001b[39m, pen\u001b[39m=\u001b[39m\u001b[39mNone\u001b[39;00m)\n\u001b[0;32m     68\u001b[0m     error_bars \u001b[39m=\u001b[39m pg\u001b[39m.\u001b[39mErrorBarItem(x\u001b[39m=\u001b[39mnp\u001b[39m.\u001b[39marray(\u001b[39mself\u001b[39m\u001b[39m.\u001b[39mzc\u001b[39m.\u001b[39mU_gem), y\u001b[39m=\u001b[39mnp\u001b[39m.\u001b[39marray(\u001b[39mself\u001b[39m\u001b[39m.\u001b[39mzc\u001b[39m.\u001b[39mI_gem), height \u001b[39m=\u001b[39m np\u001b[39m.\u001b[39marray(\u001b[39mself\u001b[39m\u001b[39m.\u001b[39mzc\u001b[39m.\u001b[39mI_error))\n",
      "\u001b[1;31mAttributeError\u001b[0m: 'Ui_MainWindow' object has no attribute 'PlotWidget'"
     ]
    },
    {
     "ename": "AttributeError",
     "evalue": "'Ui_MainWindow' object has no attribute 'PlotWidget'",
     "output_type": "error",
     "traceback": [
      "\u001b[1;31m---------------------------------------------------------------------------\u001b[0m",
      "\u001b[1;31mAttributeError\u001b[0m                            Traceback (most recent call last)",
      "Cell \u001b[1;32mIn[1], line 66\u001b[0m, in \u001b[0;36mUserInterface.graph\u001b[1;34m(self)\u001b[0m\n\u001b[0;32m     64\u001b[0m \u001b[39m@Slot\u001b[39m()\n\u001b[0;32m     65\u001b[0m \u001b[39mdef\u001b[39;00m \u001b[39mgraph\u001b[39m(\u001b[39mself\u001b[39m):\n\u001b[1;32m---> 66\u001b[0m     \u001b[39mself\u001b[39;49m\u001b[39m.\u001b[39;49mui\u001b[39m.\u001b[39;49mPlotWidget\u001b[39m.\u001b[39mclear()\n\u001b[0;32m     67\u001b[0m     \u001b[39mself\u001b[39m\u001b[39m.\u001b[39mui\u001b[39m.\u001b[39mIU_graph\u001b[39m.\u001b[39mplot(\u001b[39mself\u001b[39m\u001b[39m.\u001b[39mzc\u001b[39m.\u001b[39mU_gem, \u001b[39mself\u001b[39m\u001b[39m.\u001b[39mzc\u001b[39m.\u001b[39mI_gem, symbol\u001b[39m=\u001b[39m\u001b[39m\"\u001b[39m\u001b[39mo\u001b[39m\u001b[39m\"\u001b[39m, symbolSize\u001b[39m=\u001b[39m\u001b[39m5\u001b[39m, pen\u001b[39m=\u001b[39m\u001b[39mNone\u001b[39;00m)\n\u001b[0;32m     68\u001b[0m     error_bars \u001b[39m=\u001b[39m pg\u001b[39m.\u001b[39mErrorBarItem(x\u001b[39m=\u001b[39mnp\u001b[39m.\u001b[39marray(\u001b[39mself\u001b[39m\u001b[39m.\u001b[39mzc\u001b[39m.\u001b[39mU_gem), y\u001b[39m=\u001b[39mnp\u001b[39m.\u001b[39marray(\u001b[39mself\u001b[39m\u001b[39m.\u001b[39mzc\u001b[39m.\u001b[39mI_gem), height \u001b[39m=\u001b[39m np\u001b[39m.\u001b[39marray(\u001b[39mself\u001b[39m\u001b[39m.\u001b[39mzc\u001b[39m.\u001b[39mI_error))\n",
      "\u001b[1;31mAttributeError\u001b[0m: 'Ui_MainWindow' object has no attribute 'PlotWidget'"
     ]
    },
    {
     "ename": "AttributeError",
     "evalue": "'Ui_MainWindow' object has no attribute 'PlotWidget'",
     "output_type": "error",
     "traceback": [
      "\u001b[1;31m---------------------------------------------------------------------------\u001b[0m",
      "\u001b[1;31mAttributeError\u001b[0m                            Traceback (most recent call last)",
      "Cell \u001b[1;32mIn[1], line 66\u001b[0m, in \u001b[0;36mUserInterface.graph\u001b[1;34m(self)\u001b[0m\n\u001b[0;32m     64\u001b[0m \u001b[39m@Slot\u001b[39m()\n\u001b[0;32m     65\u001b[0m \u001b[39mdef\u001b[39;00m \u001b[39mgraph\u001b[39m(\u001b[39mself\u001b[39m):\n\u001b[1;32m---> 66\u001b[0m     \u001b[39mself\u001b[39;49m\u001b[39m.\u001b[39;49mui\u001b[39m.\u001b[39;49mPlotWidget\u001b[39m.\u001b[39mclear()\n\u001b[0;32m     67\u001b[0m     \u001b[39mself\u001b[39m\u001b[39m.\u001b[39mui\u001b[39m.\u001b[39mIU_graph\u001b[39m.\u001b[39mplot(\u001b[39mself\u001b[39m\u001b[39m.\u001b[39mzc\u001b[39m.\u001b[39mU_gem, \u001b[39mself\u001b[39m\u001b[39m.\u001b[39mzc\u001b[39m.\u001b[39mI_gem, symbol\u001b[39m=\u001b[39m\u001b[39m\"\u001b[39m\u001b[39mo\u001b[39m\u001b[39m\"\u001b[39m, symbolSize\u001b[39m=\u001b[39m\u001b[39m5\u001b[39m, pen\u001b[39m=\u001b[39m\u001b[39mNone\u001b[39;00m)\n\u001b[0;32m     68\u001b[0m     error_bars \u001b[39m=\u001b[39m pg\u001b[39m.\u001b[39mErrorBarItem(x\u001b[39m=\u001b[39mnp\u001b[39m.\u001b[39marray(\u001b[39mself\u001b[39m\u001b[39m.\u001b[39mzc\u001b[39m.\u001b[39mU_gem), y\u001b[39m=\u001b[39mnp\u001b[39m.\u001b[39marray(\u001b[39mself\u001b[39m\u001b[39m.\u001b[39mzc\u001b[39m.\u001b[39mI_gem), height \u001b[39m=\u001b[39m np\u001b[39m.\u001b[39marray(\u001b[39mself\u001b[39m\u001b[39m.\u001b[39mzc\u001b[39m.\u001b[39mI_error))\n",
      "\u001b[1;31mAttributeError\u001b[0m: 'Ui_MainWindow' object has no attribute 'PlotWidget'"
     ]
    },
    {
     "ename": "AttributeError",
     "evalue": "'Ui_MainWindow' object has no attribute 'PlotWidget'",
     "output_type": "error",
     "traceback": [
      "\u001b[1;31m---------------------------------------------------------------------------\u001b[0m",
      "\u001b[1;31mAttributeError\u001b[0m                            Traceback (most recent call last)",
      "Cell \u001b[1;32mIn[1], line 66\u001b[0m, in \u001b[0;36mUserInterface.graph\u001b[1;34m(self)\u001b[0m\n\u001b[0;32m     64\u001b[0m \u001b[39m@Slot\u001b[39m()\n\u001b[0;32m     65\u001b[0m \u001b[39mdef\u001b[39;00m \u001b[39mgraph\u001b[39m(\u001b[39mself\u001b[39m):\n\u001b[1;32m---> 66\u001b[0m     \u001b[39mself\u001b[39;49m\u001b[39m.\u001b[39;49mui\u001b[39m.\u001b[39;49mPlotWidget\u001b[39m.\u001b[39mclear()\n\u001b[0;32m     67\u001b[0m     \u001b[39mself\u001b[39m\u001b[39m.\u001b[39mui\u001b[39m.\u001b[39mIU_graph\u001b[39m.\u001b[39mplot(\u001b[39mself\u001b[39m\u001b[39m.\u001b[39mzc\u001b[39m.\u001b[39mU_gem, \u001b[39mself\u001b[39m\u001b[39m.\u001b[39mzc\u001b[39m.\u001b[39mI_gem, symbol\u001b[39m=\u001b[39m\u001b[39m\"\u001b[39m\u001b[39mo\u001b[39m\u001b[39m\"\u001b[39m, symbolSize\u001b[39m=\u001b[39m\u001b[39m5\u001b[39m, pen\u001b[39m=\u001b[39m\u001b[39mNone\u001b[39;00m)\n\u001b[0;32m     68\u001b[0m     error_bars \u001b[39m=\u001b[39m pg\u001b[39m.\u001b[39mErrorBarItem(x\u001b[39m=\u001b[39mnp\u001b[39m.\u001b[39marray(\u001b[39mself\u001b[39m\u001b[39m.\u001b[39mzc\u001b[39m.\u001b[39mU_gem), y\u001b[39m=\u001b[39mnp\u001b[39m.\u001b[39marray(\u001b[39mself\u001b[39m\u001b[39m.\u001b[39mzc\u001b[39m.\u001b[39mI_gem), height \u001b[39m=\u001b[39m np\u001b[39m.\u001b[39marray(\u001b[39mself\u001b[39m\u001b[39m.\u001b[39mzc\u001b[39m.\u001b[39mI_error))\n",
      "\u001b[1;31mAttributeError\u001b[0m: 'Ui_MainWindow' object has no attribute 'PlotWidget'"
     ]
    },
    {
     "ename": "AttributeError",
     "evalue": "'Ui_MainWindow' object has no attribute 'PlotWidget'",
     "output_type": "error",
     "traceback": [
      "\u001b[1;31m---------------------------------------------------------------------------\u001b[0m",
      "\u001b[1;31mAttributeError\u001b[0m                            Traceback (most recent call last)",
      "Cell \u001b[1;32mIn[1], line 66\u001b[0m, in \u001b[0;36mUserInterface.graph\u001b[1;34m(self)\u001b[0m\n\u001b[0;32m     64\u001b[0m \u001b[39m@Slot\u001b[39m()\n\u001b[0;32m     65\u001b[0m \u001b[39mdef\u001b[39;00m \u001b[39mgraph\u001b[39m(\u001b[39mself\u001b[39m):\n\u001b[1;32m---> 66\u001b[0m     \u001b[39mself\u001b[39;49m\u001b[39m.\u001b[39;49mui\u001b[39m.\u001b[39;49mPlotWidget\u001b[39m.\u001b[39mclear()\n\u001b[0;32m     67\u001b[0m     \u001b[39mself\u001b[39m\u001b[39m.\u001b[39mui\u001b[39m.\u001b[39mIU_graph\u001b[39m.\u001b[39mplot(\u001b[39mself\u001b[39m\u001b[39m.\u001b[39mzc\u001b[39m.\u001b[39mU_gem, \u001b[39mself\u001b[39m\u001b[39m.\u001b[39mzc\u001b[39m.\u001b[39mI_gem, symbol\u001b[39m=\u001b[39m\u001b[39m\"\u001b[39m\u001b[39mo\u001b[39m\u001b[39m\"\u001b[39m, symbolSize\u001b[39m=\u001b[39m\u001b[39m5\u001b[39m, pen\u001b[39m=\u001b[39m\u001b[39mNone\u001b[39;00m)\n\u001b[0;32m     68\u001b[0m     error_bars \u001b[39m=\u001b[39m pg\u001b[39m.\u001b[39mErrorBarItem(x\u001b[39m=\u001b[39mnp\u001b[39m.\u001b[39marray(\u001b[39mself\u001b[39m\u001b[39m.\u001b[39mzc\u001b[39m.\u001b[39mU_gem), y\u001b[39m=\u001b[39mnp\u001b[39m.\u001b[39marray(\u001b[39mself\u001b[39m\u001b[39m.\u001b[39mzc\u001b[39m.\u001b[39mI_gem), height \u001b[39m=\u001b[39m np\u001b[39m.\u001b[39marray(\u001b[39mself\u001b[39m\u001b[39m.\u001b[39mzc\u001b[39m.\u001b[39mI_error))\n",
      "\u001b[1;31mAttributeError\u001b[0m: 'Ui_MainWindow' object has no attribute 'PlotWidget'"
     ]
    },
    {
     "ename": "AttributeError",
     "evalue": "'Ui_MainWindow' object has no attribute 'PlotWidget'",
     "output_type": "error",
     "traceback": [
      "\u001b[1;31m---------------------------------------------------------------------------\u001b[0m",
      "\u001b[1;31mAttributeError\u001b[0m                            Traceback (most recent call last)",
      "Cell \u001b[1;32mIn[1], line 66\u001b[0m, in \u001b[0;36mUserInterface.graph\u001b[1;34m(self)\u001b[0m\n\u001b[0;32m     64\u001b[0m \u001b[39m@Slot\u001b[39m()\n\u001b[0;32m     65\u001b[0m \u001b[39mdef\u001b[39;00m \u001b[39mgraph\u001b[39m(\u001b[39mself\u001b[39m):\n\u001b[1;32m---> 66\u001b[0m     \u001b[39mself\u001b[39;49m\u001b[39m.\u001b[39;49mui\u001b[39m.\u001b[39;49mPlotWidget\u001b[39m.\u001b[39mclear()\n\u001b[0;32m     67\u001b[0m     \u001b[39mself\u001b[39m\u001b[39m.\u001b[39mui\u001b[39m.\u001b[39mIU_graph\u001b[39m.\u001b[39mplot(\u001b[39mself\u001b[39m\u001b[39m.\u001b[39mzc\u001b[39m.\u001b[39mU_gem, \u001b[39mself\u001b[39m\u001b[39m.\u001b[39mzc\u001b[39m.\u001b[39mI_gem, symbol\u001b[39m=\u001b[39m\u001b[39m\"\u001b[39m\u001b[39mo\u001b[39m\u001b[39m\"\u001b[39m, symbolSize\u001b[39m=\u001b[39m\u001b[39m5\u001b[39m, pen\u001b[39m=\u001b[39m\u001b[39mNone\u001b[39;00m)\n\u001b[0;32m     68\u001b[0m     error_bars \u001b[39m=\u001b[39m pg\u001b[39m.\u001b[39mErrorBarItem(x\u001b[39m=\u001b[39mnp\u001b[39m.\u001b[39marray(\u001b[39mself\u001b[39m\u001b[39m.\u001b[39mzc\u001b[39m.\u001b[39mU_gem), y\u001b[39m=\u001b[39mnp\u001b[39m.\u001b[39marray(\u001b[39mself\u001b[39m\u001b[39m.\u001b[39mzc\u001b[39m.\u001b[39mI_gem), height \u001b[39m=\u001b[39m np\u001b[39m.\u001b[39marray(\u001b[39mself\u001b[39m\u001b[39m.\u001b[39mzc\u001b[39m.\u001b[39mI_error))\n",
      "\u001b[1;31mAttributeError\u001b[0m: 'Ui_MainWindow' object has no attribute 'PlotWidget'"
     ]
    },
    {
     "ename": "AttributeError",
     "evalue": "'Ui_MainWindow' object has no attribute 'PlotWidget'",
     "output_type": "error",
     "traceback": [
      "\u001b[1;31m---------------------------------------------------------------------------\u001b[0m",
      "\u001b[1;31mAttributeError\u001b[0m                            Traceback (most recent call last)",
      "Cell \u001b[1;32mIn[1], line 66\u001b[0m, in \u001b[0;36mUserInterface.graph\u001b[1;34m(self)\u001b[0m\n\u001b[0;32m     64\u001b[0m \u001b[39m@Slot\u001b[39m()\n\u001b[0;32m     65\u001b[0m \u001b[39mdef\u001b[39;00m \u001b[39mgraph\u001b[39m(\u001b[39mself\u001b[39m):\n\u001b[1;32m---> 66\u001b[0m     \u001b[39mself\u001b[39;49m\u001b[39m.\u001b[39;49mui\u001b[39m.\u001b[39;49mPlotWidget\u001b[39m.\u001b[39mclear()\n\u001b[0;32m     67\u001b[0m     \u001b[39mself\u001b[39m\u001b[39m.\u001b[39mui\u001b[39m.\u001b[39mIU_graph\u001b[39m.\u001b[39mplot(\u001b[39mself\u001b[39m\u001b[39m.\u001b[39mzc\u001b[39m.\u001b[39mU_gem, \u001b[39mself\u001b[39m\u001b[39m.\u001b[39mzc\u001b[39m.\u001b[39mI_gem, symbol\u001b[39m=\u001b[39m\u001b[39m\"\u001b[39m\u001b[39mo\u001b[39m\u001b[39m\"\u001b[39m, symbolSize\u001b[39m=\u001b[39m\u001b[39m5\u001b[39m, pen\u001b[39m=\u001b[39m\u001b[39mNone\u001b[39;00m)\n\u001b[0;32m     68\u001b[0m     error_bars \u001b[39m=\u001b[39m pg\u001b[39m.\u001b[39mErrorBarItem(x\u001b[39m=\u001b[39mnp\u001b[39m.\u001b[39marray(\u001b[39mself\u001b[39m\u001b[39m.\u001b[39mzc\u001b[39m.\u001b[39mU_gem), y\u001b[39m=\u001b[39mnp\u001b[39m.\u001b[39marray(\u001b[39mself\u001b[39m\u001b[39m.\u001b[39mzc\u001b[39m.\u001b[39mI_gem), height \u001b[39m=\u001b[39m np\u001b[39m.\u001b[39marray(\u001b[39mself\u001b[39m\u001b[39m.\u001b[39mzc\u001b[39m.\u001b[39mI_error))\n",
      "\u001b[1;31mAttributeError\u001b[0m: 'Ui_MainWindow' object has no attribute 'PlotWidget'"
     ]
    },
    {
     "ename": "AttributeError",
     "evalue": "'Ui_MainWindow' object has no attribute 'PlotWidget'",
     "output_type": "error",
     "traceback": [
      "\u001b[1;31m---------------------------------------------------------------------------\u001b[0m",
      "\u001b[1;31mAttributeError\u001b[0m                            Traceback (most recent call last)",
      "Cell \u001b[1;32mIn[1], line 66\u001b[0m, in \u001b[0;36mUserInterface.graph\u001b[1;34m(self)\u001b[0m\n\u001b[0;32m     64\u001b[0m \u001b[39m@Slot\u001b[39m()\n\u001b[0;32m     65\u001b[0m \u001b[39mdef\u001b[39;00m \u001b[39mgraph\u001b[39m(\u001b[39mself\u001b[39m):\n\u001b[1;32m---> 66\u001b[0m     \u001b[39mself\u001b[39;49m\u001b[39m.\u001b[39;49mui\u001b[39m.\u001b[39;49mPlotWidget\u001b[39m.\u001b[39mclear()\n\u001b[0;32m     67\u001b[0m     \u001b[39mself\u001b[39m\u001b[39m.\u001b[39mui\u001b[39m.\u001b[39mIU_graph\u001b[39m.\u001b[39mplot(\u001b[39mself\u001b[39m\u001b[39m.\u001b[39mzc\u001b[39m.\u001b[39mU_gem, \u001b[39mself\u001b[39m\u001b[39m.\u001b[39mzc\u001b[39m.\u001b[39mI_gem, symbol\u001b[39m=\u001b[39m\u001b[39m\"\u001b[39m\u001b[39mo\u001b[39m\u001b[39m\"\u001b[39m, symbolSize\u001b[39m=\u001b[39m\u001b[39m5\u001b[39m, pen\u001b[39m=\u001b[39m\u001b[39mNone\u001b[39;00m)\n\u001b[0;32m     68\u001b[0m     error_bars \u001b[39m=\u001b[39m pg\u001b[39m.\u001b[39mErrorBarItem(x\u001b[39m=\u001b[39mnp\u001b[39m.\u001b[39marray(\u001b[39mself\u001b[39m\u001b[39m.\u001b[39mzc\u001b[39m.\u001b[39mU_gem), y\u001b[39m=\u001b[39mnp\u001b[39m.\u001b[39marray(\u001b[39mself\u001b[39m\u001b[39m.\u001b[39mzc\u001b[39m.\u001b[39mI_gem), height \u001b[39m=\u001b[39m np\u001b[39m.\u001b[39marray(\u001b[39mself\u001b[39m\u001b[39m.\u001b[39mzc\u001b[39m.\u001b[39mI_error))\n",
      "\u001b[1;31mAttributeError\u001b[0m: 'Ui_MainWindow' object has no attribute 'PlotWidget'"
     ]
    },
    {
     "ename": "AttributeError",
     "evalue": "'Ui_MainWindow' object has no attribute 'PlotWidget'",
     "output_type": "error",
     "traceback": [
      "\u001b[1;31m---------------------------------------------------------------------------\u001b[0m",
      "\u001b[1;31mAttributeError\u001b[0m                            Traceback (most recent call last)",
      "Cell \u001b[1;32mIn[1], line 66\u001b[0m, in \u001b[0;36mUserInterface.graph\u001b[1;34m(self)\u001b[0m\n\u001b[0;32m     64\u001b[0m \u001b[39m@Slot\u001b[39m()\n\u001b[0;32m     65\u001b[0m \u001b[39mdef\u001b[39;00m \u001b[39mgraph\u001b[39m(\u001b[39mself\u001b[39m):\n\u001b[1;32m---> 66\u001b[0m     \u001b[39mself\u001b[39;49m\u001b[39m.\u001b[39;49mui\u001b[39m.\u001b[39;49mPlotWidget\u001b[39m.\u001b[39mclear()\n\u001b[0;32m     67\u001b[0m     \u001b[39mself\u001b[39m\u001b[39m.\u001b[39mui\u001b[39m.\u001b[39mIU_graph\u001b[39m.\u001b[39mplot(\u001b[39mself\u001b[39m\u001b[39m.\u001b[39mzc\u001b[39m.\u001b[39mU_gem, \u001b[39mself\u001b[39m\u001b[39m.\u001b[39mzc\u001b[39m.\u001b[39mI_gem, symbol\u001b[39m=\u001b[39m\u001b[39m\"\u001b[39m\u001b[39mo\u001b[39m\u001b[39m\"\u001b[39m, symbolSize\u001b[39m=\u001b[39m\u001b[39m5\u001b[39m, pen\u001b[39m=\u001b[39m\u001b[39mNone\u001b[39;00m)\n\u001b[0;32m     68\u001b[0m     error_bars \u001b[39m=\u001b[39m pg\u001b[39m.\u001b[39mErrorBarItem(x\u001b[39m=\u001b[39mnp\u001b[39m.\u001b[39marray(\u001b[39mself\u001b[39m\u001b[39m.\u001b[39mzc\u001b[39m.\u001b[39mU_gem), y\u001b[39m=\u001b[39mnp\u001b[39m.\u001b[39marray(\u001b[39mself\u001b[39m\u001b[39m.\u001b[39mzc\u001b[39m.\u001b[39mI_gem), height \u001b[39m=\u001b[39m np\u001b[39m.\u001b[39marray(\u001b[39mself\u001b[39m\u001b[39m.\u001b[39mzc\u001b[39m.\u001b[39mI_error))\n",
      "\u001b[1;31mAttributeError\u001b[0m: 'Ui_MainWindow' object has no attribute 'PlotWidget'"
     ]
    },
    {
     "ename": "AttributeError",
     "evalue": "'Ui_MainWindow' object has no attribute 'PlotWidget'",
     "output_type": "error",
     "traceback": [
      "\u001b[1;31m---------------------------------------------------------------------------\u001b[0m",
      "\u001b[1;31mAttributeError\u001b[0m                            Traceback (most recent call last)",
      "Cell \u001b[1;32mIn[1], line 66\u001b[0m, in \u001b[0;36mUserInterface.graph\u001b[1;34m(self)\u001b[0m\n\u001b[0;32m     64\u001b[0m \u001b[39m@Slot\u001b[39m()\n\u001b[0;32m     65\u001b[0m \u001b[39mdef\u001b[39;00m \u001b[39mgraph\u001b[39m(\u001b[39mself\u001b[39m):\n\u001b[1;32m---> 66\u001b[0m     \u001b[39mself\u001b[39;49m\u001b[39m.\u001b[39;49mui\u001b[39m.\u001b[39;49mPlotWidget\u001b[39m.\u001b[39mclear()\n\u001b[0;32m     67\u001b[0m     \u001b[39mself\u001b[39m\u001b[39m.\u001b[39mui\u001b[39m.\u001b[39mIU_graph\u001b[39m.\u001b[39mplot(\u001b[39mself\u001b[39m\u001b[39m.\u001b[39mzc\u001b[39m.\u001b[39mU_gem, \u001b[39mself\u001b[39m\u001b[39m.\u001b[39mzc\u001b[39m.\u001b[39mI_gem, symbol\u001b[39m=\u001b[39m\u001b[39m\"\u001b[39m\u001b[39mo\u001b[39m\u001b[39m\"\u001b[39m, symbolSize\u001b[39m=\u001b[39m\u001b[39m5\u001b[39m, pen\u001b[39m=\u001b[39m\u001b[39mNone\u001b[39;00m)\n\u001b[0;32m     68\u001b[0m     error_bars \u001b[39m=\u001b[39m pg\u001b[39m.\u001b[39mErrorBarItem(x\u001b[39m=\u001b[39mnp\u001b[39m.\u001b[39marray(\u001b[39mself\u001b[39m\u001b[39m.\u001b[39mzc\u001b[39m.\u001b[39mU_gem), y\u001b[39m=\u001b[39mnp\u001b[39m.\u001b[39marray(\u001b[39mself\u001b[39m\u001b[39m.\u001b[39mzc\u001b[39m.\u001b[39mI_gem), height \u001b[39m=\u001b[39m np\u001b[39m.\u001b[39marray(\u001b[39mself\u001b[39m\u001b[39m.\u001b[39mzc\u001b[39m.\u001b[39mI_error))\n",
      "\u001b[1;31mAttributeError\u001b[0m: 'Ui_MainWindow' object has no attribute 'PlotWidget'"
     ]
    },
    {
     "ename": "AttributeError",
     "evalue": "'Ui_MainWindow' object has no attribute 'PlotWidget'",
     "output_type": "error",
     "traceback": [
      "\u001b[1;31m---------------------------------------------------------------------------\u001b[0m",
      "\u001b[1;31mAttributeError\u001b[0m                            Traceback (most recent call last)",
      "Cell \u001b[1;32mIn[1], line 66\u001b[0m, in \u001b[0;36mUserInterface.graph\u001b[1;34m(self)\u001b[0m\n\u001b[0;32m     64\u001b[0m \u001b[39m@Slot\u001b[39m()\n\u001b[0;32m     65\u001b[0m \u001b[39mdef\u001b[39;00m \u001b[39mgraph\u001b[39m(\u001b[39mself\u001b[39m):\n\u001b[1;32m---> 66\u001b[0m     \u001b[39mself\u001b[39;49m\u001b[39m.\u001b[39;49mui\u001b[39m.\u001b[39;49mPlotWidget\u001b[39m.\u001b[39mclear()\n\u001b[0;32m     67\u001b[0m     \u001b[39mself\u001b[39m\u001b[39m.\u001b[39mui\u001b[39m.\u001b[39mIU_graph\u001b[39m.\u001b[39mplot(\u001b[39mself\u001b[39m\u001b[39m.\u001b[39mzc\u001b[39m.\u001b[39mU_gem, \u001b[39mself\u001b[39m\u001b[39m.\u001b[39mzc\u001b[39m.\u001b[39mI_gem, symbol\u001b[39m=\u001b[39m\u001b[39m\"\u001b[39m\u001b[39mo\u001b[39m\u001b[39m\"\u001b[39m, symbolSize\u001b[39m=\u001b[39m\u001b[39m5\u001b[39m, pen\u001b[39m=\u001b[39m\u001b[39mNone\u001b[39;00m)\n\u001b[0;32m     68\u001b[0m     error_bars \u001b[39m=\u001b[39m pg\u001b[39m.\u001b[39mErrorBarItem(x\u001b[39m=\u001b[39mnp\u001b[39m.\u001b[39marray(\u001b[39mself\u001b[39m\u001b[39m.\u001b[39mzc\u001b[39m.\u001b[39mU_gem), y\u001b[39m=\u001b[39mnp\u001b[39m.\u001b[39marray(\u001b[39mself\u001b[39m\u001b[39m.\u001b[39mzc\u001b[39m.\u001b[39mI_gem), height \u001b[39m=\u001b[39m np\u001b[39m.\u001b[39marray(\u001b[39mself\u001b[39m\u001b[39m.\u001b[39mzc\u001b[39m.\u001b[39mI_error))\n",
      "\u001b[1;31mAttributeError\u001b[0m: 'Ui_MainWindow' object has no attribute 'PlotWidget'"
     ]
    },
    {
     "ename": "AttributeError",
     "evalue": "'Ui_MainWindow' object has no attribute 'PlotWidget'",
     "output_type": "error",
     "traceback": [
      "\u001b[1;31m---------------------------------------------------------------------------\u001b[0m",
      "\u001b[1;31mAttributeError\u001b[0m                            Traceback (most recent call last)",
      "Cell \u001b[1;32mIn[1], line 66\u001b[0m, in \u001b[0;36mUserInterface.graph\u001b[1;34m(self)\u001b[0m\n\u001b[0;32m     64\u001b[0m \u001b[39m@Slot\u001b[39m()\n\u001b[0;32m     65\u001b[0m \u001b[39mdef\u001b[39;00m \u001b[39mgraph\u001b[39m(\u001b[39mself\u001b[39m):\n\u001b[1;32m---> 66\u001b[0m     \u001b[39mself\u001b[39;49m\u001b[39m.\u001b[39;49mui\u001b[39m.\u001b[39;49mPlotWidget\u001b[39m.\u001b[39mclear()\n\u001b[0;32m     67\u001b[0m     \u001b[39mself\u001b[39m\u001b[39m.\u001b[39mui\u001b[39m.\u001b[39mIU_graph\u001b[39m.\u001b[39mplot(\u001b[39mself\u001b[39m\u001b[39m.\u001b[39mzc\u001b[39m.\u001b[39mU_gem, \u001b[39mself\u001b[39m\u001b[39m.\u001b[39mzc\u001b[39m.\u001b[39mI_gem, symbol\u001b[39m=\u001b[39m\u001b[39m\"\u001b[39m\u001b[39mo\u001b[39m\u001b[39m\"\u001b[39m, symbolSize\u001b[39m=\u001b[39m\u001b[39m5\u001b[39m, pen\u001b[39m=\u001b[39m\u001b[39mNone\u001b[39;00m)\n\u001b[0;32m     68\u001b[0m     error_bars \u001b[39m=\u001b[39m pg\u001b[39m.\u001b[39mErrorBarItem(x\u001b[39m=\u001b[39mnp\u001b[39m.\u001b[39marray(\u001b[39mself\u001b[39m\u001b[39m.\u001b[39mzc\u001b[39m.\u001b[39mU_gem), y\u001b[39m=\u001b[39mnp\u001b[39m.\u001b[39marray(\u001b[39mself\u001b[39m\u001b[39m.\u001b[39mzc\u001b[39m.\u001b[39mI_gem), height \u001b[39m=\u001b[39m np\u001b[39m.\u001b[39marray(\u001b[39mself\u001b[39m\u001b[39m.\u001b[39mzc\u001b[39m.\u001b[39mI_error))\n",
      "\u001b[1;31mAttributeError\u001b[0m: 'Ui_MainWindow' object has no attribute 'PlotWidget'"
     ]
    },
    {
     "ename": "AttributeError",
     "evalue": "'Ui_MainWindow' object has no attribute 'PlotWidget'",
     "output_type": "error",
     "traceback": [
      "\u001b[1;31m---------------------------------------------------------------------------\u001b[0m",
      "\u001b[1;31mAttributeError\u001b[0m                            Traceback (most recent call last)",
      "Cell \u001b[1;32mIn[1], line 66\u001b[0m, in \u001b[0;36mUserInterface.graph\u001b[1;34m(self)\u001b[0m\n\u001b[0;32m     64\u001b[0m \u001b[39m@Slot\u001b[39m()\n\u001b[0;32m     65\u001b[0m \u001b[39mdef\u001b[39;00m \u001b[39mgraph\u001b[39m(\u001b[39mself\u001b[39m):\n\u001b[1;32m---> 66\u001b[0m     \u001b[39mself\u001b[39;49m\u001b[39m.\u001b[39;49mui\u001b[39m.\u001b[39;49mPlotWidget\u001b[39m.\u001b[39mclear()\n\u001b[0;32m     67\u001b[0m     \u001b[39mself\u001b[39m\u001b[39m.\u001b[39mui\u001b[39m.\u001b[39mIU_graph\u001b[39m.\u001b[39mplot(\u001b[39mself\u001b[39m\u001b[39m.\u001b[39mzc\u001b[39m.\u001b[39mU_gem, \u001b[39mself\u001b[39m\u001b[39m.\u001b[39mzc\u001b[39m.\u001b[39mI_gem, symbol\u001b[39m=\u001b[39m\u001b[39m\"\u001b[39m\u001b[39mo\u001b[39m\u001b[39m\"\u001b[39m, symbolSize\u001b[39m=\u001b[39m\u001b[39m5\u001b[39m, pen\u001b[39m=\u001b[39m\u001b[39mNone\u001b[39;00m)\n\u001b[0;32m     68\u001b[0m     error_bars \u001b[39m=\u001b[39m pg\u001b[39m.\u001b[39mErrorBarItem(x\u001b[39m=\u001b[39mnp\u001b[39m.\u001b[39marray(\u001b[39mself\u001b[39m\u001b[39m.\u001b[39mzc\u001b[39m.\u001b[39mU_gem), y\u001b[39m=\u001b[39mnp\u001b[39m.\u001b[39marray(\u001b[39mself\u001b[39m\u001b[39m.\u001b[39mzc\u001b[39m.\u001b[39mI_gem), height \u001b[39m=\u001b[39m np\u001b[39m.\u001b[39marray(\u001b[39mself\u001b[39m\u001b[39m.\u001b[39mzc\u001b[39m.\u001b[39mI_error))\n",
      "\u001b[1;31mAttributeError\u001b[0m: 'Ui_MainWindow' object has no attribute 'PlotWidget'"
     ]
    },
    {
     "ename": "AttributeError",
     "evalue": "'Ui_MainWindow' object has no attribute 'PlotWidget'",
     "output_type": "error",
     "traceback": [
      "\u001b[1;31m---------------------------------------------------------------------------\u001b[0m",
      "\u001b[1;31mAttributeError\u001b[0m                            Traceback (most recent call last)",
      "Cell \u001b[1;32mIn[1], line 66\u001b[0m, in \u001b[0;36mUserInterface.graph\u001b[1;34m(self)\u001b[0m\n\u001b[0;32m     64\u001b[0m \u001b[39m@Slot\u001b[39m()\n\u001b[0;32m     65\u001b[0m \u001b[39mdef\u001b[39;00m \u001b[39mgraph\u001b[39m(\u001b[39mself\u001b[39m):\n\u001b[1;32m---> 66\u001b[0m     \u001b[39mself\u001b[39;49m\u001b[39m.\u001b[39;49mui\u001b[39m.\u001b[39;49mPlotWidget\u001b[39m.\u001b[39mclear()\n\u001b[0;32m     67\u001b[0m     \u001b[39mself\u001b[39m\u001b[39m.\u001b[39mui\u001b[39m.\u001b[39mIU_graph\u001b[39m.\u001b[39mplot(\u001b[39mself\u001b[39m\u001b[39m.\u001b[39mzc\u001b[39m.\u001b[39mU_gem, \u001b[39mself\u001b[39m\u001b[39m.\u001b[39mzc\u001b[39m.\u001b[39mI_gem, symbol\u001b[39m=\u001b[39m\u001b[39m\"\u001b[39m\u001b[39mo\u001b[39m\u001b[39m\"\u001b[39m, symbolSize\u001b[39m=\u001b[39m\u001b[39m5\u001b[39m, pen\u001b[39m=\u001b[39m\u001b[39mNone\u001b[39;00m)\n\u001b[0;32m     68\u001b[0m     error_bars \u001b[39m=\u001b[39m pg\u001b[39m.\u001b[39mErrorBarItem(x\u001b[39m=\u001b[39mnp\u001b[39m.\u001b[39marray(\u001b[39mself\u001b[39m\u001b[39m.\u001b[39mzc\u001b[39m.\u001b[39mU_gem), y\u001b[39m=\u001b[39mnp\u001b[39m.\u001b[39marray(\u001b[39mself\u001b[39m\u001b[39m.\u001b[39mzc\u001b[39m.\u001b[39mI_gem), height \u001b[39m=\u001b[39m np\u001b[39m.\u001b[39marray(\u001b[39mself\u001b[39m\u001b[39m.\u001b[39mzc\u001b[39m.\u001b[39mI_error))\n",
      "\u001b[1;31mAttributeError\u001b[0m: 'Ui_MainWindow' object has no attribute 'PlotWidget'"
     ]
    },
    {
     "ename": "AttributeError",
     "evalue": "'Ui_MainWindow' object has no attribute 'PlotWidget'",
     "output_type": "error",
     "traceback": [
      "\u001b[1;31m---------------------------------------------------------------------------\u001b[0m",
      "\u001b[1;31mAttributeError\u001b[0m                            Traceback (most recent call last)",
      "Cell \u001b[1;32mIn[1], line 66\u001b[0m, in \u001b[0;36mUserInterface.graph\u001b[1;34m(self)\u001b[0m\n\u001b[0;32m     64\u001b[0m \u001b[39m@Slot\u001b[39m()\n\u001b[0;32m     65\u001b[0m \u001b[39mdef\u001b[39;00m \u001b[39mgraph\u001b[39m(\u001b[39mself\u001b[39m):\n\u001b[1;32m---> 66\u001b[0m     \u001b[39mself\u001b[39;49m\u001b[39m.\u001b[39;49mui\u001b[39m.\u001b[39;49mPlotWidget\u001b[39m.\u001b[39mclear()\n\u001b[0;32m     67\u001b[0m     \u001b[39mself\u001b[39m\u001b[39m.\u001b[39mui\u001b[39m.\u001b[39mIU_graph\u001b[39m.\u001b[39mplot(\u001b[39mself\u001b[39m\u001b[39m.\u001b[39mzc\u001b[39m.\u001b[39mU_gem, \u001b[39mself\u001b[39m\u001b[39m.\u001b[39mzc\u001b[39m.\u001b[39mI_gem, symbol\u001b[39m=\u001b[39m\u001b[39m\"\u001b[39m\u001b[39mo\u001b[39m\u001b[39m\"\u001b[39m, symbolSize\u001b[39m=\u001b[39m\u001b[39m5\u001b[39m, pen\u001b[39m=\u001b[39m\u001b[39mNone\u001b[39;00m)\n\u001b[0;32m     68\u001b[0m     error_bars \u001b[39m=\u001b[39m pg\u001b[39m.\u001b[39mErrorBarItem(x\u001b[39m=\u001b[39mnp\u001b[39m.\u001b[39marray(\u001b[39mself\u001b[39m\u001b[39m.\u001b[39mzc\u001b[39m.\u001b[39mU_gem), y\u001b[39m=\u001b[39mnp\u001b[39m.\u001b[39marray(\u001b[39mself\u001b[39m\u001b[39m.\u001b[39mzc\u001b[39m.\u001b[39mI_gem), height \u001b[39m=\u001b[39m np\u001b[39m.\u001b[39marray(\u001b[39mself\u001b[39m\u001b[39m.\u001b[39mzc\u001b[39m.\u001b[39mI_error))\n",
      "\u001b[1;31mAttributeError\u001b[0m: 'Ui_MainWindow' object has no attribute 'PlotWidget'"
     ]
    },
    {
     "ename": "AttributeError",
     "evalue": "'Ui_MainWindow' object has no attribute 'PlotWidget'",
     "output_type": "error",
     "traceback": [
      "\u001b[1;31m---------------------------------------------------------------------------\u001b[0m",
      "\u001b[1;31mAttributeError\u001b[0m                            Traceback (most recent call last)",
      "Cell \u001b[1;32mIn[1], line 66\u001b[0m, in \u001b[0;36mUserInterface.graph\u001b[1;34m(self)\u001b[0m\n\u001b[0;32m     64\u001b[0m \u001b[39m@Slot\u001b[39m()\n\u001b[0;32m     65\u001b[0m \u001b[39mdef\u001b[39;00m \u001b[39mgraph\u001b[39m(\u001b[39mself\u001b[39m):\n\u001b[1;32m---> 66\u001b[0m     \u001b[39mself\u001b[39;49m\u001b[39m.\u001b[39;49mui\u001b[39m.\u001b[39;49mPlotWidget\u001b[39m.\u001b[39mclear()\n\u001b[0;32m     67\u001b[0m     \u001b[39mself\u001b[39m\u001b[39m.\u001b[39mui\u001b[39m.\u001b[39mIU_graph\u001b[39m.\u001b[39mplot(\u001b[39mself\u001b[39m\u001b[39m.\u001b[39mzc\u001b[39m.\u001b[39mU_gem, \u001b[39mself\u001b[39m\u001b[39m.\u001b[39mzc\u001b[39m.\u001b[39mI_gem, symbol\u001b[39m=\u001b[39m\u001b[39m\"\u001b[39m\u001b[39mo\u001b[39m\u001b[39m\"\u001b[39m, symbolSize\u001b[39m=\u001b[39m\u001b[39m5\u001b[39m, pen\u001b[39m=\u001b[39m\u001b[39mNone\u001b[39;00m)\n\u001b[0;32m     68\u001b[0m     error_bars \u001b[39m=\u001b[39m pg\u001b[39m.\u001b[39mErrorBarItem(x\u001b[39m=\u001b[39mnp\u001b[39m.\u001b[39marray(\u001b[39mself\u001b[39m\u001b[39m.\u001b[39mzc\u001b[39m.\u001b[39mU_gem), y\u001b[39m=\u001b[39mnp\u001b[39m.\u001b[39marray(\u001b[39mself\u001b[39m\u001b[39m.\u001b[39mzc\u001b[39m.\u001b[39mI_gem), height \u001b[39m=\u001b[39m np\u001b[39m.\u001b[39marray(\u001b[39mself\u001b[39m\u001b[39m.\u001b[39mzc\u001b[39m.\u001b[39mI_error))\n",
      "\u001b[1;31mAttributeError\u001b[0m: 'Ui_MainWindow' object has no attribute 'PlotWidget'"
     ]
    },
    {
     "ename": "AttributeError",
     "evalue": "'Ui_MainWindow' object has no attribute 'PlotWidget'",
     "output_type": "error",
     "traceback": [
      "\u001b[1;31m---------------------------------------------------------------------------\u001b[0m",
      "\u001b[1;31mAttributeError\u001b[0m                            Traceback (most recent call last)",
      "Cell \u001b[1;32mIn[1], line 66\u001b[0m, in \u001b[0;36mUserInterface.graph\u001b[1;34m(self)\u001b[0m\n\u001b[0;32m     64\u001b[0m \u001b[39m@Slot\u001b[39m()\n\u001b[0;32m     65\u001b[0m \u001b[39mdef\u001b[39;00m \u001b[39mgraph\u001b[39m(\u001b[39mself\u001b[39m):\n\u001b[1;32m---> 66\u001b[0m     \u001b[39mself\u001b[39;49m\u001b[39m.\u001b[39;49mui\u001b[39m.\u001b[39;49mPlotWidget\u001b[39m.\u001b[39mclear()\n\u001b[0;32m     67\u001b[0m     \u001b[39mself\u001b[39m\u001b[39m.\u001b[39mui\u001b[39m.\u001b[39mIU_graph\u001b[39m.\u001b[39mplot(\u001b[39mself\u001b[39m\u001b[39m.\u001b[39mzc\u001b[39m.\u001b[39mU_gem, \u001b[39mself\u001b[39m\u001b[39m.\u001b[39mzc\u001b[39m.\u001b[39mI_gem, symbol\u001b[39m=\u001b[39m\u001b[39m\"\u001b[39m\u001b[39mo\u001b[39m\u001b[39m\"\u001b[39m, symbolSize\u001b[39m=\u001b[39m\u001b[39m5\u001b[39m, pen\u001b[39m=\u001b[39m\u001b[39mNone\u001b[39;00m)\n\u001b[0;32m     68\u001b[0m     error_bars \u001b[39m=\u001b[39m pg\u001b[39m.\u001b[39mErrorBarItem(x\u001b[39m=\u001b[39mnp\u001b[39m.\u001b[39marray(\u001b[39mself\u001b[39m\u001b[39m.\u001b[39mzc\u001b[39m.\u001b[39mU_gem), y\u001b[39m=\u001b[39mnp\u001b[39m.\u001b[39marray(\u001b[39mself\u001b[39m\u001b[39m.\u001b[39mzc\u001b[39m.\u001b[39mI_gem), height \u001b[39m=\u001b[39m np\u001b[39m.\u001b[39marray(\u001b[39mself\u001b[39m\u001b[39m.\u001b[39mzc\u001b[39m.\u001b[39mI_error))\n",
      "\u001b[1;31mAttributeError\u001b[0m: 'Ui_MainWindow' object has no attribute 'PlotWidget'"
     ]
    },
    {
     "ename": "AttributeError",
     "evalue": "'Ui_MainWindow' object has no attribute 'PlotWidget'",
     "output_type": "error",
     "traceback": [
      "\u001b[1;31m---------------------------------------------------------------------------\u001b[0m",
      "\u001b[1;31mAttributeError\u001b[0m                            Traceback (most recent call last)",
      "Cell \u001b[1;32mIn[1], line 66\u001b[0m, in \u001b[0;36mUserInterface.graph\u001b[1;34m(self)\u001b[0m\n\u001b[0;32m     64\u001b[0m \u001b[39m@Slot\u001b[39m()\n\u001b[0;32m     65\u001b[0m \u001b[39mdef\u001b[39;00m \u001b[39mgraph\u001b[39m(\u001b[39mself\u001b[39m):\n\u001b[1;32m---> 66\u001b[0m     \u001b[39mself\u001b[39;49m\u001b[39m.\u001b[39;49mui\u001b[39m.\u001b[39;49mPlotWidget\u001b[39m.\u001b[39mclear()\n\u001b[0;32m     67\u001b[0m     \u001b[39mself\u001b[39m\u001b[39m.\u001b[39mui\u001b[39m.\u001b[39mIU_graph\u001b[39m.\u001b[39mplot(\u001b[39mself\u001b[39m\u001b[39m.\u001b[39mzc\u001b[39m.\u001b[39mU_gem, \u001b[39mself\u001b[39m\u001b[39m.\u001b[39mzc\u001b[39m.\u001b[39mI_gem, symbol\u001b[39m=\u001b[39m\u001b[39m\"\u001b[39m\u001b[39mo\u001b[39m\u001b[39m\"\u001b[39m, symbolSize\u001b[39m=\u001b[39m\u001b[39m5\u001b[39m, pen\u001b[39m=\u001b[39m\u001b[39mNone\u001b[39;00m)\n\u001b[0;32m     68\u001b[0m     error_bars \u001b[39m=\u001b[39m pg\u001b[39m.\u001b[39mErrorBarItem(x\u001b[39m=\u001b[39mnp\u001b[39m.\u001b[39marray(\u001b[39mself\u001b[39m\u001b[39m.\u001b[39mzc\u001b[39m.\u001b[39mU_gem), y\u001b[39m=\u001b[39mnp\u001b[39m.\u001b[39marray(\u001b[39mself\u001b[39m\u001b[39m.\u001b[39mzc\u001b[39m.\u001b[39mI_gem), height \u001b[39m=\u001b[39m np\u001b[39m.\u001b[39marray(\u001b[39mself\u001b[39m\u001b[39m.\u001b[39mzc\u001b[39m.\u001b[39mI_error))\n",
      "\u001b[1;31mAttributeError\u001b[0m: 'Ui_MainWindow' object has no attribute 'PlotWidget'"
     ]
    },
    {
     "ename": "AttributeError",
     "evalue": "'Ui_MainWindow' object has no attribute 'PlotWidget'",
     "output_type": "error",
     "traceback": [
      "\u001b[1;31m---------------------------------------------------------------------------\u001b[0m",
      "\u001b[1;31mAttributeError\u001b[0m                            Traceback (most recent call last)",
      "Cell \u001b[1;32mIn[1], line 66\u001b[0m, in \u001b[0;36mUserInterface.graph\u001b[1;34m(self)\u001b[0m\n\u001b[0;32m     64\u001b[0m \u001b[39m@Slot\u001b[39m()\n\u001b[0;32m     65\u001b[0m \u001b[39mdef\u001b[39;00m \u001b[39mgraph\u001b[39m(\u001b[39mself\u001b[39m):\n\u001b[1;32m---> 66\u001b[0m     \u001b[39mself\u001b[39;49m\u001b[39m.\u001b[39;49mui\u001b[39m.\u001b[39;49mPlotWidget\u001b[39m.\u001b[39mclear()\n\u001b[0;32m     67\u001b[0m     \u001b[39mself\u001b[39m\u001b[39m.\u001b[39mui\u001b[39m.\u001b[39mIU_graph\u001b[39m.\u001b[39mplot(\u001b[39mself\u001b[39m\u001b[39m.\u001b[39mzc\u001b[39m.\u001b[39mU_gem, \u001b[39mself\u001b[39m\u001b[39m.\u001b[39mzc\u001b[39m.\u001b[39mI_gem, symbol\u001b[39m=\u001b[39m\u001b[39m\"\u001b[39m\u001b[39mo\u001b[39m\u001b[39m\"\u001b[39m, symbolSize\u001b[39m=\u001b[39m\u001b[39m5\u001b[39m, pen\u001b[39m=\u001b[39m\u001b[39mNone\u001b[39;00m)\n\u001b[0;32m     68\u001b[0m     error_bars \u001b[39m=\u001b[39m pg\u001b[39m.\u001b[39mErrorBarItem(x\u001b[39m=\u001b[39mnp\u001b[39m.\u001b[39marray(\u001b[39mself\u001b[39m\u001b[39m.\u001b[39mzc\u001b[39m.\u001b[39mU_gem), y\u001b[39m=\u001b[39mnp\u001b[39m.\u001b[39marray(\u001b[39mself\u001b[39m\u001b[39m.\u001b[39mzc\u001b[39m.\u001b[39mI_gem), height \u001b[39m=\u001b[39m np\u001b[39m.\u001b[39marray(\u001b[39mself\u001b[39m\u001b[39m.\u001b[39mzc\u001b[39m.\u001b[39mI_error))\n",
      "\u001b[1;31mAttributeError\u001b[0m: 'Ui_MainWindow' object has no attribute 'PlotWidget'"
     ]
    },
    {
     "ename": "AttributeError",
     "evalue": "'Ui_MainWindow' object has no attribute 'PlotWidget'",
     "output_type": "error",
     "traceback": [
      "\u001b[1;31m---------------------------------------------------------------------------\u001b[0m",
      "\u001b[1;31mAttributeError\u001b[0m                            Traceback (most recent call last)",
      "Cell \u001b[1;32mIn[1], line 66\u001b[0m, in \u001b[0;36mUserInterface.graph\u001b[1;34m(self)\u001b[0m\n\u001b[0;32m     64\u001b[0m \u001b[39m@Slot\u001b[39m()\n\u001b[0;32m     65\u001b[0m \u001b[39mdef\u001b[39;00m \u001b[39mgraph\u001b[39m(\u001b[39mself\u001b[39m):\n\u001b[1;32m---> 66\u001b[0m     \u001b[39mself\u001b[39;49m\u001b[39m.\u001b[39;49mui\u001b[39m.\u001b[39;49mPlotWidget\u001b[39m.\u001b[39mclear()\n\u001b[0;32m     67\u001b[0m     \u001b[39mself\u001b[39m\u001b[39m.\u001b[39mui\u001b[39m.\u001b[39mIU_graph\u001b[39m.\u001b[39mplot(\u001b[39mself\u001b[39m\u001b[39m.\u001b[39mzc\u001b[39m.\u001b[39mU_gem, \u001b[39mself\u001b[39m\u001b[39m.\u001b[39mzc\u001b[39m.\u001b[39mI_gem, symbol\u001b[39m=\u001b[39m\u001b[39m\"\u001b[39m\u001b[39mo\u001b[39m\u001b[39m\"\u001b[39m, symbolSize\u001b[39m=\u001b[39m\u001b[39m5\u001b[39m, pen\u001b[39m=\u001b[39m\u001b[39mNone\u001b[39;00m)\n\u001b[0;32m     68\u001b[0m     error_bars \u001b[39m=\u001b[39m pg\u001b[39m.\u001b[39mErrorBarItem(x\u001b[39m=\u001b[39mnp\u001b[39m.\u001b[39marray(\u001b[39mself\u001b[39m\u001b[39m.\u001b[39mzc\u001b[39m.\u001b[39mU_gem), y\u001b[39m=\u001b[39mnp\u001b[39m.\u001b[39marray(\u001b[39mself\u001b[39m\u001b[39m.\u001b[39mzc\u001b[39m.\u001b[39mI_gem), height \u001b[39m=\u001b[39m np\u001b[39m.\u001b[39marray(\u001b[39mself\u001b[39m\u001b[39m.\u001b[39mzc\u001b[39m.\u001b[39mI_error))\n",
      "\u001b[1;31mAttributeError\u001b[0m: 'Ui_MainWindow' object has no attribute 'PlotWidget'"
     ]
    },
    {
     "ename": "AttributeError",
     "evalue": "'Ui_MainWindow' object has no attribute 'PlotWidget'",
     "output_type": "error",
     "traceback": [
      "\u001b[1;31m---------------------------------------------------------------------------\u001b[0m",
      "\u001b[1;31mAttributeError\u001b[0m                            Traceback (most recent call last)",
      "Cell \u001b[1;32mIn[1], line 66\u001b[0m, in \u001b[0;36mUserInterface.graph\u001b[1;34m(self)\u001b[0m\n\u001b[0;32m     64\u001b[0m \u001b[39m@Slot\u001b[39m()\n\u001b[0;32m     65\u001b[0m \u001b[39mdef\u001b[39;00m \u001b[39mgraph\u001b[39m(\u001b[39mself\u001b[39m):\n\u001b[1;32m---> 66\u001b[0m     \u001b[39mself\u001b[39;49m\u001b[39m.\u001b[39;49mui\u001b[39m.\u001b[39;49mPlotWidget\u001b[39m.\u001b[39mclear()\n\u001b[0;32m     67\u001b[0m     \u001b[39mself\u001b[39m\u001b[39m.\u001b[39mui\u001b[39m.\u001b[39mIU_graph\u001b[39m.\u001b[39mplot(\u001b[39mself\u001b[39m\u001b[39m.\u001b[39mzc\u001b[39m.\u001b[39mU_gem, \u001b[39mself\u001b[39m\u001b[39m.\u001b[39mzc\u001b[39m.\u001b[39mI_gem, symbol\u001b[39m=\u001b[39m\u001b[39m\"\u001b[39m\u001b[39mo\u001b[39m\u001b[39m\"\u001b[39m, symbolSize\u001b[39m=\u001b[39m\u001b[39m5\u001b[39m, pen\u001b[39m=\u001b[39m\u001b[39mNone\u001b[39;00m)\n\u001b[0;32m     68\u001b[0m     error_bars \u001b[39m=\u001b[39m pg\u001b[39m.\u001b[39mErrorBarItem(x\u001b[39m=\u001b[39mnp\u001b[39m.\u001b[39marray(\u001b[39mself\u001b[39m\u001b[39m.\u001b[39mzc\u001b[39m.\u001b[39mU_gem), y\u001b[39m=\u001b[39mnp\u001b[39m.\u001b[39marray(\u001b[39mself\u001b[39m\u001b[39m.\u001b[39mzc\u001b[39m.\u001b[39mI_gem), height \u001b[39m=\u001b[39m np\u001b[39m.\u001b[39marray(\u001b[39mself\u001b[39m\u001b[39m.\u001b[39mzc\u001b[39m.\u001b[39mI_error))\n",
      "\u001b[1;31mAttributeError\u001b[0m: 'Ui_MainWindow' object has no attribute 'PlotWidget'"
     ]
    },
    {
     "ename": "AttributeError",
     "evalue": "'Ui_MainWindow' object has no attribute 'PlotWidget'",
     "output_type": "error",
     "traceback": [
      "\u001b[1;31m---------------------------------------------------------------------------\u001b[0m",
      "\u001b[1;31mAttributeError\u001b[0m                            Traceback (most recent call last)",
      "Cell \u001b[1;32mIn[1], line 66\u001b[0m, in \u001b[0;36mUserInterface.graph\u001b[1;34m(self)\u001b[0m\n\u001b[0;32m     64\u001b[0m \u001b[39m@Slot\u001b[39m()\n\u001b[0;32m     65\u001b[0m \u001b[39mdef\u001b[39;00m \u001b[39mgraph\u001b[39m(\u001b[39mself\u001b[39m):\n\u001b[1;32m---> 66\u001b[0m     \u001b[39mself\u001b[39;49m\u001b[39m.\u001b[39;49mui\u001b[39m.\u001b[39;49mPlotWidget\u001b[39m.\u001b[39mclear()\n\u001b[0;32m     67\u001b[0m     \u001b[39mself\u001b[39m\u001b[39m.\u001b[39mui\u001b[39m.\u001b[39mIU_graph\u001b[39m.\u001b[39mplot(\u001b[39mself\u001b[39m\u001b[39m.\u001b[39mzc\u001b[39m.\u001b[39mU_gem, \u001b[39mself\u001b[39m\u001b[39m.\u001b[39mzc\u001b[39m.\u001b[39mI_gem, symbol\u001b[39m=\u001b[39m\u001b[39m\"\u001b[39m\u001b[39mo\u001b[39m\u001b[39m\"\u001b[39m, symbolSize\u001b[39m=\u001b[39m\u001b[39m5\u001b[39m, pen\u001b[39m=\u001b[39m\u001b[39mNone\u001b[39;00m)\n\u001b[0;32m     68\u001b[0m     error_bars \u001b[39m=\u001b[39m pg\u001b[39m.\u001b[39mErrorBarItem(x\u001b[39m=\u001b[39mnp\u001b[39m.\u001b[39marray(\u001b[39mself\u001b[39m\u001b[39m.\u001b[39mzc\u001b[39m.\u001b[39mU_gem), y\u001b[39m=\u001b[39mnp\u001b[39m.\u001b[39marray(\u001b[39mself\u001b[39m\u001b[39m.\u001b[39mzc\u001b[39m.\u001b[39mI_gem), height \u001b[39m=\u001b[39m np\u001b[39m.\u001b[39marray(\u001b[39mself\u001b[39m\u001b[39m.\u001b[39mzc\u001b[39m.\u001b[39mI_error))\n",
      "\u001b[1;31mAttributeError\u001b[0m: 'Ui_MainWindow' object has no attribute 'PlotWidget'"
     ]
    },
    {
     "ename": "AttributeError",
     "evalue": "'Ui_MainWindow' object has no attribute 'PlotWidget'",
     "output_type": "error",
     "traceback": [
      "\u001b[1;31m---------------------------------------------------------------------------\u001b[0m",
      "\u001b[1;31mAttributeError\u001b[0m                            Traceback (most recent call last)",
      "Cell \u001b[1;32mIn[1], line 66\u001b[0m, in \u001b[0;36mUserInterface.graph\u001b[1;34m(self)\u001b[0m\n\u001b[0;32m     64\u001b[0m \u001b[39m@Slot\u001b[39m()\n\u001b[0;32m     65\u001b[0m \u001b[39mdef\u001b[39;00m \u001b[39mgraph\u001b[39m(\u001b[39mself\u001b[39m):\n\u001b[1;32m---> 66\u001b[0m     \u001b[39mself\u001b[39;49m\u001b[39m.\u001b[39;49mui\u001b[39m.\u001b[39;49mPlotWidget\u001b[39m.\u001b[39mclear()\n\u001b[0;32m     67\u001b[0m     \u001b[39mself\u001b[39m\u001b[39m.\u001b[39mui\u001b[39m.\u001b[39mIU_graph\u001b[39m.\u001b[39mplot(\u001b[39mself\u001b[39m\u001b[39m.\u001b[39mzc\u001b[39m.\u001b[39mU_gem, \u001b[39mself\u001b[39m\u001b[39m.\u001b[39mzc\u001b[39m.\u001b[39mI_gem, symbol\u001b[39m=\u001b[39m\u001b[39m\"\u001b[39m\u001b[39mo\u001b[39m\u001b[39m\"\u001b[39m, symbolSize\u001b[39m=\u001b[39m\u001b[39m5\u001b[39m, pen\u001b[39m=\u001b[39m\u001b[39mNone\u001b[39;00m)\n\u001b[0;32m     68\u001b[0m     error_bars \u001b[39m=\u001b[39m pg\u001b[39m.\u001b[39mErrorBarItem(x\u001b[39m=\u001b[39mnp\u001b[39m.\u001b[39marray(\u001b[39mself\u001b[39m\u001b[39m.\u001b[39mzc\u001b[39m.\u001b[39mU_gem), y\u001b[39m=\u001b[39mnp\u001b[39m.\u001b[39marray(\u001b[39mself\u001b[39m\u001b[39m.\u001b[39mzc\u001b[39m.\u001b[39mI_gem), height \u001b[39m=\u001b[39m np\u001b[39m.\u001b[39marray(\u001b[39mself\u001b[39m\u001b[39m.\u001b[39mzc\u001b[39m.\u001b[39mI_error))\n",
      "\u001b[1;31mAttributeError\u001b[0m: 'Ui_MainWindow' object has no attribute 'PlotWidget'"
     ]
    },
    {
     "ename": "AttributeError",
     "evalue": "'Ui_MainWindow' object has no attribute 'PlotWidget'",
     "output_type": "error",
     "traceback": [
      "\u001b[1;31m---------------------------------------------------------------------------\u001b[0m",
      "\u001b[1;31mAttributeError\u001b[0m                            Traceback (most recent call last)",
      "Cell \u001b[1;32mIn[1], line 66\u001b[0m, in \u001b[0;36mUserInterface.graph\u001b[1;34m(self)\u001b[0m\n\u001b[0;32m     64\u001b[0m \u001b[39m@Slot\u001b[39m()\n\u001b[0;32m     65\u001b[0m \u001b[39mdef\u001b[39;00m \u001b[39mgraph\u001b[39m(\u001b[39mself\u001b[39m):\n\u001b[1;32m---> 66\u001b[0m     \u001b[39mself\u001b[39;49m\u001b[39m.\u001b[39;49mui\u001b[39m.\u001b[39;49mPlotWidget\u001b[39m.\u001b[39mclear()\n\u001b[0;32m     67\u001b[0m     \u001b[39mself\u001b[39m\u001b[39m.\u001b[39mui\u001b[39m.\u001b[39mIU_graph\u001b[39m.\u001b[39mplot(\u001b[39mself\u001b[39m\u001b[39m.\u001b[39mzc\u001b[39m.\u001b[39mU_gem, \u001b[39mself\u001b[39m\u001b[39m.\u001b[39mzc\u001b[39m.\u001b[39mI_gem, symbol\u001b[39m=\u001b[39m\u001b[39m\"\u001b[39m\u001b[39mo\u001b[39m\u001b[39m\"\u001b[39m, symbolSize\u001b[39m=\u001b[39m\u001b[39m5\u001b[39m, pen\u001b[39m=\u001b[39m\u001b[39mNone\u001b[39;00m)\n\u001b[0;32m     68\u001b[0m     error_bars \u001b[39m=\u001b[39m pg\u001b[39m.\u001b[39mErrorBarItem(x\u001b[39m=\u001b[39mnp\u001b[39m.\u001b[39marray(\u001b[39mself\u001b[39m\u001b[39m.\u001b[39mzc\u001b[39m.\u001b[39mU_gem), y\u001b[39m=\u001b[39mnp\u001b[39m.\u001b[39marray(\u001b[39mself\u001b[39m\u001b[39m.\u001b[39mzc\u001b[39m.\u001b[39mI_gem), height \u001b[39m=\u001b[39m np\u001b[39m.\u001b[39marray(\u001b[39mself\u001b[39m\u001b[39m.\u001b[39mzc\u001b[39m.\u001b[39mI_error))\n",
      "\u001b[1;31mAttributeError\u001b[0m: 'Ui_MainWindow' object has no attribute 'PlotWidget'"
     ]
    },
    {
     "ename": "AttributeError",
     "evalue": "'Ui_MainWindow' object has no attribute 'PlotWidget'",
     "output_type": "error",
     "traceback": [
      "\u001b[1;31m---------------------------------------------------------------------------\u001b[0m",
      "\u001b[1;31mAttributeError\u001b[0m                            Traceback (most recent call last)",
      "Cell \u001b[1;32mIn[1], line 66\u001b[0m, in \u001b[0;36mUserInterface.graph\u001b[1;34m(self)\u001b[0m\n\u001b[0;32m     64\u001b[0m \u001b[39m@Slot\u001b[39m()\n\u001b[0;32m     65\u001b[0m \u001b[39mdef\u001b[39;00m \u001b[39mgraph\u001b[39m(\u001b[39mself\u001b[39m):\n\u001b[1;32m---> 66\u001b[0m     \u001b[39mself\u001b[39;49m\u001b[39m.\u001b[39;49mui\u001b[39m.\u001b[39;49mPlotWidget\u001b[39m.\u001b[39mclear()\n\u001b[0;32m     67\u001b[0m     \u001b[39mself\u001b[39m\u001b[39m.\u001b[39mui\u001b[39m.\u001b[39mIU_graph\u001b[39m.\u001b[39mplot(\u001b[39mself\u001b[39m\u001b[39m.\u001b[39mzc\u001b[39m.\u001b[39mU_gem, \u001b[39mself\u001b[39m\u001b[39m.\u001b[39mzc\u001b[39m.\u001b[39mI_gem, symbol\u001b[39m=\u001b[39m\u001b[39m\"\u001b[39m\u001b[39mo\u001b[39m\u001b[39m\"\u001b[39m, symbolSize\u001b[39m=\u001b[39m\u001b[39m5\u001b[39m, pen\u001b[39m=\u001b[39m\u001b[39mNone\u001b[39;00m)\n\u001b[0;32m     68\u001b[0m     error_bars \u001b[39m=\u001b[39m pg\u001b[39m.\u001b[39mErrorBarItem(x\u001b[39m=\u001b[39mnp\u001b[39m.\u001b[39marray(\u001b[39mself\u001b[39m\u001b[39m.\u001b[39mzc\u001b[39m.\u001b[39mU_gem), y\u001b[39m=\u001b[39mnp\u001b[39m.\u001b[39marray(\u001b[39mself\u001b[39m\u001b[39m.\u001b[39mzc\u001b[39m.\u001b[39mI_gem), height \u001b[39m=\u001b[39m np\u001b[39m.\u001b[39marray(\u001b[39mself\u001b[39m\u001b[39m.\u001b[39mzc\u001b[39m.\u001b[39mI_error))\n",
      "\u001b[1;31mAttributeError\u001b[0m: 'Ui_MainWindow' object has no attribute 'PlotWidget'"
     ]
    },
    {
     "ename": "AttributeError",
     "evalue": "'Ui_MainWindow' object has no attribute 'PlotWidget'",
     "output_type": "error",
     "traceback": [
      "\u001b[1;31m---------------------------------------------------------------------------\u001b[0m",
      "\u001b[1;31mAttributeError\u001b[0m                            Traceback (most recent call last)",
      "Cell \u001b[1;32mIn[1], line 66\u001b[0m, in \u001b[0;36mUserInterface.graph\u001b[1;34m(self)\u001b[0m\n\u001b[0;32m     64\u001b[0m \u001b[39m@Slot\u001b[39m()\n\u001b[0;32m     65\u001b[0m \u001b[39mdef\u001b[39;00m \u001b[39mgraph\u001b[39m(\u001b[39mself\u001b[39m):\n\u001b[1;32m---> 66\u001b[0m     \u001b[39mself\u001b[39;49m\u001b[39m.\u001b[39;49mui\u001b[39m.\u001b[39;49mPlotWidget\u001b[39m.\u001b[39mclear()\n\u001b[0;32m     67\u001b[0m     \u001b[39mself\u001b[39m\u001b[39m.\u001b[39mui\u001b[39m.\u001b[39mIU_graph\u001b[39m.\u001b[39mplot(\u001b[39mself\u001b[39m\u001b[39m.\u001b[39mzc\u001b[39m.\u001b[39mU_gem, \u001b[39mself\u001b[39m\u001b[39m.\u001b[39mzc\u001b[39m.\u001b[39mI_gem, symbol\u001b[39m=\u001b[39m\u001b[39m\"\u001b[39m\u001b[39mo\u001b[39m\u001b[39m\"\u001b[39m, symbolSize\u001b[39m=\u001b[39m\u001b[39m5\u001b[39m, pen\u001b[39m=\u001b[39m\u001b[39mNone\u001b[39;00m)\n\u001b[0;32m     68\u001b[0m     error_bars \u001b[39m=\u001b[39m pg\u001b[39m.\u001b[39mErrorBarItem(x\u001b[39m=\u001b[39mnp\u001b[39m.\u001b[39marray(\u001b[39mself\u001b[39m\u001b[39m.\u001b[39mzc\u001b[39m.\u001b[39mU_gem), y\u001b[39m=\u001b[39mnp\u001b[39m.\u001b[39marray(\u001b[39mself\u001b[39m\u001b[39m.\u001b[39mzc\u001b[39m.\u001b[39mI_gem), height \u001b[39m=\u001b[39m np\u001b[39m.\u001b[39marray(\u001b[39mself\u001b[39m\u001b[39m.\u001b[39mzc\u001b[39m.\u001b[39mI_error))\n",
      "\u001b[1;31mAttributeError\u001b[0m: 'Ui_MainWindow' object has no attribute 'PlotWidget'"
     ]
    },
    {
     "ename": "AttributeError",
     "evalue": "'Ui_MainWindow' object has no attribute 'PlotWidget'",
     "output_type": "error",
     "traceback": [
      "\u001b[1;31m---------------------------------------------------------------------------\u001b[0m",
      "\u001b[1;31mAttributeError\u001b[0m                            Traceback (most recent call last)",
      "Cell \u001b[1;32mIn[1], line 66\u001b[0m, in \u001b[0;36mUserInterface.graph\u001b[1;34m(self)\u001b[0m\n\u001b[0;32m     64\u001b[0m \u001b[39m@Slot\u001b[39m()\n\u001b[0;32m     65\u001b[0m \u001b[39mdef\u001b[39;00m \u001b[39mgraph\u001b[39m(\u001b[39mself\u001b[39m):\n\u001b[1;32m---> 66\u001b[0m     \u001b[39mself\u001b[39;49m\u001b[39m.\u001b[39;49mui\u001b[39m.\u001b[39;49mPlotWidget\u001b[39m.\u001b[39mclear()\n\u001b[0;32m     67\u001b[0m     \u001b[39mself\u001b[39m\u001b[39m.\u001b[39mui\u001b[39m.\u001b[39mIU_graph\u001b[39m.\u001b[39mplot(\u001b[39mself\u001b[39m\u001b[39m.\u001b[39mzc\u001b[39m.\u001b[39mU_gem, \u001b[39mself\u001b[39m\u001b[39m.\u001b[39mzc\u001b[39m.\u001b[39mI_gem, symbol\u001b[39m=\u001b[39m\u001b[39m\"\u001b[39m\u001b[39mo\u001b[39m\u001b[39m\"\u001b[39m, symbolSize\u001b[39m=\u001b[39m\u001b[39m5\u001b[39m, pen\u001b[39m=\u001b[39m\u001b[39mNone\u001b[39;00m)\n\u001b[0;32m     68\u001b[0m     error_bars \u001b[39m=\u001b[39m pg\u001b[39m.\u001b[39mErrorBarItem(x\u001b[39m=\u001b[39mnp\u001b[39m.\u001b[39marray(\u001b[39mself\u001b[39m\u001b[39m.\u001b[39mzc\u001b[39m.\u001b[39mU_gem), y\u001b[39m=\u001b[39mnp\u001b[39m.\u001b[39marray(\u001b[39mself\u001b[39m\u001b[39m.\u001b[39mzc\u001b[39m.\u001b[39mI_gem), height \u001b[39m=\u001b[39m np\u001b[39m.\u001b[39marray(\u001b[39mself\u001b[39m\u001b[39m.\u001b[39mzc\u001b[39m.\u001b[39mI_error))\n",
      "\u001b[1;31mAttributeError\u001b[0m: 'Ui_MainWindow' object has no attribute 'PlotWidget'"
     ]
    },
    {
     "ename": "AttributeError",
     "evalue": "'Ui_MainWindow' object has no attribute 'PlotWidget'",
     "output_type": "error",
     "traceback": [
      "\u001b[1;31m---------------------------------------------------------------------------\u001b[0m",
      "\u001b[1;31mAttributeError\u001b[0m                            Traceback (most recent call last)",
      "Cell \u001b[1;32mIn[1], line 66\u001b[0m, in \u001b[0;36mUserInterface.graph\u001b[1;34m(self)\u001b[0m\n\u001b[0;32m     64\u001b[0m \u001b[39m@Slot\u001b[39m()\n\u001b[0;32m     65\u001b[0m \u001b[39mdef\u001b[39;00m \u001b[39mgraph\u001b[39m(\u001b[39mself\u001b[39m):\n\u001b[1;32m---> 66\u001b[0m     \u001b[39mself\u001b[39;49m\u001b[39m.\u001b[39;49mui\u001b[39m.\u001b[39;49mPlotWidget\u001b[39m.\u001b[39mclear()\n\u001b[0;32m     67\u001b[0m     \u001b[39mself\u001b[39m\u001b[39m.\u001b[39mui\u001b[39m.\u001b[39mIU_graph\u001b[39m.\u001b[39mplot(\u001b[39mself\u001b[39m\u001b[39m.\u001b[39mzc\u001b[39m.\u001b[39mU_gem, \u001b[39mself\u001b[39m\u001b[39m.\u001b[39mzc\u001b[39m.\u001b[39mI_gem, symbol\u001b[39m=\u001b[39m\u001b[39m\"\u001b[39m\u001b[39mo\u001b[39m\u001b[39m\"\u001b[39m, symbolSize\u001b[39m=\u001b[39m\u001b[39m5\u001b[39m, pen\u001b[39m=\u001b[39m\u001b[39mNone\u001b[39;00m)\n\u001b[0;32m     68\u001b[0m     error_bars \u001b[39m=\u001b[39m pg\u001b[39m.\u001b[39mErrorBarItem(x\u001b[39m=\u001b[39mnp\u001b[39m.\u001b[39marray(\u001b[39mself\u001b[39m\u001b[39m.\u001b[39mzc\u001b[39m.\u001b[39mU_gem), y\u001b[39m=\u001b[39mnp\u001b[39m.\u001b[39marray(\u001b[39mself\u001b[39m\u001b[39m.\u001b[39mzc\u001b[39m.\u001b[39mI_gem), height \u001b[39m=\u001b[39m np\u001b[39m.\u001b[39marray(\u001b[39mself\u001b[39m\u001b[39m.\u001b[39mzc\u001b[39m.\u001b[39mI_error))\n",
      "\u001b[1;31mAttributeError\u001b[0m: 'Ui_MainWindow' object has no attribute 'PlotWidget'"
     ]
    },
    {
     "ename": "AttributeError",
     "evalue": "'Ui_MainWindow' object has no attribute 'PlotWidget'",
     "output_type": "error",
     "traceback": [
      "\u001b[1;31m---------------------------------------------------------------------------\u001b[0m",
      "\u001b[1;31mAttributeError\u001b[0m                            Traceback (most recent call last)",
      "Cell \u001b[1;32mIn[1], line 66\u001b[0m, in \u001b[0;36mUserInterface.graph\u001b[1;34m(self)\u001b[0m\n\u001b[0;32m     64\u001b[0m \u001b[39m@Slot\u001b[39m()\n\u001b[0;32m     65\u001b[0m \u001b[39mdef\u001b[39;00m \u001b[39mgraph\u001b[39m(\u001b[39mself\u001b[39m):\n\u001b[1;32m---> 66\u001b[0m     \u001b[39mself\u001b[39;49m\u001b[39m.\u001b[39;49mui\u001b[39m.\u001b[39;49mPlotWidget\u001b[39m.\u001b[39mclear()\n\u001b[0;32m     67\u001b[0m     \u001b[39mself\u001b[39m\u001b[39m.\u001b[39mui\u001b[39m.\u001b[39mIU_graph\u001b[39m.\u001b[39mplot(\u001b[39mself\u001b[39m\u001b[39m.\u001b[39mzc\u001b[39m.\u001b[39mU_gem, \u001b[39mself\u001b[39m\u001b[39m.\u001b[39mzc\u001b[39m.\u001b[39mI_gem, symbol\u001b[39m=\u001b[39m\u001b[39m\"\u001b[39m\u001b[39mo\u001b[39m\u001b[39m\"\u001b[39m, symbolSize\u001b[39m=\u001b[39m\u001b[39m5\u001b[39m, pen\u001b[39m=\u001b[39m\u001b[39mNone\u001b[39;00m)\n\u001b[0;32m     68\u001b[0m     error_bars \u001b[39m=\u001b[39m pg\u001b[39m.\u001b[39mErrorBarItem(x\u001b[39m=\u001b[39mnp\u001b[39m.\u001b[39marray(\u001b[39mself\u001b[39m\u001b[39m.\u001b[39mzc\u001b[39m.\u001b[39mU_gem), y\u001b[39m=\u001b[39mnp\u001b[39m.\u001b[39marray(\u001b[39mself\u001b[39m\u001b[39m.\u001b[39mzc\u001b[39m.\u001b[39mI_gem), height \u001b[39m=\u001b[39m np\u001b[39m.\u001b[39marray(\u001b[39mself\u001b[39m\u001b[39m.\u001b[39mzc\u001b[39m.\u001b[39mI_error))\n",
      "\u001b[1;31mAttributeError\u001b[0m: 'Ui_MainWindow' object has no attribute 'PlotWidget'"
     ]
    },
    {
     "ename": "AttributeError",
     "evalue": "'Ui_MainWindow' object has no attribute 'PlotWidget'",
     "output_type": "error",
     "traceback": [
      "\u001b[1;31m---------------------------------------------------------------------------\u001b[0m",
      "\u001b[1;31mAttributeError\u001b[0m                            Traceback (most recent call last)",
      "Cell \u001b[1;32mIn[1], line 66\u001b[0m, in \u001b[0;36mUserInterface.graph\u001b[1;34m(self)\u001b[0m\n\u001b[0;32m     64\u001b[0m \u001b[39m@Slot\u001b[39m()\n\u001b[0;32m     65\u001b[0m \u001b[39mdef\u001b[39;00m \u001b[39mgraph\u001b[39m(\u001b[39mself\u001b[39m):\n\u001b[1;32m---> 66\u001b[0m     \u001b[39mself\u001b[39;49m\u001b[39m.\u001b[39;49mui\u001b[39m.\u001b[39;49mPlotWidget\u001b[39m.\u001b[39mclear()\n\u001b[0;32m     67\u001b[0m     \u001b[39mself\u001b[39m\u001b[39m.\u001b[39mui\u001b[39m.\u001b[39mIU_graph\u001b[39m.\u001b[39mplot(\u001b[39mself\u001b[39m\u001b[39m.\u001b[39mzc\u001b[39m.\u001b[39mU_gem, \u001b[39mself\u001b[39m\u001b[39m.\u001b[39mzc\u001b[39m.\u001b[39mI_gem, symbol\u001b[39m=\u001b[39m\u001b[39m\"\u001b[39m\u001b[39mo\u001b[39m\u001b[39m\"\u001b[39m, symbolSize\u001b[39m=\u001b[39m\u001b[39m5\u001b[39m, pen\u001b[39m=\u001b[39m\u001b[39mNone\u001b[39;00m)\n\u001b[0;32m     68\u001b[0m     error_bars \u001b[39m=\u001b[39m pg\u001b[39m.\u001b[39mErrorBarItem(x\u001b[39m=\u001b[39mnp\u001b[39m.\u001b[39marray(\u001b[39mself\u001b[39m\u001b[39m.\u001b[39mzc\u001b[39m.\u001b[39mU_gem), y\u001b[39m=\u001b[39mnp\u001b[39m.\u001b[39marray(\u001b[39mself\u001b[39m\u001b[39m.\u001b[39mzc\u001b[39m.\u001b[39mI_gem), height \u001b[39m=\u001b[39m np\u001b[39m.\u001b[39marray(\u001b[39mself\u001b[39m\u001b[39m.\u001b[39mzc\u001b[39m.\u001b[39mI_error))\n",
      "\u001b[1;31mAttributeError\u001b[0m: 'Ui_MainWindow' object has no attribute 'PlotWidget'"
     ]
    },
    {
     "ename": "AttributeError",
     "evalue": "'Ui_MainWindow' object has no attribute 'PlotWidget'",
     "output_type": "error",
     "traceback": [
      "\u001b[1;31m---------------------------------------------------------------------------\u001b[0m",
      "\u001b[1;31mAttributeError\u001b[0m                            Traceback (most recent call last)",
      "Cell \u001b[1;32mIn[1], line 66\u001b[0m, in \u001b[0;36mUserInterface.graph\u001b[1;34m(self)\u001b[0m\n\u001b[0;32m     64\u001b[0m \u001b[39m@Slot\u001b[39m()\n\u001b[0;32m     65\u001b[0m \u001b[39mdef\u001b[39;00m \u001b[39mgraph\u001b[39m(\u001b[39mself\u001b[39m):\n\u001b[1;32m---> 66\u001b[0m     \u001b[39mself\u001b[39;49m\u001b[39m.\u001b[39;49mui\u001b[39m.\u001b[39;49mPlotWidget\u001b[39m.\u001b[39mclear()\n\u001b[0;32m     67\u001b[0m     \u001b[39mself\u001b[39m\u001b[39m.\u001b[39mui\u001b[39m.\u001b[39mIU_graph\u001b[39m.\u001b[39mplot(\u001b[39mself\u001b[39m\u001b[39m.\u001b[39mzc\u001b[39m.\u001b[39mU_gem, \u001b[39mself\u001b[39m\u001b[39m.\u001b[39mzc\u001b[39m.\u001b[39mI_gem, symbol\u001b[39m=\u001b[39m\u001b[39m\"\u001b[39m\u001b[39mo\u001b[39m\u001b[39m\"\u001b[39m, symbolSize\u001b[39m=\u001b[39m\u001b[39m5\u001b[39m, pen\u001b[39m=\u001b[39m\u001b[39mNone\u001b[39;00m)\n\u001b[0;32m     68\u001b[0m     error_bars \u001b[39m=\u001b[39m pg\u001b[39m.\u001b[39mErrorBarItem(x\u001b[39m=\u001b[39mnp\u001b[39m.\u001b[39marray(\u001b[39mself\u001b[39m\u001b[39m.\u001b[39mzc\u001b[39m.\u001b[39mU_gem), y\u001b[39m=\u001b[39mnp\u001b[39m.\u001b[39marray(\u001b[39mself\u001b[39m\u001b[39m.\u001b[39mzc\u001b[39m.\u001b[39mI_gem), height \u001b[39m=\u001b[39m np\u001b[39m.\u001b[39marray(\u001b[39mself\u001b[39m\u001b[39m.\u001b[39mzc\u001b[39m.\u001b[39mI_error))\n",
      "\u001b[1;31mAttributeError\u001b[0m: 'Ui_MainWindow' object has no attribute 'PlotWidget'"
     ]
    },
    {
     "ename": "AttributeError",
     "evalue": "'Ui_MainWindow' object has no attribute 'PlotWidget'",
     "output_type": "error",
     "traceback": [
      "\u001b[1;31m---------------------------------------------------------------------------\u001b[0m",
      "\u001b[1;31mAttributeError\u001b[0m                            Traceback (most recent call last)",
      "Cell \u001b[1;32mIn[1], line 66\u001b[0m, in \u001b[0;36mUserInterface.graph\u001b[1;34m(self)\u001b[0m\n\u001b[0;32m     64\u001b[0m \u001b[39m@Slot\u001b[39m()\n\u001b[0;32m     65\u001b[0m \u001b[39mdef\u001b[39;00m \u001b[39mgraph\u001b[39m(\u001b[39mself\u001b[39m):\n\u001b[1;32m---> 66\u001b[0m     \u001b[39mself\u001b[39;49m\u001b[39m.\u001b[39;49mui\u001b[39m.\u001b[39;49mPlotWidget\u001b[39m.\u001b[39mclear()\n\u001b[0;32m     67\u001b[0m     \u001b[39mself\u001b[39m\u001b[39m.\u001b[39mui\u001b[39m.\u001b[39mIU_graph\u001b[39m.\u001b[39mplot(\u001b[39mself\u001b[39m\u001b[39m.\u001b[39mzc\u001b[39m.\u001b[39mU_gem, \u001b[39mself\u001b[39m\u001b[39m.\u001b[39mzc\u001b[39m.\u001b[39mI_gem, symbol\u001b[39m=\u001b[39m\u001b[39m\"\u001b[39m\u001b[39mo\u001b[39m\u001b[39m\"\u001b[39m, symbolSize\u001b[39m=\u001b[39m\u001b[39m5\u001b[39m, pen\u001b[39m=\u001b[39m\u001b[39mNone\u001b[39;00m)\n\u001b[0;32m     68\u001b[0m     error_bars \u001b[39m=\u001b[39m pg\u001b[39m.\u001b[39mErrorBarItem(x\u001b[39m=\u001b[39mnp\u001b[39m.\u001b[39marray(\u001b[39mself\u001b[39m\u001b[39m.\u001b[39mzc\u001b[39m.\u001b[39mU_gem), y\u001b[39m=\u001b[39mnp\u001b[39m.\u001b[39marray(\u001b[39mself\u001b[39m\u001b[39m.\u001b[39mzc\u001b[39m.\u001b[39mI_gem), height \u001b[39m=\u001b[39m np\u001b[39m.\u001b[39marray(\u001b[39mself\u001b[39m\u001b[39m.\u001b[39mzc\u001b[39m.\u001b[39mI_error))\n",
      "\u001b[1;31mAttributeError\u001b[0m: 'Ui_MainWindow' object has no attribute 'PlotWidget'"
     ]
    },
    {
     "ename": "AttributeError",
     "evalue": "'Ui_MainWindow' object has no attribute 'PlotWidget'",
     "output_type": "error",
     "traceback": [
      "\u001b[1;31m---------------------------------------------------------------------------\u001b[0m",
      "\u001b[1;31mAttributeError\u001b[0m                            Traceback (most recent call last)",
      "Cell \u001b[1;32mIn[1], line 66\u001b[0m, in \u001b[0;36mUserInterface.graph\u001b[1;34m(self)\u001b[0m\n\u001b[0;32m     64\u001b[0m \u001b[39m@Slot\u001b[39m()\n\u001b[0;32m     65\u001b[0m \u001b[39mdef\u001b[39;00m \u001b[39mgraph\u001b[39m(\u001b[39mself\u001b[39m):\n\u001b[1;32m---> 66\u001b[0m     \u001b[39mself\u001b[39;49m\u001b[39m.\u001b[39;49mui\u001b[39m.\u001b[39;49mPlotWidget\u001b[39m.\u001b[39mclear()\n\u001b[0;32m     67\u001b[0m     \u001b[39mself\u001b[39m\u001b[39m.\u001b[39mui\u001b[39m.\u001b[39mIU_graph\u001b[39m.\u001b[39mplot(\u001b[39mself\u001b[39m\u001b[39m.\u001b[39mzc\u001b[39m.\u001b[39mU_gem, \u001b[39mself\u001b[39m\u001b[39m.\u001b[39mzc\u001b[39m.\u001b[39mI_gem, symbol\u001b[39m=\u001b[39m\u001b[39m\"\u001b[39m\u001b[39mo\u001b[39m\u001b[39m\"\u001b[39m, symbolSize\u001b[39m=\u001b[39m\u001b[39m5\u001b[39m, pen\u001b[39m=\u001b[39m\u001b[39mNone\u001b[39;00m)\n\u001b[0;32m     68\u001b[0m     error_bars \u001b[39m=\u001b[39m pg\u001b[39m.\u001b[39mErrorBarItem(x\u001b[39m=\u001b[39mnp\u001b[39m.\u001b[39marray(\u001b[39mself\u001b[39m\u001b[39m.\u001b[39mzc\u001b[39m.\u001b[39mU_gem), y\u001b[39m=\u001b[39mnp\u001b[39m.\u001b[39marray(\u001b[39mself\u001b[39m\u001b[39m.\u001b[39mzc\u001b[39m.\u001b[39mI_gem), height \u001b[39m=\u001b[39m np\u001b[39m.\u001b[39marray(\u001b[39mself\u001b[39m\u001b[39m.\u001b[39mzc\u001b[39m.\u001b[39mI_error))\n",
      "\u001b[1;31mAttributeError\u001b[0m: 'Ui_MainWindow' object has no attribute 'PlotWidget'"
     ]
    },
    {
     "ename": "AttributeError",
     "evalue": "'Ui_MainWindow' object has no attribute 'PlotWidget'",
     "output_type": "error",
     "traceback": [
      "\u001b[1;31m---------------------------------------------------------------------------\u001b[0m",
      "\u001b[1;31mAttributeError\u001b[0m                            Traceback (most recent call last)",
      "Cell \u001b[1;32mIn[1], line 66\u001b[0m, in \u001b[0;36mUserInterface.graph\u001b[1;34m(self)\u001b[0m\n\u001b[0;32m     64\u001b[0m \u001b[39m@Slot\u001b[39m()\n\u001b[0;32m     65\u001b[0m \u001b[39mdef\u001b[39;00m \u001b[39mgraph\u001b[39m(\u001b[39mself\u001b[39m):\n\u001b[1;32m---> 66\u001b[0m     \u001b[39mself\u001b[39;49m\u001b[39m.\u001b[39;49mui\u001b[39m.\u001b[39;49mPlotWidget\u001b[39m.\u001b[39mclear()\n\u001b[0;32m     67\u001b[0m     \u001b[39mself\u001b[39m\u001b[39m.\u001b[39mui\u001b[39m.\u001b[39mIU_graph\u001b[39m.\u001b[39mplot(\u001b[39mself\u001b[39m\u001b[39m.\u001b[39mzc\u001b[39m.\u001b[39mU_gem, \u001b[39mself\u001b[39m\u001b[39m.\u001b[39mzc\u001b[39m.\u001b[39mI_gem, symbol\u001b[39m=\u001b[39m\u001b[39m\"\u001b[39m\u001b[39mo\u001b[39m\u001b[39m\"\u001b[39m, symbolSize\u001b[39m=\u001b[39m\u001b[39m5\u001b[39m, pen\u001b[39m=\u001b[39m\u001b[39mNone\u001b[39;00m)\n\u001b[0;32m     68\u001b[0m     error_bars \u001b[39m=\u001b[39m pg\u001b[39m.\u001b[39mErrorBarItem(x\u001b[39m=\u001b[39mnp\u001b[39m.\u001b[39marray(\u001b[39mself\u001b[39m\u001b[39m.\u001b[39mzc\u001b[39m.\u001b[39mU_gem), y\u001b[39m=\u001b[39mnp\u001b[39m.\u001b[39marray(\u001b[39mself\u001b[39m\u001b[39m.\u001b[39mzc\u001b[39m.\u001b[39mI_gem), height \u001b[39m=\u001b[39m np\u001b[39m.\u001b[39marray(\u001b[39mself\u001b[39m\u001b[39m.\u001b[39mzc\u001b[39m.\u001b[39mI_error))\n",
      "\u001b[1;31mAttributeError\u001b[0m: 'Ui_MainWindow' object has no attribute 'PlotWidget'"
     ]
    },
    {
     "ename": "AttributeError",
     "evalue": "'Ui_MainWindow' object has no attribute 'PlotWidget'",
     "output_type": "error",
     "traceback": [
      "\u001b[1;31m---------------------------------------------------------------------------\u001b[0m",
      "\u001b[1;31mAttributeError\u001b[0m                            Traceback (most recent call last)",
      "Cell \u001b[1;32mIn[1], line 66\u001b[0m, in \u001b[0;36mUserInterface.graph\u001b[1;34m(self)\u001b[0m\n\u001b[0;32m     64\u001b[0m \u001b[39m@Slot\u001b[39m()\n\u001b[0;32m     65\u001b[0m \u001b[39mdef\u001b[39;00m \u001b[39mgraph\u001b[39m(\u001b[39mself\u001b[39m):\n\u001b[1;32m---> 66\u001b[0m     \u001b[39mself\u001b[39;49m\u001b[39m.\u001b[39;49mui\u001b[39m.\u001b[39;49mPlotWidget\u001b[39m.\u001b[39mclear()\n\u001b[0;32m     67\u001b[0m     \u001b[39mself\u001b[39m\u001b[39m.\u001b[39mui\u001b[39m.\u001b[39mIU_graph\u001b[39m.\u001b[39mplot(\u001b[39mself\u001b[39m\u001b[39m.\u001b[39mzc\u001b[39m.\u001b[39mU_gem, \u001b[39mself\u001b[39m\u001b[39m.\u001b[39mzc\u001b[39m.\u001b[39mI_gem, symbol\u001b[39m=\u001b[39m\u001b[39m\"\u001b[39m\u001b[39mo\u001b[39m\u001b[39m\"\u001b[39m, symbolSize\u001b[39m=\u001b[39m\u001b[39m5\u001b[39m, pen\u001b[39m=\u001b[39m\u001b[39mNone\u001b[39;00m)\n\u001b[0;32m     68\u001b[0m     error_bars \u001b[39m=\u001b[39m pg\u001b[39m.\u001b[39mErrorBarItem(x\u001b[39m=\u001b[39mnp\u001b[39m.\u001b[39marray(\u001b[39mself\u001b[39m\u001b[39m.\u001b[39mzc\u001b[39m.\u001b[39mU_gem), y\u001b[39m=\u001b[39mnp\u001b[39m.\u001b[39marray(\u001b[39mself\u001b[39m\u001b[39m.\u001b[39mzc\u001b[39m.\u001b[39mI_gem), height \u001b[39m=\u001b[39m np\u001b[39m.\u001b[39marray(\u001b[39mself\u001b[39m\u001b[39m.\u001b[39mzc\u001b[39m.\u001b[39mI_error))\n",
      "\u001b[1;31mAttributeError\u001b[0m: 'Ui_MainWindow' object has no attribute 'PlotWidget'"
     ]
    },
    {
     "ename": "AttributeError",
     "evalue": "'Ui_MainWindow' object has no attribute 'PlotWidget'",
     "output_type": "error",
     "traceback": [
      "\u001b[1;31m---------------------------------------------------------------------------\u001b[0m",
      "\u001b[1;31mAttributeError\u001b[0m                            Traceback (most recent call last)",
      "Cell \u001b[1;32mIn[1], line 66\u001b[0m, in \u001b[0;36mUserInterface.graph\u001b[1;34m(self)\u001b[0m\n\u001b[0;32m     64\u001b[0m \u001b[39m@Slot\u001b[39m()\n\u001b[0;32m     65\u001b[0m \u001b[39mdef\u001b[39;00m \u001b[39mgraph\u001b[39m(\u001b[39mself\u001b[39m):\n\u001b[1;32m---> 66\u001b[0m     \u001b[39mself\u001b[39;49m\u001b[39m.\u001b[39;49mui\u001b[39m.\u001b[39;49mPlotWidget\u001b[39m.\u001b[39mclear()\n\u001b[0;32m     67\u001b[0m     \u001b[39mself\u001b[39m\u001b[39m.\u001b[39mui\u001b[39m.\u001b[39mIU_graph\u001b[39m.\u001b[39mplot(\u001b[39mself\u001b[39m\u001b[39m.\u001b[39mzc\u001b[39m.\u001b[39mU_gem, \u001b[39mself\u001b[39m\u001b[39m.\u001b[39mzc\u001b[39m.\u001b[39mI_gem, symbol\u001b[39m=\u001b[39m\u001b[39m\"\u001b[39m\u001b[39mo\u001b[39m\u001b[39m\"\u001b[39m, symbolSize\u001b[39m=\u001b[39m\u001b[39m5\u001b[39m, pen\u001b[39m=\u001b[39m\u001b[39mNone\u001b[39;00m)\n\u001b[0;32m     68\u001b[0m     error_bars \u001b[39m=\u001b[39m pg\u001b[39m.\u001b[39mErrorBarItem(x\u001b[39m=\u001b[39mnp\u001b[39m.\u001b[39marray(\u001b[39mself\u001b[39m\u001b[39m.\u001b[39mzc\u001b[39m.\u001b[39mU_gem), y\u001b[39m=\u001b[39mnp\u001b[39m.\u001b[39marray(\u001b[39mself\u001b[39m\u001b[39m.\u001b[39mzc\u001b[39m.\u001b[39mI_gem), height \u001b[39m=\u001b[39m np\u001b[39m.\u001b[39marray(\u001b[39mself\u001b[39m\u001b[39m.\u001b[39mzc\u001b[39m.\u001b[39mI_error))\n",
      "\u001b[1;31mAttributeError\u001b[0m: 'Ui_MainWindow' object has no attribute 'PlotWidget'"
     ]
    },
    {
     "ename": "AttributeError",
     "evalue": "'Ui_MainWindow' object has no attribute 'PlotWidget'",
     "output_type": "error",
     "traceback": [
      "\u001b[1;31m---------------------------------------------------------------------------\u001b[0m",
      "\u001b[1;31mAttributeError\u001b[0m                            Traceback (most recent call last)",
      "Cell \u001b[1;32mIn[1], line 66\u001b[0m, in \u001b[0;36mUserInterface.graph\u001b[1;34m(self)\u001b[0m\n\u001b[0;32m     64\u001b[0m \u001b[39m@Slot\u001b[39m()\n\u001b[0;32m     65\u001b[0m \u001b[39mdef\u001b[39;00m \u001b[39mgraph\u001b[39m(\u001b[39mself\u001b[39m):\n\u001b[1;32m---> 66\u001b[0m     \u001b[39mself\u001b[39;49m\u001b[39m.\u001b[39;49mui\u001b[39m.\u001b[39;49mPlotWidget\u001b[39m.\u001b[39mclear()\n\u001b[0;32m     67\u001b[0m     \u001b[39mself\u001b[39m\u001b[39m.\u001b[39mui\u001b[39m.\u001b[39mIU_graph\u001b[39m.\u001b[39mplot(\u001b[39mself\u001b[39m\u001b[39m.\u001b[39mzc\u001b[39m.\u001b[39mU_gem, \u001b[39mself\u001b[39m\u001b[39m.\u001b[39mzc\u001b[39m.\u001b[39mI_gem, symbol\u001b[39m=\u001b[39m\u001b[39m\"\u001b[39m\u001b[39mo\u001b[39m\u001b[39m\"\u001b[39m, symbolSize\u001b[39m=\u001b[39m\u001b[39m5\u001b[39m, pen\u001b[39m=\u001b[39m\u001b[39mNone\u001b[39;00m)\n\u001b[0;32m     68\u001b[0m     error_bars \u001b[39m=\u001b[39m pg\u001b[39m.\u001b[39mErrorBarItem(x\u001b[39m=\u001b[39mnp\u001b[39m.\u001b[39marray(\u001b[39mself\u001b[39m\u001b[39m.\u001b[39mzc\u001b[39m.\u001b[39mU_gem), y\u001b[39m=\u001b[39mnp\u001b[39m.\u001b[39marray(\u001b[39mself\u001b[39m\u001b[39m.\u001b[39mzc\u001b[39m.\u001b[39mI_gem), height \u001b[39m=\u001b[39m np\u001b[39m.\u001b[39marray(\u001b[39mself\u001b[39m\u001b[39m.\u001b[39mzc\u001b[39m.\u001b[39mI_error))\n",
      "\u001b[1;31mAttributeError\u001b[0m: 'Ui_MainWindow' object has no attribute 'PlotWidget'"
     ]
    },
    {
     "ename": "AttributeError",
     "evalue": "'Ui_MainWindow' object has no attribute 'PlotWidget'",
     "output_type": "error",
     "traceback": [
      "\u001b[1;31m---------------------------------------------------------------------------\u001b[0m",
      "\u001b[1;31mAttributeError\u001b[0m                            Traceback (most recent call last)",
      "Cell \u001b[1;32mIn[1], line 66\u001b[0m, in \u001b[0;36mUserInterface.graph\u001b[1;34m(self)\u001b[0m\n\u001b[0;32m     64\u001b[0m \u001b[39m@Slot\u001b[39m()\n\u001b[0;32m     65\u001b[0m \u001b[39mdef\u001b[39;00m \u001b[39mgraph\u001b[39m(\u001b[39mself\u001b[39m):\n\u001b[1;32m---> 66\u001b[0m     \u001b[39mself\u001b[39;49m\u001b[39m.\u001b[39;49mui\u001b[39m.\u001b[39;49mPlotWidget\u001b[39m.\u001b[39mclear()\n\u001b[0;32m     67\u001b[0m     \u001b[39mself\u001b[39m\u001b[39m.\u001b[39mui\u001b[39m.\u001b[39mIU_graph\u001b[39m.\u001b[39mplot(\u001b[39mself\u001b[39m\u001b[39m.\u001b[39mzc\u001b[39m.\u001b[39mU_gem, \u001b[39mself\u001b[39m\u001b[39m.\u001b[39mzc\u001b[39m.\u001b[39mI_gem, symbol\u001b[39m=\u001b[39m\u001b[39m\"\u001b[39m\u001b[39mo\u001b[39m\u001b[39m\"\u001b[39m, symbolSize\u001b[39m=\u001b[39m\u001b[39m5\u001b[39m, pen\u001b[39m=\u001b[39m\u001b[39mNone\u001b[39;00m)\n\u001b[0;32m     68\u001b[0m     error_bars \u001b[39m=\u001b[39m pg\u001b[39m.\u001b[39mErrorBarItem(x\u001b[39m=\u001b[39mnp\u001b[39m.\u001b[39marray(\u001b[39mself\u001b[39m\u001b[39m.\u001b[39mzc\u001b[39m.\u001b[39mU_gem), y\u001b[39m=\u001b[39mnp\u001b[39m.\u001b[39marray(\u001b[39mself\u001b[39m\u001b[39m.\u001b[39mzc\u001b[39m.\u001b[39mI_gem), height \u001b[39m=\u001b[39m np\u001b[39m.\u001b[39marray(\u001b[39mself\u001b[39m\u001b[39m.\u001b[39mzc\u001b[39m.\u001b[39mI_error))\n",
      "\u001b[1;31mAttributeError\u001b[0m: 'Ui_MainWindow' object has no attribute 'PlotWidget'"
     ]
    },
    {
     "ename": "AttributeError",
     "evalue": "'Ui_MainWindow' object has no attribute 'PlotWidget'",
     "output_type": "error",
     "traceback": [
      "\u001b[1;31m---------------------------------------------------------------------------\u001b[0m",
      "\u001b[1;31mAttributeError\u001b[0m                            Traceback (most recent call last)",
      "Cell \u001b[1;32mIn[1], line 66\u001b[0m, in \u001b[0;36mUserInterface.graph\u001b[1;34m(self)\u001b[0m\n\u001b[0;32m     64\u001b[0m \u001b[39m@Slot\u001b[39m()\n\u001b[0;32m     65\u001b[0m \u001b[39mdef\u001b[39;00m \u001b[39mgraph\u001b[39m(\u001b[39mself\u001b[39m):\n\u001b[1;32m---> 66\u001b[0m     \u001b[39mself\u001b[39;49m\u001b[39m.\u001b[39;49mui\u001b[39m.\u001b[39;49mPlotWidget\u001b[39m.\u001b[39mclear()\n\u001b[0;32m     67\u001b[0m     \u001b[39mself\u001b[39m\u001b[39m.\u001b[39mui\u001b[39m.\u001b[39mIU_graph\u001b[39m.\u001b[39mplot(\u001b[39mself\u001b[39m\u001b[39m.\u001b[39mzc\u001b[39m.\u001b[39mU_gem, \u001b[39mself\u001b[39m\u001b[39m.\u001b[39mzc\u001b[39m.\u001b[39mI_gem, symbol\u001b[39m=\u001b[39m\u001b[39m\"\u001b[39m\u001b[39mo\u001b[39m\u001b[39m\"\u001b[39m, symbolSize\u001b[39m=\u001b[39m\u001b[39m5\u001b[39m, pen\u001b[39m=\u001b[39m\u001b[39mNone\u001b[39;00m)\n\u001b[0;32m     68\u001b[0m     error_bars \u001b[39m=\u001b[39m pg\u001b[39m.\u001b[39mErrorBarItem(x\u001b[39m=\u001b[39mnp\u001b[39m.\u001b[39marray(\u001b[39mself\u001b[39m\u001b[39m.\u001b[39mzc\u001b[39m.\u001b[39mU_gem), y\u001b[39m=\u001b[39mnp\u001b[39m.\u001b[39marray(\u001b[39mself\u001b[39m\u001b[39m.\u001b[39mzc\u001b[39m.\u001b[39mI_gem), height \u001b[39m=\u001b[39m np\u001b[39m.\u001b[39marray(\u001b[39mself\u001b[39m\u001b[39m.\u001b[39mzc\u001b[39m.\u001b[39mI_error))\n",
      "\u001b[1;31mAttributeError\u001b[0m: 'Ui_MainWindow' object has no attribute 'PlotWidget'"
     ]
    },
    {
     "ename": "AttributeError",
     "evalue": "'Ui_MainWindow' object has no attribute 'PlotWidget'",
     "output_type": "error",
     "traceback": [
      "\u001b[1;31m---------------------------------------------------------------------------\u001b[0m",
      "\u001b[1;31mAttributeError\u001b[0m                            Traceback (most recent call last)",
      "Cell \u001b[1;32mIn[1], line 66\u001b[0m, in \u001b[0;36mUserInterface.graph\u001b[1;34m(self)\u001b[0m\n\u001b[0;32m     64\u001b[0m \u001b[39m@Slot\u001b[39m()\n\u001b[0;32m     65\u001b[0m \u001b[39mdef\u001b[39;00m \u001b[39mgraph\u001b[39m(\u001b[39mself\u001b[39m):\n\u001b[1;32m---> 66\u001b[0m     \u001b[39mself\u001b[39;49m\u001b[39m.\u001b[39;49mui\u001b[39m.\u001b[39;49mPlotWidget\u001b[39m.\u001b[39mclear()\n\u001b[0;32m     67\u001b[0m     \u001b[39mself\u001b[39m\u001b[39m.\u001b[39mui\u001b[39m.\u001b[39mIU_graph\u001b[39m.\u001b[39mplot(\u001b[39mself\u001b[39m\u001b[39m.\u001b[39mzc\u001b[39m.\u001b[39mU_gem, \u001b[39mself\u001b[39m\u001b[39m.\u001b[39mzc\u001b[39m.\u001b[39mI_gem, symbol\u001b[39m=\u001b[39m\u001b[39m\"\u001b[39m\u001b[39mo\u001b[39m\u001b[39m\"\u001b[39m, symbolSize\u001b[39m=\u001b[39m\u001b[39m5\u001b[39m, pen\u001b[39m=\u001b[39m\u001b[39mNone\u001b[39;00m)\n\u001b[0;32m     68\u001b[0m     error_bars \u001b[39m=\u001b[39m pg\u001b[39m.\u001b[39mErrorBarItem(x\u001b[39m=\u001b[39mnp\u001b[39m.\u001b[39marray(\u001b[39mself\u001b[39m\u001b[39m.\u001b[39mzc\u001b[39m.\u001b[39mU_gem), y\u001b[39m=\u001b[39mnp\u001b[39m.\u001b[39marray(\u001b[39mself\u001b[39m\u001b[39m.\u001b[39mzc\u001b[39m.\u001b[39mI_gem), height \u001b[39m=\u001b[39m np\u001b[39m.\u001b[39marray(\u001b[39mself\u001b[39m\u001b[39m.\u001b[39mzc\u001b[39m.\u001b[39mI_error))\n",
      "\u001b[1;31mAttributeError\u001b[0m: 'Ui_MainWindow' object has no attribute 'PlotWidget'"
     ]
    },
    {
     "ename": "AttributeError",
     "evalue": "'Ui_MainWindow' object has no attribute 'PlotWidget'",
     "output_type": "error",
     "traceback": [
      "\u001b[1;31m---------------------------------------------------------------------------\u001b[0m",
      "\u001b[1;31mAttributeError\u001b[0m                            Traceback (most recent call last)",
      "Cell \u001b[1;32mIn[1], line 66\u001b[0m, in \u001b[0;36mUserInterface.graph\u001b[1;34m(self)\u001b[0m\n\u001b[0;32m     64\u001b[0m \u001b[39m@Slot\u001b[39m()\n\u001b[0;32m     65\u001b[0m \u001b[39mdef\u001b[39;00m \u001b[39mgraph\u001b[39m(\u001b[39mself\u001b[39m):\n\u001b[1;32m---> 66\u001b[0m     \u001b[39mself\u001b[39;49m\u001b[39m.\u001b[39;49mui\u001b[39m.\u001b[39;49mPlotWidget\u001b[39m.\u001b[39mclear()\n\u001b[0;32m     67\u001b[0m     \u001b[39mself\u001b[39m\u001b[39m.\u001b[39mui\u001b[39m.\u001b[39mIU_graph\u001b[39m.\u001b[39mplot(\u001b[39mself\u001b[39m\u001b[39m.\u001b[39mzc\u001b[39m.\u001b[39mU_gem, \u001b[39mself\u001b[39m\u001b[39m.\u001b[39mzc\u001b[39m.\u001b[39mI_gem, symbol\u001b[39m=\u001b[39m\u001b[39m\"\u001b[39m\u001b[39mo\u001b[39m\u001b[39m\"\u001b[39m, symbolSize\u001b[39m=\u001b[39m\u001b[39m5\u001b[39m, pen\u001b[39m=\u001b[39m\u001b[39mNone\u001b[39;00m)\n\u001b[0;32m     68\u001b[0m     error_bars \u001b[39m=\u001b[39m pg\u001b[39m.\u001b[39mErrorBarItem(x\u001b[39m=\u001b[39mnp\u001b[39m.\u001b[39marray(\u001b[39mself\u001b[39m\u001b[39m.\u001b[39mzc\u001b[39m.\u001b[39mU_gem), y\u001b[39m=\u001b[39mnp\u001b[39m.\u001b[39marray(\u001b[39mself\u001b[39m\u001b[39m.\u001b[39mzc\u001b[39m.\u001b[39mI_gem), height \u001b[39m=\u001b[39m np\u001b[39m.\u001b[39marray(\u001b[39mself\u001b[39m\u001b[39m.\u001b[39mzc\u001b[39m.\u001b[39mI_error))\n",
      "\u001b[1;31mAttributeError\u001b[0m: 'Ui_MainWindow' object has no attribute 'PlotWidget'"
     ]
    },
    {
     "ename": "AttributeError",
     "evalue": "'Ui_MainWindow' object has no attribute 'PlotWidget'",
     "output_type": "error",
     "traceback": [
      "\u001b[1;31m---------------------------------------------------------------------------\u001b[0m",
      "\u001b[1;31mAttributeError\u001b[0m                            Traceback (most recent call last)",
      "Cell \u001b[1;32mIn[1], line 66\u001b[0m, in \u001b[0;36mUserInterface.graph\u001b[1;34m(self)\u001b[0m\n\u001b[0;32m     64\u001b[0m \u001b[39m@Slot\u001b[39m()\n\u001b[0;32m     65\u001b[0m \u001b[39mdef\u001b[39;00m \u001b[39mgraph\u001b[39m(\u001b[39mself\u001b[39m):\n\u001b[1;32m---> 66\u001b[0m     \u001b[39mself\u001b[39;49m\u001b[39m.\u001b[39;49mui\u001b[39m.\u001b[39;49mPlotWidget\u001b[39m.\u001b[39mclear()\n\u001b[0;32m     67\u001b[0m     \u001b[39mself\u001b[39m\u001b[39m.\u001b[39mui\u001b[39m.\u001b[39mIU_graph\u001b[39m.\u001b[39mplot(\u001b[39mself\u001b[39m\u001b[39m.\u001b[39mzc\u001b[39m.\u001b[39mU_gem, \u001b[39mself\u001b[39m\u001b[39m.\u001b[39mzc\u001b[39m.\u001b[39mI_gem, symbol\u001b[39m=\u001b[39m\u001b[39m\"\u001b[39m\u001b[39mo\u001b[39m\u001b[39m\"\u001b[39m, symbolSize\u001b[39m=\u001b[39m\u001b[39m5\u001b[39m, pen\u001b[39m=\u001b[39m\u001b[39mNone\u001b[39;00m)\n\u001b[0;32m     68\u001b[0m     error_bars \u001b[39m=\u001b[39m pg\u001b[39m.\u001b[39mErrorBarItem(x\u001b[39m=\u001b[39mnp\u001b[39m.\u001b[39marray(\u001b[39mself\u001b[39m\u001b[39m.\u001b[39mzc\u001b[39m.\u001b[39mU_gem), y\u001b[39m=\u001b[39mnp\u001b[39m.\u001b[39marray(\u001b[39mself\u001b[39m\u001b[39m.\u001b[39mzc\u001b[39m.\u001b[39mI_gem), height \u001b[39m=\u001b[39m np\u001b[39m.\u001b[39marray(\u001b[39mself\u001b[39m\u001b[39m.\u001b[39mzc\u001b[39m.\u001b[39mI_error))\n",
      "\u001b[1;31mAttributeError\u001b[0m: 'Ui_MainWindow' object has no attribute 'PlotWidget'"
     ]
    },
    {
     "ename": "AttributeError",
     "evalue": "'Ui_MainWindow' object has no attribute 'PlotWidget'",
     "output_type": "error",
     "traceback": [
      "\u001b[1;31m---------------------------------------------------------------------------\u001b[0m",
      "\u001b[1;31mAttributeError\u001b[0m                            Traceback (most recent call last)",
      "Cell \u001b[1;32mIn[1], line 66\u001b[0m, in \u001b[0;36mUserInterface.graph\u001b[1;34m(self)\u001b[0m\n\u001b[0;32m     64\u001b[0m \u001b[39m@Slot\u001b[39m()\n\u001b[0;32m     65\u001b[0m \u001b[39mdef\u001b[39;00m \u001b[39mgraph\u001b[39m(\u001b[39mself\u001b[39m):\n\u001b[1;32m---> 66\u001b[0m     \u001b[39mself\u001b[39;49m\u001b[39m.\u001b[39;49mui\u001b[39m.\u001b[39;49mPlotWidget\u001b[39m.\u001b[39mclear()\n\u001b[0;32m     67\u001b[0m     \u001b[39mself\u001b[39m\u001b[39m.\u001b[39mui\u001b[39m.\u001b[39mIU_graph\u001b[39m.\u001b[39mplot(\u001b[39mself\u001b[39m\u001b[39m.\u001b[39mzc\u001b[39m.\u001b[39mU_gem, \u001b[39mself\u001b[39m\u001b[39m.\u001b[39mzc\u001b[39m.\u001b[39mI_gem, symbol\u001b[39m=\u001b[39m\u001b[39m\"\u001b[39m\u001b[39mo\u001b[39m\u001b[39m\"\u001b[39m, symbolSize\u001b[39m=\u001b[39m\u001b[39m5\u001b[39m, pen\u001b[39m=\u001b[39m\u001b[39mNone\u001b[39;00m)\n\u001b[0;32m     68\u001b[0m     error_bars \u001b[39m=\u001b[39m pg\u001b[39m.\u001b[39mErrorBarItem(x\u001b[39m=\u001b[39mnp\u001b[39m.\u001b[39marray(\u001b[39mself\u001b[39m\u001b[39m.\u001b[39mzc\u001b[39m.\u001b[39mU_gem), y\u001b[39m=\u001b[39mnp\u001b[39m.\u001b[39marray(\u001b[39mself\u001b[39m\u001b[39m.\u001b[39mzc\u001b[39m.\u001b[39mI_gem), height \u001b[39m=\u001b[39m np\u001b[39m.\u001b[39marray(\u001b[39mself\u001b[39m\u001b[39m.\u001b[39mzc\u001b[39m.\u001b[39mI_error))\n",
      "\u001b[1;31mAttributeError\u001b[0m: 'Ui_MainWindow' object has no attribute 'PlotWidget'"
     ]
    },
    {
     "ename": "AttributeError",
     "evalue": "'Ui_MainWindow' object has no attribute 'PlotWidget'",
     "output_type": "error",
     "traceback": [
      "\u001b[1;31m---------------------------------------------------------------------------\u001b[0m",
      "\u001b[1;31mAttributeError\u001b[0m                            Traceback (most recent call last)",
      "Cell \u001b[1;32mIn[1], line 66\u001b[0m, in \u001b[0;36mUserInterface.graph\u001b[1;34m(self)\u001b[0m\n\u001b[0;32m     64\u001b[0m \u001b[39m@Slot\u001b[39m()\n\u001b[0;32m     65\u001b[0m \u001b[39mdef\u001b[39;00m \u001b[39mgraph\u001b[39m(\u001b[39mself\u001b[39m):\n\u001b[1;32m---> 66\u001b[0m     \u001b[39mself\u001b[39;49m\u001b[39m.\u001b[39;49mui\u001b[39m.\u001b[39;49mPlotWidget\u001b[39m.\u001b[39mclear()\n\u001b[0;32m     67\u001b[0m     \u001b[39mself\u001b[39m\u001b[39m.\u001b[39mui\u001b[39m.\u001b[39mIU_graph\u001b[39m.\u001b[39mplot(\u001b[39mself\u001b[39m\u001b[39m.\u001b[39mzc\u001b[39m.\u001b[39mU_gem, \u001b[39mself\u001b[39m\u001b[39m.\u001b[39mzc\u001b[39m.\u001b[39mI_gem, symbol\u001b[39m=\u001b[39m\u001b[39m\"\u001b[39m\u001b[39mo\u001b[39m\u001b[39m\"\u001b[39m, symbolSize\u001b[39m=\u001b[39m\u001b[39m5\u001b[39m, pen\u001b[39m=\u001b[39m\u001b[39mNone\u001b[39;00m)\n\u001b[0;32m     68\u001b[0m     error_bars \u001b[39m=\u001b[39m pg\u001b[39m.\u001b[39mErrorBarItem(x\u001b[39m=\u001b[39mnp\u001b[39m.\u001b[39marray(\u001b[39mself\u001b[39m\u001b[39m.\u001b[39mzc\u001b[39m.\u001b[39mU_gem), y\u001b[39m=\u001b[39mnp\u001b[39m.\u001b[39marray(\u001b[39mself\u001b[39m\u001b[39m.\u001b[39mzc\u001b[39m.\u001b[39mI_gem), height \u001b[39m=\u001b[39m np\u001b[39m.\u001b[39marray(\u001b[39mself\u001b[39m\u001b[39m.\u001b[39mzc\u001b[39m.\u001b[39mI_error))\n",
      "\u001b[1;31mAttributeError\u001b[0m: 'Ui_MainWindow' object has no attribute 'PlotWidget'"
     ]
    },
    {
     "ename": "AttributeError",
     "evalue": "'Ui_MainWindow' object has no attribute 'PlotWidget'",
     "output_type": "error",
     "traceback": [
      "\u001b[1;31m---------------------------------------------------------------------------\u001b[0m",
      "\u001b[1;31mAttributeError\u001b[0m                            Traceback (most recent call last)",
      "Cell \u001b[1;32mIn[1], line 66\u001b[0m, in \u001b[0;36mUserInterface.graph\u001b[1;34m(self)\u001b[0m\n\u001b[0;32m     64\u001b[0m \u001b[39m@Slot\u001b[39m()\n\u001b[0;32m     65\u001b[0m \u001b[39mdef\u001b[39;00m \u001b[39mgraph\u001b[39m(\u001b[39mself\u001b[39m):\n\u001b[1;32m---> 66\u001b[0m     \u001b[39mself\u001b[39;49m\u001b[39m.\u001b[39;49mui\u001b[39m.\u001b[39;49mPlotWidget\u001b[39m.\u001b[39mclear()\n\u001b[0;32m     67\u001b[0m     \u001b[39mself\u001b[39m\u001b[39m.\u001b[39mui\u001b[39m.\u001b[39mIU_graph\u001b[39m.\u001b[39mplot(\u001b[39mself\u001b[39m\u001b[39m.\u001b[39mzc\u001b[39m.\u001b[39mU_gem, \u001b[39mself\u001b[39m\u001b[39m.\u001b[39mzc\u001b[39m.\u001b[39mI_gem, symbol\u001b[39m=\u001b[39m\u001b[39m\"\u001b[39m\u001b[39mo\u001b[39m\u001b[39m\"\u001b[39m, symbolSize\u001b[39m=\u001b[39m\u001b[39m5\u001b[39m, pen\u001b[39m=\u001b[39m\u001b[39mNone\u001b[39;00m)\n\u001b[0;32m     68\u001b[0m     error_bars \u001b[39m=\u001b[39m pg\u001b[39m.\u001b[39mErrorBarItem(x\u001b[39m=\u001b[39mnp\u001b[39m.\u001b[39marray(\u001b[39mself\u001b[39m\u001b[39m.\u001b[39mzc\u001b[39m.\u001b[39mU_gem), y\u001b[39m=\u001b[39mnp\u001b[39m.\u001b[39marray(\u001b[39mself\u001b[39m\u001b[39m.\u001b[39mzc\u001b[39m.\u001b[39mI_gem), height \u001b[39m=\u001b[39m np\u001b[39m.\u001b[39marray(\u001b[39mself\u001b[39m\u001b[39m.\u001b[39mzc\u001b[39m.\u001b[39mI_error))\n",
      "\u001b[1;31mAttributeError\u001b[0m: 'Ui_MainWindow' object has no attribute 'PlotWidget'"
     ]
    },
    {
     "ename": "AttributeError",
     "evalue": "'Ui_MainWindow' object has no attribute 'PlotWidget'",
     "output_type": "error",
     "traceback": [
      "\u001b[1;31m---------------------------------------------------------------------------\u001b[0m",
      "\u001b[1;31mAttributeError\u001b[0m                            Traceback (most recent call last)",
      "Cell \u001b[1;32mIn[1], line 66\u001b[0m, in \u001b[0;36mUserInterface.graph\u001b[1;34m(self)\u001b[0m\n\u001b[0;32m     64\u001b[0m \u001b[39m@Slot\u001b[39m()\n\u001b[0;32m     65\u001b[0m \u001b[39mdef\u001b[39;00m \u001b[39mgraph\u001b[39m(\u001b[39mself\u001b[39m):\n\u001b[1;32m---> 66\u001b[0m     \u001b[39mself\u001b[39;49m\u001b[39m.\u001b[39;49mui\u001b[39m.\u001b[39;49mPlotWidget\u001b[39m.\u001b[39mclear()\n\u001b[0;32m     67\u001b[0m     \u001b[39mself\u001b[39m\u001b[39m.\u001b[39mui\u001b[39m.\u001b[39mIU_graph\u001b[39m.\u001b[39mplot(\u001b[39mself\u001b[39m\u001b[39m.\u001b[39mzc\u001b[39m.\u001b[39mU_gem, \u001b[39mself\u001b[39m\u001b[39m.\u001b[39mzc\u001b[39m.\u001b[39mI_gem, symbol\u001b[39m=\u001b[39m\u001b[39m\"\u001b[39m\u001b[39mo\u001b[39m\u001b[39m\"\u001b[39m, symbolSize\u001b[39m=\u001b[39m\u001b[39m5\u001b[39m, pen\u001b[39m=\u001b[39m\u001b[39mNone\u001b[39;00m)\n\u001b[0;32m     68\u001b[0m     error_bars \u001b[39m=\u001b[39m pg\u001b[39m.\u001b[39mErrorBarItem(x\u001b[39m=\u001b[39mnp\u001b[39m.\u001b[39marray(\u001b[39mself\u001b[39m\u001b[39m.\u001b[39mzc\u001b[39m.\u001b[39mU_gem), y\u001b[39m=\u001b[39mnp\u001b[39m.\u001b[39marray(\u001b[39mself\u001b[39m\u001b[39m.\u001b[39mzc\u001b[39m.\u001b[39mI_gem), height \u001b[39m=\u001b[39m np\u001b[39m.\u001b[39marray(\u001b[39mself\u001b[39m\u001b[39m.\u001b[39mzc\u001b[39m.\u001b[39mI_error))\n",
      "\u001b[1;31mAttributeError\u001b[0m: 'Ui_MainWindow' object has no attribute 'PlotWidget'"
     ]
    },
    {
     "ename": "AttributeError",
     "evalue": "'Ui_MainWindow' object has no attribute 'PlotWidget'",
     "output_type": "error",
     "traceback": [
      "\u001b[1;31m---------------------------------------------------------------------------\u001b[0m",
      "\u001b[1;31mAttributeError\u001b[0m                            Traceback (most recent call last)",
      "Cell \u001b[1;32mIn[1], line 66\u001b[0m, in \u001b[0;36mUserInterface.graph\u001b[1;34m(self)\u001b[0m\n\u001b[0;32m     64\u001b[0m \u001b[39m@Slot\u001b[39m()\n\u001b[0;32m     65\u001b[0m \u001b[39mdef\u001b[39;00m \u001b[39mgraph\u001b[39m(\u001b[39mself\u001b[39m):\n\u001b[1;32m---> 66\u001b[0m     \u001b[39mself\u001b[39;49m\u001b[39m.\u001b[39;49mui\u001b[39m.\u001b[39;49mPlotWidget\u001b[39m.\u001b[39mclear()\n\u001b[0;32m     67\u001b[0m     \u001b[39mself\u001b[39m\u001b[39m.\u001b[39mui\u001b[39m.\u001b[39mIU_graph\u001b[39m.\u001b[39mplot(\u001b[39mself\u001b[39m\u001b[39m.\u001b[39mzc\u001b[39m.\u001b[39mU_gem, \u001b[39mself\u001b[39m\u001b[39m.\u001b[39mzc\u001b[39m.\u001b[39mI_gem, symbol\u001b[39m=\u001b[39m\u001b[39m\"\u001b[39m\u001b[39mo\u001b[39m\u001b[39m\"\u001b[39m, symbolSize\u001b[39m=\u001b[39m\u001b[39m5\u001b[39m, pen\u001b[39m=\u001b[39m\u001b[39mNone\u001b[39;00m)\n\u001b[0;32m     68\u001b[0m     error_bars \u001b[39m=\u001b[39m pg\u001b[39m.\u001b[39mErrorBarItem(x\u001b[39m=\u001b[39mnp\u001b[39m.\u001b[39marray(\u001b[39mself\u001b[39m\u001b[39m.\u001b[39mzc\u001b[39m.\u001b[39mU_gem), y\u001b[39m=\u001b[39mnp\u001b[39m.\u001b[39marray(\u001b[39mself\u001b[39m\u001b[39m.\u001b[39mzc\u001b[39m.\u001b[39mI_gem), height \u001b[39m=\u001b[39m np\u001b[39m.\u001b[39marray(\u001b[39mself\u001b[39m\u001b[39m.\u001b[39mzc\u001b[39m.\u001b[39mI_error))\n",
      "\u001b[1;31mAttributeError\u001b[0m: 'Ui_MainWindow' object has no attribute 'PlotWidget'"
     ]
    },
    {
     "ename": "AttributeError",
     "evalue": "'Ui_MainWindow' object has no attribute 'PlotWidget'",
     "output_type": "error",
     "traceback": [
      "\u001b[1;31m---------------------------------------------------------------------------\u001b[0m",
      "\u001b[1;31mAttributeError\u001b[0m                            Traceback (most recent call last)",
      "Cell \u001b[1;32mIn[1], line 66\u001b[0m, in \u001b[0;36mUserInterface.graph\u001b[1;34m(self)\u001b[0m\n\u001b[0;32m     64\u001b[0m \u001b[39m@Slot\u001b[39m()\n\u001b[0;32m     65\u001b[0m \u001b[39mdef\u001b[39;00m \u001b[39mgraph\u001b[39m(\u001b[39mself\u001b[39m):\n\u001b[1;32m---> 66\u001b[0m     \u001b[39mself\u001b[39;49m\u001b[39m.\u001b[39;49mui\u001b[39m.\u001b[39;49mPlotWidget\u001b[39m.\u001b[39mclear()\n\u001b[0;32m     67\u001b[0m     \u001b[39mself\u001b[39m\u001b[39m.\u001b[39mui\u001b[39m.\u001b[39mIU_graph\u001b[39m.\u001b[39mplot(\u001b[39mself\u001b[39m\u001b[39m.\u001b[39mzc\u001b[39m.\u001b[39mU_gem, \u001b[39mself\u001b[39m\u001b[39m.\u001b[39mzc\u001b[39m.\u001b[39mI_gem, symbol\u001b[39m=\u001b[39m\u001b[39m\"\u001b[39m\u001b[39mo\u001b[39m\u001b[39m\"\u001b[39m, symbolSize\u001b[39m=\u001b[39m\u001b[39m5\u001b[39m, pen\u001b[39m=\u001b[39m\u001b[39mNone\u001b[39;00m)\n\u001b[0;32m     68\u001b[0m     error_bars \u001b[39m=\u001b[39m pg\u001b[39m.\u001b[39mErrorBarItem(x\u001b[39m=\u001b[39mnp\u001b[39m.\u001b[39marray(\u001b[39mself\u001b[39m\u001b[39m.\u001b[39mzc\u001b[39m.\u001b[39mU_gem), y\u001b[39m=\u001b[39mnp\u001b[39m.\u001b[39marray(\u001b[39mself\u001b[39m\u001b[39m.\u001b[39mzc\u001b[39m.\u001b[39mI_gem), height \u001b[39m=\u001b[39m np\u001b[39m.\u001b[39marray(\u001b[39mself\u001b[39m\u001b[39m.\u001b[39mzc\u001b[39m.\u001b[39mI_error))\n",
      "\u001b[1;31mAttributeError\u001b[0m: 'Ui_MainWindow' object has no attribute 'PlotWidget'"
     ]
    },
    {
     "ename": "AttributeError",
     "evalue": "'Ui_MainWindow' object has no attribute 'PlotWidget'",
     "output_type": "error",
     "traceback": [
      "\u001b[1;31m---------------------------------------------------------------------------\u001b[0m",
      "\u001b[1;31mAttributeError\u001b[0m                            Traceback (most recent call last)",
      "Cell \u001b[1;32mIn[1], line 66\u001b[0m, in \u001b[0;36mUserInterface.graph\u001b[1;34m(self)\u001b[0m\n\u001b[0;32m     64\u001b[0m \u001b[39m@Slot\u001b[39m()\n\u001b[0;32m     65\u001b[0m \u001b[39mdef\u001b[39;00m \u001b[39mgraph\u001b[39m(\u001b[39mself\u001b[39m):\n\u001b[1;32m---> 66\u001b[0m     \u001b[39mself\u001b[39;49m\u001b[39m.\u001b[39;49mui\u001b[39m.\u001b[39;49mPlotWidget\u001b[39m.\u001b[39mclear()\n\u001b[0;32m     67\u001b[0m     \u001b[39mself\u001b[39m\u001b[39m.\u001b[39mui\u001b[39m.\u001b[39mIU_graph\u001b[39m.\u001b[39mplot(\u001b[39mself\u001b[39m\u001b[39m.\u001b[39mzc\u001b[39m.\u001b[39mU_gem, \u001b[39mself\u001b[39m\u001b[39m.\u001b[39mzc\u001b[39m.\u001b[39mI_gem, symbol\u001b[39m=\u001b[39m\u001b[39m\"\u001b[39m\u001b[39mo\u001b[39m\u001b[39m\"\u001b[39m, symbolSize\u001b[39m=\u001b[39m\u001b[39m5\u001b[39m, pen\u001b[39m=\u001b[39m\u001b[39mNone\u001b[39;00m)\n\u001b[0;32m     68\u001b[0m     error_bars \u001b[39m=\u001b[39m pg\u001b[39m.\u001b[39mErrorBarItem(x\u001b[39m=\u001b[39mnp\u001b[39m.\u001b[39marray(\u001b[39mself\u001b[39m\u001b[39m.\u001b[39mzc\u001b[39m.\u001b[39mU_gem), y\u001b[39m=\u001b[39mnp\u001b[39m.\u001b[39marray(\u001b[39mself\u001b[39m\u001b[39m.\u001b[39mzc\u001b[39m.\u001b[39mI_gem), height \u001b[39m=\u001b[39m np\u001b[39m.\u001b[39marray(\u001b[39mself\u001b[39m\u001b[39m.\u001b[39mzc\u001b[39m.\u001b[39mI_error))\n",
      "\u001b[1;31mAttributeError\u001b[0m: 'Ui_MainWindow' object has no attribute 'PlotWidget'"
     ]
    },
    {
     "ename": "AttributeError",
     "evalue": "'Ui_MainWindow' object has no attribute 'PlotWidget'",
     "output_type": "error",
     "traceback": [
      "\u001b[1;31m---------------------------------------------------------------------------\u001b[0m",
      "\u001b[1;31mAttributeError\u001b[0m                            Traceback (most recent call last)",
      "Cell \u001b[1;32mIn[1], line 66\u001b[0m, in \u001b[0;36mUserInterface.graph\u001b[1;34m(self)\u001b[0m\n\u001b[0;32m     64\u001b[0m \u001b[39m@Slot\u001b[39m()\n\u001b[0;32m     65\u001b[0m \u001b[39mdef\u001b[39;00m \u001b[39mgraph\u001b[39m(\u001b[39mself\u001b[39m):\n\u001b[1;32m---> 66\u001b[0m     \u001b[39mself\u001b[39;49m\u001b[39m.\u001b[39;49mui\u001b[39m.\u001b[39;49mPlotWidget\u001b[39m.\u001b[39mclear()\n\u001b[0;32m     67\u001b[0m     \u001b[39mself\u001b[39m\u001b[39m.\u001b[39mui\u001b[39m.\u001b[39mIU_graph\u001b[39m.\u001b[39mplot(\u001b[39mself\u001b[39m\u001b[39m.\u001b[39mzc\u001b[39m.\u001b[39mU_gem, \u001b[39mself\u001b[39m\u001b[39m.\u001b[39mzc\u001b[39m.\u001b[39mI_gem, symbol\u001b[39m=\u001b[39m\u001b[39m\"\u001b[39m\u001b[39mo\u001b[39m\u001b[39m\"\u001b[39m, symbolSize\u001b[39m=\u001b[39m\u001b[39m5\u001b[39m, pen\u001b[39m=\u001b[39m\u001b[39mNone\u001b[39;00m)\n\u001b[0;32m     68\u001b[0m     error_bars \u001b[39m=\u001b[39m pg\u001b[39m.\u001b[39mErrorBarItem(x\u001b[39m=\u001b[39mnp\u001b[39m.\u001b[39marray(\u001b[39mself\u001b[39m\u001b[39m.\u001b[39mzc\u001b[39m.\u001b[39mU_gem), y\u001b[39m=\u001b[39mnp\u001b[39m.\u001b[39marray(\u001b[39mself\u001b[39m\u001b[39m.\u001b[39mzc\u001b[39m.\u001b[39mI_gem), height \u001b[39m=\u001b[39m np\u001b[39m.\u001b[39marray(\u001b[39mself\u001b[39m\u001b[39m.\u001b[39mzc\u001b[39m.\u001b[39mI_error))\n",
      "\u001b[1;31mAttributeError\u001b[0m: 'Ui_MainWindow' object has no attribute 'PlotWidget'"
     ]
    },
    {
     "ename": "AttributeError",
     "evalue": "'Ui_MainWindow' object has no attribute 'PlotWidget'",
     "output_type": "error",
     "traceback": [
      "\u001b[1;31m---------------------------------------------------------------------------\u001b[0m",
      "\u001b[1;31mAttributeError\u001b[0m                            Traceback (most recent call last)",
      "Cell \u001b[1;32mIn[1], line 66\u001b[0m, in \u001b[0;36mUserInterface.graph\u001b[1;34m(self)\u001b[0m\n\u001b[0;32m     64\u001b[0m \u001b[39m@Slot\u001b[39m()\n\u001b[0;32m     65\u001b[0m \u001b[39mdef\u001b[39;00m \u001b[39mgraph\u001b[39m(\u001b[39mself\u001b[39m):\n\u001b[1;32m---> 66\u001b[0m     \u001b[39mself\u001b[39;49m\u001b[39m.\u001b[39;49mui\u001b[39m.\u001b[39;49mPlotWidget\u001b[39m.\u001b[39mclear()\n\u001b[0;32m     67\u001b[0m     \u001b[39mself\u001b[39m\u001b[39m.\u001b[39mui\u001b[39m.\u001b[39mIU_graph\u001b[39m.\u001b[39mplot(\u001b[39mself\u001b[39m\u001b[39m.\u001b[39mzc\u001b[39m.\u001b[39mU_gem, \u001b[39mself\u001b[39m\u001b[39m.\u001b[39mzc\u001b[39m.\u001b[39mI_gem, symbol\u001b[39m=\u001b[39m\u001b[39m\"\u001b[39m\u001b[39mo\u001b[39m\u001b[39m\"\u001b[39m, symbolSize\u001b[39m=\u001b[39m\u001b[39m5\u001b[39m, pen\u001b[39m=\u001b[39m\u001b[39mNone\u001b[39;00m)\n\u001b[0;32m     68\u001b[0m     error_bars \u001b[39m=\u001b[39m pg\u001b[39m.\u001b[39mErrorBarItem(x\u001b[39m=\u001b[39mnp\u001b[39m.\u001b[39marray(\u001b[39mself\u001b[39m\u001b[39m.\u001b[39mzc\u001b[39m.\u001b[39mU_gem), y\u001b[39m=\u001b[39mnp\u001b[39m.\u001b[39marray(\u001b[39mself\u001b[39m\u001b[39m.\u001b[39mzc\u001b[39m.\u001b[39mI_gem), height \u001b[39m=\u001b[39m np\u001b[39m.\u001b[39marray(\u001b[39mself\u001b[39m\u001b[39m.\u001b[39mzc\u001b[39m.\u001b[39mI_error))\n",
      "\u001b[1;31mAttributeError\u001b[0m: 'Ui_MainWindow' object has no attribute 'PlotWidget'"
     ]
    },
    {
     "ename": "AttributeError",
     "evalue": "'Ui_MainWindow' object has no attribute 'PlotWidget'",
     "output_type": "error",
     "traceback": [
      "\u001b[1;31m---------------------------------------------------------------------------\u001b[0m",
      "\u001b[1;31mAttributeError\u001b[0m                            Traceback (most recent call last)",
      "Cell \u001b[1;32mIn[1], line 66\u001b[0m, in \u001b[0;36mUserInterface.graph\u001b[1;34m(self)\u001b[0m\n\u001b[0;32m     64\u001b[0m \u001b[39m@Slot\u001b[39m()\n\u001b[0;32m     65\u001b[0m \u001b[39mdef\u001b[39;00m \u001b[39mgraph\u001b[39m(\u001b[39mself\u001b[39m):\n\u001b[1;32m---> 66\u001b[0m     \u001b[39mself\u001b[39;49m\u001b[39m.\u001b[39;49mui\u001b[39m.\u001b[39;49mPlotWidget\u001b[39m.\u001b[39mclear()\n\u001b[0;32m     67\u001b[0m     \u001b[39mself\u001b[39m\u001b[39m.\u001b[39mui\u001b[39m.\u001b[39mIU_graph\u001b[39m.\u001b[39mplot(\u001b[39mself\u001b[39m\u001b[39m.\u001b[39mzc\u001b[39m.\u001b[39mU_gem, \u001b[39mself\u001b[39m\u001b[39m.\u001b[39mzc\u001b[39m.\u001b[39mI_gem, symbol\u001b[39m=\u001b[39m\u001b[39m\"\u001b[39m\u001b[39mo\u001b[39m\u001b[39m\"\u001b[39m, symbolSize\u001b[39m=\u001b[39m\u001b[39m5\u001b[39m, pen\u001b[39m=\u001b[39m\u001b[39mNone\u001b[39;00m)\n\u001b[0;32m     68\u001b[0m     error_bars \u001b[39m=\u001b[39m pg\u001b[39m.\u001b[39mErrorBarItem(x\u001b[39m=\u001b[39mnp\u001b[39m.\u001b[39marray(\u001b[39mself\u001b[39m\u001b[39m.\u001b[39mzc\u001b[39m.\u001b[39mU_gem), y\u001b[39m=\u001b[39mnp\u001b[39m.\u001b[39marray(\u001b[39mself\u001b[39m\u001b[39m.\u001b[39mzc\u001b[39m.\u001b[39mI_gem), height \u001b[39m=\u001b[39m np\u001b[39m.\u001b[39marray(\u001b[39mself\u001b[39m\u001b[39m.\u001b[39mzc\u001b[39m.\u001b[39mI_error))\n",
      "\u001b[1;31mAttributeError\u001b[0m: 'Ui_MainWindow' object has no attribute 'PlotWidget'"
     ]
    },
    {
     "ename": "AttributeError",
     "evalue": "'Ui_MainWindow' object has no attribute 'PlotWidget'",
     "output_type": "error",
     "traceback": [
      "\u001b[1;31m---------------------------------------------------------------------------\u001b[0m",
      "\u001b[1;31mAttributeError\u001b[0m                            Traceback (most recent call last)",
      "Cell \u001b[1;32mIn[1], line 66\u001b[0m, in \u001b[0;36mUserInterface.graph\u001b[1;34m(self)\u001b[0m\n\u001b[0;32m     64\u001b[0m \u001b[39m@Slot\u001b[39m()\n\u001b[0;32m     65\u001b[0m \u001b[39mdef\u001b[39;00m \u001b[39mgraph\u001b[39m(\u001b[39mself\u001b[39m):\n\u001b[1;32m---> 66\u001b[0m     \u001b[39mself\u001b[39;49m\u001b[39m.\u001b[39;49mui\u001b[39m.\u001b[39;49mPlotWidget\u001b[39m.\u001b[39mclear()\n\u001b[0;32m     67\u001b[0m     \u001b[39mself\u001b[39m\u001b[39m.\u001b[39mui\u001b[39m.\u001b[39mIU_graph\u001b[39m.\u001b[39mplot(\u001b[39mself\u001b[39m\u001b[39m.\u001b[39mzc\u001b[39m.\u001b[39mU_gem, \u001b[39mself\u001b[39m\u001b[39m.\u001b[39mzc\u001b[39m.\u001b[39mI_gem, symbol\u001b[39m=\u001b[39m\u001b[39m\"\u001b[39m\u001b[39mo\u001b[39m\u001b[39m\"\u001b[39m, symbolSize\u001b[39m=\u001b[39m\u001b[39m5\u001b[39m, pen\u001b[39m=\u001b[39m\u001b[39mNone\u001b[39;00m)\n\u001b[0;32m     68\u001b[0m     error_bars \u001b[39m=\u001b[39m pg\u001b[39m.\u001b[39mErrorBarItem(x\u001b[39m=\u001b[39mnp\u001b[39m.\u001b[39marray(\u001b[39mself\u001b[39m\u001b[39m.\u001b[39mzc\u001b[39m.\u001b[39mU_gem), y\u001b[39m=\u001b[39mnp\u001b[39m.\u001b[39marray(\u001b[39mself\u001b[39m\u001b[39m.\u001b[39mzc\u001b[39m.\u001b[39mI_gem), height \u001b[39m=\u001b[39m np\u001b[39m.\u001b[39marray(\u001b[39mself\u001b[39m\u001b[39m.\u001b[39mzc\u001b[39m.\u001b[39mI_error))\n",
      "\u001b[1;31mAttributeError\u001b[0m: 'Ui_MainWindow' object has no attribute 'PlotWidget'"
     ]
    },
    {
     "ename": "AttributeError",
     "evalue": "'Ui_MainWindow' object has no attribute 'PlotWidget'",
     "output_type": "error",
     "traceback": [
      "\u001b[1;31m---------------------------------------------------------------------------\u001b[0m",
      "\u001b[1;31mAttributeError\u001b[0m                            Traceback (most recent call last)",
      "Cell \u001b[1;32mIn[1], line 66\u001b[0m, in \u001b[0;36mUserInterface.graph\u001b[1;34m(self)\u001b[0m\n\u001b[0;32m     64\u001b[0m \u001b[39m@Slot\u001b[39m()\n\u001b[0;32m     65\u001b[0m \u001b[39mdef\u001b[39;00m \u001b[39mgraph\u001b[39m(\u001b[39mself\u001b[39m):\n\u001b[1;32m---> 66\u001b[0m     \u001b[39mself\u001b[39;49m\u001b[39m.\u001b[39;49mui\u001b[39m.\u001b[39;49mPlotWidget\u001b[39m.\u001b[39mclear()\n\u001b[0;32m     67\u001b[0m     \u001b[39mself\u001b[39m\u001b[39m.\u001b[39mui\u001b[39m.\u001b[39mIU_graph\u001b[39m.\u001b[39mplot(\u001b[39mself\u001b[39m\u001b[39m.\u001b[39mzc\u001b[39m.\u001b[39mU_gem, \u001b[39mself\u001b[39m\u001b[39m.\u001b[39mzc\u001b[39m.\u001b[39mI_gem, symbol\u001b[39m=\u001b[39m\u001b[39m\"\u001b[39m\u001b[39mo\u001b[39m\u001b[39m\"\u001b[39m, symbolSize\u001b[39m=\u001b[39m\u001b[39m5\u001b[39m, pen\u001b[39m=\u001b[39m\u001b[39mNone\u001b[39;00m)\n\u001b[0;32m     68\u001b[0m     error_bars \u001b[39m=\u001b[39m pg\u001b[39m.\u001b[39mErrorBarItem(x\u001b[39m=\u001b[39mnp\u001b[39m.\u001b[39marray(\u001b[39mself\u001b[39m\u001b[39m.\u001b[39mzc\u001b[39m.\u001b[39mU_gem), y\u001b[39m=\u001b[39mnp\u001b[39m.\u001b[39marray(\u001b[39mself\u001b[39m\u001b[39m.\u001b[39mzc\u001b[39m.\u001b[39mI_gem), height \u001b[39m=\u001b[39m np\u001b[39m.\u001b[39marray(\u001b[39mself\u001b[39m\u001b[39m.\u001b[39mzc\u001b[39m.\u001b[39mI_error))\n",
      "\u001b[1;31mAttributeError\u001b[0m: 'Ui_MainWindow' object has no attribute 'PlotWidget'"
     ]
    },
    {
     "ename": "AttributeError",
     "evalue": "'Ui_MainWindow' object has no attribute 'PlotWidget'",
     "output_type": "error",
     "traceback": [
      "\u001b[1;31m---------------------------------------------------------------------------\u001b[0m",
      "\u001b[1;31mAttributeError\u001b[0m                            Traceback (most recent call last)",
      "Cell \u001b[1;32mIn[1], line 66\u001b[0m, in \u001b[0;36mUserInterface.graph\u001b[1;34m(self)\u001b[0m\n\u001b[0;32m     64\u001b[0m \u001b[39m@Slot\u001b[39m()\n\u001b[0;32m     65\u001b[0m \u001b[39mdef\u001b[39;00m \u001b[39mgraph\u001b[39m(\u001b[39mself\u001b[39m):\n\u001b[1;32m---> 66\u001b[0m     \u001b[39mself\u001b[39;49m\u001b[39m.\u001b[39;49mui\u001b[39m.\u001b[39;49mPlotWidget\u001b[39m.\u001b[39mclear()\n\u001b[0;32m     67\u001b[0m     \u001b[39mself\u001b[39m\u001b[39m.\u001b[39mui\u001b[39m.\u001b[39mIU_graph\u001b[39m.\u001b[39mplot(\u001b[39mself\u001b[39m\u001b[39m.\u001b[39mzc\u001b[39m.\u001b[39mU_gem, \u001b[39mself\u001b[39m\u001b[39m.\u001b[39mzc\u001b[39m.\u001b[39mI_gem, symbol\u001b[39m=\u001b[39m\u001b[39m\"\u001b[39m\u001b[39mo\u001b[39m\u001b[39m\"\u001b[39m, symbolSize\u001b[39m=\u001b[39m\u001b[39m5\u001b[39m, pen\u001b[39m=\u001b[39m\u001b[39mNone\u001b[39;00m)\n\u001b[0;32m     68\u001b[0m     error_bars \u001b[39m=\u001b[39m pg\u001b[39m.\u001b[39mErrorBarItem(x\u001b[39m=\u001b[39mnp\u001b[39m.\u001b[39marray(\u001b[39mself\u001b[39m\u001b[39m.\u001b[39mzc\u001b[39m.\u001b[39mU_gem), y\u001b[39m=\u001b[39mnp\u001b[39m.\u001b[39marray(\u001b[39mself\u001b[39m\u001b[39m.\u001b[39mzc\u001b[39m.\u001b[39mI_gem), height \u001b[39m=\u001b[39m np\u001b[39m.\u001b[39marray(\u001b[39mself\u001b[39m\u001b[39m.\u001b[39mzc\u001b[39m.\u001b[39mI_error))\n",
      "\u001b[1;31mAttributeError\u001b[0m: 'Ui_MainWindow' object has no attribute 'PlotWidget'"
     ]
    },
    {
     "ename": "AttributeError",
     "evalue": "'Ui_MainWindow' object has no attribute 'PlotWidget'",
     "output_type": "error",
     "traceback": [
      "\u001b[1;31m---------------------------------------------------------------------------\u001b[0m",
      "\u001b[1;31mAttributeError\u001b[0m                            Traceback (most recent call last)",
      "Cell \u001b[1;32mIn[1], line 66\u001b[0m, in \u001b[0;36mUserInterface.graph\u001b[1;34m(self)\u001b[0m\n\u001b[0;32m     64\u001b[0m \u001b[39m@Slot\u001b[39m()\n\u001b[0;32m     65\u001b[0m \u001b[39mdef\u001b[39;00m \u001b[39mgraph\u001b[39m(\u001b[39mself\u001b[39m):\n\u001b[1;32m---> 66\u001b[0m     \u001b[39mself\u001b[39;49m\u001b[39m.\u001b[39;49mui\u001b[39m.\u001b[39;49mPlotWidget\u001b[39m.\u001b[39mclear()\n\u001b[0;32m     67\u001b[0m     \u001b[39mself\u001b[39m\u001b[39m.\u001b[39mui\u001b[39m.\u001b[39mIU_graph\u001b[39m.\u001b[39mplot(\u001b[39mself\u001b[39m\u001b[39m.\u001b[39mzc\u001b[39m.\u001b[39mU_gem, \u001b[39mself\u001b[39m\u001b[39m.\u001b[39mzc\u001b[39m.\u001b[39mI_gem, symbol\u001b[39m=\u001b[39m\u001b[39m\"\u001b[39m\u001b[39mo\u001b[39m\u001b[39m\"\u001b[39m, symbolSize\u001b[39m=\u001b[39m\u001b[39m5\u001b[39m, pen\u001b[39m=\u001b[39m\u001b[39mNone\u001b[39;00m)\n\u001b[0;32m     68\u001b[0m     error_bars \u001b[39m=\u001b[39m pg\u001b[39m.\u001b[39mErrorBarItem(x\u001b[39m=\u001b[39mnp\u001b[39m.\u001b[39marray(\u001b[39mself\u001b[39m\u001b[39m.\u001b[39mzc\u001b[39m.\u001b[39mU_gem), y\u001b[39m=\u001b[39mnp\u001b[39m.\u001b[39marray(\u001b[39mself\u001b[39m\u001b[39m.\u001b[39mzc\u001b[39m.\u001b[39mI_gem), height \u001b[39m=\u001b[39m np\u001b[39m.\u001b[39marray(\u001b[39mself\u001b[39m\u001b[39m.\u001b[39mzc\u001b[39m.\u001b[39mI_error))\n",
      "\u001b[1;31mAttributeError\u001b[0m: 'Ui_MainWindow' object has no attribute 'PlotWidget'"
     ]
    },
    {
     "ename": "AttributeError",
     "evalue": "'Ui_MainWindow' object has no attribute 'PlotWidget'",
     "output_type": "error",
     "traceback": [
      "\u001b[1;31m---------------------------------------------------------------------------\u001b[0m",
      "\u001b[1;31mAttributeError\u001b[0m                            Traceback (most recent call last)",
      "Cell \u001b[1;32mIn[1], line 66\u001b[0m, in \u001b[0;36mUserInterface.graph\u001b[1;34m(self)\u001b[0m\n\u001b[0;32m     64\u001b[0m \u001b[39m@Slot\u001b[39m()\n\u001b[0;32m     65\u001b[0m \u001b[39mdef\u001b[39;00m \u001b[39mgraph\u001b[39m(\u001b[39mself\u001b[39m):\n\u001b[1;32m---> 66\u001b[0m     \u001b[39mself\u001b[39;49m\u001b[39m.\u001b[39;49mui\u001b[39m.\u001b[39;49mPlotWidget\u001b[39m.\u001b[39mclear()\n\u001b[0;32m     67\u001b[0m     \u001b[39mself\u001b[39m\u001b[39m.\u001b[39mui\u001b[39m.\u001b[39mIU_graph\u001b[39m.\u001b[39mplot(\u001b[39mself\u001b[39m\u001b[39m.\u001b[39mzc\u001b[39m.\u001b[39mU_gem, \u001b[39mself\u001b[39m\u001b[39m.\u001b[39mzc\u001b[39m.\u001b[39mI_gem, symbol\u001b[39m=\u001b[39m\u001b[39m\"\u001b[39m\u001b[39mo\u001b[39m\u001b[39m\"\u001b[39m, symbolSize\u001b[39m=\u001b[39m\u001b[39m5\u001b[39m, pen\u001b[39m=\u001b[39m\u001b[39mNone\u001b[39;00m)\n\u001b[0;32m     68\u001b[0m     error_bars \u001b[39m=\u001b[39m pg\u001b[39m.\u001b[39mErrorBarItem(x\u001b[39m=\u001b[39mnp\u001b[39m.\u001b[39marray(\u001b[39mself\u001b[39m\u001b[39m.\u001b[39mzc\u001b[39m.\u001b[39mU_gem), y\u001b[39m=\u001b[39mnp\u001b[39m.\u001b[39marray(\u001b[39mself\u001b[39m\u001b[39m.\u001b[39mzc\u001b[39m.\u001b[39mI_gem), height \u001b[39m=\u001b[39m np\u001b[39m.\u001b[39marray(\u001b[39mself\u001b[39m\u001b[39m.\u001b[39mzc\u001b[39m.\u001b[39mI_error))\n",
      "\u001b[1;31mAttributeError\u001b[0m: 'Ui_MainWindow' object has no attribute 'PlotWidget'"
     ]
    },
    {
     "ename": "AttributeError",
     "evalue": "'Ui_MainWindow' object has no attribute 'PlotWidget'",
     "output_type": "error",
     "traceback": [
      "\u001b[1;31m---------------------------------------------------------------------------\u001b[0m",
      "\u001b[1;31mAttributeError\u001b[0m                            Traceback (most recent call last)",
      "Cell \u001b[1;32mIn[1], line 66\u001b[0m, in \u001b[0;36mUserInterface.graph\u001b[1;34m(self)\u001b[0m\n\u001b[0;32m     64\u001b[0m \u001b[39m@Slot\u001b[39m()\n\u001b[0;32m     65\u001b[0m \u001b[39mdef\u001b[39;00m \u001b[39mgraph\u001b[39m(\u001b[39mself\u001b[39m):\n\u001b[1;32m---> 66\u001b[0m     \u001b[39mself\u001b[39;49m\u001b[39m.\u001b[39;49mui\u001b[39m.\u001b[39;49mPlotWidget\u001b[39m.\u001b[39mclear()\n\u001b[0;32m     67\u001b[0m     \u001b[39mself\u001b[39m\u001b[39m.\u001b[39mui\u001b[39m.\u001b[39mIU_graph\u001b[39m.\u001b[39mplot(\u001b[39mself\u001b[39m\u001b[39m.\u001b[39mzc\u001b[39m.\u001b[39mU_gem, \u001b[39mself\u001b[39m\u001b[39m.\u001b[39mzc\u001b[39m.\u001b[39mI_gem, symbol\u001b[39m=\u001b[39m\u001b[39m\"\u001b[39m\u001b[39mo\u001b[39m\u001b[39m\"\u001b[39m, symbolSize\u001b[39m=\u001b[39m\u001b[39m5\u001b[39m, pen\u001b[39m=\u001b[39m\u001b[39mNone\u001b[39;00m)\n\u001b[0;32m     68\u001b[0m     error_bars \u001b[39m=\u001b[39m pg\u001b[39m.\u001b[39mErrorBarItem(x\u001b[39m=\u001b[39mnp\u001b[39m.\u001b[39marray(\u001b[39mself\u001b[39m\u001b[39m.\u001b[39mzc\u001b[39m.\u001b[39mU_gem), y\u001b[39m=\u001b[39mnp\u001b[39m.\u001b[39marray(\u001b[39mself\u001b[39m\u001b[39m.\u001b[39mzc\u001b[39m.\u001b[39mI_gem), height \u001b[39m=\u001b[39m np\u001b[39m.\u001b[39marray(\u001b[39mself\u001b[39m\u001b[39m.\u001b[39mzc\u001b[39m.\u001b[39mI_error))\n",
      "\u001b[1;31mAttributeError\u001b[0m: 'Ui_MainWindow' object has no attribute 'PlotWidget'"
     ]
    },
    {
     "ename": "AttributeError",
     "evalue": "'Ui_MainWindow' object has no attribute 'PlotWidget'",
     "output_type": "error",
     "traceback": [
      "\u001b[1;31m---------------------------------------------------------------------------\u001b[0m",
      "\u001b[1;31mAttributeError\u001b[0m                            Traceback (most recent call last)",
      "Cell \u001b[1;32mIn[1], line 66\u001b[0m, in \u001b[0;36mUserInterface.graph\u001b[1;34m(self)\u001b[0m\n\u001b[0;32m     64\u001b[0m \u001b[39m@Slot\u001b[39m()\n\u001b[0;32m     65\u001b[0m \u001b[39mdef\u001b[39;00m \u001b[39mgraph\u001b[39m(\u001b[39mself\u001b[39m):\n\u001b[1;32m---> 66\u001b[0m     \u001b[39mself\u001b[39;49m\u001b[39m.\u001b[39;49mui\u001b[39m.\u001b[39;49mPlotWidget\u001b[39m.\u001b[39mclear()\n\u001b[0;32m     67\u001b[0m     \u001b[39mself\u001b[39m\u001b[39m.\u001b[39mui\u001b[39m.\u001b[39mIU_graph\u001b[39m.\u001b[39mplot(\u001b[39mself\u001b[39m\u001b[39m.\u001b[39mzc\u001b[39m.\u001b[39mU_gem, \u001b[39mself\u001b[39m\u001b[39m.\u001b[39mzc\u001b[39m.\u001b[39mI_gem, symbol\u001b[39m=\u001b[39m\u001b[39m\"\u001b[39m\u001b[39mo\u001b[39m\u001b[39m\"\u001b[39m, symbolSize\u001b[39m=\u001b[39m\u001b[39m5\u001b[39m, pen\u001b[39m=\u001b[39m\u001b[39mNone\u001b[39;00m)\n\u001b[0;32m     68\u001b[0m     error_bars \u001b[39m=\u001b[39m pg\u001b[39m.\u001b[39mErrorBarItem(x\u001b[39m=\u001b[39mnp\u001b[39m.\u001b[39marray(\u001b[39mself\u001b[39m\u001b[39m.\u001b[39mzc\u001b[39m.\u001b[39mU_gem), y\u001b[39m=\u001b[39mnp\u001b[39m.\u001b[39marray(\u001b[39mself\u001b[39m\u001b[39m.\u001b[39mzc\u001b[39m.\u001b[39mI_gem), height \u001b[39m=\u001b[39m np\u001b[39m.\u001b[39marray(\u001b[39mself\u001b[39m\u001b[39m.\u001b[39mzc\u001b[39m.\u001b[39mI_error))\n",
      "\u001b[1;31mAttributeError\u001b[0m: 'Ui_MainWindow' object has no attribute 'PlotWidget'"
     ]
    },
    {
     "ename": "AttributeError",
     "evalue": "'Ui_MainWindow' object has no attribute 'PlotWidget'",
     "output_type": "error",
     "traceback": [
      "\u001b[1;31m---------------------------------------------------------------------------\u001b[0m",
      "\u001b[1;31mAttributeError\u001b[0m                            Traceback (most recent call last)",
      "Cell \u001b[1;32mIn[1], line 66\u001b[0m, in \u001b[0;36mUserInterface.graph\u001b[1;34m(self)\u001b[0m\n\u001b[0;32m     64\u001b[0m \u001b[39m@Slot\u001b[39m()\n\u001b[0;32m     65\u001b[0m \u001b[39mdef\u001b[39;00m \u001b[39mgraph\u001b[39m(\u001b[39mself\u001b[39m):\n\u001b[1;32m---> 66\u001b[0m     \u001b[39mself\u001b[39;49m\u001b[39m.\u001b[39;49mui\u001b[39m.\u001b[39;49mPlotWidget\u001b[39m.\u001b[39mclear()\n\u001b[0;32m     67\u001b[0m     \u001b[39mself\u001b[39m\u001b[39m.\u001b[39mui\u001b[39m.\u001b[39mIU_graph\u001b[39m.\u001b[39mplot(\u001b[39mself\u001b[39m\u001b[39m.\u001b[39mzc\u001b[39m.\u001b[39mU_gem, \u001b[39mself\u001b[39m\u001b[39m.\u001b[39mzc\u001b[39m.\u001b[39mI_gem, symbol\u001b[39m=\u001b[39m\u001b[39m\"\u001b[39m\u001b[39mo\u001b[39m\u001b[39m\"\u001b[39m, symbolSize\u001b[39m=\u001b[39m\u001b[39m5\u001b[39m, pen\u001b[39m=\u001b[39m\u001b[39mNone\u001b[39;00m)\n\u001b[0;32m     68\u001b[0m     error_bars \u001b[39m=\u001b[39m pg\u001b[39m.\u001b[39mErrorBarItem(x\u001b[39m=\u001b[39mnp\u001b[39m.\u001b[39marray(\u001b[39mself\u001b[39m\u001b[39m.\u001b[39mzc\u001b[39m.\u001b[39mU_gem), y\u001b[39m=\u001b[39mnp\u001b[39m.\u001b[39marray(\u001b[39mself\u001b[39m\u001b[39m.\u001b[39mzc\u001b[39m.\u001b[39mI_gem), height \u001b[39m=\u001b[39m np\u001b[39m.\u001b[39marray(\u001b[39mself\u001b[39m\u001b[39m.\u001b[39mzc\u001b[39m.\u001b[39mI_error))\n",
      "\u001b[1;31mAttributeError\u001b[0m: 'Ui_MainWindow' object has no attribute 'PlotWidget'"
     ]
    },
    {
     "ename": "AttributeError",
     "evalue": "'Ui_MainWindow' object has no attribute 'PlotWidget'",
     "output_type": "error",
     "traceback": [
      "\u001b[1;31m---------------------------------------------------------------------------\u001b[0m",
      "\u001b[1;31mAttributeError\u001b[0m                            Traceback (most recent call last)",
      "Cell \u001b[1;32mIn[1], line 66\u001b[0m, in \u001b[0;36mUserInterface.graph\u001b[1;34m(self)\u001b[0m\n\u001b[0;32m     64\u001b[0m \u001b[39m@Slot\u001b[39m()\n\u001b[0;32m     65\u001b[0m \u001b[39mdef\u001b[39;00m \u001b[39mgraph\u001b[39m(\u001b[39mself\u001b[39m):\n\u001b[1;32m---> 66\u001b[0m     \u001b[39mself\u001b[39;49m\u001b[39m.\u001b[39;49mui\u001b[39m.\u001b[39;49mPlotWidget\u001b[39m.\u001b[39mclear()\n\u001b[0;32m     67\u001b[0m     \u001b[39mself\u001b[39m\u001b[39m.\u001b[39mui\u001b[39m.\u001b[39mIU_graph\u001b[39m.\u001b[39mplot(\u001b[39mself\u001b[39m\u001b[39m.\u001b[39mzc\u001b[39m.\u001b[39mU_gem, \u001b[39mself\u001b[39m\u001b[39m.\u001b[39mzc\u001b[39m.\u001b[39mI_gem, symbol\u001b[39m=\u001b[39m\u001b[39m\"\u001b[39m\u001b[39mo\u001b[39m\u001b[39m\"\u001b[39m, symbolSize\u001b[39m=\u001b[39m\u001b[39m5\u001b[39m, pen\u001b[39m=\u001b[39m\u001b[39mNone\u001b[39;00m)\n\u001b[0;32m     68\u001b[0m     error_bars \u001b[39m=\u001b[39m pg\u001b[39m.\u001b[39mErrorBarItem(x\u001b[39m=\u001b[39mnp\u001b[39m.\u001b[39marray(\u001b[39mself\u001b[39m\u001b[39m.\u001b[39mzc\u001b[39m.\u001b[39mU_gem), y\u001b[39m=\u001b[39mnp\u001b[39m.\u001b[39marray(\u001b[39mself\u001b[39m\u001b[39m.\u001b[39mzc\u001b[39m.\u001b[39mI_gem), height \u001b[39m=\u001b[39m np\u001b[39m.\u001b[39marray(\u001b[39mself\u001b[39m\u001b[39m.\u001b[39mzc\u001b[39m.\u001b[39mI_error))\n",
      "\u001b[1;31mAttributeError\u001b[0m: 'Ui_MainWindow' object has no attribute 'PlotWidget'"
     ]
    },
    {
     "ename": "AttributeError",
     "evalue": "'Ui_MainWindow' object has no attribute 'PlotWidget'",
     "output_type": "error",
     "traceback": [
      "\u001b[1;31m---------------------------------------------------------------------------\u001b[0m",
      "\u001b[1;31mAttributeError\u001b[0m                            Traceback (most recent call last)",
      "Cell \u001b[1;32mIn[1], line 66\u001b[0m, in \u001b[0;36mUserInterface.graph\u001b[1;34m(self)\u001b[0m\n\u001b[0;32m     64\u001b[0m \u001b[39m@Slot\u001b[39m()\n\u001b[0;32m     65\u001b[0m \u001b[39mdef\u001b[39;00m \u001b[39mgraph\u001b[39m(\u001b[39mself\u001b[39m):\n\u001b[1;32m---> 66\u001b[0m     \u001b[39mself\u001b[39;49m\u001b[39m.\u001b[39;49mui\u001b[39m.\u001b[39;49mPlotWidget\u001b[39m.\u001b[39mclear()\n\u001b[0;32m     67\u001b[0m     \u001b[39mself\u001b[39m\u001b[39m.\u001b[39mui\u001b[39m.\u001b[39mIU_graph\u001b[39m.\u001b[39mplot(\u001b[39mself\u001b[39m\u001b[39m.\u001b[39mzc\u001b[39m.\u001b[39mU_gem, \u001b[39mself\u001b[39m\u001b[39m.\u001b[39mzc\u001b[39m.\u001b[39mI_gem, symbol\u001b[39m=\u001b[39m\u001b[39m\"\u001b[39m\u001b[39mo\u001b[39m\u001b[39m\"\u001b[39m, symbolSize\u001b[39m=\u001b[39m\u001b[39m5\u001b[39m, pen\u001b[39m=\u001b[39m\u001b[39mNone\u001b[39;00m)\n\u001b[0;32m     68\u001b[0m     error_bars \u001b[39m=\u001b[39m pg\u001b[39m.\u001b[39mErrorBarItem(x\u001b[39m=\u001b[39mnp\u001b[39m.\u001b[39marray(\u001b[39mself\u001b[39m\u001b[39m.\u001b[39mzc\u001b[39m.\u001b[39mU_gem), y\u001b[39m=\u001b[39mnp\u001b[39m.\u001b[39marray(\u001b[39mself\u001b[39m\u001b[39m.\u001b[39mzc\u001b[39m.\u001b[39mI_gem), height \u001b[39m=\u001b[39m np\u001b[39m.\u001b[39marray(\u001b[39mself\u001b[39m\u001b[39m.\u001b[39mzc\u001b[39m.\u001b[39mI_error))\n",
      "\u001b[1;31mAttributeError\u001b[0m: 'Ui_MainWindow' object has no attribute 'PlotWidget'"
     ]
    },
    {
     "ename": "AttributeError",
     "evalue": "'Ui_MainWindow' object has no attribute 'PlotWidget'",
     "output_type": "error",
     "traceback": [
      "\u001b[1;31m---------------------------------------------------------------------------\u001b[0m",
      "\u001b[1;31mAttributeError\u001b[0m                            Traceback (most recent call last)",
      "Cell \u001b[1;32mIn[1], line 66\u001b[0m, in \u001b[0;36mUserInterface.graph\u001b[1;34m(self)\u001b[0m\n\u001b[0;32m     64\u001b[0m \u001b[39m@Slot\u001b[39m()\n\u001b[0;32m     65\u001b[0m \u001b[39mdef\u001b[39;00m \u001b[39mgraph\u001b[39m(\u001b[39mself\u001b[39m):\n\u001b[1;32m---> 66\u001b[0m     \u001b[39mself\u001b[39;49m\u001b[39m.\u001b[39;49mui\u001b[39m.\u001b[39;49mPlotWidget\u001b[39m.\u001b[39mclear()\n\u001b[0;32m     67\u001b[0m     \u001b[39mself\u001b[39m\u001b[39m.\u001b[39mui\u001b[39m.\u001b[39mIU_graph\u001b[39m.\u001b[39mplot(\u001b[39mself\u001b[39m\u001b[39m.\u001b[39mzc\u001b[39m.\u001b[39mU_gem, \u001b[39mself\u001b[39m\u001b[39m.\u001b[39mzc\u001b[39m.\u001b[39mI_gem, symbol\u001b[39m=\u001b[39m\u001b[39m\"\u001b[39m\u001b[39mo\u001b[39m\u001b[39m\"\u001b[39m, symbolSize\u001b[39m=\u001b[39m\u001b[39m5\u001b[39m, pen\u001b[39m=\u001b[39m\u001b[39mNone\u001b[39;00m)\n\u001b[0;32m     68\u001b[0m     error_bars \u001b[39m=\u001b[39m pg\u001b[39m.\u001b[39mErrorBarItem(x\u001b[39m=\u001b[39mnp\u001b[39m.\u001b[39marray(\u001b[39mself\u001b[39m\u001b[39m.\u001b[39mzc\u001b[39m.\u001b[39mU_gem), y\u001b[39m=\u001b[39mnp\u001b[39m.\u001b[39marray(\u001b[39mself\u001b[39m\u001b[39m.\u001b[39mzc\u001b[39m.\u001b[39mI_gem), height \u001b[39m=\u001b[39m np\u001b[39m.\u001b[39marray(\u001b[39mself\u001b[39m\u001b[39m.\u001b[39mzc\u001b[39m.\u001b[39mI_error))\n",
      "\u001b[1;31mAttributeError\u001b[0m: 'Ui_MainWindow' object has no attribute 'PlotWidget'"
     ]
    },
    {
     "ename": "AttributeError",
     "evalue": "'Ui_MainWindow' object has no attribute 'PlotWidget'",
     "output_type": "error",
     "traceback": [
      "\u001b[1;31m---------------------------------------------------------------------------\u001b[0m",
      "\u001b[1;31mAttributeError\u001b[0m                            Traceback (most recent call last)",
      "Cell \u001b[1;32mIn[1], line 66\u001b[0m, in \u001b[0;36mUserInterface.graph\u001b[1;34m(self)\u001b[0m\n\u001b[0;32m     64\u001b[0m \u001b[39m@Slot\u001b[39m()\n\u001b[0;32m     65\u001b[0m \u001b[39mdef\u001b[39;00m \u001b[39mgraph\u001b[39m(\u001b[39mself\u001b[39m):\n\u001b[1;32m---> 66\u001b[0m     \u001b[39mself\u001b[39;49m\u001b[39m.\u001b[39;49mui\u001b[39m.\u001b[39;49mPlotWidget\u001b[39m.\u001b[39mclear()\n\u001b[0;32m     67\u001b[0m     \u001b[39mself\u001b[39m\u001b[39m.\u001b[39mui\u001b[39m.\u001b[39mIU_graph\u001b[39m.\u001b[39mplot(\u001b[39mself\u001b[39m\u001b[39m.\u001b[39mzc\u001b[39m.\u001b[39mU_gem, \u001b[39mself\u001b[39m\u001b[39m.\u001b[39mzc\u001b[39m.\u001b[39mI_gem, symbol\u001b[39m=\u001b[39m\u001b[39m\"\u001b[39m\u001b[39mo\u001b[39m\u001b[39m\"\u001b[39m, symbolSize\u001b[39m=\u001b[39m\u001b[39m5\u001b[39m, pen\u001b[39m=\u001b[39m\u001b[39mNone\u001b[39;00m)\n\u001b[0;32m     68\u001b[0m     error_bars \u001b[39m=\u001b[39m pg\u001b[39m.\u001b[39mErrorBarItem(x\u001b[39m=\u001b[39mnp\u001b[39m.\u001b[39marray(\u001b[39mself\u001b[39m\u001b[39m.\u001b[39mzc\u001b[39m.\u001b[39mU_gem), y\u001b[39m=\u001b[39mnp\u001b[39m.\u001b[39marray(\u001b[39mself\u001b[39m\u001b[39m.\u001b[39mzc\u001b[39m.\u001b[39mI_gem), height \u001b[39m=\u001b[39m np\u001b[39m.\u001b[39marray(\u001b[39mself\u001b[39m\u001b[39m.\u001b[39mzc\u001b[39m.\u001b[39mI_error))\n",
      "\u001b[1;31mAttributeError\u001b[0m: 'Ui_MainWindow' object has no attribute 'PlotWidget'"
     ]
    },
    {
     "ename": "AttributeError",
     "evalue": "'Ui_MainWindow' object has no attribute 'PlotWidget'",
     "output_type": "error",
     "traceback": [
      "\u001b[1;31m---------------------------------------------------------------------------\u001b[0m",
      "\u001b[1;31mAttributeError\u001b[0m                            Traceback (most recent call last)",
      "Cell \u001b[1;32mIn[1], line 66\u001b[0m, in \u001b[0;36mUserInterface.graph\u001b[1;34m(self)\u001b[0m\n\u001b[0;32m     64\u001b[0m \u001b[39m@Slot\u001b[39m()\n\u001b[0;32m     65\u001b[0m \u001b[39mdef\u001b[39;00m \u001b[39mgraph\u001b[39m(\u001b[39mself\u001b[39m):\n\u001b[1;32m---> 66\u001b[0m     \u001b[39mself\u001b[39;49m\u001b[39m.\u001b[39;49mui\u001b[39m.\u001b[39;49mPlotWidget\u001b[39m.\u001b[39mclear()\n\u001b[0;32m     67\u001b[0m     \u001b[39mself\u001b[39m\u001b[39m.\u001b[39mui\u001b[39m.\u001b[39mIU_graph\u001b[39m.\u001b[39mplot(\u001b[39mself\u001b[39m\u001b[39m.\u001b[39mzc\u001b[39m.\u001b[39mU_gem, \u001b[39mself\u001b[39m\u001b[39m.\u001b[39mzc\u001b[39m.\u001b[39mI_gem, symbol\u001b[39m=\u001b[39m\u001b[39m\"\u001b[39m\u001b[39mo\u001b[39m\u001b[39m\"\u001b[39m, symbolSize\u001b[39m=\u001b[39m\u001b[39m5\u001b[39m, pen\u001b[39m=\u001b[39m\u001b[39mNone\u001b[39;00m)\n\u001b[0;32m     68\u001b[0m     error_bars \u001b[39m=\u001b[39m pg\u001b[39m.\u001b[39mErrorBarItem(x\u001b[39m=\u001b[39mnp\u001b[39m.\u001b[39marray(\u001b[39mself\u001b[39m\u001b[39m.\u001b[39mzc\u001b[39m.\u001b[39mU_gem), y\u001b[39m=\u001b[39mnp\u001b[39m.\u001b[39marray(\u001b[39mself\u001b[39m\u001b[39m.\u001b[39mzc\u001b[39m.\u001b[39mI_gem), height \u001b[39m=\u001b[39m np\u001b[39m.\u001b[39marray(\u001b[39mself\u001b[39m\u001b[39m.\u001b[39mzc\u001b[39m.\u001b[39mI_error))\n",
      "\u001b[1;31mAttributeError\u001b[0m: 'Ui_MainWindow' object has no attribute 'PlotWidget'"
     ]
    },
    {
     "ename": "AttributeError",
     "evalue": "'Ui_MainWindow' object has no attribute 'PlotWidget'",
     "output_type": "error",
     "traceback": [
      "\u001b[1;31m---------------------------------------------------------------------------\u001b[0m",
      "\u001b[1;31mAttributeError\u001b[0m                            Traceback (most recent call last)",
      "Cell \u001b[1;32mIn[1], line 66\u001b[0m, in \u001b[0;36mUserInterface.graph\u001b[1;34m(self)\u001b[0m\n\u001b[0;32m     64\u001b[0m \u001b[39m@Slot\u001b[39m()\n\u001b[0;32m     65\u001b[0m \u001b[39mdef\u001b[39;00m \u001b[39mgraph\u001b[39m(\u001b[39mself\u001b[39m):\n\u001b[1;32m---> 66\u001b[0m     \u001b[39mself\u001b[39;49m\u001b[39m.\u001b[39;49mui\u001b[39m.\u001b[39;49mPlotWidget\u001b[39m.\u001b[39mclear()\n\u001b[0;32m     67\u001b[0m     \u001b[39mself\u001b[39m\u001b[39m.\u001b[39mui\u001b[39m.\u001b[39mIU_graph\u001b[39m.\u001b[39mplot(\u001b[39mself\u001b[39m\u001b[39m.\u001b[39mzc\u001b[39m.\u001b[39mU_gem, \u001b[39mself\u001b[39m\u001b[39m.\u001b[39mzc\u001b[39m.\u001b[39mI_gem, symbol\u001b[39m=\u001b[39m\u001b[39m\"\u001b[39m\u001b[39mo\u001b[39m\u001b[39m\"\u001b[39m, symbolSize\u001b[39m=\u001b[39m\u001b[39m5\u001b[39m, pen\u001b[39m=\u001b[39m\u001b[39mNone\u001b[39;00m)\n\u001b[0;32m     68\u001b[0m     error_bars \u001b[39m=\u001b[39m pg\u001b[39m.\u001b[39mErrorBarItem(x\u001b[39m=\u001b[39mnp\u001b[39m.\u001b[39marray(\u001b[39mself\u001b[39m\u001b[39m.\u001b[39mzc\u001b[39m.\u001b[39mU_gem), y\u001b[39m=\u001b[39mnp\u001b[39m.\u001b[39marray(\u001b[39mself\u001b[39m\u001b[39m.\u001b[39mzc\u001b[39m.\u001b[39mI_gem), height \u001b[39m=\u001b[39m np\u001b[39m.\u001b[39marray(\u001b[39mself\u001b[39m\u001b[39m.\u001b[39mzc\u001b[39m.\u001b[39mI_error))\n",
      "\u001b[1;31mAttributeError\u001b[0m: 'Ui_MainWindow' object has no attribute 'PlotWidget'"
     ]
    },
    {
     "ename": "AttributeError",
     "evalue": "'Ui_MainWindow' object has no attribute 'PlotWidget'",
     "output_type": "error",
     "traceback": [
      "\u001b[1;31m---------------------------------------------------------------------------\u001b[0m",
      "\u001b[1;31mAttributeError\u001b[0m                            Traceback (most recent call last)",
      "Cell \u001b[1;32mIn[1], line 66\u001b[0m, in \u001b[0;36mUserInterface.graph\u001b[1;34m(self)\u001b[0m\n\u001b[0;32m     64\u001b[0m \u001b[39m@Slot\u001b[39m()\n\u001b[0;32m     65\u001b[0m \u001b[39mdef\u001b[39;00m \u001b[39mgraph\u001b[39m(\u001b[39mself\u001b[39m):\n\u001b[1;32m---> 66\u001b[0m     \u001b[39mself\u001b[39;49m\u001b[39m.\u001b[39;49mui\u001b[39m.\u001b[39;49mPlotWidget\u001b[39m.\u001b[39mclear()\n\u001b[0;32m     67\u001b[0m     \u001b[39mself\u001b[39m\u001b[39m.\u001b[39mui\u001b[39m.\u001b[39mIU_graph\u001b[39m.\u001b[39mplot(\u001b[39mself\u001b[39m\u001b[39m.\u001b[39mzc\u001b[39m.\u001b[39mU_gem, \u001b[39mself\u001b[39m\u001b[39m.\u001b[39mzc\u001b[39m.\u001b[39mI_gem, symbol\u001b[39m=\u001b[39m\u001b[39m\"\u001b[39m\u001b[39mo\u001b[39m\u001b[39m\"\u001b[39m, symbolSize\u001b[39m=\u001b[39m\u001b[39m5\u001b[39m, pen\u001b[39m=\u001b[39m\u001b[39mNone\u001b[39;00m)\n\u001b[0;32m     68\u001b[0m     error_bars \u001b[39m=\u001b[39m pg\u001b[39m.\u001b[39mErrorBarItem(x\u001b[39m=\u001b[39mnp\u001b[39m.\u001b[39marray(\u001b[39mself\u001b[39m\u001b[39m.\u001b[39mzc\u001b[39m.\u001b[39mU_gem), y\u001b[39m=\u001b[39mnp\u001b[39m.\u001b[39marray(\u001b[39mself\u001b[39m\u001b[39m.\u001b[39mzc\u001b[39m.\u001b[39mI_gem), height \u001b[39m=\u001b[39m np\u001b[39m.\u001b[39marray(\u001b[39mself\u001b[39m\u001b[39m.\u001b[39mzc\u001b[39m.\u001b[39mI_error))\n",
      "\u001b[1;31mAttributeError\u001b[0m: 'Ui_MainWindow' object has no attribute 'PlotWidget'"
     ]
    },
    {
     "ename": "AttributeError",
     "evalue": "'Ui_MainWindow' object has no attribute 'PlotWidget'",
     "output_type": "error",
     "traceback": [
      "\u001b[1;31m---------------------------------------------------------------------------\u001b[0m",
      "\u001b[1;31mAttributeError\u001b[0m                            Traceback (most recent call last)",
      "Cell \u001b[1;32mIn[1], line 66\u001b[0m, in \u001b[0;36mUserInterface.graph\u001b[1;34m(self)\u001b[0m\n\u001b[0;32m     64\u001b[0m \u001b[39m@Slot\u001b[39m()\n\u001b[0;32m     65\u001b[0m \u001b[39mdef\u001b[39;00m \u001b[39mgraph\u001b[39m(\u001b[39mself\u001b[39m):\n\u001b[1;32m---> 66\u001b[0m     \u001b[39mself\u001b[39;49m\u001b[39m.\u001b[39;49mui\u001b[39m.\u001b[39;49mPlotWidget\u001b[39m.\u001b[39mclear()\n\u001b[0;32m     67\u001b[0m     \u001b[39mself\u001b[39m\u001b[39m.\u001b[39mui\u001b[39m.\u001b[39mIU_graph\u001b[39m.\u001b[39mplot(\u001b[39mself\u001b[39m\u001b[39m.\u001b[39mzc\u001b[39m.\u001b[39mU_gem, \u001b[39mself\u001b[39m\u001b[39m.\u001b[39mzc\u001b[39m.\u001b[39mI_gem, symbol\u001b[39m=\u001b[39m\u001b[39m\"\u001b[39m\u001b[39mo\u001b[39m\u001b[39m\"\u001b[39m, symbolSize\u001b[39m=\u001b[39m\u001b[39m5\u001b[39m, pen\u001b[39m=\u001b[39m\u001b[39mNone\u001b[39;00m)\n\u001b[0;32m     68\u001b[0m     error_bars \u001b[39m=\u001b[39m pg\u001b[39m.\u001b[39mErrorBarItem(x\u001b[39m=\u001b[39mnp\u001b[39m.\u001b[39marray(\u001b[39mself\u001b[39m\u001b[39m.\u001b[39mzc\u001b[39m.\u001b[39mU_gem), y\u001b[39m=\u001b[39mnp\u001b[39m.\u001b[39marray(\u001b[39mself\u001b[39m\u001b[39m.\u001b[39mzc\u001b[39m.\u001b[39mI_gem), height \u001b[39m=\u001b[39m np\u001b[39m.\u001b[39marray(\u001b[39mself\u001b[39m\u001b[39m.\u001b[39mzc\u001b[39m.\u001b[39mI_error))\n",
      "\u001b[1;31mAttributeError\u001b[0m: 'Ui_MainWindow' object has no attribute 'PlotWidget'"
     ]
    },
    {
     "ename": "AttributeError",
     "evalue": "'Ui_MainWindow' object has no attribute 'PlotWidget'",
     "output_type": "error",
     "traceback": [
      "\u001b[1;31m---------------------------------------------------------------------------\u001b[0m",
      "\u001b[1;31mAttributeError\u001b[0m                            Traceback (most recent call last)",
      "Cell \u001b[1;32mIn[1], line 66\u001b[0m, in \u001b[0;36mUserInterface.graph\u001b[1;34m(self)\u001b[0m\n\u001b[0;32m     64\u001b[0m \u001b[39m@Slot\u001b[39m()\n\u001b[0;32m     65\u001b[0m \u001b[39mdef\u001b[39;00m \u001b[39mgraph\u001b[39m(\u001b[39mself\u001b[39m):\n\u001b[1;32m---> 66\u001b[0m     \u001b[39mself\u001b[39;49m\u001b[39m.\u001b[39;49mui\u001b[39m.\u001b[39;49mPlotWidget\u001b[39m.\u001b[39mclear()\n\u001b[0;32m     67\u001b[0m     \u001b[39mself\u001b[39m\u001b[39m.\u001b[39mui\u001b[39m.\u001b[39mIU_graph\u001b[39m.\u001b[39mplot(\u001b[39mself\u001b[39m\u001b[39m.\u001b[39mzc\u001b[39m.\u001b[39mU_gem, \u001b[39mself\u001b[39m\u001b[39m.\u001b[39mzc\u001b[39m.\u001b[39mI_gem, symbol\u001b[39m=\u001b[39m\u001b[39m\"\u001b[39m\u001b[39mo\u001b[39m\u001b[39m\"\u001b[39m, symbolSize\u001b[39m=\u001b[39m\u001b[39m5\u001b[39m, pen\u001b[39m=\u001b[39m\u001b[39mNone\u001b[39;00m)\n\u001b[0;32m     68\u001b[0m     error_bars \u001b[39m=\u001b[39m pg\u001b[39m.\u001b[39mErrorBarItem(x\u001b[39m=\u001b[39mnp\u001b[39m.\u001b[39marray(\u001b[39mself\u001b[39m\u001b[39m.\u001b[39mzc\u001b[39m.\u001b[39mU_gem), y\u001b[39m=\u001b[39mnp\u001b[39m.\u001b[39marray(\u001b[39mself\u001b[39m\u001b[39m.\u001b[39mzc\u001b[39m.\u001b[39mI_gem), height \u001b[39m=\u001b[39m np\u001b[39m.\u001b[39marray(\u001b[39mself\u001b[39m\u001b[39m.\u001b[39mzc\u001b[39m.\u001b[39mI_error))\n",
      "\u001b[1;31mAttributeError\u001b[0m: 'Ui_MainWindow' object has no attribute 'PlotWidget'"
     ]
    },
    {
     "ename": "AttributeError",
     "evalue": "'Ui_MainWindow' object has no attribute 'PlotWidget'",
     "output_type": "error",
     "traceback": [
      "\u001b[1;31m---------------------------------------------------------------------------\u001b[0m",
      "\u001b[1;31mAttributeError\u001b[0m                            Traceback (most recent call last)",
      "Cell \u001b[1;32mIn[1], line 66\u001b[0m, in \u001b[0;36mUserInterface.graph\u001b[1;34m(self)\u001b[0m\n\u001b[0;32m     64\u001b[0m \u001b[39m@Slot\u001b[39m()\n\u001b[0;32m     65\u001b[0m \u001b[39mdef\u001b[39;00m \u001b[39mgraph\u001b[39m(\u001b[39mself\u001b[39m):\n\u001b[1;32m---> 66\u001b[0m     \u001b[39mself\u001b[39;49m\u001b[39m.\u001b[39;49mui\u001b[39m.\u001b[39;49mPlotWidget\u001b[39m.\u001b[39mclear()\n\u001b[0;32m     67\u001b[0m     \u001b[39mself\u001b[39m\u001b[39m.\u001b[39mui\u001b[39m.\u001b[39mIU_graph\u001b[39m.\u001b[39mplot(\u001b[39mself\u001b[39m\u001b[39m.\u001b[39mzc\u001b[39m.\u001b[39mU_gem, \u001b[39mself\u001b[39m\u001b[39m.\u001b[39mzc\u001b[39m.\u001b[39mI_gem, symbol\u001b[39m=\u001b[39m\u001b[39m\"\u001b[39m\u001b[39mo\u001b[39m\u001b[39m\"\u001b[39m, symbolSize\u001b[39m=\u001b[39m\u001b[39m5\u001b[39m, pen\u001b[39m=\u001b[39m\u001b[39mNone\u001b[39;00m)\n\u001b[0;32m     68\u001b[0m     error_bars \u001b[39m=\u001b[39m pg\u001b[39m.\u001b[39mErrorBarItem(x\u001b[39m=\u001b[39mnp\u001b[39m.\u001b[39marray(\u001b[39mself\u001b[39m\u001b[39m.\u001b[39mzc\u001b[39m.\u001b[39mU_gem), y\u001b[39m=\u001b[39mnp\u001b[39m.\u001b[39marray(\u001b[39mself\u001b[39m\u001b[39m.\u001b[39mzc\u001b[39m.\u001b[39mI_gem), height \u001b[39m=\u001b[39m np\u001b[39m.\u001b[39marray(\u001b[39mself\u001b[39m\u001b[39m.\u001b[39mzc\u001b[39m.\u001b[39mI_error))\n",
      "\u001b[1;31mAttributeError\u001b[0m: 'Ui_MainWindow' object has no attribute 'PlotWidget'"
     ]
    },
    {
     "ename": "AttributeError",
     "evalue": "'Ui_MainWindow' object has no attribute 'PlotWidget'",
     "output_type": "error",
     "traceback": [
      "\u001b[1;31m---------------------------------------------------------------------------\u001b[0m",
      "\u001b[1;31mAttributeError\u001b[0m                            Traceback (most recent call last)",
      "Cell \u001b[1;32mIn[1], line 66\u001b[0m, in \u001b[0;36mUserInterface.graph\u001b[1;34m(self)\u001b[0m\n\u001b[0;32m     64\u001b[0m \u001b[39m@Slot\u001b[39m()\n\u001b[0;32m     65\u001b[0m \u001b[39mdef\u001b[39;00m \u001b[39mgraph\u001b[39m(\u001b[39mself\u001b[39m):\n\u001b[1;32m---> 66\u001b[0m     \u001b[39mself\u001b[39;49m\u001b[39m.\u001b[39;49mui\u001b[39m.\u001b[39;49mPlotWidget\u001b[39m.\u001b[39mclear()\n\u001b[0;32m     67\u001b[0m     \u001b[39mself\u001b[39m\u001b[39m.\u001b[39mui\u001b[39m.\u001b[39mIU_graph\u001b[39m.\u001b[39mplot(\u001b[39mself\u001b[39m\u001b[39m.\u001b[39mzc\u001b[39m.\u001b[39mU_gem, \u001b[39mself\u001b[39m\u001b[39m.\u001b[39mzc\u001b[39m.\u001b[39mI_gem, symbol\u001b[39m=\u001b[39m\u001b[39m\"\u001b[39m\u001b[39mo\u001b[39m\u001b[39m\"\u001b[39m, symbolSize\u001b[39m=\u001b[39m\u001b[39m5\u001b[39m, pen\u001b[39m=\u001b[39m\u001b[39mNone\u001b[39;00m)\n\u001b[0;32m     68\u001b[0m     error_bars \u001b[39m=\u001b[39m pg\u001b[39m.\u001b[39mErrorBarItem(x\u001b[39m=\u001b[39mnp\u001b[39m.\u001b[39marray(\u001b[39mself\u001b[39m\u001b[39m.\u001b[39mzc\u001b[39m.\u001b[39mU_gem), y\u001b[39m=\u001b[39mnp\u001b[39m.\u001b[39marray(\u001b[39mself\u001b[39m\u001b[39m.\u001b[39mzc\u001b[39m.\u001b[39mI_gem), height \u001b[39m=\u001b[39m np\u001b[39m.\u001b[39marray(\u001b[39mself\u001b[39m\u001b[39m.\u001b[39mzc\u001b[39m.\u001b[39mI_error))\n",
      "\u001b[1;31mAttributeError\u001b[0m: 'Ui_MainWindow' object has no attribute 'PlotWidget'"
     ]
    },
    {
     "ename": "AttributeError",
     "evalue": "'Ui_MainWindow' object has no attribute 'PlotWidget'",
     "output_type": "error",
     "traceback": [
      "\u001b[1;31m---------------------------------------------------------------------------\u001b[0m",
      "\u001b[1;31mAttributeError\u001b[0m                            Traceback (most recent call last)",
      "Cell \u001b[1;32mIn[1], line 66\u001b[0m, in \u001b[0;36mUserInterface.graph\u001b[1;34m(self)\u001b[0m\n\u001b[0;32m     64\u001b[0m \u001b[39m@Slot\u001b[39m()\n\u001b[0;32m     65\u001b[0m \u001b[39mdef\u001b[39;00m \u001b[39mgraph\u001b[39m(\u001b[39mself\u001b[39m):\n\u001b[1;32m---> 66\u001b[0m     \u001b[39mself\u001b[39;49m\u001b[39m.\u001b[39;49mui\u001b[39m.\u001b[39;49mPlotWidget\u001b[39m.\u001b[39mclear()\n\u001b[0;32m     67\u001b[0m     \u001b[39mself\u001b[39m\u001b[39m.\u001b[39mui\u001b[39m.\u001b[39mIU_graph\u001b[39m.\u001b[39mplot(\u001b[39mself\u001b[39m\u001b[39m.\u001b[39mzc\u001b[39m.\u001b[39mU_gem, \u001b[39mself\u001b[39m\u001b[39m.\u001b[39mzc\u001b[39m.\u001b[39mI_gem, symbol\u001b[39m=\u001b[39m\u001b[39m\"\u001b[39m\u001b[39mo\u001b[39m\u001b[39m\"\u001b[39m, symbolSize\u001b[39m=\u001b[39m\u001b[39m5\u001b[39m, pen\u001b[39m=\u001b[39m\u001b[39mNone\u001b[39;00m)\n\u001b[0;32m     68\u001b[0m     error_bars \u001b[39m=\u001b[39m pg\u001b[39m.\u001b[39mErrorBarItem(x\u001b[39m=\u001b[39mnp\u001b[39m.\u001b[39marray(\u001b[39mself\u001b[39m\u001b[39m.\u001b[39mzc\u001b[39m.\u001b[39mU_gem), y\u001b[39m=\u001b[39mnp\u001b[39m.\u001b[39marray(\u001b[39mself\u001b[39m\u001b[39m.\u001b[39mzc\u001b[39m.\u001b[39mI_gem), height \u001b[39m=\u001b[39m np\u001b[39m.\u001b[39marray(\u001b[39mself\u001b[39m\u001b[39m.\u001b[39mzc\u001b[39m.\u001b[39mI_error))\n",
      "\u001b[1;31mAttributeError\u001b[0m: 'Ui_MainWindow' object has no attribute 'PlotWidget'"
     ]
    },
    {
     "ename": "AttributeError",
     "evalue": "'Ui_MainWindow' object has no attribute 'PlotWidget'",
     "output_type": "error",
     "traceback": [
      "\u001b[1;31m---------------------------------------------------------------------------\u001b[0m",
      "\u001b[1;31mAttributeError\u001b[0m                            Traceback (most recent call last)",
      "Cell \u001b[1;32mIn[1], line 66\u001b[0m, in \u001b[0;36mUserInterface.graph\u001b[1;34m(self)\u001b[0m\n\u001b[0;32m     64\u001b[0m \u001b[39m@Slot\u001b[39m()\n\u001b[0;32m     65\u001b[0m \u001b[39mdef\u001b[39;00m \u001b[39mgraph\u001b[39m(\u001b[39mself\u001b[39m):\n\u001b[1;32m---> 66\u001b[0m     \u001b[39mself\u001b[39;49m\u001b[39m.\u001b[39;49mui\u001b[39m.\u001b[39;49mPlotWidget\u001b[39m.\u001b[39mclear()\n\u001b[0;32m     67\u001b[0m     \u001b[39mself\u001b[39m\u001b[39m.\u001b[39mui\u001b[39m.\u001b[39mIU_graph\u001b[39m.\u001b[39mplot(\u001b[39mself\u001b[39m\u001b[39m.\u001b[39mzc\u001b[39m.\u001b[39mU_gem, \u001b[39mself\u001b[39m\u001b[39m.\u001b[39mzc\u001b[39m.\u001b[39mI_gem, symbol\u001b[39m=\u001b[39m\u001b[39m\"\u001b[39m\u001b[39mo\u001b[39m\u001b[39m\"\u001b[39m, symbolSize\u001b[39m=\u001b[39m\u001b[39m5\u001b[39m, pen\u001b[39m=\u001b[39m\u001b[39mNone\u001b[39;00m)\n\u001b[0;32m     68\u001b[0m     error_bars \u001b[39m=\u001b[39m pg\u001b[39m.\u001b[39mErrorBarItem(x\u001b[39m=\u001b[39mnp\u001b[39m.\u001b[39marray(\u001b[39mself\u001b[39m\u001b[39m.\u001b[39mzc\u001b[39m.\u001b[39mU_gem), y\u001b[39m=\u001b[39mnp\u001b[39m.\u001b[39marray(\u001b[39mself\u001b[39m\u001b[39m.\u001b[39mzc\u001b[39m.\u001b[39mI_gem), height \u001b[39m=\u001b[39m np\u001b[39m.\u001b[39marray(\u001b[39mself\u001b[39m\u001b[39m.\u001b[39mzc\u001b[39m.\u001b[39mI_error))\n",
      "\u001b[1;31mAttributeError\u001b[0m: 'Ui_MainWindow' object has no attribute 'PlotWidget'"
     ]
    },
    {
     "ename": "AttributeError",
     "evalue": "'Ui_MainWindow' object has no attribute 'PlotWidget'",
     "output_type": "error",
     "traceback": [
      "\u001b[1;31m---------------------------------------------------------------------------\u001b[0m",
      "\u001b[1;31mAttributeError\u001b[0m                            Traceback (most recent call last)",
      "Cell \u001b[1;32mIn[1], line 66\u001b[0m, in \u001b[0;36mUserInterface.graph\u001b[1;34m(self)\u001b[0m\n\u001b[0;32m     64\u001b[0m \u001b[39m@Slot\u001b[39m()\n\u001b[0;32m     65\u001b[0m \u001b[39mdef\u001b[39;00m \u001b[39mgraph\u001b[39m(\u001b[39mself\u001b[39m):\n\u001b[1;32m---> 66\u001b[0m     \u001b[39mself\u001b[39;49m\u001b[39m.\u001b[39;49mui\u001b[39m.\u001b[39;49mPlotWidget\u001b[39m.\u001b[39mclear()\n\u001b[0;32m     67\u001b[0m     \u001b[39mself\u001b[39m\u001b[39m.\u001b[39mui\u001b[39m.\u001b[39mIU_graph\u001b[39m.\u001b[39mplot(\u001b[39mself\u001b[39m\u001b[39m.\u001b[39mzc\u001b[39m.\u001b[39mU_gem, \u001b[39mself\u001b[39m\u001b[39m.\u001b[39mzc\u001b[39m.\u001b[39mI_gem, symbol\u001b[39m=\u001b[39m\u001b[39m\"\u001b[39m\u001b[39mo\u001b[39m\u001b[39m\"\u001b[39m, symbolSize\u001b[39m=\u001b[39m\u001b[39m5\u001b[39m, pen\u001b[39m=\u001b[39m\u001b[39mNone\u001b[39;00m)\n\u001b[0;32m     68\u001b[0m     error_bars \u001b[39m=\u001b[39m pg\u001b[39m.\u001b[39mErrorBarItem(x\u001b[39m=\u001b[39mnp\u001b[39m.\u001b[39marray(\u001b[39mself\u001b[39m\u001b[39m.\u001b[39mzc\u001b[39m.\u001b[39mU_gem), y\u001b[39m=\u001b[39mnp\u001b[39m.\u001b[39marray(\u001b[39mself\u001b[39m\u001b[39m.\u001b[39mzc\u001b[39m.\u001b[39mI_gem), height \u001b[39m=\u001b[39m np\u001b[39m.\u001b[39marray(\u001b[39mself\u001b[39m\u001b[39m.\u001b[39mzc\u001b[39m.\u001b[39mI_error))\n",
      "\u001b[1;31mAttributeError\u001b[0m: 'Ui_MainWindow' object has no attribute 'PlotWidget'"
     ]
    },
    {
     "ename": "AttributeError",
     "evalue": "'Ui_MainWindow' object has no attribute 'PlotWidget'",
     "output_type": "error",
     "traceback": [
      "\u001b[1;31m---------------------------------------------------------------------------\u001b[0m",
      "\u001b[1;31mAttributeError\u001b[0m                            Traceback (most recent call last)",
      "Cell \u001b[1;32mIn[1], line 66\u001b[0m, in \u001b[0;36mUserInterface.graph\u001b[1;34m(self)\u001b[0m\n\u001b[0;32m     64\u001b[0m \u001b[39m@Slot\u001b[39m()\n\u001b[0;32m     65\u001b[0m \u001b[39mdef\u001b[39;00m \u001b[39mgraph\u001b[39m(\u001b[39mself\u001b[39m):\n\u001b[1;32m---> 66\u001b[0m     \u001b[39mself\u001b[39;49m\u001b[39m.\u001b[39;49mui\u001b[39m.\u001b[39;49mPlotWidget\u001b[39m.\u001b[39mclear()\n\u001b[0;32m     67\u001b[0m     \u001b[39mself\u001b[39m\u001b[39m.\u001b[39mui\u001b[39m.\u001b[39mIU_graph\u001b[39m.\u001b[39mplot(\u001b[39mself\u001b[39m\u001b[39m.\u001b[39mzc\u001b[39m.\u001b[39mU_gem, \u001b[39mself\u001b[39m\u001b[39m.\u001b[39mzc\u001b[39m.\u001b[39mI_gem, symbol\u001b[39m=\u001b[39m\u001b[39m\"\u001b[39m\u001b[39mo\u001b[39m\u001b[39m\"\u001b[39m, symbolSize\u001b[39m=\u001b[39m\u001b[39m5\u001b[39m, pen\u001b[39m=\u001b[39m\u001b[39mNone\u001b[39;00m)\n\u001b[0;32m     68\u001b[0m     error_bars \u001b[39m=\u001b[39m pg\u001b[39m.\u001b[39mErrorBarItem(x\u001b[39m=\u001b[39mnp\u001b[39m.\u001b[39marray(\u001b[39mself\u001b[39m\u001b[39m.\u001b[39mzc\u001b[39m.\u001b[39mU_gem), y\u001b[39m=\u001b[39mnp\u001b[39m.\u001b[39marray(\u001b[39mself\u001b[39m\u001b[39m.\u001b[39mzc\u001b[39m.\u001b[39mI_gem), height \u001b[39m=\u001b[39m np\u001b[39m.\u001b[39marray(\u001b[39mself\u001b[39m\u001b[39m.\u001b[39mzc\u001b[39m.\u001b[39mI_error))\n",
      "\u001b[1;31mAttributeError\u001b[0m: 'Ui_MainWindow' object has no attribute 'PlotWidget'"
     ]
    },
    {
     "ename": "AttributeError",
     "evalue": "'Ui_MainWindow' object has no attribute 'PlotWidget'",
     "output_type": "error",
     "traceback": [
      "\u001b[1;31m---------------------------------------------------------------------------\u001b[0m",
      "\u001b[1;31mAttributeError\u001b[0m                            Traceback (most recent call last)",
      "Cell \u001b[1;32mIn[1], line 66\u001b[0m, in \u001b[0;36mUserInterface.graph\u001b[1;34m(self)\u001b[0m\n\u001b[0;32m     64\u001b[0m \u001b[39m@Slot\u001b[39m()\n\u001b[0;32m     65\u001b[0m \u001b[39mdef\u001b[39;00m \u001b[39mgraph\u001b[39m(\u001b[39mself\u001b[39m):\n\u001b[1;32m---> 66\u001b[0m     \u001b[39mself\u001b[39;49m\u001b[39m.\u001b[39;49mui\u001b[39m.\u001b[39;49mPlotWidget\u001b[39m.\u001b[39mclear()\n\u001b[0;32m     67\u001b[0m     \u001b[39mself\u001b[39m\u001b[39m.\u001b[39mui\u001b[39m.\u001b[39mIU_graph\u001b[39m.\u001b[39mplot(\u001b[39mself\u001b[39m\u001b[39m.\u001b[39mzc\u001b[39m.\u001b[39mU_gem, \u001b[39mself\u001b[39m\u001b[39m.\u001b[39mzc\u001b[39m.\u001b[39mI_gem, symbol\u001b[39m=\u001b[39m\u001b[39m\"\u001b[39m\u001b[39mo\u001b[39m\u001b[39m\"\u001b[39m, symbolSize\u001b[39m=\u001b[39m\u001b[39m5\u001b[39m, pen\u001b[39m=\u001b[39m\u001b[39mNone\u001b[39;00m)\n\u001b[0;32m     68\u001b[0m     error_bars \u001b[39m=\u001b[39m pg\u001b[39m.\u001b[39mErrorBarItem(x\u001b[39m=\u001b[39mnp\u001b[39m.\u001b[39marray(\u001b[39mself\u001b[39m\u001b[39m.\u001b[39mzc\u001b[39m.\u001b[39mU_gem), y\u001b[39m=\u001b[39mnp\u001b[39m.\u001b[39marray(\u001b[39mself\u001b[39m\u001b[39m.\u001b[39mzc\u001b[39m.\u001b[39mI_gem), height \u001b[39m=\u001b[39m np\u001b[39m.\u001b[39marray(\u001b[39mself\u001b[39m\u001b[39m.\u001b[39mzc\u001b[39m.\u001b[39mI_error))\n",
      "\u001b[1;31mAttributeError\u001b[0m: 'Ui_MainWindow' object has no attribute 'PlotWidget'"
     ]
    },
    {
     "ename": "AttributeError",
     "evalue": "'Ui_MainWindow' object has no attribute 'PlotWidget'",
     "output_type": "error",
     "traceback": [
      "\u001b[1;31m---------------------------------------------------------------------------\u001b[0m",
      "\u001b[1;31mAttributeError\u001b[0m                            Traceback (most recent call last)",
      "Cell \u001b[1;32mIn[1], line 66\u001b[0m, in \u001b[0;36mUserInterface.graph\u001b[1;34m(self)\u001b[0m\n\u001b[0;32m     64\u001b[0m \u001b[39m@Slot\u001b[39m()\n\u001b[0;32m     65\u001b[0m \u001b[39mdef\u001b[39;00m \u001b[39mgraph\u001b[39m(\u001b[39mself\u001b[39m):\n\u001b[1;32m---> 66\u001b[0m     \u001b[39mself\u001b[39;49m\u001b[39m.\u001b[39;49mui\u001b[39m.\u001b[39;49mPlotWidget\u001b[39m.\u001b[39mclear()\n\u001b[0;32m     67\u001b[0m     \u001b[39mself\u001b[39m\u001b[39m.\u001b[39mui\u001b[39m.\u001b[39mIU_graph\u001b[39m.\u001b[39mplot(\u001b[39mself\u001b[39m\u001b[39m.\u001b[39mzc\u001b[39m.\u001b[39mU_gem, \u001b[39mself\u001b[39m\u001b[39m.\u001b[39mzc\u001b[39m.\u001b[39mI_gem, symbol\u001b[39m=\u001b[39m\u001b[39m\"\u001b[39m\u001b[39mo\u001b[39m\u001b[39m\"\u001b[39m, symbolSize\u001b[39m=\u001b[39m\u001b[39m5\u001b[39m, pen\u001b[39m=\u001b[39m\u001b[39mNone\u001b[39;00m)\n\u001b[0;32m     68\u001b[0m     error_bars \u001b[39m=\u001b[39m pg\u001b[39m.\u001b[39mErrorBarItem(x\u001b[39m=\u001b[39mnp\u001b[39m.\u001b[39marray(\u001b[39mself\u001b[39m\u001b[39m.\u001b[39mzc\u001b[39m.\u001b[39mU_gem), y\u001b[39m=\u001b[39mnp\u001b[39m.\u001b[39marray(\u001b[39mself\u001b[39m\u001b[39m.\u001b[39mzc\u001b[39m.\u001b[39mI_gem), height \u001b[39m=\u001b[39m np\u001b[39m.\u001b[39marray(\u001b[39mself\u001b[39m\u001b[39m.\u001b[39mzc\u001b[39m.\u001b[39mI_error))\n",
      "\u001b[1;31mAttributeError\u001b[0m: 'Ui_MainWindow' object has no attribute 'PlotWidget'"
     ]
    },
    {
     "ename": "AttributeError",
     "evalue": "'Ui_MainWindow' object has no attribute 'PlotWidget'",
     "output_type": "error",
     "traceback": [
      "\u001b[1;31m---------------------------------------------------------------------------\u001b[0m",
      "\u001b[1;31mAttributeError\u001b[0m                            Traceback (most recent call last)",
      "Cell \u001b[1;32mIn[1], line 66\u001b[0m, in \u001b[0;36mUserInterface.graph\u001b[1;34m(self)\u001b[0m\n\u001b[0;32m     64\u001b[0m \u001b[39m@Slot\u001b[39m()\n\u001b[0;32m     65\u001b[0m \u001b[39mdef\u001b[39;00m \u001b[39mgraph\u001b[39m(\u001b[39mself\u001b[39m):\n\u001b[1;32m---> 66\u001b[0m     \u001b[39mself\u001b[39;49m\u001b[39m.\u001b[39;49mui\u001b[39m.\u001b[39;49mPlotWidget\u001b[39m.\u001b[39mclear()\n\u001b[0;32m     67\u001b[0m     \u001b[39mself\u001b[39m\u001b[39m.\u001b[39mui\u001b[39m.\u001b[39mIU_graph\u001b[39m.\u001b[39mplot(\u001b[39mself\u001b[39m\u001b[39m.\u001b[39mzc\u001b[39m.\u001b[39mU_gem, \u001b[39mself\u001b[39m\u001b[39m.\u001b[39mzc\u001b[39m.\u001b[39mI_gem, symbol\u001b[39m=\u001b[39m\u001b[39m\"\u001b[39m\u001b[39mo\u001b[39m\u001b[39m\"\u001b[39m, symbolSize\u001b[39m=\u001b[39m\u001b[39m5\u001b[39m, pen\u001b[39m=\u001b[39m\u001b[39mNone\u001b[39;00m)\n\u001b[0;32m     68\u001b[0m     error_bars \u001b[39m=\u001b[39m pg\u001b[39m.\u001b[39mErrorBarItem(x\u001b[39m=\u001b[39mnp\u001b[39m.\u001b[39marray(\u001b[39mself\u001b[39m\u001b[39m.\u001b[39mzc\u001b[39m.\u001b[39mU_gem), y\u001b[39m=\u001b[39mnp\u001b[39m.\u001b[39marray(\u001b[39mself\u001b[39m\u001b[39m.\u001b[39mzc\u001b[39m.\u001b[39mI_gem), height \u001b[39m=\u001b[39m np\u001b[39m.\u001b[39marray(\u001b[39mself\u001b[39m\u001b[39m.\u001b[39mzc\u001b[39m.\u001b[39mI_error))\n",
      "\u001b[1;31mAttributeError\u001b[0m: 'Ui_MainWindow' object has no attribute 'PlotWidget'"
     ]
    },
    {
     "ename": "AttributeError",
     "evalue": "'Ui_MainWindow' object has no attribute 'PlotWidget'",
     "output_type": "error",
     "traceback": [
      "\u001b[1;31m---------------------------------------------------------------------------\u001b[0m",
      "\u001b[1;31mAttributeError\u001b[0m                            Traceback (most recent call last)",
      "Cell \u001b[1;32mIn[1], line 66\u001b[0m, in \u001b[0;36mUserInterface.graph\u001b[1;34m(self)\u001b[0m\n\u001b[0;32m     64\u001b[0m \u001b[39m@Slot\u001b[39m()\n\u001b[0;32m     65\u001b[0m \u001b[39mdef\u001b[39;00m \u001b[39mgraph\u001b[39m(\u001b[39mself\u001b[39m):\n\u001b[1;32m---> 66\u001b[0m     \u001b[39mself\u001b[39;49m\u001b[39m.\u001b[39;49mui\u001b[39m.\u001b[39;49mPlotWidget\u001b[39m.\u001b[39mclear()\n\u001b[0;32m     67\u001b[0m     \u001b[39mself\u001b[39m\u001b[39m.\u001b[39mui\u001b[39m.\u001b[39mIU_graph\u001b[39m.\u001b[39mplot(\u001b[39mself\u001b[39m\u001b[39m.\u001b[39mzc\u001b[39m.\u001b[39mU_gem, \u001b[39mself\u001b[39m\u001b[39m.\u001b[39mzc\u001b[39m.\u001b[39mI_gem, symbol\u001b[39m=\u001b[39m\u001b[39m\"\u001b[39m\u001b[39mo\u001b[39m\u001b[39m\"\u001b[39m, symbolSize\u001b[39m=\u001b[39m\u001b[39m5\u001b[39m, pen\u001b[39m=\u001b[39m\u001b[39mNone\u001b[39;00m)\n\u001b[0;32m     68\u001b[0m     error_bars \u001b[39m=\u001b[39m pg\u001b[39m.\u001b[39mErrorBarItem(x\u001b[39m=\u001b[39mnp\u001b[39m.\u001b[39marray(\u001b[39mself\u001b[39m\u001b[39m.\u001b[39mzc\u001b[39m.\u001b[39mU_gem), y\u001b[39m=\u001b[39mnp\u001b[39m.\u001b[39marray(\u001b[39mself\u001b[39m\u001b[39m.\u001b[39mzc\u001b[39m.\u001b[39mI_gem), height \u001b[39m=\u001b[39m np\u001b[39m.\u001b[39marray(\u001b[39mself\u001b[39m\u001b[39m.\u001b[39mzc\u001b[39m.\u001b[39mI_error))\n",
      "\u001b[1;31mAttributeError\u001b[0m: 'Ui_MainWindow' object has no attribute 'PlotWidget'"
     ]
    },
    {
     "ename": "AttributeError",
     "evalue": "'Ui_MainWindow' object has no attribute 'PlotWidget'",
     "output_type": "error",
     "traceback": [
      "\u001b[1;31m---------------------------------------------------------------------------\u001b[0m",
      "\u001b[1;31mAttributeError\u001b[0m                            Traceback (most recent call last)",
      "Cell \u001b[1;32mIn[1], line 66\u001b[0m, in \u001b[0;36mUserInterface.graph\u001b[1;34m(self)\u001b[0m\n\u001b[0;32m     64\u001b[0m \u001b[39m@Slot\u001b[39m()\n\u001b[0;32m     65\u001b[0m \u001b[39mdef\u001b[39;00m \u001b[39mgraph\u001b[39m(\u001b[39mself\u001b[39m):\n\u001b[1;32m---> 66\u001b[0m     \u001b[39mself\u001b[39;49m\u001b[39m.\u001b[39;49mui\u001b[39m.\u001b[39;49mPlotWidget\u001b[39m.\u001b[39mclear()\n\u001b[0;32m     67\u001b[0m     \u001b[39mself\u001b[39m\u001b[39m.\u001b[39mui\u001b[39m.\u001b[39mIU_graph\u001b[39m.\u001b[39mplot(\u001b[39mself\u001b[39m\u001b[39m.\u001b[39mzc\u001b[39m.\u001b[39mU_gem, \u001b[39mself\u001b[39m\u001b[39m.\u001b[39mzc\u001b[39m.\u001b[39mI_gem, symbol\u001b[39m=\u001b[39m\u001b[39m\"\u001b[39m\u001b[39mo\u001b[39m\u001b[39m\"\u001b[39m, symbolSize\u001b[39m=\u001b[39m\u001b[39m5\u001b[39m, pen\u001b[39m=\u001b[39m\u001b[39mNone\u001b[39;00m)\n\u001b[0;32m     68\u001b[0m     error_bars \u001b[39m=\u001b[39m pg\u001b[39m.\u001b[39mErrorBarItem(x\u001b[39m=\u001b[39mnp\u001b[39m.\u001b[39marray(\u001b[39mself\u001b[39m\u001b[39m.\u001b[39mzc\u001b[39m.\u001b[39mU_gem), y\u001b[39m=\u001b[39mnp\u001b[39m.\u001b[39marray(\u001b[39mself\u001b[39m\u001b[39m.\u001b[39mzc\u001b[39m.\u001b[39mI_gem), height \u001b[39m=\u001b[39m np\u001b[39m.\u001b[39marray(\u001b[39mself\u001b[39m\u001b[39m.\u001b[39mzc\u001b[39m.\u001b[39mI_error))\n",
      "\u001b[1;31mAttributeError\u001b[0m: 'Ui_MainWindow' object has no attribute 'PlotWidget'"
     ]
    },
    {
     "ename": "AttributeError",
     "evalue": "'Ui_MainWindow' object has no attribute 'PlotWidget'",
     "output_type": "error",
     "traceback": [
      "\u001b[1;31m---------------------------------------------------------------------------\u001b[0m",
      "\u001b[1;31mAttributeError\u001b[0m                            Traceback (most recent call last)",
      "Cell \u001b[1;32mIn[1], line 66\u001b[0m, in \u001b[0;36mUserInterface.graph\u001b[1;34m(self)\u001b[0m\n\u001b[0;32m     64\u001b[0m \u001b[39m@Slot\u001b[39m()\n\u001b[0;32m     65\u001b[0m \u001b[39mdef\u001b[39;00m \u001b[39mgraph\u001b[39m(\u001b[39mself\u001b[39m):\n\u001b[1;32m---> 66\u001b[0m     \u001b[39mself\u001b[39;49m\u001b[39m.\u001b[39;49mui\u001b[39m.\u001b[39;49mPlotWidget\u001b[39m.\u001b[39mclear()\n\u001b[0;32m     67\u001b[0m     \u001b[39mself\u001b[39m\u001b[39m.\u001b[39mui\u001b[39m.\u001b[39mIU_graph\u001b[39m.\u001b[39mplot(\u001b[39mself\u001b[39m\u001b[39m.\u001b[39mzc\u001b[39m.\u001b[39mU_gem, \u001b[39mself\u001b[39m\u001b[39m.\u001b[39mzc\u001b[39m.\u001b[39mI_gem, symbol\u001b[39m=\u001b[39m\u001b[39m\"\u001b[39m\u001b[39mo\u001b[39m\u001b[39m\"\u001b[39m, symbolSize\u001b[39m=\u001b[39m\u001b[39m5\u001b[39m, pen\u001b[39m=\u001b[39m\u001b[39mNone\u001b[39;00m)\n\u001b[0;32m     68\u001b[0m     error_bars \u001b[39m=\u001b[39m pg\u001b[39m.\u001b[39mErrorBarItem(x\u001b[39m=\u001b[39mnp\u001b[39m.\u001b[39marray(\u001b[39mself\u001b[39m\u001b[39m.\u001b[39mzc\u001b[39m.\u001b[39mU_gem), y\u001b[39m=\u001b[39mnp\u001b[39m.\u001b[39marray(\u001b[39mself\u001b[39m\u001b[39m.\u001b[39mzc\u001b[39m.\u001b[39mI_gem), height \u001b[39m=\u001b[39m np\u001b[39m.\u001b[39marray(\u001b[39mself\u001b[39m\u001b[39m.\u001b[39mzc\u001b[39m.\u001b[39mI_error))\n",
      "\u001b[1;31mAttributeError\u001b[0m: 'Ui_MainWindow' object has no attribute 'PlotWidget'"
     ]
    },
    {
     "ename": "AttributeError",
     "evalue": "'Ui_MainWindow' object has no attribute 'PlotWidget'",
     "output_type": "error",
     "traceback": [
      "\u001b[1;31m---------------------------------------------------------------------------\u001b[0m",
      "\u001b[1;31mAttributeError\u001b[0m                            Traceback (most recent call last)",
      "Cell \u001b[1;32mIn[1], line 66\u001b[0m, in \u001b[0;36mUserInterface.graph\u001b[1;34m(self)\u001b[0m\n\u001b[0;32m     64\u001b[0m \u001b[39m@Slot\u001b[39m()\n\u001b[0;32m     65\u001b[0m \u001b[39mdef\u001b[39;00m \u001b[39mgraph\u001b[39m(\u001b[39mself\u001b[39m):\n\u001b[1;32m---> 66\u001b[0m     \u001b[39mself\u001b[39;49m\u001b[39m.\u001b[39;49mui\u001b[39m.\u001b[39;49mPlotWidget\u001b[39m.\u001b[39mclear()\n\u001b[0;32m     67\u001b[0m     \u001b[39mself\u001b[39m\u001b[39m.\u001b[39mui\u001b[39m.\u001b[39mIU_graph\u001b[39m.\u001b[39mplot(\u001b[39mself\u001b[39m\u001b[39m.\u001b[39mzc\u001b[39m.\u001b[39mU_gem, \u001b[39mself\u001b[39m\u001b[39m.\u001b[39mzc\u001b[39m.\u001b[39mI_gem, symbol\u001b[39m=\u001b[39m\u001b[39m\"\u001b[39m\u001b[39mo\u001b[39m\u001b[39m\"\u001b[39m, symbolSize\u001b[39m=\u001b[39m\u001b[39m5\u001b[39m, pen\u001b[39m=\u001b[39m\u001b[39mNone\u001b[39;00m)\n\u001b[0;32m     68\u001b[0m     error_bars \u001b[39m=\u001b[39m pg\u001b[39m.\u001b[39mErrorBarItem(x\u001b[39m=\u001b[39mnp\u001b[39m.\u001b[39marray(\u001b[39mself\u001b[39m\u001b[39m.\u001b[39mzc\u001b[39m.\u001b[39mU_gem), y\u001b[39m=\u001b[39mnp\u001b[39m.\u001b[39marray(\u001b[39mself\u001b[39m\u001b[39m.\u001b[39mzc\u001b[39m.\u001b[39mI_gem), height \u001b[39m=\u001b[39m np\u001b[39m.\u001b[39marray(\u001b[39mself\u001b[39m\u001b[39m.\u001b[39mzc\u001b[39m.\u001b[39mI_error))\n",
      "\u001b[1;31mAttributeError\u001b[0m: 'Ui_MainWindow' object has no attribute 'PlotWidget'"
     ]
    },
    {
     "ename": "AttributeError",
     "evalue": "'Ui_MainWindow' object has no attribute 'PlotWidget'",
     "output_type": "error",
     "traceback": [
      "\u001b[1;31m---------------------------------------------------------------------------\u001b[0m",
      "\u001b[1;31mAttributeError\u001b[0m                            Traceback (most recent call last)",
      "Cell \u001b[1;32mIn[1], line 66\u001b[0m, in \u001b[0;36mUserInterface.graph\u001b[1;34m(self)\u001b[0m\n\u001b[0;32m     64\u001b[0m \u001b[39m@Slot\u001b[39m()\n\u001b[0;32m     65\u001b[0m \u001b[39mdef\u001b[39;00m \u001b[39mgraph\u001b[39m(\u001b[39mself\u001b[39m):\n\u001b[1;32m---> 66\u001b[0m     \u001b[39mself\u001b[39;49m\u001b[39m.\u001b[39;49mui\u001b[39m.\u001b[39;49mPlotWidget\u001b[39m.\u001b[39mclear()\n\u001b[0;32m     67\u001b[0m     \u001b[39mself\u001b[39m\u001b[39m.\u001b[39mui\u001b[39m.\u001b[39mIU_graph\u001b[39m.\u001b[39mplot(\u001b[39mself\u001b[39m\u001b[39m.\u001b[39mzc\u001b[39m.\u001b[39mU_gem, \u001b[39mself\u001b[39m\u001b[39m.\u001b[39mzc\u001b[39m.\u001b[39mI_gem, symbol\u001b[39m=\u001b[39m\u001b[39m\"\u001b[39m\u001b[39mo\u001b[39m\u001b[39m\"\u001b[39m, symbolSize\u001b[39m=\u001b[39m\u001b[39m5\u001b[39m, pen\u001b[39m=\u001b[39m\u001b[39mNone\u001b[39;00m)\n\u001b[0;32m     68\u001b[0m     error_bars \u001b[39m=\u001b[39m pg\u001b[39m.\u001b[39mErrorBarItem(x\u001b[39m=\u001b[39mnp\u001b[39m.\u001b[39marray(\u001b[39mself\u001b[39m\u001b[39m.\u001b[39mzc\u001b[39m.\u001b[39mU_gem), y\u001b[39m=\u001b[39mnp\u001b[39m.\u001b[39marray(\u001b[39mself\u001b[39m\u001b[39m.\u001b[39mzc\u001b[39m.\u001b[39mI_gem), height \u001b[39m=\u001b[39m np\u001b[39m.\u001b[39marray(\u001b[39mself\u001b[39m\u001b[39m.\u001b[39mzc\u001b[39m.\u001b[39mI_error))\n",
      "\u001b[1;31mAttributeError\u001b[0m: 'Ui_MainWindow' object has no attribute 'PlotWidget'"
     ]
    },
    {
     "ename": "AttributeError",
     "evalue": "'Ui_MainWindow' object has no attribute 'PlotWidget'",
     "output_type": "error",
     "traceback": [
      "\u001b[1;31m---------------------------------------------------------------------------\u001b[0m",
      "\u001b[1;31mAttributeError\u001b[0m                            Traceback (most recent call last)",
      "Cell \u001b[1;32mIn[1], line 66\u001b[0m, in \u001b[0;36mUserInterface.graph\u001b[1;34m(self)\u001b[0m\n\u001b[0;32m     64\u001b[0m \u001b[39m@Slot\u001b[39m()\n\u001b[0;32m     65\u001b[0m \u001b[39mdef\u001b[39;00m \u001b[39mgraph\u001b[39m(\u001b[39mself\u001b[39m):\n\u001b[1;32m---> 66\u001b[0m     \u001b[39mself\u001b[39;49m\u001b[39m.\u001b[39;49mui\u001b[39m.\u001b[39;49mPlotWidget\u001b[39m.\u001b[39mclear()\n\u001b[0;32m     67\u001b[0m     \u001b[39mself\u001b[39m\u001b[39m.\u001b[39mui\u001b[39m.\u001b[39mIU_graph\u001b[39m.\u001b[39mplot(\u001b[39mself\u001b[39m\u001b[39m.\u001b[39mzc\u001b[39m.\u001b[39mU_gem, \u001b[39mself\u001b[39m\u001b[39m.\u001b[39mzc\u001b[39m.\u001b[39mI_gem, symbol\u001b[39m=\u001b[39m\u001b[39m\"\u001b[39m\u001b[39mo\u001b[39m\u001b[39m\"\u001b[39m, symbolSize\u001b[39m=\u001b[39m\u001b[39m5\u001b[39m, pen\u001b[39m=\u001b[39m\u001b[39mNone\u001b[39;00m)\n\u001b[0;32m     68\u001b[0m     error_bars \u001b[39m=\u001b[39m pg\u001b[39m.\u001b[39mErrorBarItem(x\u001b[39m=\u001b[39mnp\u001b[39m.\u001b[39marray(\u001b[39mself\u001b[39m\u001b[39m.\u001b[39mzc\u001b[39m.\u001b[39mU_gem), y\u001b[39m=\u001b[39mnp\u001b[39m.\u001b[39marray(\u001b[39mself\u001b[39m\u001b[39m.\u001b[39mzc\u001b[39m.\u001b[39mI_gem), height \u001b[39m=\u001b[39m np\u001b[39m.\u001b[39marray(\u001b[39mself\u001b[39m\u001b[39m.\u001b[39mzc\u001b[39m.\u001b[39mI_error))\n",
      "\u001b[1;31mAttributeError\u001b[0m: 'Ui_MainWindow' object has no attribute 'PlotWidget'"
     ]
    },
    {
     "ename": "AttributeError",
     "evalue": "'Ui_MainWindow' object has no attribute 'PlotWidget'",
     "output_type": "error",
     "traceback": [
      "\u001b[1;31m---------------------------------------------------------------------------\u001b[0m",
      "\u001b[1;31mAttributeError\u001b[0m                            Traceback (most recent call last)",
      "Cell \u001b[1;32mIn[1], line 66\u001b[0m, in \u001b[0;36mUserInterface.graph\u001b[1;34m(self)\u001b[0m\n\u001b[0;32m     64\u001b[0m \u001b[39m@Slot\u001b[39m()\n\u001b[0;32m     65\u001b[0m \u001b[39mdef\u001b[39;00m \u001b[39mgraph\u001b[39m(\u001b[39mself\u001b[39m):\n\u001b[1;32m---> 66\u001b[0m     \u001b[39mself\u001b[39;49m\u001b[39m.\u001b[39;49mui\u001b[39m.\u001b[39;49mPlotWidget\u001b[39m.\u001b[39mclear()\n\u001b[0;32m     67\u001b[0m     \u001b[39mself\u001b[39m\u001b[39m.\u001b[39mui\u001b[39m.\u001b[39mIU_graph\u001b[39m.\u001b[39mplot(\u001b[39mself\u001b[39m\u001b[39m.\u001b[39mzc\u001b[39m.\u001b[39mU_gem, \u001b[39mself\u001b[39m\u001b[39m.\u001b[39mzc\u001b[39m.\u001b[39mI_gem, symbol\u001b[39m=\u001b[39m\u001b[39m\"\u001b[39m\u001b[39mo\u001b[39m\u001b[39m\"\u001b[39m, symbolSize\u001b[39m=\u001b[39m\u001b[39m5\u001b[39m, pen\u001b[39m=\u001b[39m\u001b[39mNone\u001b[39;00m)\n\u001b[0;32m     68\u001b[0m     error_bars \u001b[39m=\u001b[39m pg\u001b[39m.\u001b[39mErrorBarItem(x\u001b[39m=\u001b[39mnp\u001b[39m.\u001b[39marray(\u001b[39mself\u001b[39m\u001b[39m.\u001b[39mzc\u001b[39m.\u001b[39mU_gem), y\u001b[39m=\u001b[39mnp\u001b[39m.\u001b[39marray(\u001b[39mself\u001b[39m\u001b[39m.\u001b[39mzc\u001b[39m.\u001b[39mI_gem), height \u001b[39m=\u001b[39m np\u001b[39m.\u001b[39marray(\u001b[39mself\u001b[39m\u001b[39m.\u001b[39mzc\u001b[39m.\u001b[39mI_error))\n",
      "\u001b[1;31mAttributeError\u001b[0m: 'Ui_MainWindow' object has no attribute 'PlotWidget'"
     ]
    },
    {
     "ename": "AttributeError",
     "evalue": "'Ui_MainWindow' object has no attribute 'PlotWidget'",
     "output_type": "error",
     "traceback": [
      "\u001b[1;31m---------------------------------------------------------------------------\u001b[0m",
      "\u001b[1;31mAttributeError\u001b[0m                            Traceback (most recent call last)",
      "Cell \u001b[1;32mIn[1], line 66\u001b[0m, in \u001b[0;36mUserInterface.graph\u001b[1;34m(self)\u001b[0m\n\u001b[0;32m     64\u001b[0m \u001b[39m@Slot\u001b[39m()\n\u001b[0;32m     65\u001b[0m \u001b[39mdef\u001b[39;00m \u001b[39mgraph\u001b[39m(\u001b[39mself\u001b[39m):\n\u001b[1;32m---> 66\u001b[0m     \u001b[39mself\u001b[39;49m\u001b[39m.\u001b[39;49mui\u001b[39m.\u001b[39;49mPlotWidget\u001b[39m.\u001b[39mclear()\n\u001b[0;32m     67\u001b[0m     \u001b[39mself\u001b[39m\u001b[39m.\u001b[39mui\u001b[39m.\u001b[39mIU_graph\u001b[39m.\u001b[39mplot(\u001b[39mself\u001b[39m\u001b[39m.\u001b[39mzc\u001b[39m.\u001b[39mU_gem, \u001b[39mself\u001b[39m\u001b[39m.\u001b[39mzc\u001b[39m.\u001b[39mI_gem, symbol\u001b[39m=\u001b[39m\u001b[39m\"\u001b[39m\u001b[39mo\u001b[39m\u001b[39m\"\u001b[39m, symbolSize\u001b[39m=\u001b[39m\u001b[39m5\u001b[39m, pen\u001b[39m=\u001b[39m\u001b[39mNone\u001b[39;00m)\n\u001b[0;32m     68\u001b[0m     error_bars \u001b[39m=\u001b[39m pg\u001b[39m.\u001b[39mErrorBarItem(x\u001b[39m=\u001b[39mnp\u001b[39m.\u001b[39marray(\u001b[39mself\u001b[39m\u001b[39m.\u001b[39mzc\u001b[39m.\u001b[39mU_gem), y\u001b[39m=\u001b[39mnp\u001b[39m.\u001b[39marray(\u001b[39mself\u001b[39m\u001b[39m.\u001b[39mzc\u001b[39m.\u001b[39mI_gem), height \u001b[39m=\u001b[39m np\u001b[39m.\u001b[39marray(\u001b[39mself\u001b[39m\u001b[39m.\u001b[39mzc\u001b[39m.\u001b[39mI_error))\n",
      "\u001b[1;31mAttributeError\u001b[0m: 'Ui_MainWindow' object has no attribute 'PlotWidget'"
     ]
    },
    {
     "ename": "AttributeError",
     "evalue": "'Ui_MainWindow' object has no attribute 'PlotWidget'",
     "output_type": "error",
     "traceback": [
      "\u001b[1;31m---------------------------------------------------------------------------\u001b[0m",
      "\u001b[1;31mAttributeError\u001b[0m                            Traceback (most recent call last)",
      "Cell \u001b[1;32mIn[1], line 66\u001b[0m, in \u001b[0;36mUserInterface.graph\u001b[1;34m(self)\u001b[0m\n\u001b[0;32m     64\u001b[0m \u001b[39m@Slot\u001b[39m()\n\u001b[0;32m     65\u001b[0m \u001b[39mdef\u001b[39;00m \u001b[39mgraph\u001b[39m(\u001b[39mself\u001b[39m):\n\u001b[1;32m---> 66\u001b[0m     \u001b[39mself\u001b[39;49m\u001b[39m.\u001b[39;49mui\u001b[39m.\u001b[39;49mPlotWidget\u001b[39m.\u001b[39mclear()\n\u001b[0;32m     67\u001b[0m     \u001b[39mself\u001b[39m\u001b[39m.\u001b[39mui\u001b[39m.\u001b[39mIU_graph\u001b[39m.\u001b[39mplot(\u001b[39mself\u001b[39m\u001b[39m.\u001b[39mzc\u001b[39m.\u001b[39mU_gem, \u001b[39mself\u001b[39m\u001b[39m.\u001b[39mzc\u001b[39m.\u001b[39mI_gem, symbol\u001b[39m=\u001b[39m\u001b[39m\"\u001b[39m\u001b[39mo\u001b[39m\u001b[39m\"\u001b[39m, symbolSize\u001b[39m=\u001b[39m\u001b[39m5\u001b[39m, pen\u001b[39m=\u001b[39m\u001b[39mNone\u001b[39;00m)\n\u001b[0;32m     68\u001b[0m     error_bars \u001b[39m=\u001b[39m pg\u001b[39m.\u001b[39mErrorBarItem(x\u001b[39m=\u001b[39mnp\u001b[39m.\u001b[39marray(\u001b[39mself\u001b[39m\u001b[39m.\u001b[39mzc\u001b[39m.\u001b[39mU_gem), y\u001b[39m=\u001b[39mnp\u001b[39m.\u001b[39marray(\u001b[39mself\u001b[39m\u001b[39m.\u001b[39mzc\u001b[39m.\u001b[39mI_gem), height \u001b[39m=\u001b[39m np\u001b[39m.\u001b[39marray(\u001b[39mself\u001b[39m\u001b[39m.\u001b[39mzc\u001b[39m.\u001b[39mI_error))\n",
      "\u001b[1;31mAttributeError\u001b[0m: 'Ui_MainWindow' object has no attribute 'PlotWidget'"
     ]
    },
    {
     "ename": "AttributeError",
     "evalue": "'Ui_MainWindow' object has no attribute 'PlotWidget'",
     "output_type": "error",
     "traceback": [
      "\u001b[1;31m---------------------------------------------------------------------------\u001b[0m",
      "\u001b[1;31mAttributeError\u001b[0m                            Traceback (most recent call last)",
      "Cell \u001b[1;32mIn[1], line 66\u001b[0m, in \u001b[0;36mUserInterface.graph\u001b[1;34m(self)\u001b[0m\n\u001b[0;32m     64\u001b[0m \u001b[39m@Slot\u001b[39m()\n\u001b[0;32m     65\u001b[0m \u001b[39mdef\u001b[39;00m \u001b[39mgraph\u001b[39m(\u001b[39mself\u001b[39m):\n\u001b[1;32m---> 66\u001b[0m     \u001b[39mself\u001b[39;49m\u001b[39m.\u001b[39;49mui\u001b[39m.\u001b[39;49mPlotWidget\u001b[39m.\u001b[39mclear()\n\u001b[0;32m     67\u001b[0m     \u001b[39mself\u001b[39m\u001b[39m.\u001b[39mui\u001b[39m.\u001b[39mIU_graph\u001b[39m.\u001b[39mplot(\u001b[39mself\u001b[39m\u001b[39m.\u001b[39mzc\u001b[39m.\u001b[39mU_gem, \u001b[39mself\u001b[39m\u001b[39m.\u001b[39mzc\u001b[39m.\u001b[39mI_gem, symbol\u001b[39m=\u001b[39m\u001b[39m\"\u001b[39m\u001b[39mo\u001b[39m\u001b[39m\"\u001b[39m, symbolSize\u001b[39m=\u001b[39m\u001b[39m5\u001b[39m, pen\u001b[39m=\u001b[39m\u001b[39mNone\u001b[39;00m)\n\u001b[0;32m     68\u001b[0m     error_bars \u001b[39m=\u001b[39m pg\u001b[39m.\u001b[39mErrorBarItem(x\u001b[39m=\u001b[39mnp\u001b[39m.\u001b[39marray(\u001b[39mself\u001b[39m\u001b[39m.\u001b[39mzc\u001b[39m.\u001b[39mU_gem), y\u001b[39m=\u001b[39mnp\u001b[39m.\u001b[39marray(\u001b[39mself\u001b[39m\u001b[39m.\u001b[39mzc\u001b[39m.\u001b[39mI_gem), height \u001b[39m=\u001b[39m np\u001b[39m.\u001b[39marray(\u001b[39mself\u001b[39m\u001b[39m.\u001b[39mzc\u001b[39m.\u001b[39mI_error))\n",
      "\u001b[1;31mAttributeError\u001b[0m: 'Ui_MainWindow' object has no attribute 'PlotWidget'"
     ]
    },
    {
     "ename": "AttributeError",
     "evalue": "'Ui_MainWindow' object has no attribute 'PlotWidget'",
     "output_type": "error",
     "traceback": [
      "\u001b[1;31m---------------------------------------------------------------------------\u001b[0m",
      "\u001b[1;31mAttributeError\u001b[0m                            Traceback (most recent call last)",
      "Cell \u001b[1;32mIn[1], line 66\u001b[0m, in \u001b[0;36mUserInterface.graph\u001b[1;34m(self)\u001b[0m\n\u001b[0;32m     64\u001b[0m \u001b[39m@Slot\u001b[39m()\n\u001b[0;32m     65\u001b[0m \u001b[39mdef\u001b[39;00m \u001b[39mgraph\u001b[39m(\u001b[39mself\u001b[39m):\n\u001b[1;32m---> 66\u001b[0m     \u001b[39mself\u001b[39;49m\u001b[39m.\u001b[39;49mui\u001b[39m.\u001b[39;49mPlotWidget\u001b[39m.\u001b[39mclear()\n\u001b[0;32m     67\u001b[0m     \u001b[39mself\u001b[39m\u001b[39m.\u001b[39mui\u001b[39m.\u001b[39mIU_graph\u001b[39m.\u001b[39mplot(\u001b[39mself\u001b[39m\u001b[39m.\u001b[39mzc\u001b[39m.\u001b[39mU_gem, \u001b[39mself\u001b[39m\u001b[39m.\u001b[39mzc\u001b[39m.\u001b[39mI_gem, symbol\u001b[39m=\u001b[39m\u001b[39m\"\u001b[39m\u001b[39mo\u001b[39m\u001b[39m\"\u001b[39m, symbolSize\u001b[39m=\u001b[39m\u001b[39m5\u001b[39m, pen\u001b[39m=\u001b[39m\u001b[39mNone\u001b[39;00m)\n\u001b[0;32m     68\u001b[0m     error_bars \u001b[39m=\u001b[39m pg\u001b[39m.\u001b[39mErrorBarItem(x\u001b[39m=\u001b[39mnp\u001b[39m.\u001b[39marray(\u001b[39mself\u001b[39m\u001b[39m.\u001b[39mzc\u001b[39m.\u001b[39mU_gem), y\u001b[39m=\u001b[39mnp\u001b[39m.\u001b[39marray(\u001b[39mself\u001b[39m\u001b[39m.\u001b[39mzc\u001b[39m.\u001b[39mI_gem), height \u001b[39m=\u001b[39m np\u001b[39m.\u001b[39marray(\u001b[39mself\u001b[39m\u001b[39m.\u001b[39mzc\u001b[39m.\u001b[39mI_error))\n",
      "\u001b[1;31mAttributeError\u001b[0m: 'Ui_MainWindow' object has no attribute 'PlotWidget'"
     ]
    },
    {
     "ename": "AttributeError",
     "evalue": "'Ui_MainWindow' object has no attribute 'PlotWidget'",
     "output_type": "error",
     "traceback": [
      "\u001b[1;31m---------------------------------------------------------------------------\u001b[0m",
      "\u001b[1;31mAttributeError\u001b[0m                            Traceback (most recent call last)",
      "Cell \u001b[1;32mIn[1], line 66\u001b[0m, in \u001b[0;36mUserInterface.graph\u001b[1;34m(self)\u001b[0m\n\u001b[0;32m     64\u001b[0m \u001b[39m@Slot\u001b[39m()\n\u001b[0;32m     65\u001b[0m \u001b[39mdef\u001b[39;00m \u001b[39mgraph\u001b[39m(\u001b[39mself\u001b[39m):\n\u001b[1;32m---> 66\u001b[0m     \u001b[39mself\u001b[39;49m\u001b[39m.\u001b[39;49mui\u001b[39m.\u001b[39;49mPlotWidget\u001b[39m.\u001b[39mclear()\n\u001b[0;32m     67\u001b[0m     \u001b[39mself\u001b[39m\u001b[39m.\u001b[39mui\u001b[39m.\u001b[39mIU_graph\u001b[39m.\u001b[39mplot(\u001b[39mself\u001b[39m\u001b[39m.\u001b[39mzc\u001b[39m.\u001b[39mU_gem, \u001b[39mself\u001b[39m\u001b[39m.\u001b[39mzc\u001b[39m.\u001b[39mI_gem, symbol\u001b[39m=\u001b[39m\u001b[39m\"\u001b[39m\u001b[39mo\u001b[39m\u001b[39m\"\u001b[39m, symbolSize\u001b[39m=\u001b[39m\u001b[39m5\u001b[39m, pen\u001b[39m=\u001b[39m\u001b[39mNone\u001b[39;00m)\n\u001b[0;32m     68\u001b[0m     error_bars \u001b[39m=\u001b[39m pg\u001b[39m.\u001b[39mErrorBarItem(x\u001b[39m=\u001b[39mnp\u001b[39m.\u001b[39marray(\u001b[39mself\u001b[39m\u001b[39m.\u001b[39mzc\u001b[39m.\u001b[39mU_gem), y\u001b[39m=\u001b[39mnp\u001b[39m.\u001b[39marray(\u001b[39mself\u001b[39m\u001b[39m.\u001b[39mzc\u001b[39m.\u001b[39mI_gem), height \u001b[39m=\u001b[39m np\u001b[39m.\u001b[39marray(\u001b[39mself\u001b[39m\u001b[39m.\u001b[39mzc\u001b[39m.\u001b[39mI_error))\n",
      "\u001b[1;31mAttributeError\u001b[0m: 'Ui_MainWindow' object has no attribute 'PlotWidget'"
     ]
    },
    {
     "ename": "AttributeError",
     "evalue": "'Ui_MainWindow' object has no attribute 'PlotWidget'",
     "output_type": "error",
     "traceback": [
      "\u001b[1;31m---------------------------------------------------------------------------\u001b[0m",
      "\u001b[1;31mAttributeError\u001b[0m                            Traceback (most recent call last)",
      "Cell \u001b[1;32mIn[1], line 66\u001b[0m, in \u001b[0;36mUserInterface.graph\u001b[1;34m(self)\u001b[0m\n\u001b[0;32m     64\u001b[0m \u001b[39m@Slot\u001b[39m()\n\u001b[0;32m     65\u001b[0m \u001b[39mdef\u001b[39;00m \u001b[39mgraph\u001b[39m(\u001b[39mself\u001b[39m):\n\u001b[1;32m---> 66\u001b[0m     \u001b[39mself\u001b[39;49m\u001b[39m.\u001b[39;49mui\u001b[39m.\u001b[39;49mPlotWidget\u001b[39m.\u001b[39mclear()\n\u001b[0;32m     67\u001b[0m     \u001b[39mself\u001b[39m\u001b[39m.\u001b[39mui\u001b[39m.\u001b[39mIU_graph\u001b[39m.\u001b[39mplot(\u001b[39mself\u001b[39m\u001b[39m.\u001b[39mzc\u001b[39m.\u001b[39mU_gem, \u001b[39mself\u001b[39m\u001b[39m.\u001b[39mzc\u001b[39m.\u001b[39mI_gem, symbol\u001b[39m=\u001b[39m\u001b[39m\"\u001b[39m\u001b[39mo\u001b[39m\u001b[39m\"\u001b[39m, symbolSize\u001b[39m=\u001b[39m\u001b[39m5\u001b[39m, pen\u001b[39m=\u001b[39m\u001b[39mNone\u001b[39;00m)\n\u001b[0;32m     68\u001b[0m     error_bars \u001b[39m=\u001b[39m pg\u001b[39m.\u001b[39mErrorBarItem(x\u001b[39m=\u001b[39mnp\u001b[39m.\u001b[39marray(\u001b[39mself\u001b[39m\u001b[39m.\u001b[39mzc\u001b[39m.\u001b[39mU_gem), y\u001b[39m=\u001b[39mnp\u001b[39m.\u001b[39marray(\u001b[39mself\u001b[39m\u001b[39m.\u001b[39mzc\u001b[39m.\u001b[39mI_gem), height \u001b[39m=\u001b[39m np\u001b[39m.\u001b[39marray(\u001b[39mself\u001b[39m\u001b[39m.\u001b[39mzc\u001b[39m.\u001b[39mI_error))\n",
      "\u001b[1;31mAttributeError\u001b[0m: 'Ui_MainWindow' object has no attribute 'PlotWidget'"
     ]
    },
    {
     "ename": "AttributeError",
     "evalue": "'Ui_MainWindow' object has no attribute 'PlotWidget'",
     "output_type": "error",
     "traceback": [
      "\u001b[1;31m---------------------------------------------------------------------------\u001b[0m",
      "\u001b[1;31mAttributeError\u001b[0m                            Traceback (most recent call last)",
      "Cell \u001b[1;32mIn[1], line 66\u001b[0m, in \u001b[0;36mUserInterface.graph\u001b[1;34m(self)\u001b[0m\n\u001b[0;32m     64\u001b[0m \u001b[39m@Slot\u001b[39m()\n\u001b[0;32m     65\u001b[0m \u001b[39mdef\u001b[39;00m \u001b[39mgraph\u001b[39m(\u001b[39mself\u001b[39m):\n\u001b[1;32m---> 66\u001b[0m     \u001b[39mself\u001b[39;49m\u001b[39m.\u001b[39;49mui\u001b[39m.\u001b[39;49mPlotWidget\u001b[39m.\u001b[39mclear()\n\u001b[0;32m     67\u001b[0m     \u001b[39mself\u001b[39m\u001b[39m.\u001b[39mui\u001b[39m.\u001b[39mIU_graph\u001b[39m.\u001b[39mplot(\u001b[39mself\u001b[39m\u001b[39m.\u001b[39mzc\u001b[39m.\u001b[39mU_gem, \u001b[39mself\u001b[39m\u001b[39m.\u001b[39mzc\u001b[39m.\u001b[39mI_gem, symbol\u001b[39m=\u001b[39m\u001b[39m\"\u001b[39m\u001b[39mo\u001b[39m\u001b[39m\"\u001b[39m, symbolSize\u001b[39m=\u001b[39m\u001b[39m5\u001b[39m, pen\u001b[39m=\u001b[39m\u001b[39mNone\u001b[39;00m)\n\u001b[0;32m     68\u001b[0m     error_bars \u001b[39m=\u001b[39m pg\u001b[39m.\u001b[39mErrorBarItem(x\u001b[39m=\u001b[39mnp\u001b[39m.\u001b[39marray(\u001b[39mself\u001b[39m\u001b[39m.\u001b[39mzc\u001b[39m.\u001b[39mU_gem), y\u001b[39m=\u001b[39mnp\u001b[39m.\u001b[39marray(\u001b[39mself\u001b[39m\u001b[39m.\u001b[39mzc\u001b[39m.\u001b[39mI_gem), height \u001b[39m=\u001b[39m np\u001b[39m.\u001b[39marray(\u001b[39mself\u001b[39m\u001b[39m.\u001b[39mzc\u001b[39m.\u001b[39mI_error))\n",
      "\u001b[1;31mAttributeError\u001b[0m: 'Ui_MainWindow' object has no attribute 'PlotWidget'"
     ]
    },
    {
     "ename": "AttributeError",
     "evalue": "'Ui_MainWindow' object has no attribute 'PlotWidget'",
     "output_type": "error",
     "traceback": [
      "\u001b[1;31m---------------------------------------------------------------------------\u001b[0m",
      "\u001b[1;31mAttributeError\u001b[0m                            Traceback (most recent call last)",
      "Cell \u001b[1;32mIn[1], line 66\u001b[0m, in \u001b[0;36mUserInterface.graph\u001b[1;34m(self)\u001b[0m\n\u001b[0;32m     64\u001b[0m \u001b[39m@Slot\u001b[39m()\n\u001b[0;32m     65\u001b[0m \u001b[39mdef\u001b[39;00m \u001b[39mgraph\u001b[39m(\u001b[39mself\u001b[39m):\n\u001b[1;32m---> 66\u001b[0m     \u001b[39mself\u001b[39;49m\u001b[39m.\u001b[39;49mui\u001b[39m.\u001b[39;49mPlotWidget\u001b[39m.\u001b[39mclear()\n\u001b[0;32m     67\u001b[0m     \u001b[39mself\u001b[39m\u001b[39m.\u001b[39mui\u001b[39m.\u001b[39mIU_graph\u001b[39m.\u001b[39mplot(\u001b[39mself\u001b[39m\u001b[39m.\u001b[39mzc\u001b[39m.\u001b[39mU_gem, \u001b[39mself\u001b[39m\u001b[39m.\u001b[39mzc\u001b[39m.\u001b[39mI_gem, symbol\u001b[39m=\u001b[39m\u001b[39m\"\u001b[39m\u001b[39mo\u001b[39m\u001b[39m\"\u001b[39m, symbolSize\u001b[39m=\u001b[39m\u001b[39m5\u001b[39m, pen\u001b[39m=\u001b[39m\u001b[39mNone\u001b[39;00m)\n\u001b[0;32m     68\u001b[0m     error_bars \u001b[39m=\u001b[39m pg\u001b[39m.\u001b[39mErrorBarItem(x\u001b[39m=\u001b[39mnp\u001b[39m.\u001b[39marray(\u001b[39mself\u001b[39m\u001b[39m.\u001b[39mzc\u001b[39m.\u001b[39mU_gem), y\u001b[39m=\u001b[39mnp\u001b[39m.\u001b[39marray(\u001b[39mself\u001b[39m\u001b[39m.\u001b[39mzc\u001b[39m.\u001b[39mI_gem), height \u001b[39m=\u001b[39m np\u001b[39m.\u001b[39marray(\u001b[39mself\u001b[39m\u001b[39m.\u001b[39mzc\u001b[39m.\u001b[39mI_error))\n",
      "\u001b[1;31mAttributeError\u001b[0m: 'Ui_MainWindow' object has no attribute 'PlotWidget'"
     ]
    },
    {
     "ename": "AttributeError",
     "evalue": "'Ui_MainWindow' object has no attribute 'PlotWidget'",
     "output_type": "error",
     "traceback": [
      "\u001b[1;31m---------------------------------------------------------------------------\u001b[0m",
      "\u001b[1;31mAttributeError\u001b[0m                            Traceback (most recent call last)",
      "Cell \u001b[1;32mIn[1], line 66\u001b[0m, in \u001b[0;36mUserInterface.graph\u001b[1;34m(self)\u001b[0m\n\u001b[0;32m     64\u001b[0m \u001b[39m@Slot\u001b[39m()\n\u001b[0;32m     65\u001b[0m \u001b[39mdef\u001b[39;00m \u001b[39mgraph\u001b[39m(\u001b[39mself\u001b[39m):\n\u001b[1;32m---> 66\u001b[0m     \u001b[39mself\u001b[39;49m\u001b[39m.\u001b[39;49mui\u001b[39m.\u001b[39;49mPlotWidget\u001b[39m.\u001b[39mclear()\n\u001b[0;32m     67\u001b[0m     \u001b[39mself\u001b[39m\u001b[39m.\u001b[39mui\u001b[39m.\u001b[39mIU_graph\u001b[39m.\u001b[39mplot(\u001b[39mself\u001b[39m\u001b[39m.\u001b[39mzc\u001b[39m.\u001b[39mU_gem, \u001b[39mself\u001b[39m\u001b[39m.\u001b[39mzc\u001b[39m.\u001b[39mI_gem, symbol\u001b[39m=\u001b[39m\u001b[39m\"\u001b[39m\u001b[39mo\u001b[39m\u001b[39m\"\u001b[39m, symbolSize\u001b[39m=\u001b[39m\u001b[39m5\u001b[39m, pen\u001b[39m=\u001b[39m\u001b[39mNone\u001b[39;00m)\n\u001b[0;32m     68\u001b[0m     error_bars \u001b[39m=\u001b[39m pg\u001b[39m.\u001b[39mErrorBarItem(x\u001b[39m=\u001b[39mnp\u001b[39m.\u001b[39marray(\u001b[39mself\u001b[39m\u001b[39m.\u001b[39mzc\u001b[39m.\u001b[39mU_gem), y\u001b[39m=\u001b[39mnp\u001b[39m.\u001b[39marray(\u001b[39mself\u001b[39m\u001b[39m.\u001b[39mzc\u001b[39m.\u001b[39mI_gem), height \u001b[39m=\u001b[39m np\u001b[39m.\u001b[39marray(\u001b[39mself\u001b[39m\u001b[39m.\u001b[39mzc\u001b[39m.\u001b[39mI_error))\n",
      "\u001b[1;31mAttributeError\u001b[0m: 'Ui_MainWindow' object has no attribute 'PlotWidget'"
     ]
    },
    {
     "ename": "AttributeError",
     "evalue": "'Ui_MainWindow' object has no attribute 'PlotWidget'",
     "output_type": "error",
     "traceback": [
      "\u001b[1;31m---------------------------------------------------------------------------\u001b[0m",
      "\u001b[1;31mAttributeError\u001b[0m                            Traceback (most recent call last)",
      "Cell \u001b[1;32mIn[1], line 66\u001b[0m, in \u001b[0;36mUserInterface.graph\u001b[1;34m(self)\u001b[0m\n\u001b[0;32m     64\u001b[0m \u001b[39m@Slot\u001b[39m()\n\u001b[0;32m     65\u001b[0m \u001b[39mdef\u001b[39;00m \u001b[39mgraph\u001b[39m(\u001b[39mself\u001b[39m):\n\u001b[1;32m---> 66\u001b[0m     \u001b[39mself\u001b[39;49m\u001b[39m.\u001b[39;49mui\u001b[39m.\u001b[39;49mPlotWidget\u001b[39m.\u001b[39mclear()\n\u001b[0;32m     67\u001b[0m     \u001b[39mself\u001b[39m\u001b[39m.\u001b[39mui\u001b[39m.\u001b[39mIU_graph\u001b[39m.\u001b[39mplot(\u001b[39mself\u001b[39m\u001b[39m.\u001b[39mzc\u001b[39m.\u001b[39mU_gem, \u001b[39mself\u001b[39m\u001b[39m.\u001b[39mzc\u001b[39m.\u001b[39mI_gem, symbol\u001b[39m=\u001b[39m\u001b[39m\"\u001b[39m\u001b[39mo\u001b[39m\u001b[39m\"\u001b[39m, symbolSize\u001b[39m=\u001b[39m\u001b[39m5\u001b[39m, pen\u001b[39m=\u001b[39m\u001b[39mNone\u001b[39;00m)\n\u001b[0;32m     68\u001b[0m     error_bars \u001b[39m=\u001b[39m pg\u001b[39m.\u001b[39mErrorBarItem(x\u001b[39m=\u001b[39mnp\u001b[39m.\u001b[39marray(\u001b[39mself\u001b[39m\u001b[39m.\u001b[39mzc\u001b[39m.\u001b[39mU_gem), y\u001b[39m=\u001b[39mnp\u001b[39m.\u001b[39marray(\u001b[39mself\u001b[39m\u001b[39m.\u001b[39mzc\u001b[39m.\u001b[39mI_gem), height \u001b[39m=\u001b[39m np\u001b[39m.\u001b[39marray(\u001b[39mself\u001b[39m\u001b[39m.\u001b[39mzc\u001b[39m.\u001b[39mI_error))\n",
      "\u001b[1;31mAttributeError\u001b[0m: 'Ui_MainWindow' object has no attribute 'PlotWidget'"
     ]
    },
    {
     "ename": "AttributeError",
     "evalue": "'Ui_MainWindow' object has no attribute 'PlotWidget'",
     "output_type": "error",
     "traceback": [
      "\u001b[1;31m---------------------------------------------------------------------------\u001b[0m",
      "\u001b[1;31mAttributeError\u001b[0m                            Traceback (most recent call last)",
      "Cell \u001b[1;32mIn[1], line 66\u001b[0m, in \u001b[0;36mUserInterface.graph\u001b[1;34m(self)\u001b[0m\n\u001b[0;32m     64\u001b[0m \u001b[39m@Slot\u001b[39m()\n\u001b[0;32m     65\u001b[0m \u001b[39mdef\u001b[39;00m \u001b[39mgraph\u001b[39m(\u001b[39mself\u001b[39m):\n\u001b[1;32m---> 66\u001b[0m     \u001b[39mself\u001b[39;49m\u001b[39m.\u001b[39;49mui\u001b[39m.\u001b[39;49mPlotWidget\u001b[39m.\u001b[39mclear()\n\u001b[0;32m     67\u001b[0m     \u001b[39mself\u001b[39m\u001b[39m.\u001b[39mui\u001b[39m.\u001b[39mIU_graph\u001b[39m.\u001b[39mplot(\u001b[39mself\u001b[39m\u001b[39m.\u001b[39mzc\u001b[39m.\u001b[39mU_gem, \u001b[39mself\u001b[39m\u001b[39m.\u001b[39mzc\u001b[39m.\u001b[39mI_gem, symbol\u001b[39m=\u001b[39m\u001b[39m\"\u001b[39m\u001b[39mo\u001b[39m\u001b[39m\"\u001b[39m, symbolSize\u001b[39m=\u001b[39m\u001b[39m5\u001b[39m, pen\u001b[39m=\u001b[39m\u001b[39mNone\u001b[39;00m)\n\u001b[0;32m     68\u001b[0m     error_bars \u001b[39m=\u001b[39m pg\u001b[39m.\u001b[39mErrorBarItem(x\u001b[39m=\u001b[39mnp\u001b[39m.\u001b[39marray(\u001b[39mself\u001b[39m\u001b[39m.\u001b[39mzc\u001b[39m.\u001b[39mU_gem), y\u001b[39m=\u001b[39mnp\u001b[39m.\u001b[39marray(\u001b[39mself\u001b[39m\u001b[39m.\u001b[39mzc\u001b[39m.\u001b[39mI_gem), height \u001b[39m=\u001b[39m np\u001b[39m.\u001b[39marray(\u001b[39mself\u001b[39m\u001b[39m.\u001b[39mzc\u001b[39m.\u001b[39mI_error))\n",
      "\u001b[1;31mAttributeError\u001b[0m: 'Ui_MainWindow' object has no attribute 'PlotWidget'"
     ]
    },
    {
     "ename": "AttributeError",
     "evalue": "'Ui_MainWindow' object has no attribute 'PlotWidget'",
     "output_type": "error",
     "traceback": [
      "\u001b[1;31m---------------------------------------------------------------------------\u001b[0m",
      "\u001b[1;31mAttributeError\u001b[0m                            Traceback (most recent call last)",
      "Cell \u001b[1;32mIn[1], line 66\u001b[0m, in \u001b[0;36mUserInterface.graph\u001b[1;34m(self)\u001b[0m\n\u001b[0;32m     64\u001b[0m \u001b[39m@Slot\u001b[39m()\n\u001b[0;32m     65\u001b[0m \u001b[39mdef\u001b[39;00m \u001b[39mgraph\u001b[39m(\u001b[39mself\u001b[39m):\n\u001b[1;32m---> 66\u001b[0m     \u001b[39mself\u001b[39;49m\u001b[39m.\u001b[39;49mui\u001b[39m.\u001b[39;49mPlotWidget\u001b[39m.\u001b[39mclear()\n\u001b[0;32m     67\u001b[0m     \u001b[39mself\u001b[39m\u001b[39m.\u001b[39mui\u001b[39m.\u001b[39mIU_graph\u001b[39m.\u001b[39mplot(\u001b[39mself\u001b[39m\u001b[39m.\u001b[39mzc\u001b[39m.\u001b[39mU_gem, \u001b[39mself\u001b[39m\u001b[39m.\u001b[39mzc\u001b[39m.\u001b[39mI_gem, symbol\u001b[39m=\u001b[39m\u001b[39m\"\u001b[39m\u001b[39mo\u001b[39m\u001b[39m\"\u001b[39m, symbolSize\u001b[39m=\u001b[39m\u001b[39m5\u001b[39m, pen\u001b[39m=\u001b[39m\u001b[39mNone\u001b[39;00m)\n\u001b[0;32m     68\u001b[0m     error_bars \u001b[39m=\u001b[39m pg\u001b[39m.\u001b[39mErrorBarItem(x\u001b[39m=\u001b[39mnp\u001b[39m.\u001b[39marray(\u001b[39mself\u001b[39m\u001b[39m.\u001b[39mzc\u001b[39m.\u001b[39mU_gem), y\u001b[39m=\u001b[39mnp\u001b[39m.\u001b[39marray(\u001b[39mself\u001b[39m\u001b[39m.\u001b[39mzc\u001b[39m.\u001b[39mI_gem), height \u001b[39m=\u001b[39m np\u001b[39m.\u001b[39marray(\u001b[39mself\u001b[39m\u001b[39m.\u001b[39mzc\u001b[39m.\u001b[39mI_error))\n",
      "\u001b[1;31mAttributeError\u001b[0m: 'Ui_MainWindow' object has no attribute 'PlotWidget'"
     ]
    },
    {
     "ename": "AttributeError",
     "evalue": "'Ui_MainWindow' object has no attribute 'PlotWidget'",
     "output_type": "error",
     "traceback": [
      "\u001b[1;31m---------------------------------------------------------------------------\u001b[0m",
      "\u001b[1;31mAttributeError\u001b[0m                            Traceback (most recent call last)",
      "Cell \u001b[1;32mIn[1], line 66\u001b[0m, in \u001b[0;36mUserInterface.graph\u001b[1;34m(self)\u001b[0m\n\u001b[0;32m     64\u001b[0m \u001b[39m@Slot\u001b[39m()\n\u001b[0;32m     65\u001b[0m \u001b[39mdef\u001b[39;00m \u001b[39mgraph\u001b[39m(\u001b[39mself\u001b[39m):\n\u001b[1;32m---> 66\u001b[0m     \u001b[39mself\u001b[39;49m\u001b[39m.\u001b[39;49mui\u001b[39m.\u001b[39;49mPlotWidget\u001b[39m.\u001b[39mclear()\n\u001b[0;32m     67\u001b[0m     \u001b[39mself\u001b[39m\u001b[39m.\u001b[39mui\u001b[39m.\u001b[39mIU_graph\u001b[39m.\u001b[39mplot(\u001b[39mself\u001b[39m\u001b[39m.\u001b[39mzc\u001b[39m.\u001b[39mU_gem, \u001b[39mself\u001b[39m\u001b[39m.\u001b[39mzc\u001b[39m.\u001b[39mI_gem, symbol\u001b[39m=\u001b[39m\u001b[39m\"\u001b[39m\u001b[39mo\u001b[39m\u001b[39m\"\u001b[39m, symbolSize\u001b[39m=\u001b[39m\u001b[39m5\u001b[39m, pen\u001b[39m=\u001b[39m\u001b[39mNone\u001b[39;00m)\n\u001b[0;32m     68\u001b[0m     error_bars \u001b[39m=\u001b[39m pg\u001b[39m.\u001b[39mErrorBarItem(x\u001b[39m=\u001b[39mnp\u001b[39m.\u001b[39marray(\u001b[39mself\u001b[39m\u001b[39m.\u001b[39mzc\u001b[39m.\u001b[39mU_gem), y\u001b[39m=\u001b[39mnp\u001b[39m.\u001b[39marray(\u001b[39mself\u001b[39m\u001b[39m.\u001b[39mzc\u001b[39m.\u001b[39mI_gem), height \u001b[39m=\u001b[39m np\u001b[39m.\u001b[39marray(\u001b[39mself\u001b[39m\u001b[39m.\u001b[39mzc\u001b[39m.\u001b[39mI_error))\n",
      "\u001b[1;31mAttributeError\u001b[0m: 'Ui_MainWindow' object has no attribute 'PlotWidget'"
     ]
    },
    {
     "ename": "AttributeError",
     "evalue": "'Ui_MainWindow' object has no attribute 'PlotWidget'",
     "output_type": "error",
     "traceback": [
      "\u001b[1;31m---------------------------------------------------------------------------\u001b[0m",
      "\u001b[1;31mAttributeError\u001b[0m                            Traceback (most recent call last)",
      "Cell \u001b[1;32mIn[1], line 66\u001b[0m, in \u001b[0;36mUserInterface.graph\u001b[1;34m(self)\u001b[0m\n\u001b[0;32m     64\u001b[0m \u001b[39m@Slot\u001b[39m()\n\u001b[0;32m     65\u001b[0m \u001b[39mdef\u001b[39;00m \u001b[39mgraph\u001b[39m(\u001b[39mself\u001b[39m):\n\u001b[1;32m---> 66\u001b[0m     \u001b[39mself\u001b[39;49m\u001b[39m.\u001b[39;49mui\u001b[39m.\u001b[39;49mPlotWidget\u001b[39m.\u001b[39mclear()\n\u001b[0;32m     67\u001b[0m     \u001b[39mself\u001b[39m\u001b[39m.\u001b[39mui\u001b[39m.\u001b[39mIU_graph\u001b[39m.\u001b[39mplot(\u001b[39mself\u001b[39m\u001b[39m.\u001b[39mzc\u001b[39m.\u001b[39mU_gem, \u001b[39mself\u001b[39m\u001b[39m.\u001b[39mzc\u001b[39m.\u001b[39mI_gem, symbol\u001b[39m=\u001b[39m\u001b[39m\"\u001b[39m\u001b[39mo\u001b[39m\u001b[39m\"\u001b[39m, symbolSize\u001b[39m=\u001b[39m\u001b[39m5\u001b[39m, pen\u001b[39m=\u001b[39m\u001b[39mNone\u001b[39;00m)\n\u001b[0;32m     68\u001b[0m     error_bars \u001b[39m=\u001b[39m pg\u001b[39m.\u001b[39mErrorBarItem(x\u001b[39m=\u001b[39mnp\u001b[39m.\u001b[39marray(\u001b[39mself\u001b[39m\u001b[39m.\u001b[39mzc\u001b[39m.\u001b[39mU_gem), y\u001b[39m=\u001b[39mnp\u001b[39m.\u001b[39marray(\u001b[39mself\u001b[39m\u001b[39m.\u001b[39mzc\u001b[39m.\u001b[39mI_gem), height \u001b[39m=\u001b[39m np\u001b[39m.\u001b[39marray(\u001b[39mself\u001b[39m\u001b[39m.\u001b[39mzc\u001b[39m.\u001b[39mI_error))\n",
      "\u001b[1;31mAttributeError\u001b[0m: 'Ui_MainWindow' object has no attribute 'PlotWidget'"
     ]
    },
    {
     "ename": "AttributeError",
     "evalue": "'Ui_MainWindow' object has no attribute 'PlotWidget'",
     "output_type": "error",
     "traceback": [
      "\u001b[1;31m---------------------------------------------------------------------------\u001b[0m",
      "\u001b[1;31mAttributeError\u001b[0m                            Traceback (most recent call last)",
      "Cell \u001b[1;32mIn[1], line 66\u001b[0m, in \u001b[0;36mUserInterface.graph\u001b[1;34m(self)\u001b[0m\n\u001b[0;32m     64\u001b[0m \u001b[39m@Slot\u001b[39m()\n\u001b[0;32m     65\u001b[0m \u001b[39mdef\u001b[39;00m \u001b[39mgraph\u001b[39m(\u001b[39mself\u001b[39m):\n\u001b[1;32m---> 66\u001b[0m     \u001b[39mself\u001b[39;49m\u001b[39m.\u001b[39;49mui\u001b[39m.\u001b[39;49mPlotWidget\u001b[39m.\u001b[39mclear()\n\u001b[0;32m     67\u001b[0m     \u001b[39mself\u001b[39m\u001b[39m.\u001b[39mui\u001b[39m.\u001b[39mIU_graph\u001b[39m.\u001b[39mplot(\u001b[39mself\u001b[39m\u001b[39m.\u001b[39mzc\u001b[39m.\u001b[39mU_gem, \u001b[39mself\u001b[39m\u001b[39m.\u001b[39mzc\u001b[39m.\u001b[39mI_gem, symbol\u001b[39m=\u001b[39m\u001b[39m\"\u001b[39m\u001b[39mo\u001b[39m\u001b[39m\"\u001b[39m, symbolSize\u001b[39m=\u001b[39m\u001b[39m5\u001b[39m, pen\u001b[39m=\u001b[39m\u001b[39mNone\u001b[39;00m)\n\u001b[0;32m     68\u001b[0m     error_bars \u001b[39m=\u001b[39m pg\u001b[39m.\u001b[39mErrorBarItem(x\u001b[39m=\u001b[39mnp\u001b[39m.\u001b[39marray(\u001b[39mself\u001b[39m\u001b[39m.\u001b[39mzc\u001b[39m.\u001b[39mU_gem), y\u001b[39m=\u001b[39mnp\u001b[39m.\u001b[39marray(\u001b[39mself\u001b[39m\u001b[39m.\u001b[39mzc\u001b[39m.\u001b[39mI_gem), height \u001b[39m=\u001b[39m np\u001b[39m.\u001b[39marray(\u001b[39mself\u001b[39m\u001b[39m.\u001b[39mzc\u001b[39m.\u001b[39mI_error))\n",
      "\u001b[1;31mAttributeError\u001b[0m: 'Ui_MainWindow' object has no attribute 'PlotWidget'"
     ]
    },
    {
     "ename": "AttributeError",
     "evalue": "'Ui_MainWindow' object has no attribute 'PlotWidget'",
     "output_type": "error",
     "traceback": [
      "\u001b[1;31m---------------------------------------------------------------------------\u001b[0m",
      "\u001b[1;31mAttributeError\u001b[0m                            Traceback (most recent call last)",
      "Cell \u001b[1;32mIn[1], line 66\u001b[0m, in \u001b[0;36mUserInterface.graph\u001b[1;34m(self)\u001b[0m\n\u001b[0;32m     64\u001b[0m \u001b[39m@Slot\u001b[39m()\n\u001b[0;32m     65\u001b[0m \u001b[39mdef\u001b[39;00m \u001b[39mgraph\u001b[39m(\u001b[39mself\u001b[39m):\n\u001b[1;32m---> 66\u001b[0m     \u001b[39mself\u001b[39;49m\u001b[39m.\u001b[39;49mui\u001b[39m.\u001b[39;49mPlotWidget\u001b[39m.\u001b[39mclear()\n\u001b[0;32m     67\u001b[0m     \u001b[39mself\u001b[39m\u001b[39m.\u001b[39mui\u001b[39m.\u001b[39mIU_graph\u001b[39m.\u001b[39mplot(\u001b[39mself\u001b[39m\u001b[39m.\u001b[39mzc\u001b[39m.\u001b[39mU_gem, \u001b[39mself\u001b[39m\u001b[39m.\u001b[39mzc\u001b[39m.\u001b[39mI_gem, symbol\u001b[39m=\u001b[39m\u001b[39m\"\u001b[39m\u001b[39mo\u001b[39m\u001b[39m\"\u001b[39m, symbolSize\u001b[39m=\u001b[39m\u001b[39m5\u001b[39m, pen\u001b[39m=\u001b[39m\u001b[39mNone\u001b[39;00m)\n\u001b[0;32m     68\u001b[0m     error_bars \u001b[39m=\u001b[39m pg\u001b[39m.\u001b[39mErrorBarItem(x\u001b[39m=\u001b[39mnp\u001b[39m.\u001b[39marray(\u001b[39mself\u001b[39m\u001b[39m.\u001b[39mzc\u001b[39m.\u001b[39mU_gem), y\u001b[39m=\u001b[39mnp\u001b[39m.\u001b[39marray(\u001b[39mself\u001b[39m\u001b[39m.\u001b[39mzc\u001b[39m.\u001b[39mI_gem), height \u001b[39m=\u001b[39m np\u001b[39m.\u001b[39marray(\u001b[39mself\u001b[39m\u001b[39m.\u001b[39mzc\u001b[39m.\u001b[39mI_error))\n",
      "\u001b[1;31mAttributeError\u001b[0m: 'Ui_MainWindow' object has no attribute 'PlotWidget'"
     ]
    },
    {
     "ename": "AttributeError",
     "evalue": "'Ui_MainWindow' object has no attribute 'PlotWidget'",
     "output_type": "error",
     "traceback": [
      "\u001b[1;31m---------------------------------------------------------------------------\u001b[0m",
      "\u001b[1;31mAttributeError\u001b[0m                            Traceback (most recent call last)",
      "Cell \u001b[1;32mIn[1], line 66\u001b[0m, in \u001b[0;36mUserInterface.graph\u001b[1;34m(self)\u001b[0m\n\u001b[0;32m     64\u001b[0m \u001b[39m@Slot\u001b[39m()\n\u001b[0;32m     65\u001b[0m \u001b[39mdef\u001b[39;00m \u001b[39mgraph\u001b[39m(\u001b[39mself\u001b[39m):\n\u001b[1;32m---> 66\u001b[0m     \u001b[39mself\u001b[39;49m\u001b[39m.\u001b[39;49mui\u001b[39m.\u001b[39;49mPlotWidget\u001b[39m.\u001b[39mclear()\n\u001b[0;32m     67\u001b[0m     \u001b[39mself\u001b[39m\u001b[39m.\u001b[39mui\u001b[39m.\u001b[39mIU_graph\u001b[39m.\u001b[39mplot(\u001b[39mself\u001b[39m\u001b[39m.\u001b[39mzc\u001b[39m.\u001b[39mU_gem, \u001b[39mself\u001b[39m\u001b[39m.\u001b[39mzc\u001b[39m.\u001b[39mI_gem, symbol\u001b[39m=\u001b[39m\u001b[39m\"\u001b[39m\u001b[39mo\u001b[39m\u001b[39m\"\u001b[39m, symbolSize\u001b[39m=\u001b[39m\u001b[39m5\u001b[39m, pen\u001b[39m=\u001b[39m\u001b[39mNone\u001b[39;00m)\n\u001b[0;32m     68\u001b[0m     error_bars \u001b[39m=\u001b[39m pg\u001b[39m.\u001b[39mErrorBarItem(x\u001b[39m=\u001b[39mnp\u001b[39m.\u001b[39marray(\u001b[39mself\u001b[39m\u001b[39m.\u001b[39mzc\u001b[39m.\u001b[39mU_gem), y\u001b[39m=\u001b[39mnp\u001b[39m.\u001b[39marray(\u001b[39mself\u001b[39m\u001b[39m.\u001b[39mzc\u001b[39m.\u001b[39mI_gem), height \u001b[39m=\u001b[39m np\u001b[39m.\u001b[39marray(\u001b[39mself\u001b[39m\u001b[39m.\u001b[39mzc\u001b[39m.\u001b[39mI_error))\n",
      "\u001b[1;31mAttributeError\u001b[0m: 'Ui_MainWindow' object has no attribute 'PlotWidget'"
     ]
    },
    {
     "ename": "AttributeError",
     "evalue": "'Ui_MainWindow' object has no attribute 'PlotWidget'",
     "output_type": "error",
     "traceback": [
      "\u001b[1;31m---------------------------------------------------------------------------\u001b[0m",
      "\u001b[1;31mAttributeError\u001b[0m                            Traceback (most recent call last)",
      "Cell \u001b[1;32mIn[1], line 66\u001b[0m, in \u001b[0;36mUserInterface.graph\u001b[1;34m(self)\u001b[0m\n\u001b[0;32m     64\u001b[0m \u001b[39m@Slot\u001b[39m()\n\u001b[0;32m     65\u001b[0m \u001b[39mdef\u001b[39;00m \u001b[39mgraph\u001b[39m(\u001b[39mself\u001b[39m):\n\u001b[1;32m---> 66\u001b[0m     \u001b[39mself\u001b[39;49m\u001b[39m.\u001b[39;49mui\u001b[39m.\u001b[39;49mPlotWidget\u001b[39m.\u001b[39mclear()\n\u001b[0;32m     67\u001b[0m     \u001b[39mself\u001b[39m\u001b[39m.\u001b[39mui\u001b[39m.\u001b[39mIU_graph\u001b[39m.\u001b[39mplot(\u001b[39mself\u001b[39m\u001b[39m.\u001b[39mzc\u001b[39m.\u001b[39mU_gem, \u001b[39mself\u001b[39m\u001b[39m.\u001b[39mzc\u001b[39m.\u001b[39mI_gem, symbol\u001b[39m=\u001b[39m\u001b[39m\"\u001b[39m\u001b[39mo\u001b[39m\u001b[39m\"\u001b[39m, symbolSize\u001b[39m=\u001b[39m\u001b[39m5\u001b[39m, pen\u001b[39m=\u001b[39m\u001b[39mNone\u001b[39;00m)\n\u001b[0;32m     68\u001b[0m     error_bars \u001b[39m=\u001b[39m pg\u001b[39m.\u001b[39mErrorBarItem(x\u001b[39m=\u001b[39mnp\u001b[39m.\u001b[39marray(\u001b[39mself\u001b[39m\u001b[39m.\u001b[39mzc\u001b[39m.\u001b[39mU_gem), y\u001b[39m=\u001b[39mnp\u001b[39m.\u001b[39marray(\u001b[39mself\u001b[39m\u001b[39m.\u001b[39mzc\u001b[39m.\u001b[39mI_gem), height \u001b[39m=\u001b[39m np\u001b[39m.\u001b[39marray(\u001b[39mself\u001b[39m\u001b[39m.\u001b[39mzc\u001b[39m.\u001b[39mI_error))\n",
      "\u001b[1;31mAttributeError\u001b[0m: 'Ui_MainWindow' object has no attribute 'PlotWidget'"
     ]
    },
    {
     "ename": "AttributeError",
     "evalue": "'Ui_MainWindow' object has no attribute 'PlotWidget'",
     "output_type": "error",
     "traceback": [
      "\u001b[1;31m---------------------------------------------------------------------------\u001b[0m",
      "\u001b[1;31mAttributeError\u001b[0m                            Traceback (most recent call last)",
      "Cell \u001b[1;32mIn[1], line 66\u001b[0m, in \u001b[0;36mUserInterface.graph\u001b[1;34m(self)\u001b[0m\n\u001b[0;32m     64\u001b[0m \u001b[39m@Slot\u001b[39m()\n\u001b[0;32m     65\u001b[0m \u001b[39mdef\u001b[39;00m \u001b[39mgraph\u001b[39m(\u001b[39mself\u001b[39m):\n\u001b[1;32m---> 66\u001b[0m     \u001b[39mself\u001b[39;49m\u001b[39m.\u001b[39;49mui\u001b[39m.\u001b[39;49mPlotWidget\u001b[39m.\u001b[39mclear()\n\u001b[0;32m     67\u001b[0m     \u001b[39mself\u001b[39m\u001b[39m.\u001b[39mui\u001b[39m.\u001b[39mIU_graph\u001b[39m.\u001b[39mplot(\u001b[39mself\u001b[39m\u001b[39m.\u001b[39mzc\u001b[39m.\u001b[39mU_gem, \u001b[39mself\u001b[39m\u001b[39m.\u001b[39mzc\u001b[39m.\u001b[39mI_gem, symbol\u001b[39m=\u001b[39m\u001b[39m\"\u001b[39m\u001b[39mo\u001b[39m\u001b[39m\"\u001b[39m, symbolSize\u001b[39m=\u001b[39m\u001b[39m5\u001b[39m, pen\u001b[39m=\u001b[39m\u001b[39mNone\u001b[39;00m)\n\u001b[0;32m     68\u001b[0m     error_bars \u001b[39m=\u001b[39m pg\u001b[39m.\u001b[39mErrorBarItem(x\u001b[39m=\u001b[39mnp\u001b[39m.\u001b[39marray(\u001b[39mself\u001b[39m\u001b[39m.\u001b[39mzc\u001b[39m.\u001b[39mU_gem), y\u001b[39m=\u001b[39mnp\u001b[39m.\u001b[39marray(\u001b[39mself\u001b[39m\u001b[39m.\u001b[39mzc\u001b[39m.\u001b[39mI_gem), height \u001b[39m=\u001b[39m np\u001b[39m.\u001b[39marray(\u001b[39mself\u001b[39m\u001b[39m.\u001b[39mzc\u001b[39m.\u001b[39mI_error))\n",
      "\u001b[1;31mAttributeError\u001b[0m: 'Ui_MainWindow' object has no attribute 'PlotWidget'"
     ]
    },
    {
     "ename": "AttributeError",
     "evalue": "'Ui_MainWindow' object has no attribute 'PlotWidget'",
     "output_type": "error",
     "traceback": [
      "\u001b[1;31m---------------------------------------------------------------------------\u001b[0m",
      "\u001b[1;31mAttributeError\u001b[0m                            Traceback (most recent call last)",
      "Cell \u001b[1;32mIn[1], line 66\u001b[0m, in \u001b[0;36mUserInterface.graph\u001b[1;34m(self)\u001b[0m\n\u001b[0;32m     64\u001b[0m \u001b[39m@Slot\u001b[39m()\n\u001b[0;32m     65\u001b[0m \u001b[39mdef\u001b[39;00m \u001b[39mgraph\u001b[39m(\u001b[39mself\u001b[39m):\n\u001b[1;32m---> 66\u001b[0m     \u001b[39mself\u001b[39;49m\u001b[39m.\u001b[39;49mui\u001b[39m.\u001b[39;49mPlotWidget\u001b[39m.\u001b[39mclear()\n\u001b[0;32m     67\u001b[0m     \u001b[39mself\u001b[39m\u001b[39m.\u001b[39mui\u001b[39m.\u001b[39mIU_graph\u001b[39m.\u001b[39mplot(\u001b[39mself\u001b[39m\u001b[39m.\u001b[39mzc\u001b[39m.\u001b[39mU_gem, \u001b[39mself\u001b[39m\u001b[39m.\u001b[39mzc\u001b[39m.\u001b[39mI_gem, symbol\u001b[39m=\u001b[39m\u001b[39m\"\u001b[39m\u001b[39mo\u001b[39m\u001b[39m\"\u001b[39m, symbolSize\u001b[39m=\u001b[39m\u001b[39m5\u001b[39m, pen\u001b[39m=\u001b[39m\u001b[39mNone\u001b[39;00m)\n\u001b[0;32m     68\u001b[0m     error_bars \u001b[39m=\u001b[39m pg\u001b[39m.\u001b[39mErrorBarItem(x\u001b[39m=\u001b[39mnp\u001b[39m.\u001b[39marray(\u001b[39mself\u001b[39m\u001b[39m.\u001b[39mzc\u001b[39m.\u001b[39mU_gem), y\u001b[39m=\u001b[39mnp\u001b[39m.\u001b[39marray(\u001b[39mself\u001b[39m\u001b[39m.\u001b[39mzc\u001b[39m.\u001b[39mI_gem), height \u001b[39m=\u001b[39m np\u001b[39m.\u001b[39marray(\u001b[39mself\u001b[39m\u001b[39m.\u001b[39mzc\u001b[39m.\u001b[39mI_error))\n",
      "\u001b[1;31mAttributeError\u001b[0m: 'Ui_MainWindow' object has no attribute 'PlotWidget'"
     ]
    },
    {
     "ename": "AttributeError",
     "evalue": "'Ui_MainWindow' object has no attribute 'PlotWidget'",
     "output_type": "error",
     "traceback": [
      "\u001b[1;31m---------------------------------------------------------------------------\u001b[0m",
      "\u001b[1;31mAttributeError\u001b[0m                            Traceback (most recent call last)",
      "Cell \u001b[1;32mIn[1], line 66\u001b[0m, in \u001b[0;36mUserInterface.graph\u001b[1;34m(self)\u001b[0m\n\u001b[0;32m     64\u001b[0m \u001b[39m@Slot\u001b[39m()\n\u001b[0;32m     65\u001b[0m \u001b[39mdef\u001b[39;00m \u001b[39mgraph\u001b[39m(\u001b[39mself\u001b[39m):\n\u001b[1;32m---> 66\u001b[0m     \u001b[39mself\u001b[39;49m\u001b[39m.\u001b[39;49mui\u001b[39m.\u001b[39;49mPlotWidget\u001b[39m.\u001b[39mclear()\n\u001b[0;32m     67\u001b[0m     \u001b[39mself\u001b[39m\u001b[39m.\u001b[39mui\u001b[39m.\u001b[39mIU_graph\u001b[39m.\u001b[39mplot(\u001b[39mself\u001b[39m\u001b[39m.\u001b[39mzc\u001b[39m.\u001b[39mU_gem, \u001b[39mself\u001b[39m\u001b[39m.\u001b[39mzc\u001b[39m.\u001b[39mI_gem, symbol\u001b[39m=\u001b[39m\u001b[39m\"\u001b[39m\u001b[39mo\u001b[39m\u001b[39m\"\u001b[39m, symbolSize\u001b[39m=\u001b[39m\u001b[39m5\u001b[39m, pen\u001b[39m=\u001b[39m\u001b[39mNone\u001b[39;00m)\n\u001b[0;32m     68\u001b[0m     error_bars \u001b[39m=\u001b[39m pg\u001b[39m.\u001b[39mErrorBarItem(x\u001b[39m=\u001b[39mnp\u001b[39m.\u001b[39marray(\u001b[39mself\u001b[39m\u001b[39m.\u001b[39mzc\u001b[39m.\u001b[39mU_gem), y\u001b[39m=\u001b[39mnp\u001b[39m.\u001b[39marray(\u001b[39mself\u001b[39m\u001b[39m.\u001b[39mzc\u001b[39m.\u001b[39mI_gem), height \u001b[39m=\u001b[39m np\u001b[39m.\u001b[39marray(\u001b[39mself\u001b[39m\u001b[39m.\u001b[39mzc\u001b[39m.\u001b[39mI_error))\n",
      "\u001b[1;31mAttributeError\u001b[0m: 'Ui_MainWindow' object has no attribute 'PlotWidget'"
     ]
    },
    {
     "ename": "AttributeError",
     "evalue": "'Ui_MainWindow' object has no attribute 'PlotWidget'",
     "output_type": "error",
     "traceback": [
      "\u001b[1;31m---------------------------------------------------------------------------\u001b[0m",
      "\u001b[1;31mAttributeError\u001b[0m                            Traceback (most recent call last)",
      "Cell \u001b[1;32mIn[1], line 66\u001b[0m, in \u001b[0;36mUserInterface.graph\u001b[1;34m(self)\u001b[0m\n\u001b[0;32m     64\u001b[0m \u001b[39m@Slot\u001b[39m()\n\u001b[0;32m     65\u001b[0m \u001b[39mdef\u001b[39;00m \u001b[39mgraph\u001b[39m(\u001b[39mself\u001b[39m):\n\u001b[1;32m---> 66\u001b[0m     \u001b[39mself\u001b[39;49m\u001b[39m.\u001b[39;49mui\u001b[39m.\u001b[39;49mPlotWidget\u001b[39m.\u001b[39mclear()\n\u001b[0;32m     67\u001b[0m     \u001b[39mself\u001b[39m\u001b[39m.\u001b[39mui\u001b[39m.\u001b[39mIU_graph\u001b[39m.\u001b[39mplot(\u001b[39mself\u001b[39m\u001b[39m.\u001b[39mzc\u001b[39m.\u001b[39mU_gem, \u001b[39mself\u001b[39m\u001b[39m.\u001b[39mzc\u001b[39m.\u001b[39mI_gem, symbol\u001b[39m=\u001b[39m\u001b[39m\"\u001b[39m\u001b[39mo\u001b[39m\u001b[39m\"\u001b[39m, symbolSize\u001b[39m=\u001b[39m\u001b[39m5\u001b[39m, pen\u001b[39m=\u001b[39m\u001b[39mNone\u001b[39;00m)\n\u001b[0;32m     68\u001b[0m     error_bars \u001b[39m=\u001b[39m pg\u001b[39m.\u001b[39mErrorBarItem(x\u001b[39m=\u001b[39mnp\u001b[39m.\u001b[39marray(\u001b[39mself\u001b[39m\u001b[39m.\u001b[39mzc\u001b[39m.\u001b[39mU_gem), y\u001b[39m=\u001b[39mnp\u001b[39m.\u001b[39marray(\u001b[39mself\u001b[39m\u001b[39m.\u001b[39mzc\u001b[39m.\u001b[39mI_gem), height \u001b[39m=\u001b[39m np\u001b[39m.\u001b[39marray(\u001b[39mself\u001b[39m\u001b[39m.\u001b[39mzc\u001b[39m.\u001b[39mI_error))\n",
      "\u001b[1;31mAttributeError\u001b[0m: 'Ui_MainWindow' object has no attribute 'PlotWidget'"
     ]
    },
    {
     "ename": "AttributeError",
     "evalue": "'Ui_MainWindow' object has no attribute 'PlotWidget'",
     "output_type": "error",
     "traceback": [
      "\u001b[1;31m---------------------------------------------------------------------------\u001b[0m",
      "\u001b[1;31mAttributeError\u001b[0m                            Traceback (most recent call last)",
      "Cell \u001b[1;32mIn[1], line 66\u001b[0m, in \u001b[0;36mUserInterface.graph\u001b[1;34m(self)\u001b[0m\n\u001b[0;32m     64\u001b[0m \u001b[39m@Slot\u001b[39m()\n\u001b[0;32m     65\u001b[0m \u001b[39mdef\u001b[39;00m \u001b[39mgraph\u001b[39m(\u001b[39mself\u001b[39m):\n\u001b[1;32m---> 66\u001b[0m     \u001b[39mself\u001b[39;49m\u001b[39m.\u001b[39;49mui\u001b[39m.\u001b[39;49mPlotWidget\u001b[39m.\u001b[39mclear()\n\u001b[0;32m     67\u001b[0m     \u001b[39mself\u001b[39m\u001b[39m.\u001b[39mui\u001b[39m.\u001b[39mIU_graph\u001b[39m.\u001b[39mplot(\u001b[39mself\u001b[39m\u001b[39m.\u001b[39mzc\u001b[39m.\u001b[39mU_gem, \u001b[39mself\u001b[39m\u001b[39m.\u001b[39mzc\u001b[39m.\u001b[39mI_gem, symbol\u001b[39m=\u001b[39m\u001b[39m\"\u001b[39m\u001b[39mo\u001b[39m\u001b[39m\"\u001b[39m, symbolSize\u001b[39m=\u001b[39m\u001b[39m5\u001b[39m, pen\u001b[39m=\u001b[39m\u001b[39mNone\u001b[39;00m)\n\u001b[0;32m     68\u001b[0m     error_bars \u001b[39m=\u001b[39m pg\u001b[39m.\u001b[39mErrorBarItem(x\u001b[39m=\u001b[39mnp\u001b[39m.\u001b[39marray(\u001b[39mself\u001b[39m\u001b[39m.\u001b[39mzc\u001b[39m.\u001b[39mU_gem), y\u001b[39m=\u001b[39mnp\u001b[39m.\u001b[39marray(\u001b[39mself\u001b[39m\u001b[39m.\u001b[39mzc\u001b[39m.\u001b[39mI_gem), height \u001b[39m=\u001b[39m np\u001b[39m.\u001b[39marray(\u001b[39mself\u001b[39m\u001b[39m.\u001b[39mzc\u001b[39m.\u001b[39mI_error))\n",
      "\u001b[1;31mAttributeError\u001b[0m: 'Ui_MainWindow' object has no attribute 'PlotWidget'"
     ]
    },
    {
     "ename": "AttributeError",
     "evalue": "'Ui_MainWindow' object has no attribute 'PlotWidget'",
     "output_type": "error",
     "traceback": [
      "\u001b[1;31m---------------------------------------------------------------------------\u001b[0m",
      "\u001b[1;31mAttributeError\u001b[0m                            Traceback (most recent call last)",
      "Cell \u001b[1;32mIn[1], line 66\u001b[0m, in \u001b[0;36mUserInterface.graph\u001b[1;34m(self)\u001b[0m\n\u001b[0;32m     64\u001b[0m \u001b[39m@Slot\u001b[39m()\n\u001b[0;32m     65\u001b[0m \u001b[39mdef\u001b[39;00m \u001b[39mgraph\u001b[39m(\u001b[39mself\u001b[39m):\n\u001b[1;32m---> 66\u001b[0m     \u001b[39mself\u001b[39;49m\u001b[39m.\u001b[39;49mui\u001b[39m.\u001b[39;49mPlotWidget\u001b[39m.\u001b[39mclear()\n\u001b[0;32m     67\u001b[0m     \u001b[39mself\u001b[39m\u001b[39m.\u001b[39mui\u001b[39m.\u001b[39mIU_graph\u001b[39m.\u001b[39mplot(\u001b[39mself\u001b[39m\u001b[39m.\u001b[39mzc\u001b[39m.\u001b[39mU_gem, \u001b[39mself\u001b[39m\u001b[39m.\u001b[39mzc\u001b[39m.\u001b[39mI_gem, symbol\u001b[39m=\u001b[39m\u001b[39m\"\u001b[39m\u001b[39mo\u001b[39m\u001b[39m\"\u001b[39m, symbolSize\u001b[39m=\u001b[39m\u001b[39m5\u001b[39m, pen\u001b[39m=\u001b[39m\u001b[39mNone\u001b[39;00m)\n\u001b[0;32m     68\u001b[0m     error_bars \u001b[39m=\u001b[39m pg\u001b[39m.\u001b[39mErrorBarItem(x\u001b[39m=\u001b[39mnp\u001b[39m.\u001b[39marray(\u001b[39mself\u001b[39m\u001b[39m.\u001b[39mzc\u001b[39m.\u001b[39mU_gem), y\u001b[39m=\u001b[39mnp\u001b[39m.\u001b[39marray(\u001b[39mself\u001b[39m\u001b[39m.\u001b[39mzc\u001b[39m.\u001b[39mI_gem), height \u001b[39m=\u001b[39m np\u001b[39m.\u001b[39marray(\u001b[39mself\u001b[39m\u001b[39m.\u001b[39mzc\u001b[39m.\u001b[39mI_error))\n",
      "\u001b[1;31mAttributeError\u001b[0m: 'Ui_MainWindow' object has no attribute 'PlotWidget'"
     ]
    },
    {
     "ename": "AttributeError",
     "evalue": "'Ui_MainWindow' object has no attribute 'PlotWidget'",
     "output_type": "error",
     "traceback": [
      "\u001b[1;31m---------------------------------------------------------------------------\u001b[0m",
      "\u001b[1;31mAttributeError\u001b[0m                            Traceback (most recent call last)",
      "Cell \u001b[1;32mIn[1], line 66\u001b[0m, in \u001b[0;36mUserInterface.graph\u001b[1;34m(self)\u001b[0m\n\u001b[0;32m     64\u001b[0m \u001b[39m@Slot\u001b[39m()\n\u001b[0;32m     65\u001b[0m \u001b[39mdef\u001b[39;00m \u001b[39mgraph\u001b[39m(\u001b[39mself\u001b[39m):\n\u001b[1;32m---> 66\u001b[0m     \u001b[39mself\u001b[39;49m\u001b[39m.\u001b[39;49mui\u001b[39m.\u001b[39;49mPlotWidget\u001b[39m.\u001b[39mclear()\n\u001b[0;32m     67\u001b[0m     \u001b[39mself\u001b[39m\u001b[39m.\u001b[39mui\u001b[39m.\u001b[39mIU_graph\u001b[39m.\u001b[39mplot(\u001b[39mself\u001b[39m\u001b[39m.\u001b[39mzc\u001b[39m.\u001b[39mU_gem, \u001b[39mself\u001b[39m\u001b[39m.\u001b[39mzc\u001b[39m.\u001b[39mI_gem, symbol\u001b[39m=\u001b[39m\u001b[39m\"\u001b[39m\u001b[39mo\u001b[39m\u001b[39m\"\u001b[39m, symbolSize\u001b[39m=\u001b[39m\u001b[39m5\u001b[39m, pen\u001b[39m=\u001b[39m\u001b[39mNone\u001b[39;00m)\n\u001b[0;32m     68\u001b[0m     error_bars \u001b[39m=\u001b[39m pg\u001b[39m.\u001b[39mErrorBarItem(x\u001b[39m=\u001b[39mnp\u001b[39m.\u001b[39marray(\u001b[39mself\u001b[39m\u001b[39m.\u001b[39mzc\u001b[39m.\u001b[39mU_gem), y\u001b[39m=\u001b[39mnp\u001b[39m.\u001b[39marray(\u001b[39mself\u001b[39m\u001b[39m.\u001b[39mzc\u001b[39m.\u001b[39mI_gem), height \u001b[39m=\u001b[39m np\u001b[39m.\u001b[39marray(\u001b[39mself\u001b[39m\u001b[39m.\u001b[39mzc\u001b[39m.\u001b[39mI_error))\n",
      "\u001b[1;31mAttributeError\u001b[0m: 'Ui_MainWindow' object has no attribute 'PlotWidget'"
     ]
    },
    {
     "ename": "AttributeError",
     "evalue": "'Ui_MainWindow' object has no attribute 'PlotWidget'",
     "output_type": "error",
     "traceback": [
      "\u001b[1;31m---------------------------------------------------------------------------\u001b[0m",
      "\u001b[1;31mAttributeError\u001b[0m                            Traceback (most recent call last)",
      "Cell \u001b[1;32mIn[1], line 66\u001b[0m, in \u001b[0;36mUserInterface.graph\u001b[1;34m(self)\u001b[0m\n\u001b[0;32m     64\u001b[0m \u001b[39m@Slot\u001b[39m()\n\u001b[0;32m     65\u001b[0m \u001b[39mdef\u001b[39;00m \u001b[39mgraph\u001b[39m(\u001b[39mself\u001b[39m):\n\u001b[1;32m---> 66\u001b[0m     \u001b[39mself\u001b[39;49m\u001b[39m.\u001b[39;49mui\u001b[39m.\u001b[39;49mPlotWidget\u001b[39m.\u001b[39mclear()\n\u001b[0;32m     67\u001b[0m     \u001b[39mself\u001b[39m\u001b[39m.\u001b[39mui\u001b[39m.\u001b[39mIU_graph\u001b[39m.\u001b[39mplot(\u001b[39mself\u001b[39m\u001b[39m.\u001b[39mzc\u001b[39m.\u001b[39mU_gem, \u001b[39mself\u001b[39m\u001b[39m.\u001b[39mzc\u001b[39m.\u001b[39mI_gem, symbol\u001b[39m=\u001b[39m\u001b[39m\"\u001b[39m\u001b[39mo\u001b[39m\u001b[39m\"\u001b[39m, symbolSize\u001b[39m=\u001b[39m\u001b[39m5\u001b[39m, pen\u001b[39m=\u001b[39m\u001b[39mNone\u001b[39;00m)\n\u001b[0;32m     68\u001b[0m     error_bars \u001b[39m=\u001b[39m pg\u001b[39m.\u001b[39mErrorBarItem(x\u001b[39m=\u001b[39mnp\u001b[39m.\u001b[39marray(\u001b[39mself\u001b[39m\u001b[39m.\u001b[39mzc\u001b[39m.\u001b[39mU_gem), y\u001b[39m=\u001b[39mnp\u001b[39m.\u001b[39marray(\u001b[39mself\u001b[39m\u001b[39m.\u001b[39mzc\u001b[39m.\u001b[39mI_gem), height \u001b[39m=\u001b[39m np\u001b[39m.\u001b[39marray(\u001b[39mself\u001b[39m\u001b[39m.\u001b[39mzc\u001b[39m.\u001b[39mI_error))\n",
      "\u001b[1;31mAttributeError\u001b[0m: 'Ui_MainWindow' object has no attribute 'PlotWidget'"
     ]
    },
    {
     "ename": "AttributeError",
     "evalue": "'Ui_MainWindow' object has no attribute 'PlotWidget'",
     "output_type": "error",
     "traceback": [
      "\u001b[1;31m---------------------------------------------------------------------------\u001b[0m",
      "\u001b[1;31mAttributeError\u001b[0m                            Traceback (most recent call last)",
      "Cell \u001b[1;32mIn[1], line 66\u001b[0m, in \u001b[0;36mUserInterface.graph\u001b[1;34m(self)\u001b[0m\n\u001b[0;32m     64\u001b[0m \u001b[39m@Slot\u001b[39m()\n\u001b[0;32m     65\u001b[0m \u001b[39mdef\u001b[39;00m \u001b[39mgraph\u001b[39m(\u001b[39mself\u001b[39m):\n\u001b[1;32m---> 66\u001b[0m     \u001b[39mself\u001b[39;49m\u001b[39m.\u001b[39;49mui\u001b[39m.\u001b[39;49mPlotWidget\u001b[39m.\u001b[39mclear()\n\u001b[0;32m     67\u001b[0m     \u001b[39mself\u001b[39m\u001b[39m.\u001b[39mui\u001b[39m.\u001b[39mIU_graph\u001b[39m.\u001b[39mplot(\u001b[39mself\u001b[39m\u001b[39m.\u001b[39mzc\u001b[39m.\u001b[39mU_gem, \u001b[39mself\u001b[39m\u001b[39m.\u001b[39mzc\u001b[39m.\u001b[39mI_gem, symbol\u001b[39m=\u001b[39m\u001b[39m\"\u001b[39m\u001b[39mo\u001b[39m\u001b[39m\"\u001b[39m, symbolSize\u001b[39m=\u001b[39m\u001b[39m5\u001b[39m, pen\u001b[39m=\u001b[39m\u001b[39mNone\u001b[39;00m)\n\u001b[0;32m     68\u001b[0m     error_bars \u001b[39m=\u001b[39m pg\u001b[39m.\u001b[39mErrorBarItem(x\u001b[39m=\u001b[39mnp\u001b[39m.\u001b[39marray(\u001b[39mself\u001b[39m\u001b[39m.\u001b[39mzc\u001b[39m.\u001b[39mU_gem), y\u001b[39m=\u001b[39mnp\u001b[39m.\u001b[39marray(\u001b[39mself\u001b[39m\u001b[39m.\u001b[39mzc\u001b[39m.\u001b[39mI_gem), height \u001b[39m=\u001b[39m np\u001b[39m.\u001b[39marray(\u001b[39mself\u001b[39m\u001b[39m.\u001b[39mzc\u001b[39m.\u001b[39mI_error))\n",
      "\u001b[1;31mAttributeError\u001b[0m: 'Ui_MainWindow' object has no attribute 'PlotWidget'"
     ]
    },
    {
     "ename": "AttributeError",
     "evalue": "'Ui_MainWindow' object has no attribute 'PlotWidget'",
     "output_type": "error",
     "traceback": [
      "\u001b[1;31m---------------------------------------------------------------------------\u001b[0m",
      "\u001b[1;31mAttributeError\u001b[0m                            Traceback (most recent call last)",
      "Cell \u001b[1;32mIn[1], line 66\u001b[0m, in \u001b[0;36mUserInterface.graph\u001b[1;34m(self)\u001b[0m\n\u001b[0;32m     64\u001b[0m \u001b[39m@Slot\u001b[39m()\n\u001b[0;32m     65\u001b[0m \u001b[39mdef\u001b[39;00m \u001b[39mgraph\u001b[39m(\u001b[39mself\u001b[39m):\n\u001b[1;32m---> 66\u001b[0m     \u001b[39mself\u001b[39;49m\u001b[39m.\u001b[39;49mui\u001b[39m.\u001b[39;49mPlotWidget\u001b[39m.\u001b[39mclear()\n\u001b[0;32m     67\u001b[0m     \u001b[39mself\u001b[39m\u001b[39m.\u001b[39mui\u001b[39m.\u001b[39mIU_graph\u001b[39m.\u001b[39mplot(\u001b[39mself\u001b[39m\u001b[39m.\u001b[39mzc\u001b[39m.\u001b[39mU_gem, \u001b[39mself\u001b[39m\u001b[39m.\u001b[39mzc\u001b[39m.\u001b[39mI_gem, symbol\u001b[39m=\u001b[39m\u001b[39m\"\u001b[39m\u001b[39mo\u001b[39m\u001b[39m\"\u001b[39m, symbolSize\u001b[39m=\u001b[39m\u001b[39m5\u001b[39m, pen\u001b[39m=\u001b[39m\u001b[39mNone\u001b[39;00m)\n\u001b[0;32m     68\u001b[0m     error_bars \u001b[39m=\u001b[39m pg\u001b[39m.\u001b[39mErrorBarItem(x\u001b[39m=\u001b[39mnp\u001b[39m.\u001b[39marray(\u001b[39mself\u001b[39m\u001b[39m.\u001b[39mzc\u001b[39m.\u001b[39mU_gem), y\u001b[39m=\u001b[39mnp\u001b[39m.\u001b[39marray(\u001b[39mself\u001b[39m\u001b[39m.\u001b[39mzc\u001b[39m.\u001b[39mI_gem), height \u001b[39m=\u001b[39m np\u001b[39m.\u001b[39marray(\u001b[39mself\u001b[39m\u001b[39m.\u001b[39mzc\u001b[39m.\u001b[39mI_error))\n",
      "\u001b[1;31mAttributeError\u001b[0m: 'Ui_MainWindow' object has no attribute 'PlotWidget'"
     ]
    },
    {
     "ename": "AttributeError",
     "evalue": "'Ui_MainWindow' object has no attribute 'PlotWidget'",
     "output_type": "error",
     "traceback": [
      "\u001b[1;31m---------------------------------------------------------------------------\u001b[0m",
      "\u001b[1;31mAttributeError\u001b[0m                            Traceback (most recent call last)",
      "Cell \u001b[1;32mIn[1], line 66\u001b[0m, in \u001b[0;36mUserInterface.graph\u001b[1;34m(self)\u001b[0m\n\u001b[0;32m     64\u001b[0m \u001b[39m@Slot\u001b[39m()\n\u001b[0;32m     65\u001b[0m \u001b[39mdef\u001b[39;00m \u001b[39mgraph\u001b[39m(\u001b[39mself\u001b[39m):\n\u001b[1;32m---> 66\u001b[0m     \u001b[39mself\u001b[39;49m\u001b[39m.\u001b[39;49mui\u001b[39m.\u001b[39;49mPlotWidget\u001b[39m.\u001b[39mclear()\n\u001b[0;32m     67\u001b[0m     \u001b[39mself\u001b[39m\u001b[39m.\u001b[39mui\u001b[39m.\u001b[39mIU_graph\u001b[39m.\u001b[39mplot(\u001b[39mself\u001b[39m\u001b[39m.\u001b[39mzc\u001b[39m.\u001b[39mU_gem, \u001b[39mself\u001b[39m\u001b[39m.\u001b[39mzc\u001b[39m.\u001b[39mI_gem, symbol\u001b[39m=\u001b[39m\u001b[39m\"\u001b[39m\u001b[39mo\u001b[39m\u001b[39m\"\u001b[39m, symbolSize\u001b[39m=\u001b[39m\u001b[39m5\u001b[39m, pen\u001b[39m=\u001b[39m\u001b[39mNone\u001b[39;00m)\n\u001b[0;32m     68\u001b[0m     error_bars \u001b[39m=\u001b[39m pg\u001b[39m.\u001b[39mErrorBarItem(x\u001b[39m=\u001b[39mnp\u001b[39m.\u001b[39marray(\u001b[39mself\u001b[39m\u001b[39m.\u001b[39mzc\u001b[39m.\u001b[39mU_gem), y\u001b[39m=\u001b[39mnp\u001b[39m.\u001b[39marray(\u001b[39mself\u001b[39m\u001b[39m.\u001b[39mzc\u001b[39m.\u001b[39mI_gem), height \u001b[39m=\u001b[39m np\u001b[39m.\u001b[39marray(\u001b[39mself\u001b[39m\u001b[39m.\u001b[39mzc\u001b[39m.\u001b[39mI_error))\n",
      "\u001b[1;31mAttributeError\u001b[0m: 'Ui_MainWindow' object has no attribute 'PlotWidget'"
     ]
    },
    {
     "ename": "AttributeError",
     "evalue": "'Ui_MainWindow' object has no attribute 'PlotWidget'",
     "output_type": "error",
     "traceback": [
      "\u001b[1;31m---------------------------------------------------------------------------\u001b[0m",
      "\u001b[1;31mAttributeError\u001b[0m                            Traceback (most recent call last)",
      "Cell \u001b[1;32mIn[1], line 66\u001b[0m, in \u001b[0;36mUserInterface.graph\u001b[1;34m(self)\u001b[0m\n\u001b[0;32m     64\u001b[0m \u001b[39m@Slot\u001b[39m()\n\u001b[0;32m     65\u001b[0m \u001b[39mdef\u001b[39;00m \u001b[39mgraph\u001b[39m(\u001b[39mself\u001b[39m):\n\u001b[1;32m---> 66\u001b[0m     \u001b[39mself\u001b[39;49m\u001b[39m.\u001b[39;49mui\u001b[39m.\u001b[39;49mPlotWidget\u001b[39m.\u001b[39mclear()\n\u001b[0;32m     67\u001b[0m     \u001b[39mself\u001b[39m\u001b[39m.\u001b[39mui\u001b[39m.\u001b[39mIU_graph\u001b[39m.\u001b[39mplot(\u001b[39mself\u001b[39m\u001b[39m.\u001b[39mzc\u001b[39m.\u001b[39mU_gem, \u001b[39mself\u001b[39m\u001b[39m.\u001b[39mzc\u001b[39m.\u001b[39mI_gem, symbol\u001b[39m=\u001b[39m\u001b[39m\"\u001b[39m\u001b[39mo\u001b[39m\u001b[39m\"\u001b[39m, symbolSize\u001b[39m=\u001b[39m\u001b[39m5\u001b[39m, pen\u001b[39m=\u001b[39m\u001b[39mNone\u001b[39;00m)\n\u001b[0;32m     68\u001b[0m     error_bars \u001b[39m=\u001b[39m pg\u001b[39m.\u001b[39mErrorBarItem(x\u001b[39m=\u001b[39mnp\u001b[39m.\u001b[39marray(\u001b[39mself\u001b[39m\u001b[39m.\u001b[39mzc\u001b[39m.\u001b[39mU_gem), y\u001b[39m=\u001b[39mnp\u001b[39m.\u001b[39marray(\u001b[39mself\u001b[39m\u001b[39m.\u001b[39mzc\u001b[39m.\u001b[39mI_gem), height \u001b[39m=\u001b[39m np\u001b[39m.\u001b[39marray(\u001b[39mself\u001b[39m\u001b[39m.\u001b[39mzc\u001b[39m.\u001b[39mI_error))\n",
      "\u001b[1;31mAttributeError\u001b[0m: 'Ui_MainWindow' object has no attribute 'PlotWidget'"
     ]
    },
    {
     "ename": "AttributeError",
     "evalue": "'Ui_MainWindow' object has no attribute 'PlotWidget'",
     "output_type": "error",
     "traceback": [
      "\u001b[1;31m---------------------------------------------------------------------------\u001b[0m",
      "\u001b[1;31mAttributeError\u001b[0m                            Traceback (most recent call last)",
      "Cell \u001b[1;32mIn[1], line 66\u001b[0m, in \u001b[0;36mUserInterface.graph\u001b[1;34m(self)\u001b[0m\n\u001b[0;32m     64\u001b[0m \u001b[39m@Slot\u001b[39m()\n\u001b[0;32m     65\u001b[0m \u001b[39mdef\u001b[39;00m \u001b[39mgraph\u001b[39m(\u001b[39mself\u001b[39m):\n\u001b[1;32m---> 66\u001b[0m     \u001b[39mself\u001b[39;49m\u001b[39m.\u001b[39;49mui\u001b[39m.\u001b[39;49mPlotWidget\u001b[39m.\u001b[39mclear()\n\u001b[0;32m     67\u001b[0m     \u001b[39mself\u001b[39m\u001b[39m.\u001b[39mui\u001b[39m.\u001b[39mIU_graph\u001b[39m.\u001b[39mplot(\u001b[39mself\u001b[39m\u001b[39m.\u001b[39mzc\u001b[39m.\u001b[39mU_gem, \u001b[39mself\u001b[39m\u001b[39m.\u001b[39mzc\u001b[39m.\u001b[39mI_gem, symbol\u001b[39m=\u001b[39m\u001b[39m\"\u001b[39m\u001b[39mo\u001b[39m\u001b[39m\"\u001b[39m, symbolSize\u001b[39m=\u001b[39m\u001b[39m5\u001b[39m, pen\u001b[39m=\u001b[39m\u001b[39mNone\u001b[39;00m)\n\u001b[0;32m     68\u001b[0m     error_bars \u001b[39m=\u001b[39m pg\u001b[39m.\u001b[39mErrorBarItem(x\u001b[39m=\u001b[39mnp\u001b[39m.\u001b[39marray(\u001b[39mself\u001b[39m\u001b[39m.\u001b[39mzc\u001b[39m.\u001b[39mU_gem), y\u001b[39m=\u001b[39mnp\u001b[39m.\u001b[39marray(\u001b[39mself\u001b[39m\u001b[39m.\u001b[39mzc\u001b[39m.\u001b[39mI_gem), height \u001b[39m=\u001b[39m np\u001b[39m.\u001b[39marray(\u001b[39mself\u001b[39m\u001b[39m.\u001b[39mzc\u001b[39m.\u001b[39mI_error))\n",
      "\u001b[1;31mAttributeError\u001b[0m: 'Ui_MainWindow' object has no attribute 'PlotWidget'"
     ]
    },
    {
     "ename": "AttributeError",
     "evalue": "'Ui_MainWindow' object has no attribute 'PlotWidget'",
     "output_type": "error",
     "traceback": [
      "\u001b[1;31m---------------------------------------------------------------------------\u001b[0m",
      "\u001b[1;31mAttributeError\u001b[0m                            Traceback (most recent call last)",
      "Cell \u001b[1;32mIn[1], line 66\u001b[0m, in \u001b[0;36mUserInterface.graph\u001b[1;34m(self)\u001b[0m\n\u001b[0;32m     64\u001b[0m \u001b[39m@Slot\u001b[39m()\n\u001b[0;32m     65\u001b[0m \u001b[39mdef\u001b[39;00m \u001b[39mgraph\u001b[39m(\u001b[39mself\u001b[39m):\n\u001b[1;32m---> 66\u001b[0m     \u001b[39mself\u001b[39;49m\u001b[39m.\u001b[39;49mui\u001b[39m.\u001b[39;49mPlotWidget\u001b[39m.\u001b[39mclear()\n\u001b[0;32m     67\u001b[0m     \u001b[39mself\u001b[39m\u001b[39m.\u001b[39mui\u001b[39m.\u001b[39mIU_graph\u001b[39m.\u001b[39mplot(\u001b[39mself\u001b[39m\u001b[39m.\u001b[39mzc\u001b[39m.\u001b[39mU_gem, \u001b[39mself\u001b[39m\u001b[39m.\u001b[39mzc\u001b[39m.\u001b[39mI_gem, symbol\u001b[39m=\u001b[39m\u001b[39m\"\u001b[39m\u001b[39mo\u001b[39m\u001b[39m\"\u001b[39m, symbolSize\u001b[39m=\u001b[39m\u001b[39m5\u001b[39m, pen\u001b[39m=\u001b[39m\u001b[39mNone\u001b[39;00m)\n\u001b[0;32m     68\u001b[0m     error_bars \u001b[39m=\u001b[39m pg\u001b[39m.\u001b[39mErrorBarItem(x\u001b[39m=\u001b[39mnp\u001b[39m.\u001b[39marray(\u001b[39mself\u001b[39m\u001b[39m.\u001b[39mzc\u001b[39m.\u001b[39mU_gem), y\u001b[39m=\u001b[39mnp\u001b[39m.\u001b[39marray(\u001b[39mself\u001b[39m\u001b[39m.\u001b[39mzc\u001b[39m.\u001b[39mI_gem), height \u001b[39m=\u001b[39m np\u001b[39m.\u001b[39marray(\u001b[39mself\u001b[39m\u001b[39m.\u001b[39mzc\u001b[39m.\u001b[39mI_error))\n",
      "\u001b[1;31mAttributeError\u001b[0m: 'Ui_MainWindow' object has no attribute 'PlotWidget'"
     ]
    },
    {
     "ename": "AttributeError",
     "evalue": "'Ui_MainWindow' object has no attribute 'PlotWidget'",
     "output_type": "error",
     "traceback": [
      "\u001b[1;31m---------------------------------------------------------------------------\u001b[0m",
      "\u001b[1;31mAttributeError\u001b[0m                            Traceback (most recent call last)",
      "Cell \u001b[1;32mIn[1], line 66\u001b[0m, in \u001b[0;36mUserInterface.graph\u001b[1;34m(self)\u001b[0m\n\u001b[0;32m     64\u001b[0m \u001b[39m@Slot\u001b[39m()\n\u001b[0;32m     65\u001b[0m \u001b[39mdef\u001b[39;00m \u001b[39mgraph\u001b[39m(\u001b[39mself\u001b[39m):\n\u001b[1;32m---> 66\u001b[0m     \u001b[39mself\u001b[39;49m\u001b[39m.\u001b[39;49mui\u001b[39m.\u001b[39;49mPlotWidget\u001b[39m.\u001b[39mclear()\n\u001b[0;32m     67\u001b[0m     \u001b[39mself\u001b[39m\u001b[39m.\u001b[39mui\u001b[39m.\u001b[39mIU_graph\u001b[39m.\u001b[39mplot(\u001b[39mself\u001b[39m\u001b[39m.\u001b[39mzc\u001b[39m.\u001b[39mU_gem, \u001b[39mself\u001b[39m\u001b[39m.\u001b[39mzc\u001b[39m.\u001b[39mI_gem, symbol\u001b[39m=\u001b[39m\u001b[39m\"\u001b[39m\u001b[39mo\u001b[39m\u001b[39m\"\u001b[39m, symbolSize\u001b[39m=\u001b[39m\u001b[39m5\u001b[39m, pen\u001b[39m=\u001b[39m\u001b[39mNone\u001b[39;00m)\n\u001b[0;32m     68\u001b[0m     error_bars \u001b[39m=\u001b[39m pg\u001b[39m.\u001b[39mErrorBarItem(x\u001b[39m=\u001b[39mnp\u001b[39m.\u001b[39marray(\u001b[39mself\u001b[39m\u001b[39m.\u001b[39mzc\u001b[39m.\u001b[39mU_gem), y\u001b[39m=\u001b[39mnp\u001b[39m.\u001b[39marray(\u001b[39mself\u001b[39m\u001b[39m.\u001b[39mzc\u001b[39m.\u001b[39mI_gem), height \u001b[39m=\u001b[39m np\u001b[39m.\u001b[39marray(\u001b[39mself\u001b[39m\u001b[39m.\u001b[39mzc\u001b[39m.\u001b[39mI_error))\n",
      "\u001b[1;31mAttributeError\u001b[0m: 'Ui_MainWindow' object has no attribute 'PlotWidget'"
     ]
    },
    {
     "ename": "AttributeError",
     "evalue": "'Ui_MainWindow' object has no attribute 'PlotWidget'",
     "output_type": "error",
     "traceback": [
      "\u001b[1;31m---------------------------------------------------------------------------\u001b[0m",
      "\u001b[1;31mAttributeError\u001b[0m                            Traceback (most recent call last)",
      "Cell \u001b[1;32mIn[1], line 66\u001b[0m, in \u001b[0;36mUserInterface.graph\u001b[1;34m(self)\u001b[0m\n\u001b[0;32m     64\u001b[0m \u001b[39m@Slot\u001b[39m()\n\u001b[0;32m     65\u001b[0m \u001b[39mdef\u001b[39;00m \u001b[39mgraph\u001b[39m(\u001b[39mself\u001b[39m):\n\u001b[1;32m---> 66\u001b[0m     \u001b[39mself\u001b[39;49m\u001b[39m.\u001b[39;49mui\u001b[39m.\u001b[39;49mPlotWidget\u001b[39m.\u001b[39mclear()\n\u001b[0;32m     67\u001b[0m     \u001b[39mself\u001b[39m\u001b[39m.\u001b[39mui\u001b[39m.\u001b[39mIU_graph\u001b[39m.\u001b[39mplot(\u001b[39mself\u001b[39m\u001b[39m.\u001b[39mzc\u001b[39m.\u001b[39mU_gem, \u001b[39mself\u001b[39m\u001b[39m.\u001b[39mzc\u001b[39m.\u001b[39mI_gem, symbol\u001b[39m=\u001b[39m\u001b[39m\"\u001b[39m\u001b[39mo\u001b[39m\u001b[39m\"\u001b[39m, symbolSize\u001b[39m=\u001b[39m\u001b[39m5\u001b[39m, pen\u001b[39m=\u001b[39m\u001b[39mNone\u001b[39;00m)\n\u001b[0;32m     68\u001b[0m     error_bars \u001b[39m=\u001b[39m pg\u001b[39m.\u001b[39mErrorBarItem(x\u001b[39m=\u001b[39mnp\u001b[39m.\u001b[39marray(\u001b[39mself\u001b[39m\u001b[39m.\u001b[39mzc\u001b[39m.\u001b[39mU_gem), y\u001b[39m=\u001b[39mnp\u001b[39m.\u001b[39marray(\u001b[39mself\u001b[39m\u001b[39m.\u001b[39mzc\u001b[39m.\u001b[39mI_gem), height \u001b[39m=\u001b[39m np\u001b[39m.\u001b[39marray(\u001b[39mself\u001b[39m\u001b[39m.\u001b[39mzc\u001b[39m.\u001b[39mI_error))\n",
      "\u001b[1;31mAttributeError\u001b[0m: 'Ui_MainWindow' object has no attribute 'PlotWidget'"
     ]
    },
    {
     "ename": "AttributeError",
     "evalue": "'Ui_MainWindow' object has no attribute 'PlotWidget'",
     "output_type": "error",
     "traceback": [
      "\u001b[1;31m---------------------------------------------------------------------------\u001b[0m",
      "\u001b[1;31mAttributeError\u001b[0m                            Traceback (most recent call last)",
      "Cell \u001b[1;32mIn[1], line 66\u001b[0m, in \u001b[0;36mUserInterface.graph\u001b[1;34m(self)\u001b[0m\n\u001b[0;32m     64\u001b[0m \u001b[39m@Slot\u001b[39m()\n\u001b[0;32m     65\u001b[0m \u001b[39mdef\u001b[39;00m \u001b[39mgraph\u001b[39m(\u001b[39mself\u001b[39m):\n\u001b[1;32m---> 66\u001b[0m     \u001b[39mself\u001b[39;49m\u001b[39m.\u001b[39;49mui\u001b[39m.\u001b[39;49mPlotWidget\u001b[39m.\u001b[39mclear()\n\u001b[0;32m     67\u001b[0m     \u001b[39mself\u001b[39m\u001b[39m.\u001b[39mui\u001b[39m.\u001b[39mIU_graph\u001b[39m.\u001b[39mplot(\u001b[39mself\u001b[39m\u001b[39m.\u001b[39mzc\u001b[39m.\u001b[39mU_gem, \u001b[39mself\u001b[39m\u001b[39m.\u001b[39mzc\u001b[39m.\u001b[39mI_gem, symbol\u001b[39m=\u001b[39m\u001b[39m\"\u001b[39m\u001b[39mo\u001b[39m\u001b[39m\"\u001b[39m, symbolSize\u001b[39m=\u001b[39m\u001b[39m5\u001b[39m, pen\u001b[39m=\u001b[39m\u001b[39mNone\u001b[39;00m)\n\u001b[0;32m     68\u001b[0m     error_bars \u001b[39m=\u001b[39m pg\u001b[39m.\u001b[39mErrorBarItem(x\u001b[39m=\u001b[39mnp\u001b[39m.\u001b[39marray(\u001b[39mself\u001b[39m\u001b[39m.\u001b[39mzc\u001b[39m.\u001b[39mU_gem), y\u001b[39m=\u001b[39mnp\u001b[39m.\u001b[39marray(\u001b[39mself\u001b[39m\u001b[39m.\u001b[39mzc\u001b[39m.\u001b[39mI_gem), height \u001b[39m=\u001b[39m np\u001b[39m.\u001b[39marray(\u001b[39mself\u001b[39m\u001b[39m.\u001b[39mzc\u001b[39m.\u001b[39mI_error))\n",
      "\u001b[1;31mAttributeError\u001b[0m: 'Ui_MainWindow' object has no attribute 'PlotWidget'"
     ]
    },
    {
     "ename": "AttributeError",
     "evalue": "'Ui_MainWindow' object has no attribute 'PlotWidget'",
     "output_type": "error",
     "traceback": [
      "\u001b[1;31m---------------------------------------------------------------------------\u001b[0m",
      "\u001b[1;31mAttributeError\u001b[0m                            Traceback (most recent call last)",
      "Cell \u001b[1;32mIn[1], line 66\u001b[0m, in \u001b[0;36mUserInterface.graph\u001b[1;34m(self)\u001b[0m\n\u001b[0;32m     64\u001b[0m \u001b[39m@Slot\u001b[39m()\n\u001b[0;32m     65\u001b[0m \u001b[39mdef\u001b[39;00m \u001b[39mgraph\u001b[39m(\u001b[39mself\u001b[39m):\n\u001b[1;32m---> 66\u001b[0m     \u001b[39mself\u001b[39;49m\u001b[39m.\u001b[39;49mui\u001b[39m.\u001b[39;49mPlotWidget\u001b[39m.\u001b[39mclear()\n\u001b[0;32m     67\u001b[0m     \u001b[39mself\u001b[39m\u001b[39m.\u001b[39mui\u001b[39m.\u001b[39mIU_graph\u001b[39m.\u001b[39mplot(\u001b[39mself\u001b[39m\u001b[39m.\u001b[39mzc\u001b[39m.\u001b[39mU_gem, \u001b[39mself\u001b[39m\u001b[39m.\u001b[39mzc\u001b[39m.\u001b[39mI_gem, symbol\u001b[39m=\u001b[39m\u001b[39m\"\u001b[39m\u001b[39mo\u001b[39m\u001b[39m\"\u001b[39m, symbolSize\u001b[39m=\u001b[39m\u001b[39m5\u001b[39m, pen\u001b[39m=\u001b[39m\u001b[39mNone\u001b[39;00m)\n\u001b[0;32m     68\u001b[0m     error_bars \u001b[39m=\u001b[39m pg\u001b[39m.\u001b[39mErrorBarItem(x\u001b[39m=\u001b[39mnp\u001b[39m.\u001b[39marray(\u001b[39mself\u001b[39m\u001b[39m.\u001b[39mzc\u001b[39m.\u001b[39mU_gem), y\u001b[39m=\u001b[39mnp\u001b[39m.\u001b[39marray(\u001b[39mself\u001b[39m\u001b[39m.\u001b[39mzc\u001b[39m.\u001b[39mI_gem), height \u001b[39m=\u001b[39m np\u001b[39m.\u001b[39marray(\u001b[39mself\u001b[39m\u001b[39m.\u001b[39mzc\u001b[39m.\u001b[39mI_error))\n",
      "\u001b[1;31mAttributeError\u001b[0m: 'Ui_MainWindow' object has no attribute 'PlotWidget'"
     ]
    },
    {
     "ename": "SystemExit",
     "evalue": "0",
     "output_type": "error",
     "traceback": [
      "An exception has occurred, use %tb to see the full traceback.\n",
      "\u001b[1;31mSystemExit\u001b[0m\u001b[1;31m:\u001b[0m 0\n"
     ]
    },
    {
     "name": "stderr",
     "output_type": "stream",
     "text": [
      "c:\\Users\\13541374\\.conda\\envs\\CB-pythondaq\\lib\\site-packages\\IPython\\core\\interactiveshell.py:3441: UserWarning: To exit: use 'exit', 'quit', or Ctrl-D.\n",
      "  warn(\"To exit: use 'exit', 'quit', or Ctrl-D.\", stacklevel=1)\n"
     ]
    }
   ],
   "source": [
    "import sys\n",
    "import time\n",
    "from PySide6.QtWidgets import QApplication\n",
    "import pyqtgraph as pg\n",
    "from PySide6.QtCore import Slot\n",
    "from pythondaq.arduino_device import ArduinoVISADevice, list_devices\n",
    "import numpy as np\n",
    "from eindopdracht.zc_experiment import zonnecel_experiment\n",
    "from eindopdracht.design import Ui_MainWindow\n",
    "from PySide6 import QtWidgets, QtCore\n",
    "import pandas\n",
    "\n",
    "\n",
    "# PyQtGraph global options\n",
    "pg.setConfigOption(\"background\", \"w\")\n",
    "pg.setConfigOption(\"foreground\", \"k\")\n",
    "\n",
    "class UserInterface(QtWidgets.QMainWindow):\n",
    "\n",
    "    def __init__(self):\n",
    "        super().__init__()\n",
    "        self.ui = Ui_MainWindow()\n",
    "        self.ui.setupUi(self)\n",
    "        #list of devices\n",
    "        self.ui.list_devices.addItem('No device selected')\n",
    "        self.ui.list_devices.addItem('arduino' )\n",
    "\n",
    "        #set range for spinboxes\n",
    "        self.ui.start_button.setMinimum(0)\n",
    "        self.ui.start_button.setMaximum(3.3)\n",
    "        self.ui.stop_button.setMinimum(0)\n",
    "        self.ui.stop_button.setMaximum(3.3)\n",
    "        self.ui.runs_button.setMinimum(1)\n",
    "\n",
    "        #button plots the graph\n",
    "        self.ui.plot_button.clicked.connect(self.start_scan)\n",
    "        #button saves the data\n",
    "        self.ui.save_button.clicked.connect(self.save_data)\n",
    "        #plot_timer\n",
    "        self.plot_timer = QtCore.QTimer()\n",
    "        self.plot_timer.timeout.connect(self.graph)\n",
    "        self.plot_timer.start(100)\n",
    "\n",
    "        self.ui.list_devices.currentIndexChanged.connect(self.device)\n",
    "    @Slot()\n",
    "    def device(self):\n",
    "        if self.ui.list_devices.currentIndex() == 1:\n",
    "            self.port = 'ASRL::SIMPV_BRIGHT::INSTR'\n",
    "            self.zc = zonnecel_experiment(self.port)\n",
    "        else:\n",
    "            self.port = None\n",
    "    \n",
    "    @Slot()\n",
    "    def start_scan(self):\n",
    "        \n",
    "        start = int(self.ui.start_button.value())\n",
    "        end = int(self.ui.stop_button.value())\n",
    "        runs = self.ui.runs_button.value()\n",
    "        if self.port == None:\n",
    "            print(\"No device selected\")\n",
    "        else:\n",
    "            self.zc.scan_start(start, end, runs)\n",
    "\n",
    "    @Slot()\n",
    "    def graph(self):\n",
    "        self.ui.IU_graph.clear()\n",
    "        self.ui.IU_graph.plot(self.zc.U_gem, self.zc.I_gem, symbol=\"o\", symbolSize=5, pen=None)\n",
    "        error_bars = pg.ErrorBarItem(x=np.array(self.zc.U_gem), y=np.array(self.zc.I_gem), height = np.array(self.zc.I_error))\n",
    "        self.ui.IU_graph.addItem(error_bars)\n",
    "        self.ui.IU_graph.setLabel('left', text='Current in Ampére')\n",
    "        self.ui.IU_graph.setLabel('bottom', text='Voltage in Volt')\n",
    "        self.show()\n",
    "\n",
    "    @Slot()\n",
    "    def save_data(self, port):\n",
    "        if self.ui.devices.currentIndex() == 1:\n",
    "            port = 'ASRL::SIMPV_BRIGHT::INSTR'\n",
    "\n",
    "        start = int(self.ui.start_button.value())\n",
    "        end = int(self.ui.end_button.value())\n",
    "        runs = int(self.runs_button.value())\n",
    "        zc = zonnecel_experiment(port)\n",
    "\n",
    "        diode = zc.scan(start, end, runs)\n",
    "        current = diode[1]\n",
    "        voltage = diode[0]\n",
    "        error = diode[2]\n",
    "\n",
    "        filename, _ = QtWidgets.QFileDialog.getSaveFileName(filter=\"CSV files (*.csv)\")\n",
    "        pairs = {'Voltage': voltage, 'Current': current}\n",
    "\n",
    "        df = pandas.DataFrame.from_dict(pairs)\n",
    "\n",
    "        df.to_csv(filename)\n",
    "\n",
    "        file = open(\"data.csv\")\n",
    "\n",
    "def main():\n",
    "    \"\"\"Runs the class if the file is run\n",
    "    \"\"\"    \n",
    "    app = QtWidgets.QApplication(sys.argv)\n",
    "    ui = UserInterface()\n",
    "    ui.show()\n",
    "    sys.exit(app.exec())\n",
    "\n",
    "\n",
    "if __name__ == \"__main__\":\n",
    "    main()\n",
    "\n"
   ]
  }
 ],
 "metadata": {
  "kernelspec": {
   "display_name": "Python 3.9.13 ('CB-pythondaq')",
   "language": "python",
   "name": "python3"
  },
  "language_info": {
   "codemirror_mode": {
    "name": "ipython",
    "version": 3
   },
   "file_extension": ".py",
   "mimetype": "text/x-python",
   "name": "python",
   "nbconvert_exporter": "python",
   "pygments_lexer": "ipython3",
   "version": "3.9.13"
  },
  "orig_nbformat": 4,
  "vscode": {
   "interpreter": {
    "hash": "06eec3cb2a4b993ab4b14c3cf67872f52a46c1565f3ca4cd0b429fa693fdbdb0"
   }
  }
 },
 "nbformat": 4,
 "nbformat_minor": 2
}
