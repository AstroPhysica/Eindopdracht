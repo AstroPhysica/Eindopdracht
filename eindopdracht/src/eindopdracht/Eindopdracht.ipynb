{
 "cells": [
  {
   "cell_type": "code",
   "execution_count": null,
   "metadata": {},
   "outputs": [],
   "source": [
    "\n",
    "\n",
    "\n"
   ]
  }
 ],
 "metadata": {
  "kernelspec": {
   "display_name": "Python 3.9.13 ('CB-pythondaq')",
   "language": "python",
   "name": "python3"
  },
  "language_info": {
   "name": "python",
   "version": "3.9.13"
  },
  "orig_nbformat": 4,
  "vscode": {
   "interpreter": {
    "hash": "06eec3cb2a4b993ab4b14c3cf67872f52a46c1565f3ca4cd0b429fa693fdbdb0"
   }
  }
 },
 "nbformat": 4,
 "nbformat_minor": 2
}
